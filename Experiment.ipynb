{
  "nbformat": 4,
  "nbformat_minor": 0,
  "metadata": {
    "colab": {
      "provenance": [],
      "authorship_tag": "ABX9TyO7uCc7BEf61PzwQWZ9fDyx",
      "include_colab_link": true
    },
    "kernelspec": {
      "name": "python3",
      "display_name": "Python 3"
    },
    "language_info": {
      "name": "python"
    }
  },
  "cells": [
    {
      "cell_type": "markdown",
      "metadata": {
        "id": "view-in-github",
        "colab_type": "text"
      },
      "source": [
        "<a href=\"https://colab.research.google.com/github/DKarev/kombu/blob/main/Untitled1.ipynb\" target=\"_parent\"><img src=\"https://colab.research.google.com/assets/colab-badge.svg\" alt=\"Open In Colab\"/></a>"
      ]
    },
    {
      "cell_type": "code",
      "source": [
        "!pip install openai\n",
        "!pip install chromedriver-autoinstaller\n",
        "!pip install selenium\n",
        "!apt-get update\n",
        "!apt install chromium-chromedriver"
      ],
      "metadata": {
        "colab": {
          "base_uri": "https://localhost:8080/"
        },
        "id": "_AqsqJ8Jpai_",
        "outputId": "93ef6112-50f7-49e5-85e2-5f27a9995235"
      },
      "execution_count": 42,
      "outputs": [
        {
          "output_type": "stream",
          "name": "stdout",
          "text": [
            "Requirement already satisfied: openai in /usr/local/lib/python3.10/dist-packages (1.23.6)\n",
            "Requirement already satisfied: anyio<5,>=3.5.0 in /usr/local/lib/python3.10/dist-packages (from openai) (3.7.1)\n",
            "Requirement already satisfied: distro<2,>=1.7.0 in /usr/lib/python3/dist-packages (from openai) (1.7.0)\n",
            "Requirement already satisfied: httpx<1,>=0.23.0 in /usr/local/lib/python3.10/dist-packages (from openai) (0.27.0)\n",
            "Requirement already satisfied: pydantic<3,>=1.9.0 in /usr/local/lib/python3.10/dist-packages (from openai) (2.7.0)\n",
            "Requirement already satisfied: sniffio in /usr/local/lib/python3.10/dist-packages (from openai) (1.3.1)\n",
            "Requirement already satisfied: tqdm>4 in /usr/local/lib/python3.10/dist-packages (from openai) (4.66.2)\n",
            "Requirement already satisfied: typing-extensions<5,>=4.7 in /usr/local/lib/python3.10/dist-packages (from openai) (4.11.0)\n",
            "Requirement already satisfied: idna>=2.8 in /usr/local/lib/python3.10/dist-packages (from anyio<5,>=3.5.0->openai) (3.7)\n",
            "Requirement already satisfied: exceptiongroup in /usr/local/lib/python3.10/dist-packages (from anyio<5,>=3.5.0->openai) (1.2.1)\n",
            "Requirement already satisfied: certifi in /usr/local/lib/python3.10/dist-packages (from httpx<1,>=0.23.0->openai) (2024.2.2)\n",
            "Requirement already satisfied: httpcore==1.* in /usr/local/lib/python3.10/dist-packages (from httpx<1,>=0.23.0->openai) (1.0.5)\n",
            "Requirement already satisfied: h11<0.15,>=0.13 in /usr/local/lib/python3.10/dist-packages (from httpcore==1.*->httpx<1,>=0.23.0->openai) (0.14.0)\n",
            "Requirement already satisfied: annotated-types>=0.4.0 in /usr/local/lib/python3.10/dist-packages (from pydantic<3,>=1.9.0->openai) (0.6.0)\n",
            "Requirement already satisfied: pydantic-core==2.18.1 in /usr/local/lib/python3.10/dist-packages (from pydantic<3,>=1.9.0->openai) (2.18.1)\n",
            "Requirement already satisfied: chromedriver-autoinstaller in /usr/local/lib/python3.10/dist-packages (0.6.4)\n",
            "Requirement already satisfied: packaging>=23.1 in /usr/local/lib/python3.10/dist-packages (from chromedriver-autoinstaller) (24.0)\n",
            "Collecting selenium\n",
            "  Downloading selenium-4.20.0-py3-none-any.whl (9.5 MB)\n",
            "\u001b[2K     \u001b[90m━━━━━━━━━━━━━━━━━━━━━━━━━━━━━━━━━━━━━━━━\u001b[0m \u001b[32m9.5/9.5 MB\u001b[0m \u001b[31m33.8 MB/s\u001b[0m eta \u001b[36m0:00:00\u001b[0m\n",
            "\u001b[?25hRequirement already satisfied: urllib3[socks]<3,>=1.26 in /usr/local/lib/python3.10/dist-packages (from selenium) (2.0.7)\n",
            "Collecting trio~=0.17 (from selenium)\n",
            "  Downloading trio-0.25.0-py3-none-any.whl (467 kB)\n",
            "\u001b[2K     \u001b[90m━━━━━━━━━━━━━━━━━━━━━━━━━━━━━━━━━━━━━━━━\u001b[0m \u001b[32m467.2/467.2 kB\u001b[0m \u001b[31m38.4 MB/s\u001b[0m eta \u001b[36m0:00:00\u001b[0m\n",
            "\u001b[?25hCollecting trio-websocket~=0.9 (from selenium)\n",
            "  Downloading trio_websocket-0.11.1-py3-none-any.whl (17 kB)\n",
            "Requirement already satisfied: certifi>=2021.10.8 in /usr/local/lib/python3.10/dist-packages (from selenium) (2024.2.2)\n",
            "Requirement already satisfied: typing_extensions>=4.9.0 in /usr/local/lib/python3.10/dist-packages (from selenium) (4.11.0)\n",
            "Requirement already satisfied: attrs>=23.2.0 in /usr/local/lib/python3.10/dist-packages (from trio~=0.17->selenium) (23.2.0)\n",
            "Requirement already satisfied: sortedcontainers in /usr/local/lib/python3.10/dist-packages (from trio~=0.17->selenium) (2.4.0)\n",
            "Requirement already satisfied: idna in /usr/local/lib/python3.10/dist-packages (from trio~=0.17->selenium) (3.7)\n",
            "Collecting outcome (from trio~=0.17->selenium)\n",
            "  Downloading outcome-1.3.0.post0-py2.py3-none-any.whl (10 kB)\n",
            "Requirement already satisfied: sniffio>=1.3.0 in /usr/local/lib/python3.10/dist-packages (from trio~=0.17->selenium) (1.3.1)\n",
            "Requirement already satisfied: exceptiongroup in /usr/local/lib/python3.10/dist-packages (from trio~=0.17->selenium) (1.2.1)\n",
            "Collecting wsproto>=0.14 (from trio-websocket~=0.9->selenium)\n",
            "  Downloading wsproto-1.2.0-py3-none-any.whl (24 kB)\n",
            "Requirement already satisfied: pysocks!=1.5.7,<2.0,>=1.5.6 in /usr/local/lib/python3.10/dist-packages (from urllib3[socks]<3,>=1.26->selenium) (1.7.1)\n",
            "Requirement already satisfied: h11<1,>=0.9.0 in /usr/local/lib/python3.10/dist-packages (from wsproto>=0.14->trio-websocket~=0.9->selenium) (0.14.0)\n",
            "Installing collected packages: wsproto, outcome, trio, trio-websocket, selenium\n",
            "Successfully installed outcome-1.3.0.post0 selenium-4.20.0 trio-0.25.0 trio-websocket-0.11.1 wsproto-1.2.0\n",
            "Get:1 https://cloud.r-project.org/bin/linux/ubuntu jammy-cran40/ InRelease [3,626 B]\n",
            "Hit:2 https://developer.download.nvidia.com/compute/cuda/repos/ubuntu2204/x86_64  InRelease\n",
            "Get:3 http://security.ubuntu.com/ubuntu jammy-security InRelease [110 kB]\n",
            "Get:4 https://cloud.r-project.org/bin/linux/ubuntu jammy-cran40/ Packages [52.9 kB]\n",
            "Hit:5 http://archive.ubuntu.com/ubuntu jammy InRelease\n",
            "Get:6 http://archive.ubuntu.com/ubuntu jammy-updates InRelease [119 kB]\n",
            "Get:7 http://security.ubuntu.com/ubuntu jammy-security/universe amd64 Packages [1,077 kB]\n",
            "Hit:8 https://ppa.launchpadcontent.net/c2d4u.team/c2d4u4.0+/ubuntu jammy InRelease\n",
            "Get:9 http://security.ubuntu.com/ubuntu jammy-security/main amd64 Packages [1,755 kB]\n",
            "Get:10 http://archive.ubuntu.com/ubuntu jammy-backports InRelease [109 kB]\n",
            "Get:11 https://ppa.launchpadcontent.net/deadsnakes/ppa/ubuntu jammy InRelease [18.1 kB]\n",
            "Get:12 https://ppa.launchpadcontent.net/graphics-drivers/ppa/ubuntu jammy InRelease [24.3 kB]\n",
            "Get:13 http://archive.ubuntu.com/ubuntu jammy-updates/main amd64 Packages [2,035 kB]\n",
            "Hit:14 https://ppa.launchpadcontent.net/ubuntugis/ppa/ubuntu jammy InRelease\n",
            "Get:15 https://ppa.launchpadcontent.net/deadsnakes/ppa/ubuntu jammy/main amd64 Packages [28.3 kB]\n",
            "Get:16 https://ppa.launchpadcontent.net/graphics-drivers/ppa/ubuntu jammy/main amd64 Packages [44.2 kB]\n",
            "Get:17 http://archive.ubuntu.com/ubuntu jammy-updates/universe amd64 Packages [1,370 kB]\n",
            "Fetched 6,747 kB in 2s (3,419 kB/s)\n",
            "Reading package lists... Done\n",
            "Reading package lists... Done\n",
            "Building dependency tree... Done\n",
            "Reading state information... Done\n",
            "The following additional packages will be installed:\n",
            "  apparmor chromium-browser libfuse3-3 liblzo2-2 libudev1 snapd squashfs-tools systemd-hwe-hwdb\n",
            "  udev\n",
            "Suggested packages:\n",
            "  apparmor-profiles-extra apparmor-utils fuse3 zenity | kdialog\n",
            "The following NEW packages will be installed:\n",
            "  apparmor chromium-browser chromium-chromedriver libfuse3-3 liblzo2-2 snapd squashfs-tools\n",
            "  systemd-hwe-hwdb udev\n",
            "The following packages will be upgraded:\n",
            "  libudev1\n",
            "1 upgraded, 9 newly installed, 0 to remove and 49 not upgraded.\n",
            "Need to get 27.3 MB of archives.\n",
            "After this operation, 114 MB of additional disk space will be used.\n",
            "Get:1 http://archive.ubuntu.com/ubuntu jammy-updates/main amd64 apparmor amd64 3.0.4-2ubuntu2.3 [595 kB]\n",
            "Get:2 http://archive.ubuntu.com/ubuntu jammy/main amd64 liblzo2-2 amd64 2.10-2build3 [53.7 kB]\n",
            "Get:3 http://archive.ubuntu.com/ubuntu jammy/main amd64 squashfs-tools amd64 1:4.5-3build1 [159 kB]\n",
            "Get:4 http://archive.ubuntu.com/ubuntu jammy-updates/main amd64 libudev1 amd64 249.11-0ubuntu3.12 [78.2 kB]\n",
            "Get:5 http://archive.ubuntu.com/ubuntu jammy-updates/main amd64 udev amd64 249.11-0ubuntu3.12 [1,557 kB]\n",
            "Get:6 http://archive.ubuntu.com/ubuntu jammy/main amd64 libfuse3-3 amd64 3.10.5-1build1 [81.2 kB]\n",
            "Get:7 http://archive.ubuntu.com/ubuntu jammy-updates/main amd64 snapd amd64 2.61.3+22.04 [24.7 MB]\n",
            "Get:8 http://archive.ubuntu.com/ubuntu jammy-updates/universe amd64 chromium-browser amd64 1:85.0.4183.83-0ubuntu2.22.04.1 [49.2 kB]\n",
            "Get:9 http://archive.ubuntu.com/ubuntu jammy-updates/universe amd64 chromium-chromedriver amd64 1:85.0.4183.83-0ubuntu2.22.04.1 [2,308 B]\n",
            "Get:10 http://archive.ubuntu.com/ubuntu jammy-updates/main amd64 systemd-hwe-hwdb all 249.11.5 [3,228 B]\n",
            "Fetched 27.3 MB in 1s (19.4 MB/s)\n",
            "Preconfiguring packages ...\n",
            "Selecting previously unselected package apparmor.\n",
            "(Reading database ... 121752 files and directories currently installed.)\n",
            "Preparing to unpack .../apparmor_3.0.4-2ubuntu2.3_amd64.deb ...\n",
            "Unpacking apparmor (3.0.4-2ubuntu2.3) ...\n",
            "Selecting previously unselected package liblzo2-2:amd64.\n",
            "Preparing to unpack .../liblzo2-2_2.10-2build3_amd64.deb ...\n",
            "Unpacking liblzo2-2:amd64 (2.10-2build3) ...\n",
            "Selecting previously unselected package squashfs-tools.\n",
            "Preparing to unpack .../squashfs-tools_1%3a4.5-3build1_amd64.deb ...\n",
            "Unpacking squashfs-tools (1:4.5-3build1) ...\n",
            "Preparing to unpack .../libudev1_249.11-0ubuntu3.12_amd64.deb ...\n",
            "Unpacking libudev1:amd64 (249.11-0ubuntu3.12) over (249.11-0ubuntu3.10) ...\n",
            "Setting up libudev1:amd64 (249.11-0ubuntu3.12) ...\n",
            "Selecting previously unselected package udev.\n",
            "(Reading database ... 121960 files and directories currently installed.)\n",
            "Preparing to unpack .../udev_249.11-0ubuntu3.12_amd64.deb ...\n",
            "Unpacking udev (249.11-0ubuntu3.12) ...\n",
            "Selecting previously unselected package libfuse3-3:amd64.\n",
            "Preparing to unpack .../libfuse3-3_3.10.5-1build1_amd64.deb ...\n",
            "Unpacking libfuse3-3:amd64 (3.10.5-1build1) ...\n",
            "Selecting previously unselected package snapd.\n",
            "Preparing to unpack .../snapd_2.61.3+22.04_amd64.deb ...\n",
            "Unpacking snapd (2.61.3+22.04) ...\n",
            "Setting up apparmor (3.0.4-2ubuntu2.3) ...\n",
            "Created symlink /etc/systemd/system/sysinit.target.wants/apparmor.service → /lib/systemd/system/apparmor.service.\n",
            "Setting up liblzo2-2:amd64 (2.10-2build3) ...\n",
            "Setting up squashfs-tools (1:4.5-3build1) ...\n",
            "Setting up udev (249.11-0ubuntu3.12) ...\n",
            "invoke-rc.d: could not determine current runlevel\n",
            "invoke-rc.d: policy-rc.d denied execution of start.\n",
            "Setting up libfuse3-3:amd64 (3.10.5-1build1) ...\n",
            "Setting up snapd (2.61.3+22.04) ...\n",
            "Created symlink /etc/systemd/system/multi-user.target.wants/snapd.apparmor.service → /lib/systemd/system/snapd.apparmor.service.\n",
            "Created symlink /etc/systemd/system/multi-user.target.wants/snapd.autoimport.service → /lib/systemd/system/snapd.autoimport.service.\n",
            "Created symlink /etc/systemd/system/multi-user.target.wants/snapd.core-fixup.service → /lib/systemd/system/snapd.core-fixup.service.\n",
            "Created symlink /etc/systemd/system/multi-user.target.wants/snapd.recovery-chooser-trigger.service → /lib/systemd/system/snapd.recovery-chooser-trigger.service.\n",
            "Created symlink /etc/systemd/system/multi-user.target.wants/snapd.seeded.service → /lib/systemd/system/snapd.seeded.service.\n",
            "Created symlink /etc/systemd/system/cloud-final.service.wants/snapd.seeded.service → /lib/systemd/system/snapd.seeded.service.\n",
            "Unit /lib/systemd/system/snapd.seeded.service is added as a dependency to a non-existent unit cloud-final.service.\n",
            "Created symlink /etc/systemd/system/multi-user.target.wants/snapd.service → /lib/systemd/system/snapd.service.\n",
            "Created symlink /etc/systemd/system/timers.target.wants/snapd.snap-repair.timer → /lib/systemd/system/snapd.snap-repair.timer.\n",
            "Created symlink /etc/systemd/system/sockets.target.wants/snapd.socket → /lib/systemd/system/snapd.socket.\n",
            "Created symlink /etc/systemd/system/final.target.wants/snapd.system-shutdown.service → /lib/systemd/system/snapd.system-shutdown.service.\n",
            "Selecting previously unselected package chromium-browser.\n",
            "(Reading database ... 122190 files and directories currently installed.)\n",
            "Preparing to unpack .../chromium-browser_1%3a85.0.4183.83-0ubuntu2.22.04.1_amd64.deb ...\n",
            "=> Installing the chromium snap\n",
            "==> Checking connectivity with the snap store\n",
            "===> System doesn't have a working snapd, skipping\n",
            "Unpacking chromium-browser (1:85.0.4183.83-0ubuntu2.22.04.1) ...\n",
            "Selecting previously unselected package chromium-chromedriver.\n",
            "Preparing to unpack .../chromium-chromedriver_1%3a85.0.4183.83-0ubuntu2.22.04.1_amd64.deb ...\n",
            "Unpacking chromium-chromedriver (1:85.0.4183.83-0ubuntu2.22.04.1) ...\n",
            "Selecting previously unselected package systemd-hwe-hwdb.\n",
            "Preparing to unpack .../systemd-hwe-hwdb_249.11.5_all.deb ...\n",
            "Unpacking systemd-hwe-hwdb (249.11.5) ...\n",
            "Setting up systemd-hwe-hwdb (249.11.5) ...\n",
            "Setting up chromium-browser (1:85.0.4183.83-0ubuntu2.22.04.1) ...\n",
            "update-alternatives: using /usr/bin/chromium-browser to provide /usr/bin/x-www-browser (x-www-browser) in auto mode\n",
            "update-alternatives: using /usr/bin/chromium-browser to provide /usr/bin/gnome-www-browser (gnome-www-browser) in auto mode\n",
            "Setting up chromium-chromedriver (1:85.0.4183.83-0ubuntu2.22.04.1) ...\n",
            "Processing triggers for udev (249.11-0ubuntu3.12) ...\n",
            "Processing triggers for hicolor-icon-theme (0.17-2) ...\n",
            "Processing triggers for libc-bin (2.35-0ubuntu3.4) ...\n",
            "/sbin/ldconfig.real: /usr/local/lib/libtbbbind_2_5.so.3 is not a symbolic link\n",
            "\n",
            "/sbin/ldconfig.real: /usr/local/lib/libtbbmalloc_proxy.so.2 is not a symbolic link\n",
            "\n",
            "/sbin/ldconfig.real: /usr/local/lib/libtbb.so.12 is not a symbolic link\n",
            "\n",
            "/sbin/ldconfig.real: /usr/local/lib/libtbbbind_2_0.so.3 is not a symbolic link\n",
            "\n",
            "/sbin/ldconfig.real: /usr/local/lib/libtbbbind.so.3 is not a symbolic link\n",
            "\n",
            "/sbin/ldconfig.real: /usr/local/lib/libtbbmalloc.so.2 is not a symbolic link\n",
            "\n",
            "Processing triggers for man-db (2.10.2-1) ...\n",
            "Processing triggers for dbus (1.12.20-2ubuntu4.1) ...\n"
          ]
        }
      ]
    },
    {
      "cell_type": "code",
      "source": [
        "from bs4 import BeautifulSoup\n",
        "import requests\n",
        "import os\n",
        "import openai\n",
        "from openai import OpenAI\n",
        "import sys\n",
        "import time\n",
        "import pandas as pd\n",
        "from bs4 import BeautifulSoup\n",
        "from selenium import webdriver\n",
        "from selenium.webdriver.support.ui import Select\n",
        "from selenium.webdriver.common.by import By\n",
        "\n",
        "import chromedriver_autoinstaller"
      ],
      "metadata": {
        "id": "AUoXNW1bmEzv"
      },
      "execution_count": 43,
      "outputs": []
    },
    {
      "cell_type": "code",
      "source": [],
      "metadata": {
        "id": "uV--7ylqpMMM"
      },
      "execution_count": 32,
      "outputs": []
    },
    {
      "cell_type": "code",
      "source": [
        "# setup chrome options\n",
        "chrome_options = webdriver.ChromeOptions()\n",
        "chrome_options.add_argument('--headless') # ensure GUI is off\n",
        "chrome_options.add_argument('--no-sandbox')\n",
        "chrome_options.add_argument('--disable-dev-shm-usage')\n",
        "\n",
        "# set path to chromedriver as per your configuration\n",
        "chromedriver_autoinstaller.install()"
      ],
      "metadata": {
        "id": "KDpIhgZeq4JH"
      },
      "execution_count": 44,
      "outputs": []
    },
    {
      "cell_type": "code",
      "source": [
        "test_url = 'https://demo.evershop.io/'"
      ],
      "metadata": {
        "id": "BsRv8FzVi4b8"
      },
      "execution_count": 8,
      "outputs": []
    },
    {
      "cell_type": "code",
      "source": [
        "if test_url[-1] == '/':\n",
        "  test_url = test_url[:-1]"
      ],
      "metadata": {
        "id": "4coEsHd7pmAc"
      },
      "execution_count": 37,
      "outputs": []
    },
    {
      "cell_type": "code",
      "execution_count": 9,
      "metadata": {
        "colab": {
          "base_uri": "https://localhost:8080/"
        },
        "id": "tFNpaNr6iH4j",
        "outputId": "2ad04210-4f5f-42a0-8c73-4743a90a75ea"
      },
      "outputs": [
        {
          "output_type": "stream",
          "name": "stdout",
          "text": [
            "Node: Home\tFull URL: /\n",
            "Node: Men\tFull URL: /men\n",
            "Node: Nike React Phantom Run Flyknit 2\tFull URL: /men/nike-react-phantom-run-flyknit-2-179\n",
            "Node: Size X\tFull URL: /men/nike-react-phantom-run-flyknit-2-179?size=4\n",
            "Node: Color Green\tFull URL: /men/nike-react-phantom-run-flyknit-2-179?size=4&color=17\n",
            "Node: Cart\tFull URL: /cart\n",
            "Node: Home\tFull URL: /\n",
            "Node: Women\tFull URL: /women\n",
            "Node: Alphaedge 4d Reflective Shoes R\tFull URL: /women/alphaedge-4d-reflective-shoes-23\n",
            "Node: Size XL\tFull URL: /women/alphaedge-4d-reflective-shoes-23?size=26\n",
            "Node: Color White\tFull URL: /women/alphaedge-4d-reflective-shoes-23?size=26&color=18\n",
            "Node: Cart\tFull URL: /cart\n",
            "Node: Checkout\tFull URL: /cart/checkout\n"
          ]
        }
      ],
      "source": [
        "with open('navigation_path_20240427_140124.424242.txt', 'r') as file:\n",
        "    testFile = file.read()\n",
        "    print(testFile)"
      ]
    },
    {
      "cell_type": "code",
      "source": [
        "testLines = testFile.split('\\n')"
      ],
      "metadata": {
        "id": "cxKMKUAKiP0S"
      },
      "execution_count": 10,
      "outputs": []
    },
    {
      "cell_type": "code",
      "source": [
        "all_nodes = []\n",
        "all_urls = []\n",
        "for x in testLines:\n",
        "  node, fullUrl = x.split('\\t')\n",
        "  node = node[6:]\n",
        "  fullUrl = fullUrl[10:]\n",
        "  all_nodes.append(node)\n",
        "  all_urls.append(fullUrl)\n",
        "  print(node, fullUrl)"
      ],
      "metadata": {
        "colab": {
          "base_uri": "https://localhost:8080/"
        },
        "id": "eOTVEz7iigWy",
        "outputId": "5f26d59d-0291-474b-db07-3408fc0b0d6f"
      },
      "execution_count": 21,
      "outputs": [
        {
          "output_type": "stream",
          "name": "stdout",
          "text": [
            "Home /\n",
            "Men /men\n",
            "Nike React Phantom Run Flyknit 2 /men/nike-react-phantom-run-flyknit-2-179\n",
            "Size X /men/nike-react-phantom-run-flyknit-2-179?size=4\n",
            "Color Green /men/nike-react-phantom-run-flyknit-2-179?size=4&color=17\n",
            "Cart /cart\n",
            "Home /\n",
            "Women /women\n",
            "Alphaedge 4d Reflective Shoes R /women/alphaedge-4d-reflective-shoes-23\n",
            "Size XL /women/alphaedge-4d-reflective-shoes-23?size=26\n",
            "Color White /women/alphaedge-4d-reflective-shoes-23?size=26&color=18\n",
            "Cart /cart\n",
            "Checkout /cart/checkout\n"
          ]
        }
      ]
    },
    {
      "cell_type": "code",
      "source": [
        "start_node = test_url + all_urls[0]"
      ],
      "metadata": {
        "id": "h-hKLORWi24R"
      },
      "execution_count": 38,
      "outputs": []
    },
    {
      "cell_type": "code",
      "source": [
        "def scrape_html (url):\n",
        "  response = requests.get(url)\n",
        "  soup = BeautifulSoup(response.text, 'html.parser')\n",
        "\n",
        "  #all_elements = soup.find_all(True)  # Find all elements\n",
        "  return soup"
      ],
      "metadata": {
        "id": "WOc7qsU6iuSi"
      },
      "execution_count": 80,
      "outputs": []
    },
    {
      "cell_type": "code",
      "source": [
        "html_code[0]"
      ],
      "metadata": {
        "id": "pdYUm_ec3lku"
      },
      "execution_count": null,
      "outputs": []
    },
    {
      "cell_type": "code",
      "source": [
        "driver = webdriver.Chrome(options=chrome_options)"
      ],
      "metadata": {
        "id": "0GNgM4dtpzfR"
      },
      "execution_count": null,
      "outputs": []
    },
    {
      "cell_type": "code",
      "source": [
        "start_node"
      ],
      "metadata": {
        "colab": {
          "base_uri": "https://localhost:8080/",
          "height": 35
        },
        "id": "I7blGpDU7ymV",
        "outputId": "b6c84e97-c325-451e-997d-c9104f0fe6db"
      },
      "execution_count": 125,
      "outputs": [
        {
          "output_type": "execute_result",
          "data": {
            "text/plain": [
              "'https://demo.evershop.io/men/nike-react-phantom-run-flyknit-2-179?size=4&color=17'"
            ],
            "application/vnd.google.colaboratory.intrinsic+json": {
              "type": "string"
            }
          },
          "metadata": {},
          "execution_count": 125
        }
      ]
    },
    {
      "cell_type": "code",
      "source": [
        "html_code = scrape_html(start_node)"
      ],
      "metadata": {
        "id": "dUJOe8XfmMLD"
      },
      "execution_count": 201,
      "outputs": []
    },
    {
      "cell_type": "code",
      "source": [
        "len(html_code.prettify())"
      ],
      "metadata": {
        "colab": {
          "base_uri": "https://localhost:8080/"
        },
        "id": "peqG8dpR4Kdk",
        "outputId": "6507ee98-d511-4a86-f7b9-e2352b5a19f7"
      },
      "execution_count": 202,
      "outputs": [
        {
          "output_type": "execute_result",
          "data": {
            "text/plain": [
              "13438"
            ]
          },
          "metadata": {},
          "execution_count": 202
        }
      ]
    },
    {
      "cell_type": "code",
      "source": [
        "all_urls[6].split('/')[-1]"
      ],
      "metadata": {
        "colab": {
          "base_uri": "https://localhost:8080/",
          "height": 35
        },
        "id": "vdpgSf2c9kNb",
        "outputId": "efcdae71-1852-4ae1-ef29-20d861917af3"
      },
      "execution_count": 160,
      "outputs": [
        {
          "output_type": "execute_result",
          "data": {
            "text/plain": [
              "''"
            ],
            "application/vnd.google.colaboratory.intrinsic+json": {
              "type": "string"
            }
          },
          "metadata": {},
          "execution_count": 160
        }
      ]
    },
    {
      "cell_type": "code",
      "source": [
        "dest = all_urls[12].split('/')[-1]\n",
        "dest"
      ],
      "metadata": {
        "colab": {
          "base_uri": "https://localhost:8080/",
          "height": 35
        },
        "id": "HAJkyqAbtM5p",
        "outputId": "aff44cad-182b-43e9-e501-ea27e84561d2"
      },
      "execution_count": 203,
      "outputs": [
        {
          "output_type": "execute_result",
          "data": {
            "text/plain": [
              "'checkout'"
            ],
            "application/vnd.google.colaboratory.intrinsic+json": {
              "type": "string"
            }
          },
          "metadata": {},
          "execution_count": 203
        }
      ]
    },
    {
      "cell_type": "code",
      "source": [
        "start_node = test_url + all_urls[0]"
      ],
      "metadata": {
        "id": "4Zmprj9kEQ7s"
      },
      "execution_count": 223,
      "outputs": []
    },
    {
      "cell_type": "code",
      "source": [
        "for url in all_urls:\n",
        "  dest = url.split('/')[-1]\n",
        "  html_code = scrape_html(start_node)\n",
        "  prompt = \"\"\" Task: Given HTML code for a web page, please provide a few Selenium code lines\n",
        "that would allow us to click on the button that goes to the page that we will specify.\n",
        "Provide only the relevent lines of code without any additional explanations.\n",
        "\n",
        "Examples without HTML being provided:\n",
        "\n",
        "1. \"How can I get to /men page?\"\n",
        "Answer:\n",
        "shopMen = driver.find_element(by=By.XPATH, value=\"//span[normalize-space()='Shop men']\")\n",
        "shopMen.click()\n",
        "\n",
        "2. \"How can I get to /hacked-fashion-chuck-taylor-all-star-85 page?\"\n",
        "Answer:\n",
        "hackyShoes = driver.find_element(by=By.XPATH, value=\"//span[normalize-space()='Hacked fashion chuck taylor all star']\")\n",
        "hackyShoes.click()\n",
        "\n",
        "3. \"How can I get to /hacked-fashion-chuck-taylor-all-star-85?size=26 page?\"\n",
        "Answer:\n",
        "sizeSelect = driver.find_element(by=By.XPATH, value=\"//a[normalize-space()='XL']\")\n",
        "sizeSelect.click()\n",
        "\n",
        "4. \"How can I get to /hacked-fashion-chuck-taylor-all-star-85?size=26&color=8 page?\"\n",
        "Answer:\n",
        "colorSelect = driver.find_element(by=By.XPATH, value=\"//a[normalize-space()='Blue']\")\n",
        "colorSelect.click()\n",
        "\n",
        "\n",
        "5. \"How can I get to /cart page?\"\n",
        "Answer:\n",
        "addToCart = driver.find_element(by=By.XPATH, value=\"//button[@type='button']\")\n",
        "addToCart.click()\n",
        "\n",
        "If you ever encounter a mandatory field on the html, you have to provide the Selenium code that writes something in those fields.\n",
        "More specifically, you will encounter those on the cart page when trying to get to the /checkout page. If asked how to get to '/checkout' page,\n",
        "you should provide the answer EXACTLY as written in example 6.\n",
        "\n",
        "6. \"How can I get to /checkout page?\"\n",
        "Answer:\n",
        "\n",
        "viewCart = driver.find_element(by=By.XPATH, value=\"//a[normalize-space()='VIEW CART (1)']\")\n",
        "viewCart.click()\n",
        "\n",
        "checkOut = driver.find_element(by=By.XPATH, value=\"//span[normalize-space()='CHECKOUT']\")\n",
        "checkOut.click()\n",
        "\n",
        "emailBox = driver.find_element(by=By.XPATH, value=\"//input[@placeholder='Email']\")\n",
        "emailBox.send_keys(\"KombuAITest@PearHack.com\")\n",
        "\n",
        "continueToShipping = driver.find_element(by=By.XPATH, value=\"//span[normalize-space()='Continue to shipping']\")\n",
        "continueToShipping.click()\n",
        "\n",
        "fullName = driver.find_element(by=By.XPATH, value=\"//input[@placeholder='Full name']\")\n",
        "phone = driver.find_element(by=By.XPATH, value=\"//input[@placeholder='Telephone']\")\n",
        "address = driver.find_element(by=By.XPATH, value=\"//input[@placeholder='Address']\")\n",
        "city = driver.find_element(by=By.XPATH, value=\"//input[@placeholder='City']\")\n",
        "country = driver.find_element(by=By.XPATH, value=\"//select[contains(@id,'address')]\")\n",
        "postcode = driver.find_element(by=By.XPATH, value=\"//input[@placeholder='Postcode']\")\n",
        "\n",
        "fullName.send_keys(\"AiTest\")\n",
        "phone.send_keys(\"AiTest\")\n",
        "address.send_keys(\"AiTest\")\n",
        "city.send_keys(\"San Francisco\")\n",
        "postcode.send_keys(\"94107\")\n",
        "\n",
        "select = Select(country)\n",
        "select.select_by_visible_text('United States')\n",
        "\n",
        "province = driver.find_element(by=By.XPATH, value=\"(//select[@id='address[province]'])[1]\")\n",
        "selectProvince = Select(province)\n",
        "selectProvince.select_by_visible_text('California')\n",
        "\n",
        "shipping = driver.find_element(by=By.XPATH, value=\"//span[normalize-space()='Standard Delivery - $5.00']\")\n",
        "shipping.click()\n",
        "\n",
        "toPayment = driver.find_element(by=By.XPATH, value=\"//span[normalize-space()='Continue to payment']\")\n",
        "toPayment.click()\n",
        "\n",
        "cashOnDelivery = driver.find_element(by=By.XPATH, value=\"//div[@class='checkout-payment checkout-step']//div//div[1]//div[1]//div[1]//div[1]//div[1]//a[1]//*[name()='svg']\")\n",
        "cashOnDelivery.click()\n",
        "\n",
        "placeOrder = driver.find_element(by=By.XPATH, value=\"//span[normalize-space()='Place Order']\")\n",
        "placeOrder.click()\n",
        "\n",
        "\n",
        "Based on these examples and based on the provided HTML code, please answer the following prompt:\n",
        "How can I get to /{}?\n",
        "Here is the HTML: {}\n",
        "\"\"\".format(dest, html_code.prettify())\n",
        "  stream = client.chat.completions.create(\n",
        "    model=\"gpt-4-turbo\",\n",
        "    messages=[{\"role\": \"user\", \"content\": prompt}],\n",
        "    stream=True,\n",
        ")\n",
        "  for chunk in stream:\n",
        "    print(chunk.choices[0].delta.content or \"\", end=\"\")\n",
        "  start_node = test_url + url\n",
        "\n"
      ],
      "metadata": {
        "colab": {
          "base_uri": "https://localhost:8080/"
        },
        "id": "MECH9OQUDVh5",
        "outputId": "037b763d-5383-4bd8-808d-f1271342fdfa"
      },
      "execution_count": 224,
      "outputs": [
        {
          "output_type": "stream",
          "name": "stdout",
          "text": [
            "```python\n",
            "logoIcon = driver.find_element(by=By.XPATH, value=\"//a[@class='logo-icon']\")\n",
            "logoIcon.click()\n",
            "```shopMen = driver.find_element(by=By.XPATH, value=\"//a[@class='nav-link hover:underline'][@href='/men']\")\n",
            "shopMen.click()reactPhantomFlyknit = driver.find_element(by=By.XPATH, value=\"//a[@href='/men/nike-react-phantom-run-flyknit-2-179']\")\n",
            "reactPhantomFlyknit.click()sizeSelect = driver.find_element(by=By.XPATH, value=\"//a[normalize-space()='X']\")\n",
            "sizeSelect.click()sizeSelect = driver.find_element(by=By.XPATH, value=\"//a[normalize-space()='X']\")\n",
            "sizeSelect.click()\n",
            "\n",
            "colorSelect = driver.find_element(by=By.XPATH, value=\"//a[normalize-space()='Green']\")\n",
            "colorSelect.click()addToCart = driver.find_element(by=By.XPATH, value=\"//a[@class='mini-cart-icon']\")\n",
            "addToCart.click()homeLink = driver.find_element(by=By.XPATH, value=\"//a[@class='logo-icon']\")\n",
            "homeLink.click()```python\n",
            "womenLink = driver.find_element(by=By.XPATH, value=\"//a[normalize-space()='Women']\")\n",
            "womenLink.click()\n",
            "```alphaEdgeShoes = driver.find_element(by=By.XPATH, value=\"//a[@href='/women/alphaedge-4d-reflective-shoes-23']\")\n",
            "alphaEdgeShoes.click()sizeSelect = driver.find_element(by=By.XPATH, value=\"//a[normalize-space()='XL']\")\n",
            "sizeSelect.click()sizeSelect = driver.find_element(by=By.XPATH, value=\"//a[normalize-space()='XL']\")\n",
            "sizeSelect.click()\n",
            "\n",
            "colorSelect = driver.find_element(by=By.XPATH, value=\"//a[normalize-space()='White']\")\n",
            "colorSelect.click()```python\n",
            "cartButton = driver.find_element(by=By.XPATH, value=\"//a[@class='mini-cart-icon' and @href='/cart']\")\n",
            "cartButton.click()\n",
            "```viewCart = driver.find_element(by=By.XPATH, value=\"//a[normalize-space()='VIEW CART (1)']\")\n",
            "viewCart.click()\n",
            "\n",
            "checkOut = driver.find_element(by=By.XPATH, value=\"//span[normalize-space()='CHECKOUT']\")\n",
            "checkOut.click()\n",
            "\n",
            "emailBox = driver.find_element(by=By.XPATH, value=\"//input[@placeholder='Email']\")\n",
            "emailBox.send_keys(\"KombuAITest@PearHack.com\")\n",
            "\n",
            "continueToShipping = driver.find_element(by=By.XPATH, value=\"//span[normalize-space()='Continue to shipping']\")\n",
            "continueToShipping.click()\n",
            "\n",
            "fullName = driver.find_element(by=By.XPATH, value=\"//input[@placeholder='Full name']\")\n",
            "phone = driver.find_element(by=By.XPATH, value=\"//input[@placeholder='Telephone']\")\n",
            "address = driver.find_element(by=By.XPATH, value=\"//input[@placeholder='Address']\")\n",
            "city = driver.find_element(by=By.XPATH, value=\"//input[@placeholder='City']\")\n",
            "country = driver.find_element(by=By.XPATH, value=\"//select[contains(@id,'address')]\")\n",
            "postcode = driver.find_element(by=By.XPATH, value=\"//input[@placeholder='Postcode']\")\n",
            "\n",
            "fullName.send_keys(\"AiTest\")\n",
            "phone.send_keys(\"AiTest\")\n",
            "address.send_keys(\"AiTest\")\n",
            "city.send_keys(\"San Francisco\")\n",
            "postcode.send_keys(\"94107\")\n",
            "\n",
            "select = Select(country)\n",
            "select.select_by_visible_text('United States')\n",
            "\n",
            "province = driver.find_element(by=By.XPATH, value=\"(//select[@id='address[province]'])[1]\")\n",
            "selectProvince = Select(province)\n",
            "selectProvince.select_by_visible_text('California')\n",
            "\n",
            "shipping = driver.find_element(by=By.XPATH, value=\"//span[normalize-space()='Standard Delivery - $5.00']\")\n",
            "shipping.click()\n",
            "\n",
            "toPayment = driver.find_element(by=By.XPATH, value=\"//span[normalize-space()='Continue to payment']\")\n",
            "toPayment.click()\n",
            "\n",
            "cashOnDelivery = driver.find_element(by=By.XPATH, value=\"//div[@class='checkout-payment checkout-step']//div//div[1]//div[1]//div[1]//div[1]//div[1]//a[1]//*[name()='svg']\")\n",
            "cashOnDelivery.click()\n",
            "\n",
            "placeOrder = driver.find_element(by=By.XPATH, value=\"//span[normalize-space()='Place Order']\")\n",
            "placeOrder.click()\n"
          ]
        }
      ]
    },
    {
      "cell_type": "code",
      "source": [],
      "metadata": {
        "id": "N1_htUTPs3hM"
      },
      "execution_count": 221,
      "outputs": []
    },
    {
      "cell_type": "code",
      "source": [
        "prompt = \"\"\" Task: Given HTML code for a web page, please provide a few Selenium code lines\n",
        "that would allow us to click on the button that goes to the page that we will specify.\n",
        "Provide only the relevent lines of code without any additional explanations.\n",
        "\n",
        "Examples without HTML being provided:\n",
        "\n",
        "1. \"How can I get to /men page?\"\n",
        "Answer:\n",
        "shopMen = driver.find_element(by=By.XPATH, value=\"//span[normalize-space()='Shop men']\")\n",
        "shopMen.click()\n",
        "\n",
        "2. \"How can I get to /hacked-fashion-chuck-taylor-all-star-85 page?\"\n",
        "Answer:\n",
        "hackyShoes = driver.find_element(by=By.XPATH, value=\"//span[normalize-space()='Hacked fashion chuck taylor all star']\")\n",
        "hackyShoes.click()\n",
        "\n",
        "3. \"How can I get to /hacked-fashion-chuck-taylor-all-star-85?size=26 page?\"\n",
        "Answer:\n",
        "sizeSelect = driver.find_element(by=By.XPATH, value=\"//a[normalize-space()='XL']\")\n",
        "sizeSelect.click()\n",
        "\n",
        "4. \"How can I get to /hacked-fashion-chuck-taylor-all-star-85?size=26&color=8 page?\"\n",
        "Answer:\n",
        "colorSelect = driver.find_element(by=By.XPATH, value=\"//a[normalize-space()='Blue']\")\n",
        "colorSelect.click()\n",
        "\n",
        "\n",
        "5. \"How can I get to /cart page?\"\n",
        "Answer:\n",
        "addToCart = driver.find_element(by=By.XPATH, value=\"//button[@type='button']\")\n",
        "addToCart.click()\n",
        "\n",
        "If you ever encounter a mandatory field on the html, you have to provide the Selenium code that writes something in those fields.\n",
        "More specifically, you will encounter those on the cart page when trying to get to the /checkout page. If asked how to get to '/checkout' page,\n",
        "you should provide the answer EXACTLY as written in example 6.\n",
        "\n",
        "6. \"How can I get to /checkout page?\"\n",
        "Answer:\n",
        "\n",
        "viewCart = driver.find_element(by=By.XPATH, value=\"//a[normalize-space()='VIEW CART (1)']\")\n",
        "viewCart.click()\n",
        "\n",
        "checkOut = driver.find_element(by=By.XPATH, value=\"//span[normalize-space()='CHECKOUT']\")\n",
        "checkOut.click()\n",
        "\n",
        "emailBox = driver.find_element(by=By.XPATH, value=\"//input[@placeholder='Email']\")\n",
        "emailBox.send_keys(\"KombuAITest@PearHack.com\")\n",
        "\n",
        "continueToShipping = driver.find_element(by=By.XPATH, value=\"//span[normalize-space()='Continue to shipping']\")\n",
        "continueToShipping.click()\n",
        "\n",
        "fullName = driver.find_element(by=By.XPATH, value=\"//input[@placeholder='Full name']\")\n",
        "phone = driver.find_element(by=By.XPATH, value=\"//input[@placeholder='Telephone']\")\n",
        "address = driver.find_element(by=By.XPATH, value=\"//input[@placeholder='Address']\")\n",
        "city = driver.find_element(by=By.XPATH, value=\"//input[@placeholder='City']\")\n",
        "country = driver.find_element(by=By.XPATH, value=\"//select[contains(@id,'address')]\")\n",
        "postcode = driver.find_element(by=By.XPATH, value=\"//input[@placeholder='Postcode']\")\n",
        "\n",
        "fullName.send_keys(\"AiTest\")\n",
        "phone.send_keys(\"AiTest\")\n",
        "address.send_keys(\"AiTest\")\n",
        "city.send_keys(\"San Francisco\")\n",
        "postcode.send_keys(\"94107\")\n",
        "\n",
        "select = Select(country)\n",
        "select.select_by_visible_text('United States')\n",
        "\n",
        "province = driver.find_element(by=By.XPATH, value=\"(//select[@id='address[province]'])[1]\")\n",
        "selectProvince = Select(province)\n",
        "selectProvince.select_by_visible_text('California')\n",
        "\n",
        "shipping = driver.find_element(by=By.XPATH, value=\"//span[normalize-space()='Standard Delivery - $5.00']\")\n",
        "shipping.click()\n",
        "\n",
        "toPayment = driver.find_element(by=By.XPATH, value=\"//span[normalize-space()='Continue to payment']\")\n",
        "toPayment.click()\n",
        "\n",
        "cashOnDelivery = driver.find_element(by=By.XPATH, value=\"//div[@class='checkout-payment checkout-step']//div//div[1]//div[1]//div[1]//div[1]//div[1]//a[1]//*[name()='svg']\")\n",
        "cashOnDelivery.click()\n",
        "\n",
        "placeOrder = driver.find_element(by=By.XPATH, value=\"//span[normalize-space()='Place Order']\")\n",
        "placeOrder.click()\n",
        "\n",
        "\n",
        "Based on these examples and based on the provided HTML code, please answer the following prompt:\n",
        "How can I get to /{}?\n",
        "Here is the HTML: {}\n",
        "\"\"\".format(dest, html_code.prettify())\n"
      ],
      "metadata": {
        "id": "aim3lp1SxEbY"
      },
      "execution_count": 217,
      "outputs": []
    },
    {
      "cell_type": "code",
      "source": [],
      "metadata": {
        "id": "MxgHyTUz2Mdd"
      },
      "execution_count": 217,
      "outputs": []
    },
    {
      "cell_type": "code",
      "source": [
        "stream = client.chat.completions.create(\n",
        "    model=\"gpt-4-turbo\",\n",
        "    messages=[{\"role\": \"user\", \"content\": prompt}],\n",
        "    stream=True,\n",
        ")"
      ],
      "metadata": {
        "id": "jOucV4vzuzFd"
      },
      "execution_count": 218,
      "outputs": []
    },
    {
      "cell_type": "code",
      "source": [
        "for chunk in stream:\n",
        "    print(chunk.choices[0].delta.content or \"\", end=\"\")"
      ],
      "metadata": {
        "colab": {
          "base_uri": "https://localhost:8080/"
        },
        "id": "stAgqP3txAm3",
        "outputId": "0fb5870c-966d-4a7b-d55f-8958a582c05b"
      },
      "execution_count": 219,
      "outputs": [
        {
          "output_type": "stream",
          "name": "stdout",
          "text": [
            "```python\n",
            "addToCart = driver.find_element(by=By.XPATH, value=\"//button[@type='button']\")\n",
            "addToCart.click()\n",
            "\n",
            "viewCart = driver.find_element(by=By.XPATH, value=\"//a[normalize-space()='VIEW CART (1)']\")\n",
            "viewCart.click()\n",
            "\n",
            "checkOut = driver.find_element(by=By.XPATH, value=\"//span[normalize-space()='CHECKOUT']\")\n",
            "checkOut.click()\n",
            "\n",
            "emailBox = driver.find_element(by=By.XPATH, value=\"//input[@placeholder='Email']\")\n",
            "emailBox.send_keys(\"KombuAITest@PearHack.com\")\n",
            "\n",
            "continueToShipping = driver.find_element(by=By.XPATH, value=\"//span[normalize-space()='Continue to shipping']\")\n",
            "continueToShipping.click()\n",
            "\n",
            "fullName = driver.find_element(by=By.XPATH, value=\"//input[@placeholder='Full name']\")\n",
            "phone = driver.find_element(by=By.XPATH, value=\"//input[@placeholder='Telephone']\")\n",
            "address = driver.find_element(by=By.XPATH, value=\"//input[@placeholder='Address']\")\n",
            "city = driver.find_element(by=By.XPATH, value=\"//input[@placeholder='City']\")\n",
            "country = driver.find_element(by=By.XPATH, value=\"//select[contains(@id,'address')]\")\n",
            "postcode = driver.find_element(by=By.XPATH, value=\"//input[@placeholder='Postcode']\")\n",
            "\n",
            "fullName.send_keys(\"AiTest\")\n",
            "phone.send_keys(\"AiTest\")\n",
            "address.send_keys(\"AiTest\")\n",
            "city.send_keys(\"San Francisco\")\n",
            "postcode.send_keys(\"94107\")\n",
            "\n",
            "select = Select(country)\n",
            "select.select_by_visible_text('United States')\n",
            "\n",
            "province = driver.find_element(by=By.XPATH, value=\"(//select[@id='address[province]'])[1]\")\n",
            "selectProvince = Select(province)\n",
            "selectProvince.select_by_visible_text('California')\n",
            "\n",
            "shipping = driver.find_element(by=By.XPATH, value=\"//span[normalize-space()='Standard Delivery - $5.00']\")\n",
            "shipping.click()\n",
            "\n",
            "toPayment = driver.find_element(by=By.XPATH, value=\"//span[normalize-space()='Continue to payment']\")\n",
            "toPayment.click()\n",
            "\n",
            "cashOnDelivery = driver.find_element(by=By.XPATH, value=\"//div[@class='checkout-payment checkout-step']//div//div[1]//div[1]//div[1]//div[1]//div[1]//a[1]//*[name()='svg']\")\n",
            "cashOnDelivery.click()\n",
            "\n",
            "placeOrder = driver.find_element(by=By.XPATH, value=\"//span[normalize-space()='Place Order']\")\n",
            "placeOrder.click()\n",
            "```"
          ]
        }
      ]
    },
    {
      "cell_type": "code",
      "source": [
        "driver = webdriver.Chrome(options=chrome_options)\n",
        "driver.get(start_node)"
      ],
      "metadata": {
        "id": "Zd9OzNogxVCV"
      },
      "execution_count": 131,
      "outputs": []
    },
    {
      "cell_type": "code",
      "source": [
        "start_node"
      ],
      "metadata": {
        "colab": {
          "base_uri": "https://localhost:8080/",
          "height": 35
        },
        "id": "nUQNOajtxakw",
        "outputId": "f0d9f8fb-584d-4e7c-c4d2-a61259b1e62a"
      },
      "execution_count": 98,
      "outputs": [
        {
          "output_type": "execute_result",
          "data": {
            "text/plain": [
              "'https://demo.evershop.io/men/nike-react-phantom-run-flyknit-2-179'"
            ],
            "application/vnd.google.colaboratory.intrinsic+json": {
              "type": "string"
            }
          },
          "metadata": {},
          "execution_count": 98
        }
      ]
    },
    {
      "cell_type": "code",
      "source": [
        "shopMen = driver.find_element(by=By.XPATH, value=\"//a[normalize-space()='Men']\")\n",
        "shopMen.click()"
      ],
      "metadata": {
        "id": "1YbTDiZzxLjN"
      },
      "execution_count": 61,
      "outputs": []
    },
    {
      "cell_type": "code",
      "source": [
        "nikeReactPhantom = driver.find_element(by=By.XPATH, value=\"//span[normalize-space()='Nike react phantom run flyknit 2']\")\n",
        "nikeReactPhantom.click()"
      ],
      "metadata": {
        "id": "dabsPYnu4gln"
      },
      "execution_count": 90,
      "outputs": []
    },
    {
      "cell_type": "code",
      "source": [
        "sizeSelect = driver.find_element(by=By.XPATH, value=\"//a[normalize-space()='X']\")\n",
        "sizeSelect.click()"
      ],
      "metadata": {
        "id": "IYu0X-nA443W"
      },
      "execution_count": 105,
      "outputs": []
    },
    {
      "cell_type": "code",
      "source": [
        "colorSelect = driver.find_element(by=By.XPATH, value=\"//a[normalize-space()='Green']\")\n",
        "colorSelect.click()"
      ],
      "metadata": {
        "id": "MqzZTvFe7A4F"
      },
      "execution_count": 120,
      "outputs": []
    },
    {
      "cell_type": "code",
      "source": [
        "cartButton = driver.find_element(by=By.XPATH, value=\"//a[@href='/cart']\")\n",
        "cartButton.click()\n"
      ],
      "metadata": {
        "id": "mYPS5EZH8Ik7"
      },
      "execution_count": 132,
      "outputs": []
    },
    {
      "cell_type": "code",
      "source": [
        "home = driver.find_element(by=By.XPATH, value=\"//a[@class='logo-icon']\")\n",
        "home.click()"
      ],
      "metadata": {
        "id": "u213WUfr__8S"
      },
      "execution_count": 144,
      "outputs": []
    },
    {
      "cell_type": "code",
      "source": [
        "women = driver.find_element(by=By.XPATH, value=\"//a[normalize-space()='Women']\")\n",
        "women.click()"
      ],
      "metadata": {
        "id": "H0lYbE1iAQBW"
      },
      "execution_count": 154,
      "outputs": []
    },
    {
      "cell_type": "code",
      "source": [
        "alphaedgeShoes = driver.find_element(by=By.XPATH, value=\"//a[@href='/women/alphaedge-4d-reflective-shoes-23']\")\n",
        "alphaedgeShoes.click()"
      ],
      "metadata": {
        "id": "EyDlowWvAdoY"
      },
      "execution_count": 165,
      "outputs": []
    },
    {
      "cell_type": "code",
      "source": [
        "sizeSelect = driver.find_element(by=By.XPATH, value=\"//a[normalize-space()='XL']\")\n",
        "sizeSelect.click()"
      ],
      "metadata": {
        "id": "OO7DLJXzAnD7"
      },
      "execution_count": 176,
      "outputs": []
    },
    {
      "cell_type": "code",
      "source": [
        "sizeSelect = driver.find_element(by=By.XPATH, value=\"//a[normalize-space()='XL']\")\n",
        "sizeSelect.click()\n",
        "\n",
        "colorSelect = driver.find_element(by=By.XPATH, value=\"//a[normalize-space()='White']\")\n",
        "colorSelect.click()"
      ],
      "metadata": {
        "id": "2C4GTrBdA0LC"
      },
      "execution_count": 187,
      "outputs": []
    },
    {
      "cell_type": "code",
      "source": [
        "cart = driver.find_element(by=By.XPATH, value=\"//a[@href='/cart']\")\n",
        "cart.click()"
      ],
      "metadata": {
        "id": "3cf63pj3A9vW"
      },
      "execution_count": 197,
      "outputs": []
    },
    {
      "cell_type": "code",
      "source": [
        "viewCart = driver.find_element(by=By.XPATH, value=\"//a[normalize-space()='VIEW CART (1)']\")\n",
        "viewCart.click()\n",
        "\n",
        "checkOut = driver.find_element(by=By.XPATH, value=\"//span[normalize-space()='CHECKOUT']\")\n",
        "checkOut.click()\n",
        "\n",
        "emailBox = driver.find_element(by=By.XPATH, value=\"//input[@placeholder='Email']\")\n",
        "emailBox.send_keys(\"KombuAITest@PearHack.com\")\n",
        "\n",
        "continueToShipping = driver.find_element(by=By.XPATH, value=\"//span[normalize-space()='Continue to shipping']\")\n",
        "continueToShipping.click()\n",
        "\n",
        "fullName = driver.find_element(by=By.XPATH, value=\"//input[@placeholder='Full name']\")\n",
        "phone = driver.find_element(by=By.XPATH, value=\"//input[@placeholder='Telephone']\")\n",
        "address = driver.find_element(by=By.XPATH, value=\"//input[@placeholder='Address']\")\n",
        "city = driver.find_element(by=By.XPATH, value=\"//input[@placeholder='City']\")\n",
        "country = driver.find_element(by=By.XPATH, value=\"//select[contains(@id,'address')]\")\n",
        "postcode = driver.find_element(by=By.XPATH, value=\"//input[@placeholder='Postcode']\")\n",
        "\n",
        "fullName.send_keys(\"AiTest\")\n",
        "phone.send_keys(\"AiTest\")\n",
        "address.send_keys(\"AiTest\")\n",
        "city.send_keys(\"San Francisco\")\n",
        "postcode.send_keys(\"94107\")\n",
        "\n",
        "select = Select(country)\n",
        "select.select_by_visible_text('United States')\n",
        "\n",
        "province = driver.find_element(by=By.XPATH, value=\"(//select[@id='address[province]'])[1]\")\n",
        "selectProvince = Select(province)\n",
        "selectProvince.select_by_visible_text('California')\n",
        "\n",
        "shipping = driver.find_element(by=By.XPATH, value=\"//span[normalize-space()='Standard Delivery - $5.00']\")\n",
        "shipping.click()\n",
        "\n",
        "toPayment = driver.find_element(by=By.XPATH, value=\"//span[normalize-space()='Continue to payment']\")\n",
        "toPayment.click()\n",
        "\n",
        "cashOnDelivery = driver.find_element(by=By.XPATH, value=\"//div[@class='checkout-payment checkout-step']//div//div[1]//div[1]//div[1]//div[1]//div[1]//a[1]//*[name()='svg']\")\n",
        "cashOnDelivery.click()\n",
        "\n",
        "placeOrder = driver.find_element(by=By.XPATH, value=\"//span[normalize-space()='Place Order']\")\n",
        "placeOrder.click()"
      ],
      "metadata": {
        "colab": {
          "base_uri": "https://localhost:8080/",
          "height": 703
        },
        "id": "SstSXrD6BIxh",
        "outputId": "b02db4ab-001e-4a79-a220-73c5951b50e0"
      },
      "execution_count": 220,
      "outputs": [
        {
          "output_type": "error",
          "ename": "NoSuchElementException",
          "evalue": "Message: no such element: Unable to locate element: {\"method\":\"xpath\",\"selector\":\"//button[@type='button']\"}\n  (Session info: chrome-headless-shell=124.0.6367.91); For documentation on this error, please visit: https://www.selenium.dev/documentation/webdriver/troubleshooting/errors#no-such-element-exception\nStacktrace:\n#0 0x5b07d7217cb3 <unknown>\n#1 0x5b07d6f064a7 <unknown>\n#2 0x5b07d6f5131d <unknown>\n#3 0x5b07d6f513d1 <unknown>\n#4 0x5b07d6f94734 <unknown>\n#5 0x5b07d6f7343d <unknown>\n#6 0x5b07d6f91be9 <unknown>\n#7 0x5b07d6f731b3 <unknown>\n#8 0x5b07d6f4424a <unknown>\n#9 0x5b07d6f44c1e <unknown>\n#10 0x5b07d71dbfdb <unknown>\n#11 0x5b07d71dff2b <unknown>\n#12 0x5b07d71c80f1 <unknown>\n#13 0x5b07d71e0a92 <unknown>\n#14 0x5b07d71acfaf <unknown>\n#15 0x5b07d7206e08 <unknown>\n#16 0x5b07d7206fe0 <unknown>\n#17 0x5b07d7216e04 <unknown>\n#18 0x7b882c8d0ac3 <unknown>\n",
          "traceback": [
            "\u001b[0;31m---------------------------------------------------------------------------\u001b[0m",
            "\u001b[0;31mNoSuchElementException\u001b[0m                    Traceback (most recent call last)",
            "\u001b[0;32m<ipython-input-220-1a365c7a8a32>\u001b[0m in \u001b[0;36m<cell line: 1>\u001b[0;34m()\u001b[0m\n\u001b[0;32m----> 1\u001b[0;31m \u001b[0maddToCart\u001b[0m \u001b[0;34m=\u001b[0m \u001b[0mdriver\u001b[0m\u001b[0;34m.\u001b[0m\u001b[0mfind_element\u001b[0m\u001b[0;34m(\u001b[0m\u001b[0mby\u001b[0m\u001b[0;34m=\u001b[0m\u001b[0mBy\u001b[0m\u001b[0;34m.\u001b[0m\u001b[0mXPATH\u001b[0m\u001b[0;34m,\u001b[0m \u001b[0mvalue\u001b[0m\u001b[0;34m=\u001b[0m\u001b[0;34m\"//button[@type='button']\"\u001b[0m\u001b[0;34m)\u001b[0m\u001b[0;34m\u001b[0m\u001b[0;34m\u001b[0m\u001b[0m\n\u001b[0m\u001b[1;32m      2\u001b[0m \u001b[0maddToCart\u001b[0m\u001b[0;34m.\u001b[0m\u001b[0mclick\u001b[0m\u001b[0;34m(\u001b[0m\u001b[0;34m)\u001b[0m\u001b[0;34m\u001b[0m\u001b[0;34m\u001b[0m\u001b[0m\n\u001b[1;32m      3\u001b[0m \u001b[0;34m\u001b[0m\u001b[0m\n\u001b[1;32m      4\u001b[0m \u001b[0mviewCart\u001b[0m \u001b[0;34m=\u001b[0m \u001b[0mdriver\u001b[0m\u001b[0;34m.\u001b[0m\u001b[0mfind_element\u001b[0m\u001b[0;34m(\u001b[0m\u001b[0mby\u001b[0m\u001b[0;34m=\u001b[0m\u001b[0mBy\u001b[0m\u001b[0;34m.\u001b[0m\u001b[0mXPATH\u001b[0m\u001b[0;34m,\u001b[0m \u001b[0mvalue\u001b[0m\u001b[0;34m=\u001b[0m\u001b[0;34m\"//a[normalize-space()='VIEW CART (1)']\"\u001b[0m\u001b[0;34m)\u001b[0m\u001b[0;34m\u001b[0m\u001b[0;34m\u001b[0m\u001b[0m\n\u001b[1;32m      5\u001b[0m \u001b[0mviewCart\u001b[0m\u001b[0;34m.\u001b[0m\u001b[0mclick\u001b[0m\u001b[0;34m(\u001b[0m\u001b[0;34m)\u001b[0m\u001b[0;34m\u001b[0m\u001b[0;34m\u001b[0m\u001b[0m\n",
            "\u001b[0;32m/usr/local/lib/python3.10/dist-packages/selenium/webdriver/remote/webdriver.py\u001b[0m in \u001b[0;36mfind_element\u001b[0;34m(self, by, value)\u001b[0m\n\u001b[1;32m    739\u001b[0m             \u001b[0mvalue\u001b[0m \u001b[0;34m=\u001b[0m \u001b[0;34mf'[name=\"{value}\"]'\u001b[0m\u001b[0;34m\u001b[0m\u001b[0;34m\u001b[0m\u001b[0m\n\u001b[1;32m    740\u001b[0m \u001b[0;34m\u001b[0m\u001b[0m\n\u001b[0;32m--> 741\u001b[0;31m         \u001b[0;32mreturn\u001b[0m \u001b[0mself\u001b[0m\u001b[0;34m.\u001b[0m\u001b[0mexecute\u001b[0m\u001b[0;34m(\u001b[0m\u001b[0mCommand\u001b[0m\u001b[0;34m.\u001b[0m\u001b[0mFIND_ELEMENT\u001b[0m\u001b[0;34m,\u001b[0m \u001b[0;34m{\u001b[0m\u001b[0;34m\"using\"\u001b[0m\u001b[0;34m:\u001b[0m \u001b[0mby\u001b[0m\u001b[0;34m,\u001b[0m \u001b[0;34m\"value\"\u001b[0m\u001b[0;34m:\u001b[0m \u001b[0mvalue\u001b[0m\u001b[0;34m}\u001b[0m\u001b[0;34m)\u001b[0m\u001b[0;34m[\u001b[0m\u001b[0;34m\"value\"\u001b[0m\u001b[0;34m]\u001b[0m\u001b[0;34m\u001b[0m\u001b[0;34m\u001b[0m\u001b[0m\n\u001b[0m\u001b[1;32m    742\u001b[0m \u001b[0;34m\u001b[0m\u001b[0m\n\u001b[1;32m    743\u001b[0m     \u001b[0;32mdef\u001b[0m \u001b[0mfind_elements\u001b[0m\u001b[0;34m(\u001b[0m\u001b[0mself\u001b[0m\u001b[0;34m,\u001b[0m \u001b[0mby\u001b[0m\u001b[0;34m=\u001b[0m\u001b[0mBy\u001b[0m\u001b[0;34m.\u001b[0m\u001b[0mID\u001b[0m\u001b[0;34m,\u001b[0m \u001b[0mvalue\u001b[0m\u001b[0;34m:\u001b[0m \u001b[0mOptional\u001b[0m\u001b[0;34m[\u001b[0m\u001b[0mstr\u001b[0m\u001b[0;34m]\u001b[0m \u001b[0;34m=\u001b[0m \u001b[0;32mNone\u001b[0m\u001b[0;34m)\u001b[0m \u001b[0;34m->\u001b[0m \u001b[0mList\u001b[0m\u001b[0;34m[\u001b[0m\u001b[0mWebElement\u001b[0m\u001b[0;34m]\u001b[0m\u001b[0;34m:\u001b[0m\u001b[0;34m\u001b[0m\u001b[0;34m\u001b[0m\u001b[0m\n",
            "\u001b[0;32m/usr/local/lib/python3.10/dist-packages/selenium/webdriver/remote/webdriver.py\u001b[0m in \u001b[0;36mexecute\u001b[0;34m(self, driver_command, params)\u001b[0m\n\u001b[1;32m    345\u001b[0m         \u001b[0mresponse\u001b[0m \u001b[0;34m=\u001b[0m \u001b[0mself\u001b[0m\u001b[0;34m.\u001b[0m\u001b[0mcommand_executor\u001b[0m\u001b[0;34m.\u001b[0m\u001b[0mexecute\u001b[0m\u001b[0;34m(\u001b[0m\u001b[0mdriver_command\u001b[0m\u001b[0;34m,\u001b[0m \u001b[0mparams\u001b[0m\u001b[0;34m)\u001b[0m\u001b[0;34m\u001b[0m\u001b[0;34m\u001b[0m\u001b[0m\n\u001b[1;32m    346\u001b[0m         \u001b[0;32mif\u001b[0m \u001b[0mresponse\u001b[0m\u001b[0;34m:\u001b[0m\u001b[0;34m\u001b[0m\u001b[0;34m\u001b[0m\u001b[0m\n\u001b[0;32m--> 347\u001b[0;31m             \u001b[0mself\u001b[0m\u001b[0;34m.\u001b[0m\u001b[0merror_handler\u001b[0m\u001b[0;34m.\u001b[0m\u001b[0mcheck_response\u001b[0m\u001b[0;34m(\u001b[0m\u001b[0mresponse\u001b[0m\u001b[0;34m)\u001b[0m\u001b[0;34m\u001b[0m\u001b[0;34m\u001b[0m\u001b[0m\n\u001b[0m\u001b[1;32m    348\u001b[0m             \u001b[0mresponse\u001b[0m\u001b[0;34m[\u001b[0m\u001b[0;34m\"value\"\u001b[0m\u001b[0;34m]\u001b[0m \u001b[0;34m=\u001b[0m \u001b[0mself\u001b[0m\u001b[0;34m.\u001b[0m\u001b[0m_unwrap_value\u001b[0m\u001b[0;34m(\u001b[0m\u001b[0mresponse\u001b[0m\u001b[0;34m.\u001b[0m\u001b[0mget\u001b[0m\u001b[0;34m(\u001b[0m\u001b[0;34m\"value\"\u001b[0m\u001b[0;34m,\u001b[0m \u001b[0;32mNone\u001b[0m\u001b[0;34m)\u001b[0m\u001b[0;34m)\u001b[0m\u001b[0;34m\u001b[0m\u001b[0;34m\u001b[0m\u001b[0m\n\u001b[1;32m    349\u001b[0m             \u001b[0;32mreturn\u001b[0m \u001b[0mresponse\u001b[0m\u001b[0;34m\u001b[0m\u001b[0;34m\u001b[0m\u001b[0m\n",
            "\u001b[0;32m/usr/local/lib/python3.10/dist-packages/selenium/webdriver/remote/errorhandler.py\u001b[0m in \u001b[0;36mcheck_response\u001b[0;34m(self, response)\u001b[0m\n\u001b[1;32m    227\u001b[0m                 \u001b[0malert_text\u001b[0m \u001b[0;34m=\u001b[0m \u001b[0mvalue\u001b[0m\u001b[0;34m[\u001b[0m\u001b[0;34m\"alert\"\u001b[0m\u001b[0;34m]\u001b[0m\u001b[0;34m.\u001b[0m\u001b[0mget\u001b[0m\u001b[0;34m(\u001b[0m\u001b[0;34m\"text\"\u001b[0m\u001b[0;34m)\u001b[0m\u001b[0;34m\u001b[0m\u001b[0;34m\u001b[0m\u001b[0m\n\u001b[1;32m    228\u001b[0m             \u001b[0;32mraise\u001b[0m \u001b[0mexception_class\u001b[0m\u001b[0;34m(\u001b[0m\u001b[0mmessage\u001b[0m\u001b[0;34m,\u001b[0m \u001b[0mscreen\u001b[0m\u001b[0;34m,\u001b[0m \u001b[0mstacktrace\u001b[0m\u001b[0;34m,\u001b[0m \u001b[0malert_text\u001b[0m\u001b[0;34m)\u001b[0m  \u001b[0;31m# type: ignore[call-arg]  # mypy is not smart enough here\u001b[0m\u001b[0;34m\u001b[0m\u001b[0;34m\u001b[0m\u001b[0m\n\u001b[0;32m--> 229\u001b[0;31m         \u001b[0;32mraise\u001b[0m \u001b[0mexception_class\u001b[0m\u001b[0;34m(\u001b[0m\u001b[0mmessage\u001b[0m\u001b[0;34m,\u001b[0m \u001b[0mscreen\u001b[0m\u001b[0;34m,\u001b[0m \u001b[0mstacktrace\u001b[0m\u001b[0;34m)\u001b[0m\u001b[0;34m\u001b[0m\u001b[0;34m\u001b[0m\u001b[0m\n\u001b[0m",
            "\u001b[0;31mNoSuchElementException\u001b[0m: Message: no such element: Unable to locate element: {\"method\":\"xpath\",\"selector\":\"//button[@type='button']\"}\n  (Session info: chrome-headless-shell=124.0.6367.91); For documentation on this error, please visit: https://www.selenium.dev/documentation/webdriver/troubleshooting/errors#no-such-element-exception\nStacktrace:\n#0 0x5b07d7217cb3 <unknown>\n#1 0x5b07d6f064a7 <unknown>\n#2 0x5b07d6f5131d <unknown>\n#3 0x5b07d6f513d1 <unknown>\n#4 0x5b07d6f94734 <unknown>\n#5 0x5b07d6f7343d <unknown>\n#6 0x5b07d6f91be9 <unknown>\n#7 0x5b07d6f731b3 <unknown>\n#8 0x5b07d6f4424a <unknown>\n#9 0x5b07d6f44c1e <unknown>\n#10 0x5b07d71dbfdb <unknown>\n#11 0x5b07d71dff2b <unknown>\n#12 0x5b07d71c80f1 <unknown>\n#13 0x5b07d71e0a92 <unknown>\n#14 0x5b07d71acfaf <unknown>\n#15 0x5b07d7206e08 <unknown>\n#16 0x5b07d7206fe0 <unknown>\n#17 0x5b07d7216e04 <unknown>\n#18 0x7b882c8d0ac3 <unknown>\n"
          ]
        }
      ]
    },
    {
      "cell_type": "code",
      "source": [
        "dest"
      ],
      "metadata": {
        "colab": {
          "base_uri": "https://localhost:8080/",
          "height": 35
        },
        "id": "iR0pY8Rs5ATI",
        "outputId": "80387885-fd5a-458e-d92a-c4a760e343f6"
      },
      "execution_count": 198,
      "outputs": [
        {
          "output_type": "execute_result",
          "data": {
            "text/plain": [
              "'cart'"
            ],
            "application/vnd.google.colaboratory.intrinsic+json": {
              "type": "string"
            }
          },
          "metadata": {},
          "execution_count": 198
        }
      ]
    },
    {
      "cell_type": "code",
      "source": [
        "driver.current_url"
      ],
      "metadata": {
        "colab": {
          "base_uri": "https://localhost:8080/",
          "height": 35
        },
        "id": "4p13PI-vxh-J",
        "outputId": "16842363-ebb0-402d-ca90-47715a7c262c"
      },
      "execution_count": 213,
      "outputs": [
        {
          "output_type": "execute_result",
          "data": {
            "text/plain": [
              "'https://demo.evershop.io/cart'"
            ],
            "application/vnd.google.colaboratory.intrinsic+json": {
              "type": "string"
            }
          },
          "metadata": {},
          "execution_count": 213
        }
      ]
    },
    {
      "cell_type": "code",
      "source": [
        "start_node = driver.current_url"
      ],
      "metadata": {
        "id": "HiEigrSAxksc"
      },
      "execution_count": 200,
      "outputs": []
    },
    {
      "cell_type": "code",
      "source": [
        "#fullName = driver.find_element(by=By.XPATH, value=\"//input[@placeholder='Full name']\")\n",
        "fullName = driver.find_element(by=By.XPATH, value=\"//input[@placeholder='Full name']\")\n"
      ],
      "metadata": {
        "colab": {
          "base_uri": "https://localhost:8080/",
          "height": 651
        },
        "id": "9RJJ92jhADFV",
        "outputId": "a1ebc640-e807-404f-ea4b-9ad5f7e28bf1"
      },
      "execution_count": 215,
      "outputs": [
        {
          "output_type": "error",
          "ename": "NoSuchElementException",
          "evalue": "Message: no such element: Unable to locate element: {\"method\":\"xpath\",\"selector\":\"//input[@placeholder='Full name']\"}\n  (Session info: chrome-headless-shell=124.0.6367.91); For documentation on this error, please visit: https://www.selenium.dev/documentation/webdriver/troubleshooting/errors#no-such-element-exception\nStacktrace:\n#0 0x5b07d7217cb3 <unknown>\n#1 0x5b07d6f064a7 <unknown>\n#2 0x5b07d6f5131d <unknown>\n#3 0x5b07d6f513d1 <unknown>\n#4 0x5b07d6f94734 <unknown>\n#5 0x5b07d6f7343d <unknown>\n#6 0x5b07d6f91be9 <unknown>\n#7 0x5b07d6f731b3 <unknown>\n#8 0x5b07d6f4424a <unknown>\n#9 0x5b07d6f44c1e <unknown>\n#10 0x5b07d71dbfdb <unknown>\n#11 0x5b07d71dff2b <unknown>\n#12 0x5b07d71c80f1 <unknown>\n#13 0x5b07d71e0a92 <unknown>\n#14 0x5b07d71acfaf <unknown>\n#15 0x5b07d7206e08 <unknown>\n#16 0x5b07d7206fe0 <unknown>\n#17 0x5b07d7216e04 <unknown>\n#18 0x7b882c8d0ac3 <unknown>\n",
          "traceback": [
            "\u001b[0;31m---------------------------------------------------------------------------\u001b[0m",
            "\u001b[0;31mNoSuchElementException\u001b[0m                    Traceback (most recent call last)",
            "\u001b[0;32m<ipython-input-215-381c30f51e21>\u001b[0m in \u001b[0;36m<cell line: 2>\u001b[0;34m()\u001b[0m\n\u001b[1;32m      1\u001b[0m \u001b[0;31m#fullName = driver.find_element(by=By.XPATH, value=\"//input[@placeholder='Full name']\")\u001b[0m\u001b[0;34m\u001b[0m\u001b[0;34m\u001b[0m\u001b[0m\n\u001b[0;32m----> 2\u001b[0;31m \u001b[0mfullName\u001b[0m \u001b[0;34m=\u001b[0m \u001b[0mdriver\u001b[0m\u001b[0;34m.\u001b[0m\u001b[0mfind_element\u001b[0m\u001b[0;34m(\u001b[0m\u001b[0mby\u001b[0m\u001b[0;34m=\u001b[0m\u001b[0mBy\u001b[0m\u001b[0;34m.\u001b[0m\u001b[0mXPATH\u001b[0m\u001b[0;34m,\u001b[0m \u001b[0mvalue\u001b[0m\u001b[0;34m=\u001b[0m\u001b[0;34m\"//input[@placeholder='Full name']\"\u001b[0m\u001b[0;34m)\u001b[0m\u001b[0;34m\u001b[0m\u001b[0;34m\u001b[0m\u001b[0m\n\u001b[0m",
            "\u001b[0;32m/usr/local/lib/python3.10/dist-packages/selenium/webdriver/remote/webdriver.py\u001b[0m in \u001b[0;36mfind_element\u001b[0;34m(self, by, value)\u001b[0m\n\u001b[1;32m    739\u001b[0m             \u001b[0mvalue\u001b[0m \u001b[0;34m=\u001b[0m \u001b[0;34mf'[name=\"{value}\"]'\u001b[0m\u001b[0;34m\u001b[0m\u001b[0;34m\u001b[0m\u001b[0m\n\u001b[1;32m    740\u001b[0m \u001b[0;34m\u001b[0m\u001b[0m\n\u001b[0;32m--> 741\u001b[0;31m         \u001b[0;32mreturn\u001b[0m \u001b[0mself\u001b[0m\u001b[0;34m.\u001b[0m\u001b[0mexecute\u001b[0m\u001b[0;34m(\u001b[0m\u001b[0mCommand\u001b[0m\u001b[0;34m.\u001b[0m\u001b[0mFIND_ELEMENT\u001b[0m\u001b[0;34m,\u001b[0m \u001b[0;34m{\u001b[0m\u001b[0;34m\"using\"\u001b[0m\u001b[0;34m:\u001b[0m \u001b[0mby\u001b[0m\u001b[0;34m,\u001b[0m \u001b[0;34m\"value\"\u001b[0m\u001b[0;34m:\u001b[0m \u001b[0mvalue\u001b[0m\u001b[0;34m}\u001b[0m\u001b[0;34m)\u001b[0m\u001b[0;34m[\u001b[0m\u001b[0;34m\"value\"\u001b[0m\u001b[0;34m]\u001b[0m\u001b[0;34m\u001b[0m\u001b[0;34m\u001b[0m\u001b[0m\n\u001b[0m\u001b[1;32m    742\u001b[0m \u001b[0;34m\u001b[0m\u001b[0m\n\u001b[1;32m    743\u001b[0m     \u001b[0;32mdef\u001b[0m \u001b[0mfind_elements\u001b[0m\u001b[0;34m(\u001b[0m\u001b[0mself\u001b[0m\u001b[0;34m,\u001b[0m \u001b[0mby\u001b[0m\u001b[0;34m=\u001b[0m\u001b[0mBy\u001b[0m\u001b[0;34m.\u001b[0m\u001b[0mID\u001b[0m\u001b[0;34m,\u001b[0m \u001b[0mvalue\u001b[0m\u001b[0;34m:\u001b[0m \u001b[0mOptional\u001b[0m\u001b[0;34m[\u001b[0m\u001b[0mstr\u001b[0m\u001b[0;34m]\u001b[0m \u001b[0;34m=\u001b[0m \u001b[0;32mNone\u001b[0m\u001b[0;34m)\u001b[0m \u001b[0;34m->\u001b[0m \u001b[0mList\u001b[0m\u001b[0;34m[\u001b[0m\u001b[0mWebElement\u001b[0m\u001b[0;34m]\u001b[0m\u001b[0;34m:\u001b[0m\u001b[0;34m\u001b[0m\u001b[0;34m\u001b[0m\u001b[0m\n",
            "\u001b[0;32m/usr/local/lib/python3.10/dist-packages/selenium/webdriver/remote/webdriver.py\u001b[0m in \u001b[0;36mexecute\u001b[0;34m(self, driver_command, params)\u001b[0m\n\u001b[1;32m    345\u001b[0m         \u001b[0mresponse\u001b[0m \u001b[0;34m=\u001b[0m \u001b[0mself\u001b[0m\u001b[0;34m.\u001b[0m\u001b[0mcommand_executor\u001b[0m\u001b[0;34m.\u001b[0m\u001b[0mexecute\u001b[0m\u001b[0;34m(\u001b[0m\u001b[0mdriver_command\u001b[0m\u001b[0;34m,\u001b[0m \u001b[0mparams\u001b[0m\u001b[0;34m)\u001b[0m\u001b[0;34m\u001b[0m\u001b[0;34m\u001b[0m\u001b[0m\n\u001b[1;32m    346\u001b[0m         \u001b[0;32mif\u001b[0m \u001b[0mresponse\u001b[0m\u001b[0;34m:\u001b[0m\u001b[0;34m\u001b[0m\u001b[0;34m\u001b[0m\u001b[0m\n\u001b[0;32m--> 347\u001b[0;31m             \u001b[0mself\u001b[0m\u001b[0;34m.\u001b[0m\u001b[0merror_handler\u001b[0m\u001b[0;34m.\u001b[0m\u001b[0mcheck_response\u001b[0m\u001b[0;34m(\u001b[0m\u001b[0mresponse\u001b[0m\u001b[0;34m)\u001b[0m\u001b[0;34m\u001b[0m\u001b[0;34m\u001b[0m\u001b[0m\n\u001b[0m\u001b[1;32m    348\u001b[0m             \u001b[0mresponse\u001b[0m\u001b[0;34m[\u001b[0m\u001b[0;34m\"value\"\u001b[0m\u001b[0;34m]\u001b[0m \u001b[0;34m=\u001b[0m \u001b[0mself\u001b[0m\u001b[0;34m.\u001b[0m\u001b[0m_unwrap_value\u001b[0m\u001b[0;34m(\u001b[0m\u001b[0mresponse\u001b[0m\u001b[0;34m.\u001b[0m\u001b[0mget\u001b[0m\u001b[0;34m(\u001b[0m\u001b[0;34m\"value\"\u001b[0m\u001b[0;34m,\u001b[0m \u001b[0;32mNone\u001b[0m\u001b[0;34m)\u001b[0m\u001b[0;34m)\u001b[0m\u001b[0;34m\u001b[0m\u001b[0;34m\u001b[0m\u001b[0m\n\u001b[1;32m    349\u001b[0m             \u001b[0;32mreturn\u001b[0m \u001b[0mresponse\u001b[0m\u001b[0;34m\u001b[0m\u001b[0;34m\u001b[0m\u001b[0m\n",
            "\u001b[0;32m/usr/local/lib/python3.10/dist-packages/selenium/webdriver/remote/errorhandler.py\u001b[0m in \u001b[0;36mcheck_response\u001b[0;34m(self, response)\u001b[0m\n\u001b[1;32m    227\u001b[0m                 \u001b[0malert_text\u001b[0m \u001b[0;34m=\u001b[0m \u001b[0mvalue\u001b[0m\u001b[0;34m[\u001b[0m\u001b[0;34m\"alert\"\u001b[0m\u001b[0;34m]\u001b[0m\u001b[0;34m.\u001b[0m\u001b[0mget\u001b[0m\u001b[0;34m(\u001b[0m\u001b[0;34m\"text\"\u001b[0m\u001b[0;34m)\u001b[0m\u001b[0;34m\u001b[0m\u001b[0;34m\u001b[0m\u001b[0m\n\u001b[1;32m    228\u001b[0m             \u001b[0;32mraise\u001b[0m \u001b[0mexception_class\u001b[0m\u001b[0;34m(\u001b[0m\u001b[0mmessage\u001b[0m\u001b[0;34m,\u001b[0m \u001b[0mscreen\u001b[0m\u001b[0;34m,\u001b[0m \u001b[0mstacktrace\u001b[0m\u001b[0;34m,\u001b[0m \u001b[0malert_text\u001b[0m\u001b[0;34m)\u001b[0m  \u001b[0;31m# type: ignore[call-arg]  # mypy is not smart enough here\u001b[0m\u001b[0;34m\u001b[0m\u001b[0;34m\u001b[0m\u001b[0m\n\u001b[0;32m--> 229\u001b[0;31m         \u001b[0;32mraise\u001b[0m \u001b[0mexception_class\u001b[0m\u001b[0;34m(\u001b[0m\u001b[0mmessage\u001b[0m\u001b[0;34m,\u001b[0m \u001b[0mscreen\u001b[0m\u001b[0;34m,\u001b[0m \u001b[0mstacktrace\u001b[0m\u001b[0;34m)\u001b[0m\u001b[0;34m\u001b[0m\u001b[0;34m\u001b[0m\u001b[0m\n\u001b[0m",
            "\u001b[0;31mNoSuchElementException\u001b[0m: Message: no such element: Unable to locate element: {\"method\":\"xpath\",\"selector\":\"//input[@placeholder='Full name']\"}\n  (Session info: chrome-headless-shell=124.0.6367.91); For documentation on this error, please visit: https://www.selenium.dev/documentation/webdriver/troubleshooting/errors#no-such-element-exception\nStacktrace:\n#0 0x5b07d7217cb3 <unknown>\n#1 0x5b07d6f064a7 <unknown>\n#2 0x5b07d6f5131d <unknown>\n#3 0x5b07d6f513d1 <unknown>\n#4 0x5b07d6f94734 <unknown>\n#5 0x5b07d6f7343d <unknown>\n#6 0x5b07d6f91be9 <unknown>\n#7 0x5b07d6f731b3 <unknown>\n#8 0x5b07d6f4424a <unknown>\n#9 0x5b07d6f44c1e <unknown>\n#10 0x5b07d71dbfdb <unknown>\n#11 0x5b07d71dff2b <unknown>\n#12 0x5b07d71c80f1 <unknown>\n#13 0x5b07d71e0a92 <unknown>\n#14 0x5b07d71acfaf <unknown>\n#15 0x5b07d7206e08 <unknown>\n#16 0x5b07d7206fe0 <unknown>\n#17 0x5b07d7216e04 <unknown>\n#18 0x7b882c8d0ac3 <unknown>\n"
          ]
        }
      ]
    },
    {
      "cell_type": "code",
      "source": [],
      "metadata": {
        "id": "6_3l6QiDB35j"
      },
      "execution_count": null,
      "outputs": []
    }
  ]
}
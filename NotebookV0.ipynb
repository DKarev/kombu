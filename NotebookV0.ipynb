{
  "nbformat": 4,
  "nbformat_minor": 0,
  "metadata": {
    "colab": {
      "provenance": [],
      "authorship_tag": "ABX9TyPgGVwUYFjnuJ6YY+lDYRNf",
      "include_colab_link": true
    },
    "kernelspec": {
      "name": "python3",
      "display_name": "Python 3"
    },
    "language_info": {
      "name": "python"
    }
  },
  "cells": [
    {
      "cell_type": "markdown",
      "metadata": {
        "id": "view-in-github",
        "colab_type": "text"
      },
      "source": [
        "<a href=\"https://colab.research.google.com/github/DKarev/kombu/blob/main/NotebookV0.ipynb\" target=\"_parent\"><img src=\"https://colab.research.google.com/assets/colab-badge.svg\" alt=\"Open In Colab\"/></a>"
      ]
    },
    {
      "cell_type": "code",
      "execution_count": null,
      "metadata": {
        "id": "pZdFjytYg9nz",
        "colab": {
          "base_uri": "https://localhost:8080/"
        },
        "outputId": "5e01d22d-45cc-472c-e8b1-e8598f5cf400"
      },
      "outputs": [
        {
          "output_type": "stream",
          "name": "stdout",
          "text": [
            "🐛 debug:\n",
            "[GET] /\n",
            "-> Middleware context - 0.124584 ms\n",
            "-> Middleware detectCurrentCart - 6.373959 ms\n",
            "-> Middleware auth - 0.001625 ms\n",
            "-> Middleware meta - 16.175792 ms\n",
            "-> Middleware bodyParser - 0.030917 ms\n",
            "-> Middleware addCustomerToCart - 0.001459 ms\n",
            "-> Middleware buildQuery - 44.285208 ms\n",
            "-> Middleware graphql - 66.717459 ms\n",
            "-> Middleware notification - 0.001875 ms\n",
            "-> Middleware notFound - 0.001791 ms\n",
            "-> Middleware response\n",
            "\n",
            "🐛 debug:\n",
            "[GET] /homepage.js\n",
            "\n",
            "99% done plugins webpack-hot-middlewarewebpack built productView 149be3e9c1a9fae16228 in 612ms\n",
            "🐛 debug:\n",
            "[GET] /product/a75546e4-0e24-4679-85c1-6dc4a94aca44\n",
            "-> Middleware context - 0.112333 ms\n",
            "-> Middleware detectCurrentCart - 21.6865 ms\n",
            "-> Middleware auth - 0.002542 ms\n",
            "-> Middleware index - 3.699167 ms\n",
            "-> Middleware bodyParser - 0.036417 ms\n",
            "-> Middleware addCustomerToCart - 0.001291 ms\n",
            "-> Middleware buildQuery - 52.55225 ms\n",
            "-> Middleware graphql - 68.05325 ms\n",
            "-> Middleware notification - 0.001459 ms\n",
            "-> Middleware notFound - 0.001292 ms\n",
            "-> Middleware response\n",
            "\n",
            "🐛 debug:\n",
            "[GET] /productView.js\n",
            "\n",
            "🐛 debug:\n",
            "[GET] /\n",
            "-> Middleware context - 0.112916 ms\n",
            "-> Middleware detectCurrentCart - 0.528125 ms\n",
            "-> Middleware auth - 0.001541 ms\n",
            "-> Middleware meta - 0.023958 ms\n",
            "-> Middleware bodyParser - 0.023459 ms\n",
            "-> Middleware addCustomerToCart - 0.001875 ms\n",
            "-> Middleware buildQuery - 48.03925 ms\n",
            "-> Middleware graphql - 14.358167 ms\n",
            "-> Middleware notification - 0.001209 ms\n",
            "-> Middleware notFound - 0.005667 ms\n",
            "-> Middleware response\n",
            "\n",
            "🐛 debug:\n",
            "[GET] /homepage.js\n",
            "\n",
            "🐛 debug:\n",
            "[GET] /denim-skinny-jeans\n",
            "-> Middleware context - 0.20925 ms\n",
            "-> Middleware detectCurrentCart - 0.478334 ms\n",
            "-> Middleware auth - 0.003125 ms\n",
            "-> Middleware index - 1.098417 ms\n",
            "-> Middleware bodyParser - 0.066625 ms\n",
            "-> Middleware addCustomerToCart - 0.008208 ms\n",
            "-> Middleware buildQuery - 83.2745 ms\n",
            "-> Middleware graphql - 66.95575 ms\n",
            "-> Middleware notification - 0.002667 ms\n",
            "-> Middleware notFound - 0.001542 ms\n",
            "-> Middleware response\n",
            "\n",
            "🐛 debug:\n",
            "[GET] /productView.js\n",
            "\n",
            "99% done plugins webpack-hot-middlewarewebpack built categoryView 6cd6e8827cfeb5870ea8 in 752ms\n",
            "🐛 debug:\n",
            "[GET] /kids\n",
            "-> Middleware context - 0.092333 ms\n",
            "-> Middleware detectCurrentCart - 33.412875 ms\n",
            "-> Middleware auth - 0.002167 ms\n",
            "-> Middleware index - 3.312292 ms\n",
            "-> Middleware filters - 1.328708 ms\n",
            "-> Middleware bodyParser - 0.034291 ms\n",
            "-> Middleware addCustomerToCart - 0.004333 ms\n",
            "-> Middleware buildQuery - 76.919417 ms\n",
            "-> Middleware graphql - 39.57825 ms\n",
            "-> Middleware notification - 0.001333 ms\n",
            "-> Middleware notFound - 0.001 ms\n",
            "-> Middleware response\n",
            "\n",
            "(node:65786) MaxListenersExceededWarning: Possible EventEmitter memory leak detected. 11 uncaughtException listeners added to [process]. Use emitter.setMaxListeners() to increase limit\n",
            "🐛 debug:\n",
            "[GET] /categoryView.js\n",
            "\n",
            "🐛 debug:\n",
            "[GET] /men\n",
            "-> Middleware context - 0.273625 ms\n",
            "-> Middleware detectCurrentCart - 0.77375 ms\n",
            "-> Middleware auth - 0.003667 ms\n",
            "-> Middleware index - 0.660084 ms\n",
            "-> Middleware filters - 0.358 ms\n",
            "-> Middleware bodyParser - 0.045583 ms\n",
            "-> Middleware addCustomerToCart - 0.004458 ms\n",
            "-> Middleware buildQuery - 64.942459 ms\n",
            "-> Middleware graphql - 10.187875 ms\n",
            "-> Middleware notification - 0.001125 ms\n",
            "-> Middleware notFound - 0.001 ms\n",
            "-> Middleware response\n",
            "\n",
            "🐛 debug:\n",
            "[GET] /categoryView.js\n",
            "\n",
            "🐛 debug:\n",
            "[GET] /\n",
            "-> Middleware context - 0.169416 ms\n",
            "-> Middleware detectCurrentCart - 1.715334 ms\n",
            "-> Middleware auth - 0.005125 ms\n",
            "-> Middleware meta - 0.074833 ms\n",
            "-> Middleware bodyParser - 0.077667 ms\n",
            "-> Middleware addCustomerToCart - 0.006667 ms\n",
            "-> Middleware buildQuery - 78.70825 ms\n",
            "-> Middleware graphql - 25.341417 ms\n",
            "-> Middleware notification - 0.001125 ms\n",
            "-> Middleware notFound - 0.001 ms\n",
            "-> Middleware response\n",
            "\n",
            "🐛 debug:\n",
            "[GET] /homepage.js\n",
            "\n",
            "🐛 debug:\n",
            "[GET] /\n",
            "-> Middleware context - 0.433459 ms\n",
            "-> Middleware detectCurrentCart - 0.649208 ms\n",
            "-> Middleware auth - 0.002542 ms\n",
            "-> Middleware meta - 0.041583 ms\n",
            "-> Middleware bodyParser - 0.053209 ms\n",
            "-> Middleware addCustomerToCart - 0.00425 ms\n",
            "-> Middleware buildQuery - 79.989292 ms\n",
            "-> Middleware graphql - 8.187625 ms\n",
            "-> Middleware notification - 0.001334 ms\n",
            "-> Middleware notFound - 0.001125 ms\n",
            "-> Middleware response\n",
            "\n",
            "🐛 debug:\n",
            "[GET] /homepage.js\n",
            "\n",
            "🐛 debug:\n",
            "[GET] /favicon.ico\n",
            "-> Middleware context - 0.062125 ms\n",
            "-> Middleware detectCurrentCart - 0.4215 ms\n",
            "-> Middleware auth - 0.001583 ms\n",
            "-> Middleware bodyParser - 0.023333 ms\n",
            "-> Middleware addCustomerToCart - 0.00175 ms\n",
            "-> Middleware buildQuery - 53.218084 ms\n",
            "-> Middleware graphql - 1.991916 ms\n",
            "-> Middleware notification - 0.000834 ms\n",
            "-> Middleware notFound - 0.003708 ms\n",
            "-> Middleware response\n",
            "\n",
            "🐛 debug:\n",
            "[GET] /striped-cotton-sweater\n",
            "-> Middleware context - 0.139042 ms\n",
            "-> Middleware detectCurrentCart - 0.5355 ms\n",
            "-> Middleware auth - 0.00225 ms\n",
            "-> Middleware index - 0.820292 ms\n",
            "-> Middleware bodyParser - 0.043 ms\n",
            "-> Middleware addCustomerToCart - 0.003959 ms\n",
            "-> Middleware buildQuery - 82.504583 ms\n",
            "-> Middleware graphql - 58.41125 ms\n",
            "-> Middleware notification - 0.00175 ms\n",
            "-> Middleware notFound - 0.000833 ms\n",
            "-> Middleware response\n",
            "\n",
            "🐛 debug:\n",
            "[GET] /productView.js\n",
            "\n",
            "🐛 debug:\n",
            "[POST] /api/cart/mine/items\n",
            "-> Middleware context - 0.295125 ms\n",
            "-> Middleware getCurrentUser - 4.33825 ms\n",
            "-> Middleware demoAccountBlocking - 0.094 ms\n",
            "-> Middleware bodyParser - 9.612209 ms\n",
            "-> Middleware getCurrentCustomer - 3.796459 ms\n",
            "-> Middleware auth - 0.05 ms\n",
            "-> Middleware payloadValidate - 1.40625 ms\n",
            "-> Middleware escapeHtml - 0.139833 ms\n",
            "-> Middleware detectCurrentCart - 3.173667 ms\n",
            "-> Middleware addItemToCart - 38.0005 ms\n",
            "-> Middleware apiResponse\n",
            "\n",
            "🐛 debug:\n",
            "[GET] /_next/webpack-hmr\n",
            "-> Middleware context - 0.189541 ms\n",
            "-> Middleware detectCurrentCart - 0.702042 ms\n",
            "-> Middleware auth - 0.004833 ms\n",
            "-> Middleware bodyParser - 0.040209 ms\n",
            "-> Middleware addCustomerToCart - 0.004625 ms\n",
            "-> Middleware buildQuery - 75.554875 ms\n",
            "-> Middleware graphql - 18.130083 ms\n",
            "-> Middleware notification - 0.001167 ms\n",
            "-> Middleware notFound - 0.006334 ms\n",
            "-> Middleware response\n",
            "\n",
            "99% done plugins webpack-hot-middlewarewebpack built cart a2fb415c243abed08390 in 586ms\n",
            "🐛 debug:\n",
            "[GET] /cart\n",
            "-> Middleware context - 0.089 ms\n",
            "-> Middleware detectCurrentCart - 3.923958 ms\n",
            "-> Middleware auth - 0.002417 ms\n",
            "-> Middleware index - 0.023542 ms\n",
            "-> Middleware bodyParser - 0.02425 ms\n",
            "-> Middleware addCustomerToCart - 0.002291 ms\n",
            "-> Middleware buildQuery - 53.6085 ms\n",
            "-> Middleware graphql - 80.548917 ms\n",
            "-> Middleware notification - 0.001292 ms\n",
            "-> Middleware notFound - 0.000875 ms\n",
            "-> Middleware response\n",
            "\n",
            "🐛 debug:\n",
            "[GET] /cart.js\n",
            "\n",
            "🐛 debug:\n",
            "[GET] /_next/webpack-hmr\n",
            "-> Middleware context - 0.167959 ms\n",
            "-> Middleware detectCurrentCart - 0.741 ms\n",
            "-> Middleware auth - 0.002125 ms\n",
            "-> Middleware bodyParser - 0.027417 ms\n",
            "-> Middleware addCustomerToCart - 0.002166 ms\n",
            "-> Middleware buildQuery - 45.663541 ms\n",
            "-> Middleware graphql - 7.292416 ms\n",
            "-> Middleware notification - 0.000833 ms\n",
            "-> Middleware notFound - 0.003708 ms\n",
            "-> Middleware response\n",
            "\n",
            "99% done plugins webpack-hot-middlewarewebpack built checkout 643d41df58e97b989ee8 in 808ms\n",
            "🐛 debug:\n",
            "[GET] /checkout\n",
            "-> Middleware context - 0.067958 ms\n",
            "-> Middleware detectCurrentCart - 19.051041 ms\n",
            "-> Middleware auth - 0.003083 ms\n",
            "-> Middleware index - 11.503708 ms\n",
            "-> Middleware bodyParser - 0.027625 ms\n",
            "-> Middleware addCustomerToCart - 0.002166 ms\n",
            "-> Middleware buildQuery - 59.868583 ms\n",
            "-> Middleware graphql - 59.354625 ms\n",
            "-> Middleware notification - 0.001417 ms\n",
            "-> Middleware notFound - 0.000916 ms\n",
            "-> Middleware response\n",
            "\n",
            "🐛 debug:\n",
            "[GET] /checkout.js\n",
            "\n",
            "🐛 debug:\n",
            "[GET] /checkout?ajax=true\n",
            "-> Middleware context - 0.076375 ms\n",
            "-> Middleware detectCurrentCart - 5.701584 ms\n",
            "-> Middleware auth - 0.007666 ms\n",
            "-> Middleware index - 7.240459 ms\n",
            "-> Middleware bodyParser - 0.032291 ms\n",
            "-> Middleware addCustomerToCart - 0.0025 ms\n",
            "-> Middleware buildQuery - 62.945166 ms\n",
            "-> Middleware graphql - 12.415708 ms\n",
            "-> Middleware notification - 0.001834 ms\n",
            "-> Middleware notFound - 0.000917 ms\n",
            "-> Middleware response\n",
            "\n",
            "🐛 debug:\n",
            "[GET] /api/paymentMethods\n",
            "-> Middleware context - 0.048959 ms\n",
            "-> Middleware getCurrentUser - 0.512333 ms\n",
            "-> Middleware demoAccountBlocking - 0.002541 ms\n",
            "-> Middleware getCurrentCustomer - 1.26875 ms\n",
            "-> Middleware auth - 0.002542 ms\n",
            "-> Middleware payloadValidate - 0.005583 ms\n",
            "-> Middleware escapeHtml - 0.001 ms\n",
            "-> Middleware registerCod - 0.046708 ms\n",
            "-> Middleware registerPaypal - 0.044292 ms\n",
            "-> Middleware registerStripe - 0.029125 ms\n",
            "-> Middleware sendMethods\n",
            "\n",
            "🐛 debug:\n",
            "[GET] /checkout?ajax=true\n",
            "-> Middleware context - 0.053917 ms\n",
            "-> Middleware detectCurrentCart - 0.318542 ms\n",
            "-> Middleware auth - 0.001459 ms\n",
            "-> Middleware index - 1.579875 ms\n",
            "-> Middleware bodyParser - 0.02425 ms\n",
            "-> Middleware addCustomerToCart - 0.001916 ms\n",
            "-> Middleware buildQuery - 61.724708 ms\n",
            "-> Middleware graphql - 5.46675 ms\n",
            "-> Middleware notification - 0.000875 ms\n",
            "-> Middleware notFound - 0.000875 ms\n",
            "-> Middleware response\n",
            "\n",
            "(node:65786) MaxListenersExceededWarning: Possible EventEmitter memory leak detected. 31 unpipe listeners added to [Console]. Use emitter.setMaxListeners() to increase limit\n",
            "(node:65786) MaxListenersExceededWarning: Possible EventEmitter memory leak detected. 31 error listeners added to [Console]. Use emitter.setMaxListeners() to increase limit\n",
            "🐛 debug:\n",
            "[POST] /api/carts/c3f61bd4-b6fc-4657-8e31-fa9bf08a98c5/contacts\n",
            "-> Middleware context - 0.065042 ms\n",
            "-> Middleware getCurrentUser - 0.74025 ms\n",
            "-> Middleware demoAccountBlocking - 0.00275 ms\n",
            "-> Middleware bodyParser - 0.378959 ms\n",
            "-> Middleware getCurrentCustomer - 1.283792 ms\n",
            "-> Middleware auth - 0.002333 ms\n",
            "-> Middleware payloadValidate - 1.384417 ms\n",
            "-> Middleware escapeHtml - 0.012292 ms\n",
            "-> Middleware saveContactInfo - 14.286334 ms\n",
            "-> Middleware apiResponse\n",
            "\n",
            "(node:65786) MaxListenersExceededWarning: Possible EventEmitter memory leak detected. 31 drain listeners added to [Console]. Use emitter.setMaxListeners() to increase limit\n",
            "(node:65786) MaxListenersExceededWarning: Possible EventEmitter memory leak detected. 31 close listeners added to [Console]. Use emitter.setMaxListeners() to increase limit\n",
            "(node:65786) MaxListenersExceededWarning: Possible EventEmitter memory leak detected. 31 finish listeners added to [Console]. Use emitter.setMaxListeners() to increase limit\n",
            "🐛 debug:\n",
            "[GET] /checkout?ajax=true\n",
            "-> Middleware context - 0.088959 ms\n",
            "-> Middleware detectCurrentCart - 0.428333 ms\n",
            "-> Middleware auth - 0.003875 ms\n",
            "-> Middleware index - 2.172 ms\n",
            "-> Middleware bodyParser - 0.023042 ms\n",
            "-> Middleware addCustomerToCart - 0.002334 ms\n",
            "-> Middleware buildQuery - 68.527 ms\n",
            "-> Middleware graphql - 8.188708 ms\n",
            "-> Middleware notification - 0.000708 ms\n",
            "-> Middleware notFound - 0.000833 ms\n",
            "-> Middleware response\n",
            "\n",
            "🐛 debug:\n",
            "[POST] /api/graphql\n",
            "-> Middleware context - 0.050708 ms\n",
            "-> Middleware getCurrentUser - 0.462917 ms\n",
            "-> Middleware demoAccountBlocking - 0.0035 ms\n",
            "-> Middleware getCurrentCustomer - 1.550292 ms\n",
            "-> Middleware bodyParser - 0.15425 ms\n",
            "-> Middleware auth - 0.001833 ms\n",
            "-> Middleware payloadValidate - 0.000875 ms\n",
            "-> Middleware escapeHtml - 0.081166 ms\n",
            "-> Middleware removeUser - 0.0165 ms\n",
            "-> Middleware graphql\n",
            "\n",
            "🐛 debug:\n",
            "[GET] /api/shippingMethods/c3f61bd4-b6fc-4657-8e31-fa9bf08a98c5?country=null&province=\n",
            "-> Middleware context - 0.199208 ms\n",
            "-> Middleware getCurrentUser - 2.088375 ms\n",
            "-> Middleware demoAccountBlocking - 0.006291 ms\n",
            "-> Middleware getCurrentCustomer - 1.198458 ms\n",
            "-> Middleware auth - 0.00725 ms\n",
            "-> Middleware payloadValidate - 0.00475 ms\n",
            "-> Middleware escapeHtml - 0.002042 ms\n",
            "-> Middleware sendMethods\n",
            "\n",
            "🐛 debug:\n",
            "[GET] /api/shippingMethods/c3f61bd4-b6fc-4657-8e31-fa9bf08a98c5?country=null&province=\n",
            "-> Middleware context - 0.248042 ms\n",
            "-> Middleware getCurrentUser - 1.052166 ms\n",
            "-> Middleware demoAccountBlocking - 0.0135 ms\n",
            "-> Middleware getCurrentCustomer - 0.987334 ms\n",
            "-> Middleware auth - 0.003583 ms\n",
            "-> Middleware payloadValidate - 0.002167 ms\n",
            "-> Middleware escapeHtml - 0.001292 ms\n",
            "-> Middleware sendMethods\n",
            "\n",
            "🐛 debug:\n",
            "[GET] /api/shippingMethods/c3f61bd4-b6fc-4657-8e31-fa9bf08a98c5?country=null&province=\n",
            "-> Middleware context - 0.078709 ms\n",
            "-> Middleware getCurrentUser - 57.901417 ms\n",
            "-> Middleware demoAccountBlocking - 0.0035 ms\n",
            "-> Middleware getCurrentCustomer - 1.218875 ms\n",
            "-> Middleware auth - 0.002208 ms\n",
            "-> Middleware payloadValidate - 0.00075 ms\n",
            "-> Middleware escapeHtml - 0.000584 ms\n",
            "-> Middleware sendMethods\n",
            "\n",
            "🐛 debug:\n",
            "[GET] /_next/webpack-hmr\n",
            "-> Middleware context - 0.176959 ms\n",
            "-> Middleware detectCurrentCart - 0.795625 ms\n",
            "-> Middleware auth - 0.005 ms\n",
            "-> Middleware bodyParser - 0.048791 ms\n",
            "-> Middleware addCustomerToCart - 0.011083 ms\n",
            "-> Middleware buildQuery - 69.75675 ms\n",
            "-> Middleware graphql - 10.19675 ms\n",
            "-> Middleware notification - 0.001458 ms\n",
            "-> Middleware notFound - 0.004583 ms\n",
            "-> Middleware response\n",
            "\n",
            "🐛 debug:\n",
            "[GET] /_next/webpack-hmr\n",
            "-> Middleware context - 0.162167 ms\n",
            "-> Middleware detectCurrentCart - 0.781208 ms\n",
            "-> Middleware auth - 0.009875 ms\n",
            "-> Middleware bodyParser - 0.105125 ms\n",
            "-> Middleware addCustomerToCart - 0.008833 ms\n",
            "-> Middleware buildQuery - 171.2575 ms\n",
            "-> Middleware graphql - 33.060083 ms\n",
            "-> Middleware notification - 0.001416 ms\n",
            "-> Middleware notFound - 0.0045 ms\n",
            "-> Middleware response\n",
            "\n",
            "🐛 debug:\n",
            "[GET] /_next/webpack-hmr\n",
            "-> Middleware context - 0.168792 ms\n",
            "-> Middleware detectCurrentCart - 0.617916 ms\n",
            "-> Middleware auth - 0.006125 ms\n",
            "-> Middleware bodyParser - 0.0535 ms\n",
            "-> Middleware addCustomerToCart - 0.00425 ms\n",
            "-> Middleware buildQuery - 81.581459 ms\n",
            "-> Middleware graphql - 32.428792 ms\n",
            "-> Middleware notification - 0.002375 ms\n",
            "-> Middleware notFound - 0.00525 ms\n",
            "-> Middleware response\n",
            "\n",
            "🐛 debug:\n",
            "[GET] /\n",
            "-> Middleware context - 0.098375 ms\n",
            "-> Middleware detectCurrentCart - 0.55275 ms\n",
            "-> Middleware auth - 0.007166 ms\n",
            "-> Middleware meta - 0.024041 ms\n",
            "-> Middleware bodyParser - 0.059417 ms\n",
            "-> Middleware addCustomerToCart - 0.002958 ms\n",
            "-> Middleware buildQuery - 50.903334 ms\n",
            "-> Middleware graphql - 16.175167 ms\n",
            "-> Middleware notification - 0.003042 ms\n",
            "-> Middleware notFound - 0.001583 ms\n",
            "-> Middleware response\n",
            "\n",
            "🐛 debug:\n",
            "[GET] /homepage.js\n",
            "\n",
            "🐛 debug:\n",
            "[GET] /_next/webpack-hmr\n",
            "-> Middleware context - 0.190708 ms\n",
            "-> Middleware detectCurrentCart - 0.76175 ms\n",
            "-> Middleware auth - 0.005334 ms\n",
            "-> Middleware bodyParser - 0.058333 ms\n",
            "-> Middleware addCustomerToCart - 0.004834 ms\n",
            "-> Middleware buildQuery - 57.761791 ms\n",
            "-> Middleware graphql - 11.116709 ms\n",
            "-> Middleware notification - 0.005584 ms\n",
            "-> Middleware notFound - 0.009167 ms\n",
            "-> Middleware response\n",
            "\n",
            "🐛 debug:\n",
            "[GET] /striped-cotton-sweater\n",
            "-> Middleware context - 0.1785 ms\n",
            "-> Middleware detectCurrentCart - 0.744208 ms\n",
            "-> Middleware auth - 0.004542 ms\n",
            "-> Middleware index - 0.759541 ms\n",
            "-> Middleware bodyParser - 0.041583 ms\n",
            "-> Middleware addCustomerToCart - 0.004542 ms\n",
            "-> Middleware buildQuery - 85.386917 ms\n",
            "-> Middleware graphql - 69.684958 ms\n",
            "-> Middleware notification - 0.001083 ms\n",
            "-> Middleware notFound - 0.000875 ms\n",
            "-> Middleware response\n",
            "\n",
            "🐛 debug:\n",
            "[GET] /productView.js\n",
            "\n",
            "🐛 debug:\n",
            "[POST] /api/cart/mine/items\n",
            "-> Middleware context - 0.181333 ms\n",
            "-> Middleware getCurrentUser - 5.333125 ms\n",
            "-> Middleware demoAccountBlocking - 0.064916 ms\n",
            "-> Middleware bodyParser - 1.173875 ms\n",
            "-> Middleware getCurrentCustomer - 16.974458 ms\n",
            "-> Middleware auth - 0.008375 ms\n",
            "-> Middleware payloadValidate - 0.32 ms\n",
            "-> Middleware escapeHtml - 0.111583 ms\n",
            "-> Middleware detectCurrentCart - 7.972416 ms\n",
            "-> Middleware addItemToCart - 23.084833 ms\n",
            "-> Middleware apiResponse\n",
            "\n",
            "🐛 debug:\n",
            "[GET] /_next/webpack-hmr\n",
            "-> Middleware context - 0.2455 ms\n",
            "-> Middleware detectCurrentCart - 2.037375 ms\n",
            "-> Middleware auth - 0.010708 ms\n",
            "-> Middleware bodyParser - 0.982375 ms\n",
            "-> Middleware addCustomerToCart - 0.010417 ms\n",
            "-> Middleware buildQuery - 95.84075 ms\n",
            "-> Middleware graphql - 11.778084 ms\n",
            "-> Middleware notification - 0.001292 ms\n",
            "-> Middleware notFound - 0.005083 ms\n",
            "-> Middleware response\n",
            "\n",
            "🐛 debug:\n",
            "[GET] /\n",
            "-> Middleware context - 0.243458 ms\n",
            "-> Middleware detectCurrentCart - 0.956083 ms\n",
            "-> Middleware auth - 0.005375 ms\n",
            "-> Middleware meta - 0.038834 ms\n",
            "-> Middleware bodyParser - 0.055375 ms\n",
            "-> Middleware addCustomerToCart - 0.004625 ms\n",
            "-> Middleware buildQuery - 83.809583 ms\n",
            "-> Middleware graphql - 39.464459 ms\n",
            "-> Middleware notification - 0.001042 ms\n",
            "-> Middleware notFound - 0.000917 ms\n",
            "-> Middleware response\n",
            "\n",
            "🐛 debug:\n",
            "[GET] /homepage.js\n",
            "\n",
            "🐛 debug:\n",
            "[GET] /_next/webpack-hmr\n",
            "-> Middleware context - 0.200666 ms\n",
            "-> Middleware detectCurrentCart - 0.669 ms\n",
            "-> Middleware auth - 0.007041 ms\n",
            "-> Middleware bodyParser - 0.05875 ms\n",
            "-> Middleware addCustomerToCart - 0.006291 ms\n",
            "-> Middleware buildQuery - 68.007458 ms\n",
            "-> Middleware graphql - 10.695959 ms\n",
            "-> Middleware notification - 0.001458 ms\n",
            "-> Middleware notFound - 0.00575 ms\n",
            "-> Middleware response\n",
            "\n",
            "🐛 debug:\n",
            "[GET] /_next/webpack-hmr\n",
            "-> Middleware context - 0.20025 ms\n",
            "-> Middleware detectCurrentCart - 0.480042 ms\n",
            "-> Middleware auth - 0.004875 ms\n",
            "-> Middleware bodyParser - 0.050709 ms\n",
            "-> Middleware addCustomerToCart - 0.004958 ms\n",
            "-> Middleware buildQuery - 77.530125 ms\n",
            "-> Middleware graphql - 43.285458 ms\n",
            "-> Middleware notification - 0.007375 ms\n",
            "-> Middleware notFound - 0.024667 ms\n",
            "-> Middleware response\n",
            "\n",
            "^C\n",
            "mustafabal@macbook-pro evershop-pearx-hackathon %\n",
            "mustafabal@macbook-pro evershop-pearx-hackathon %\n",
            "mustafabal@macbook-pro evershop-pearx-hackathon %\n",
            "mustafabal@macbook-pro evershop-pearx-hackathon %\n",
            "mustafabal@macbook-pro evershop-pearx-hackathon % clear\n",
            "mustafabal@macbook-pro evershop-pearx-hackathon % npm run dev\n",
            "\n",
            "> evershop@1.0.0-beta dev\n",
            "> evershop dev\n",
            "\n",
            "WARNING: No configurations found in configuration directory:/Users/mustafabal/Dev/evershop-pearx-hackathon/config\n",
            "WARNING: To disable this warning set SUPPRESS_NO_CONFIG_WARNING in the environment.\n",
            "(node:66063) [DEP0044] DeprecationWarning: The `util.isArray` API is deprecated. Please use `Array.isArray()` instead.\n",
            "(Use `node --trace-deprecation ...` to show where the warning was created)\n",
            "(node:66063) [DEP0055] DeprecationWarning: The `util.isRegExp` API is deprecated. Please use `arg instanceof RegExp` instead.\n",
            "(node:66063) [DEP0047] DeprecationWarning: The `util.isDate` API is deprecated.  Please use `arg instanceof Date` instead.\n",
            "ℹ️ info:\n",
            "\n",
            "   ┌─────────────────────── EverShop ───────────────────────┐\n",
            "   │                                                        │\n",
            "   │   Your website is running at \"http://localhost:3000\"   │\n",
            "   │                                                        │\n",
            "   └────────────────────────────────────────────────────────┘\n",
            "\n",
            "WARNING: No configurations found in configuration directory:/Users/mustafabal/Dev/evershop-pearx-hackathon/config\n",
            "WARNING: To disable this warning set SUPPRESS_NO_CONFIG_WARNING in the environment.\n",
            "(node:66082) [DEP0044] DeprecationWarning: The `util.isArray` API is deprecated. Please use `Array.isArray()` instead.\n",
            "(Use `node --trace-deprecation ...` to show where the warning was created)\n",
            "(node:66082) [DEP0055] DeprecationWarning: The `util.isRegExp` API is deprecated. Please use `arg instanceof RegExp` instead.\n",
            "(node:66082) [DEP0047] DeprecationWarning: The `util.isDate` API is deprecated.  Please use `arg instanceof Date` instead.\n",
            "99% done plugins webpack-hot-middlewarewebpack built adminNotFound 072b3efe8bdbd6c7df3f in 1736ms\n",
            "99% done plugins webpack-hot-middlewarewebpack built notFound fe3d8d375e62e311e570 in 1896ms\n",
            "99% done plugins webpack-hot-middlewarewebpack built homepage 604e2edfd63e36e56ef2 in 581ms\n",
            "99% done plugins webpack-hot-middlewarewebpack built productView 149be3e9c1a9fae16228 in 549ms\n",
            "🐛 debug:\n",
            "[GET] /\n",
            "-> Middleware context - 0.252167 ms\n",
            "-> Middleware detectCurrentCart - 1.689875 ms\n",
            "-> Middleware auth - 0.002625 ms\n",
            "-> Middleware meta - 1.366625 ms\n",
            "-> Middleware bodyParser - 0.117583 ms\n",
            "-> Middleware addCustomerToCart - 0.002375 ms\n",
            "-> Middleware buildQuery - 43.91575 ms\n",
            "-> Middleware graphql - 31.655209 ms\n",
            "-> Middleware notification - 0.001416 ms\n",
            "-> Middleware notFound - 0.001084 ms\n",
            "-> Middleware response\n",
            "\n",
            "🐛 debug:\n",
            "[GET] /homepage.js\n",
            "\n",
            "🐛 debug:\n",
            "[GET] /striped-cotton-sweater\n",
            "-> Middleware context - 0.153041 ms\n",
            "-> Middleware detectCurrentCart - 0.674875 ms\n",
            "-> Middleware auth - 0.0055 ms\n",
            "-> Middleware index - 0.975875 ms\n",
            "-> Middleware bodyParser - 0.038291 ms\n",
            "-> Middleware addCustomerToCart - 0.007375 ms\n",
            "-> Middleware buildQuery - 82.124208 ms\n",
            "-> Middleware graphql - 60.070625 ms\n",
            "-> Middleware notification - 0.001584 ms\n",
            "-> Middleware notFound - 0.003333 ms\n",
            "-> Middleware response\n",
            "\n",
            "🐛 debug:\n",
            "[GET] /productView.js\n",
            "\n",
            "🐛 debug:\n",
            "[POST] /api/cart/mine/items\n",
            "-> Middleware context - 0.311875 ms\n",
            "-> Middleware getCurrentUser - 2.680292 ms\n",
            "-> Middleware demoAccountBlocking - 0.098 ms\n",
            "-> Middleware bodyParser - 12.1385 ms\n",
            "-> Middleware getCurrentCustomer - 11.994584 ms\n",
            "-> Middleware auth - 0.046583 ms\n",
            "-> Middleware payloadValidate - 2.758208 ms\n",
            "-> Middleware escapeHtml - 0.076792 ms\n",
            "-> Middleware detectCurrentCart - 2.460166 ms\n",
            "-> Middleware addItemToCart - 23.394916 ms\n",
            "-> Middleware apiResponse\n",
            "\n",
            "🐛 debug:\n",
            "[GET] /\n",
            "-> Middleware context - 0.139458 ms\n",
            "-> Middleware detectCurrentCart - 7.655666 ms\n",
            "-> Middleware auth - 0.003541 ms\n",
            "-> Middleware meta - 0.032917 ms\n",
            "-> Middleware bodyParser - 0.037625 ms\n",
            "-> Middleware addCustomerToCart - 0.002208 ms\n",
            "-> Middleware buildQuery - 53.1005 ms\n",
            "-> Middleware graphql - 19.50575 ms\n",
            "-> Middleware notification - 0.001083 ms\n",
            "-> Middleware notFound - 0.004 ms\n",
            "-> Middleware response\n",
            "\n",
            "🐛 debug:\n",
            "[GET] /homepage.js\n",
            "\n",
            "🐛 debug:\n",
            "[GET] /denim-skinny-jeans\n",
            "-> Middleware context - 0.243584 ms\n",
            "-> Middleware detectCurrentCart - 1.90775 ms\n",
            "-> Middleware auth - 0.00475 ms\n",
            "-> Middleware index - 2.371625 ms\n",
            "-> Middleware bodyParser - 0.087459 ms\n",
            "-> Middleware addCustomerToCart - 0.006625 ms\n",
            "-> Middleware buildQuery - 71.924792 ms\n",
            "-> Middleware graphql - 9.823666 ms\n",
            "-> Middleware notification - 0.000792 ms\n",
            "-> Middleware notFound - 0.000917 ms\n",
            "-> Middleware response\n",
            "\n",
            "🐛 debug:\n",
            "[GET] /productView.js\n",
            "\n",
            "(node:66063) MaxListenersExceededWarning: Possible EventEmitter memory leak detected. 11 uncaughtException listeners added to [process]. Use emitter.setMaxListeners() to increase limit\n",
            "🐛 debug:\n",
            "[POST] /api/cart/mine/items\n",
            "-> Middleware context - 0.233333 ms\n",
            "-> Middleware getCurrentUser - 2.856125 ms\n",
            "-> Middleware demoAccountBlocking - 0.005708 ms\n",
            "-> Middleware bodyParser - 0.911625 ms\n",
            "-> Middleware getCurrentCustomer - 1.725625 ms\n",
            "-> Middleware auth - 0.004458 ms\n",
            "-> Middleware payloadValidate - 0.175667 ms\n",
            "-> Middleware escapeHtml - 0.030667 ms\n",
            "-> Middleware detectCurrentCart - 1.815792 ms\n",
            "-> Middleware addItemToCart - 29.979958 ms\n",
            "-> Middleware apiResponse\n",
            "\n",
            "🐛 debug:\n",
            "[GET] /\n",
            "-> Middleware context - 0.272666 ms\n",
            "-> Middleware detectCurrentCart - 0.831875 ms\n",
            "-> Middleware auth - 0.004334 ms\n",
            "-> Middleware meta - 0.055583 ms\n",
            "-> Middleware bodyParser - 0.054208 ms\n",
            "-> Middleware addCustomerToCart - 0.004708 ms\n",
            "-> Middleware buildQuery - 94.35425 ms\n",
            "-> Middleware graphql - 29.922667 ms\n",
            "-> Middleware notification - 0.00225 ms\n",
            "-> Middleware notFound - 0.00175 ms\n",
            "-> Middleware response\n",
            "\n",
            "🐛 debug:\n",
            "[GET] /homepage.js\n",
            "\n",
            "🐛 debug:\n",
            "[GET] /classic-leather-loafers\n",
            "-> Middleware context - 0.119458 ms\n",
            "-> Middleware detectCurrentCart - 0.49775 ms\n",
            "-> Middleware auth - 0.003083 ms\n",
            "-> Middleware index - 0.844792 ms\n",
            "-> Middleware bodyParser - 0.045291 ms\n",
            "-> Middleware addCustomerToCart - 0.003792 ms\n",
            "-> Middleware buildQuery - 103.996375 ms\n",
            "-> Middleware graphql - 58.551208 ms\n",
            "-> Middleware notification - 0.001667 ms\n",
            "-> Middleware notFound - 0.000834 ms\n",
            "-> Middleware response\n",
            "\n",
            "🐛 debug:\n",
            "[GET] /productView.js\n",
            "\n",
            "99% done plugins webpack-hot-middlewarewebpack built cart a2fb415c243abed08390 in 530ms\n",
            "🐛 debug:\n",
            "[GET] /cart\n",
            "-> Middleware context - 0.09175 ms\n",
            "-> Middleware detectCurrentCart - 21.255 ms\n",
            "-> Middleware auth - 0.003209 ms\n",
            "-> Middleware index - 0.038625 ms\n",
            "-> Middleware bodyParser - 0.0305 ms\n",
            "-> Middleware addCustomerToCart - 0.001958 ms\n",
            "-> Middleware buildQuery - 53.981417 ms\n",
            "-> Middleware graphql - 27.314334 ms\n",
            "-> Middleware notification - 0.001041 ms\n",
            "-> Middleware notFound - 0.000875 ms\n",
            "-> Middleware response\n",
            "\n",
            "🐛 debug:\n",
            "[GET] /cart.js\n",
            "\n",
            "99% done plugins webpack-hot-middlewarewebpack built checkout 643d41df58e97b989ee8 in 1552ms\n",
            "🐛 debug:\n",
            "[GET] /checkout\n",
            "-> Middleware context - 0.109167 ms\n",
            "-> Middleware detectCurrentCart - 15.4075 ms\n",
            "-> Middleware auth - 0.003625 ms\n",
            "-> Middleware index - 18.257292 ms\n",
            "-> Middleware bodyParser - 0.030459 ms\n",
            "-> Middleware addCustomerToCart - 0.0025 ms\n",
            "-> Middleware buildQuery - 61.671292 ms\n",
            "-> Middleware graphql - 98.656375 ms\n",
            "-> Middleware notification - 0.001291 ms\n",
            "-> Middleware notFound - 0.000875 ms\n",
            "-> Middleware response\n",
            "\n",
            "🐛 debug:\n",
            "[GET] /checkout.js\n",
            "\n",
            "🐛 debug:\n",
            "[GET] /checkout?ajax=true\n",
            "-> Middleware context - 0.226292 ms\n",
            "-> Middleware detectCurrentCart - 0.742042 ms\n",
            "-> Middleware auth - 0.003958 ms\n",
            "-> Middleware index - 2.325166 ms\n",
            "-> Middleware bodyParser - 0.044875 ms\n",
            "-> Middleware addCustomerToCart - 0.004 ms\n",
            "-> Middleware buildQuery - 92.558292 ms\n",
            "-> Middleware graphql - 16.449125 ms\n",
            "-> Middleware notification - 0.001208 ms\n",
            "-> Middleware notFound - 0.000917 ms\n",
            "-> Middleware response\n",
            "\n",
            "🐛 debug:\n",
            "[POST] /api/graphql\n",
            "-> Middleware context - 0.074875 ms\n",
            "-> Middleware getCurrentUser - 0.765916 ms\n",
            "-> Middleware demoAccountBlocking - 0.018958 ms\n",
            "-> Middleware getCurrentCustomer - 1.155833 ms\n",
            "-> Middleware bodyParser - 0.264417 ms\n",
            "-> Middleware auth - 0.002208 ms\n",
            "-> Middleware payloadValidate - 0.000791 ms\n",
            "-> Middleware escapeHtml - 0.133917 ms\n",
            "-> Middleware removeUser - 0.020584 ms\n",
            "-> Middleware graphql\n",
            "\n",
            "🐛 debug:\n",
            "[GET] /api/paymentMethods\n",
            "-> Middleware context - 0.15 ms\n",
            "-> Middleware getCurrentUser - 0.997584 ms\n",
            "-> Middleware demoAccountBlocking - 0.002583 ms\n",
            "-> Middleware getCurrentCustomer - 3.6905 ms\n",
            "-> Middleware auth - 0.018667 ms\n",
            "-> Middleware payloadValidate - 0.002291 ms\n",
            "-> Middleware escapeHtml - 0.001042 ms\n",
            "-> Middleware registerCod - 0.355166 ms\n",
            "-> Middleware registerPaypal - 0.144709 ms\n",
            "-> Middleware registerStripe - 0.040667 ms\n",
            "-> Middleware sendMethods\n",
            "\n",
            "🐛 debug:\n",
            "[GET] /checkout?ajax=true\n",
            "-> Middleware context - 0.071875 ms\n",
            "-> Middleware detectCurrentCart - 0.733833 ms\n",
            "-> Middleware auth - 0.0045 ms\n",
            "-> Middleware index - 2.385875 ms\n",
            "-> Middleware bodyParser - 0.110334 ms\n",
            "-> Middleware addCustomerToCart - 0.002208 ms\n",
            "-> Middleware buildQuery - 62.819666 ms\n",
            "-> Middleware graphql - 8.4555 ms\n",
            "-> Middleware notification - 0.001292 ms\n",
            "-> Middleware notFound - 0.000792 ms\n",
            "-> Middleware response\n",
            "\n"
          ]
        }
      ],
      "source": [
        "with open('sampleLogs.txt', 'r') as file:\n",
        "    content = file.read()\n",
        "    print(content)"
      ]
    },
    {
      "cell_type": "code",
      "source": [
        "output = \"\"\n",
        "splited = content.split(\"\\n\")"
      ],
      "metadata": {
        "id": "GdBEQU4-oBue"
      },
      "execution_count": null,
      "outputs": []
    },
    {
      "cell_type": "code",
      "source": [
        "import re\n"
      ],
      "metadata": {
        "id": "ZyVVFZlWprds"
      },
      "execution_count": null,
      "outputs": []
    },
    {
      "cell_type": "code",
      "source": [
        "output = \"\"\n",
        "pattern = r\"\\[GET\\]|\\[POST\\]\"\n",
        "for line in content.split(\"\\n\"):\n",
        "    if re.search(pattern, line):\n",
        "      if line[-3:] != '.js':\n",
        "        output += line + \"\\n\"\n",
        "      #else:\n",
        "      #  output += \"\\n\"\n",
        "print(output)"
      ],
      "metadata": {
        "colab": {
          "base_uri": "https://localhost:8080/"
        },
        "id": "owYA-Kg3piap",
        "outputId": "53347dd2-8f7b-4e71-f36d-f8b4482fc2fc"
      },
      "execution_count": null,
      "outputs": [
        {
          "output_type": "stream",
          "name": "stdout",
          "text": [
            "[GET] /\n",
            "[GET] /product/a75546e4-0e24-4679-85c1-6dc4a94aca44\n",
            "[GET] /\n",
            "[GET] /denim-skinny-jeans\n",
            "[GET] /kids\n",
            "[GET] /men\n",
            "[GET] /\n",
            "[GET] /\n",
            "[GET] /favicon.ico\n",
            "[GET] /striped-cotton-sweater\n",
            "[POST] /api/cart/mine/items\n",
            "[GET] /_next/webpack-hmr\n",
            "[GET] /cart\n",
            "[GET] /_next/webpack-hmr\n",
            "[GET] /checkout\n",
            "[GET] /checkout?ajax=true\n",
            "[GET] /api/paymentMethods\n",
            "[GET] /checkout?ajax=true\n",
            "[POST] /api/carts/c3f61bd4-b6fc-4657-8e31-fa9bf08a98c5/contacts\n",
            "[GET] /checkout?ajax=true\n",
            "[POST] /api/graphql\n",
            "[GET] /api/shippingMethods/c3f61bd4-b6fc-4657-8e31-fa9bf08a98c5?country=null&province=\n",
            "[GET] /api/shippingMethods/c3f61bd4-b6fc-4657-8e31-fa9bf08a98c5?country=null&province=\n",
            "[GET] /api/shippingMethods/c3f61bd4-b6fc-4657-8e31-fa9bf08a98c5?country=null&province=\n",
            "[GET] /_next/webpack-hmr\n",
            "[GET] /_next/webpack-hmr\n",
            "[GET] /_next/webpack-hmr\n",
            "[GET] /\n",
            "[GET] /_next/webpack-hmr\n",
            "[GET] /striped-cotton-sweater\n",
            "[POST] /api/cart/mine/items\n",
            "[GET] /_next/webpack-hmr\n",
            "[GET] /\n",
            "[GET] /_next/webpack-hmr\n",
            "[GET] /_next/webpack-hmr\n",
            "[GET] /\n",
            "[GET] /striped-cotton-sweater\n",
            "[POST] /api/cart/mine/items\n",
            "[GET] /\n",
            "[GET] /denim-skinny-jeans\n",
            "[POST] /api/cart/mine/items\n",
            "[GET] /\n",
            "[GET] /classic-leather-loafers\n",
            "[GET] /cart\n",
            "[GET] /checkout\n",
            "[GET] /checkout?ajax=true\n",
            "[POST] /api/graphql\n",
            "[GET] /api/paymentMethods\n",
            "[GET] /checkout?ajax=true\n",
            "\n"
          ]
        }
      ]
    },
    {
      "cell_type": "code",
      "source": [
        "from selenium.webdriver.common.by import By\n"
      ],
      "metadata": {
        "id": "lmXj6Z63Zy6v"
      },
      "execution_count": null,
      "outputs": []
    },
    {
      "cell_type": "code",
      "source": [
        "!pip install chromedriver-autoinstaller\n",
        "\n",
        "import sys\n",
        "sys.path.insert(0,'/usr/lib/chromium-browser/chromedriver')\n",
        "\n",
        "import time\n",
        "import pandas as pd\n",
        "from bs4 import BeautifulSoup\n",
        "from selenium import webdriver\n",
        "import chromedriver_autoinstaller\n",
        "\n",
        "# setup chrome options\n",
        "chrome_options = webdriver.ChromeOptions()\n",
        "chrome_options.add_argument('--headless') # ensure GUI is off\n",
        "chrome_options.add_argument('--no-sandbox')\n",
        "chrome_options.add_argument('--disable-dev-shm-usage')\n",
        "\n",
        "# set path to chromedriver as per your configuration\n",
        "chromedriver_autoinstaller.install()\n",
        "\n",
        "# set the target URL\n",
        "url = \"https://www.selenium.dev/selenium/web/web-form.html\""
      ],
      "metadata": {
        "colab": {
          "base_uri": "https://localhost:8080/"
        },
        "id": "VZaID-keuRuv",
        "outputId": "0225f584-6bca-4b58-8796-d69903213931"
      },
      "execution_count": 137,
      "outputs": [
        {
          "output_type": "stream",
          "name": "stdout",
          "text": [
            "Requirement already satisfied: chromedriver-autoinstaller in /usr/local/lib/python3.10/dist-packages (0.6.4)\n",
            "Requirement already satisfied: packaging>=23.1 in /usr/local/lib/python3.10/dist-packages (from chromedriver-autoinstaller) (24.0)\n"
          ]
        }
      ]
    },
    {
      "cell_type": "code",
      "source": [
        "# set up the webdriver\n",
        "driver = webdriver.Chrome(options=chrome_options)"
      ],
      "metadata": {
        "id": "dzcI3UTLZuhS"
      },
      "execution_count": 138,
      "outputs": []
    },
    {
      "cell_type": "code",
      "source": [
        "driver.get(\"https://demo.evershop.io/\")"
      ],
      "metadata": {
        "id": "gflrp2SxuikR"
      },
      "execution_count": 139,
      "outputs": []
    },
    {
      "cell_type": "code",
      "source": [
        "shopMen = driver.find_element(by=By.XPATH, value=\"//span[normalize-space()='Shop men']\")"
      ],
      "metadata": {
        "id": "xQIfScR-z5CW"
      },
      "execution_count": 140,
      "outputs": []
    },
    {
      "cell_type": "code",
      "source": [
        "shopMen.click()"
      ],
      "metadata": {
        "id": "7Ocbh6Ca5RGE"
      },
      "execution_count": 141,
      "outputs": []
    },
    {
      "cell_type": "code",
      "source": [
        "hackyShoes = driver.find_element(by=By.XPATH, value=\"//span[normalize-space()='Hacked fashion chuck taylor all star']\")"
      ],
      "metadata": {
        "id": "RvEdvEP_6pzJ"
      },
      "execution_count": 54,
      "outputs": []
    },
    {
      "cell_type": "code",
      "source": [
        "hackyShoes.click()"
      ],
      "metadata": {
        "id": "lyDQJOia7NKJ"
      },
      "execution_count": 55,
      "outputs": []
    },
    {
      "cell_type": "code",
      "source": [
        "sizeSelect = driver.find_element(by=By.XPATH, value=\"//a[normalize-space()='XL']\")\n",
        "colorSelect = driver.find_element(by=By.XPATH, value=\"//a[normalize-space()='Blue']\")"
      ],
      "metadata": {
        "id": "gMK3BY1g7PCJ"
      },
      "execution_count": 58,
      "outputs": []
    },
    {
      "cell_type": "code",
      "source": [
        "sizeSelect.click()\n",
        "colorSelect.click()"
      ],
      "metadata": {
        "id": "ci3j5Yx870pu"
      },
      "execution_count": 59,
      "outputs": []
    },
    {
      "cell_type": "code",
      "source": [
        "addToCart = driver.find_element(by=By.XPATH, value=\"//button[@type='button']\")"
      ],
      "metadata": {
        "id": "1FAyIXwZ70_B"
      },
      "execution_count": 60,
      "outputs": []
    },
    {
      "cell_type": "code",
      "source": [
        "addToCart.click()"
      ],
      "metadata": {
        "id": "9PSmRY9Q8Hpd"
      },
      "execution_count": 61,
      "outputs": []
    },
    {
      "cell_type": "code",
      "source": [
        "viewCart = driver.find_element(by=By.XPATH, value=\"//a[normalize-space()='VIEW CART (1)']\")"
      ],
      "metadata": {
        "id": "ELBzCwpz8Ln8"
      },
      "execution_count": 62,
      "outputs": []
    },
    {
      "cell_type": "code",
      "source": [
        "viewCart.click()"
      ],
      "metadata": {
        "id": "KFKIgv_g8YqG"
      },
      "execution_count": 63,
      "outputs": []
    },
    {
      "cell_type": "code",
      "source": [
        "checkOut = driver.find_element(by=By.XPATH, value=\"//span[normalize-space()='CHECKOUT']\")"
      ],
      "metadata": {
        "id": "fSQqQjGm8lFo"
      },
      "execution_count": 66,
      "outputs": []
    },
    {
      "cell_type": "code",
      "source": [
        "checkOut.click()"
      ],
      "metadata": {
        "id": "N8DxfV768ps4"
      },
      "execution_count": 67,
      "outputs": []
    },
    {
      "cell_type": "code",
      "source": [
        "emailBox = driver.find_element(by=By.XPATH, value=\"//input[@placeholder='Email']\")"
      ],
      "metadata": {
        "id": "VIzB10j18xLj"
      },
      "execution_count": 69,
      "outputs": []
    },
    {
      "cell_type": "code",
      "source": [
        "emailBox.send_keys(\"KombuTestEmail@PearHack.com\")"
      ],
      "metadata": {
        "id": "i10cWqxN82hB"
      },
      "execution_count": 70,
      "outputs": []
    },
    {
      "cell_type": "code",
      "source": [
        "continueToShipping = driver.find_element(by=By.XPATH, value=\"//span[normalize-space()='Continue to shipping']\")"
      ],
      "metadata": {
        "id": "3F3N8V6j9JPj"
      },
      "execution_count": 71,
      "outputs": []
    },
    {
      "cell_type": "code",
      "source": [
        "continueToShipping.click()"
      ],
      "metadata": {
        "id": "bbb34Be99dED"
      },
      "execution_count": 72,
      "outputs": []
    },
    {
      "cell_type": "code",
      "source": [
        "fullName = driver.find_element(by=By.XPATH, value=\"//input[@placeholder='Full name']\")\n",
        "phone = driver.find_element(by=By.XPATH, value=\"//input[@placeholder='Telephone']\")\n",
        "address = driver.find_element(by=By.XPATH, value=\"//input[@placeholder='Address']\")\n",
        "city = driver.find_element(by=By.XPATH, value=\"//input[@placeholder='City']\")\n",
        "country = driver.find_element(by=By.XPATH, value=\"//select[contains(@id,'address')]\")\n",
        "postcode = driver.find_element(by=By.XPATH, value=\"//input[@placeholder='Postcode']\")"
      ],
      "metadata": {
        "id": "5l-nvdD09oD-"
      },
      "execution_count": 75,
      "outputs": []
    },
    {
      "cell_type": "code",
      "source": [
        "fullName.send_keys(\"Dim Mustafa\")\n",
        "phone.send_keys(\"1234567890\")"
      ],
      "metadata": {
        "id": "VaQKDCKY-YkH"
      },
      "execution_count": 76,
      "outputs": []
    },
    {
      "cell_type": "code",
      "source": [
        "address.send_keys(\"1800 Owens St\")\n",
        "city.send_keys(\"San Francisco\")"
      ],
      "metadata": {
        "id": "5vSJ_3jY-mcm"
      },
      "execution_count": 77,
      "outputs": []
    },
    {
      "cell_type": "code",
      "source": [
        "postcode.send_keys(\"94107\")"
      ],
      "metadata": {
        "id": "R5hZTIJf-uIO"
      },
      "execution_count": 78,
      "outputs": []
    },
    {
      "cell_type": "code",
      "source": [
        "from selenium.webdriver.support.ui import Select\n"
      ],
      "metadata": {
        "id": "6Pnq33fQBMtg"
      },
      "execution_count": 80,
      "outputs": []
    },
    {
      "cell_type": "code",
      "source": [
        "select = Select(country)\n",
        "select.select_by_visible_text('United States')"
      ],
      "metadata": {
        "id": "8shrbPJHANkk"
      },
      "execution_count": 81,
      "outputs": []
    },
    {
      "cell_type": "code",
      "source": [
        "province = driver.find_element(by=By.XPATH, value=\"(//select[@id='address[province]'])[1]\")"
      ],
      "metadata": {
        "id": "TqnSVbg9B_n9"
      },
      "execution_count": 85,
      "outputs": []
    },
    {
      "cell_type": "code",
      "source": [
        "selectProvince = Select(province)\n",
        "selectProvince.select_by_visible_text('California')"
      ],
      "metadata": {
        "id": "8ztjF6CWBkVN"
      },
      "execution_count": 86,
      "outputs": []
    },
    {
      "cell_type": "code",
      "source": [
        "shipping = driver.find_element(by=By.XPATH, value=\"//span[normalize-space()='Standard Delivery - $5.00']\")\n",
        "shipping.click()"
      ],
      "metadata": {
        "id": "xGm3MRSgBbhe"
      },
      "execution_count": 89,
      "outputs": []
    },
    {
      "cell_type": "code",
      "source": [
        "toPayment = driver.find_element(by=By.XPATH, value=\"//span[normalize-space()='Continue to payment']\")\n",
        "toPayment.click()"
      ],
      "metadata": {
        "id": "Wur68CSICr11"
      },
      "execution_count": null,
      "outputs": []
    },
    {
      "cell_type": "code",
      "source": [],
      "metadata": {
        "id": "HCJ-i8cIC3OT"
      },
      "execution_count": null,
      "outputs": []
    },
    {
      "cell_type": "code",
      "source": [
        "cashOnDelivery = driver.find_element(by=By.XPATH, value=\"//div[@class='checkout-payment checkout-step']//div//div[1]//div[1]//div[1]//div[1]//div[1]//a[1]//*[name()='svg']\")\n",
        "cashOnDelivery.click()"
      ],
      "metadata": {
        "id": "n1Sh3gJVC3qP"
      },
      "execution_count": 92,
      "outputs": []
    },
    {
      "cell_type": "code",
      "source": [
        "placeOrder = driver.find_element(by=By.XPATH, value=\"//span[normalize-space()='Place Order']\")\n",
        "placeOrder.click()"
      ],
      "metadata": {
        "id": "mkCRSc1VDEJA"
      },
      "execution_count": 93,
      "outputs": []
    },
    {
      "cell_type": "code",
      "source": [
        "title = driver.title\n",
        "title"
      ],
      "metadata": {
        "id": "IpNBh0KTpxDk",
        "colab": {
          "base_uri": "https://localhost:8080/",
          "height": 35
        },
        "outputId": "4efb293a-ceb2-4538-a82b-d8212e562c74"
      },
      "execution_count": 94,
      "outputs": [
        {
          "output_type": "execute_result",
          "data": {
            "text/plain": [
              "'Checkout success'"
            ],
            "application/vnd.google.colaboratory.intrinsic+json": {
              "type": "string"
            }
          },
          "metadata": {},
          "execution_count": 94
        }
      ]
    },
    {
      "cell_type": "code",
      "source": [
        "title"
      ],
      "metadata": {
        "colab": {
          "base_uri": "https://localhost:8080/",
          "height": 35
        },
        "id": "vzynBKUFwVMJ",
        "outputId": "6432d12c-5a05-41aa-8dfe-4ca9b8fc8f83"
      },
      "execution_count": 65,
      "outputs": [
        {
          "output_type": "execute_result",
          "data": {
            "text/plain": [
              "'Shopping cart'"
            ],
            "application/vnd.google.colaboratory.intrinsic+json": {
              "type": "string"
            }
          },
          "metadata": {},
          "execution_count": 65
        }
      ]
    },
    {
      "cell_type": "code",
      "source": [
        "driver.get(\"https://demo.evershop.io/\")\n",
        "\n",
        "# Find all links on the page\n",
        "all_links = driver.find_elements(By.TAG_NAME, 'a')  # Finds all anchor tags\n",
        "\n",
        "# Print the 'href' attribute of each link\n",
        "for link in all_links:\n",
        "    print(link.get_attribute('href'))"
      ],
      "metadata": {
        "colab": {
          "base_uri": "https://localhost:8080/"
        },
        "id": "Ec_cgPYXLsF4",
        "outputId": "caeaa041-797b-4a0e-f2a6-902f65d40d81"
      },
      "execution_count": 95,
      "outputs": [
        {
          "output_type": "stream",
          "name": "stdout",
          "text": [
            "https://demo.evershop.io/\n",
            "https://demo.evershop.io/men\n",
            "https://demo.evershop.io/women\n",
            "https://demo.evershop.io/#\n",
            "https://demo.evershop.io/cart\n",
            "https://demo.evershop.io/account/login\n",
            "https://demo.evershop.io/#\n",
            "https://demo.evershop.io/kids\n",
            "https://demo.evershop.io/women\n",
            "https://demo.evershop.io/men\n",
            "https://demo.evershop.io/men/nike-air-zoom-pegasus-35-146\n",
            "https://demo.evershop.io/men/nike-air-zoom-pegasus-35-146\n",
            "https://demo.evershop.io/mix-and-match-chuck-taylor-all-star-118\n",
            "https://demo.evershop.io/mix-and-match-chuck-taylor-all-star-118\n",
            "https://demo.evershop.io/geography-class-chuck-taylor-all-star-81\n",
            "https://demo.evershop.io/geography-class-chuck-taylor-all-star-81\n",
            "https://demo.evershop.io/kids/swift-run-x-shoes-12\n",
            "https://demo.evershop.io/kids/swift-run-x-shoes-12\n"
          ]
        }
      ]
    },
    {
      "cell_type": "code",
      "source": [
        "link.get_attribute('href')"
      ],
      "metadata": {
        "id": "gcK44JXBweIZ",
        "colab": {
          "base_uri": "https://localhost:8080/",
          "height": 35
        },
        "outputId": "c3aecf2a-718b-48f2-f004-caa261d407f8"
      },
      "execution_count": 97,
      "outputs": [
        {
          "output_type": "execute_result",
          "data": {
            "text/plain": [
              "'https://demo.evershop.io/kids/swift-run-x-shoes-12'"
            ],
            "application/vnd.google.colaboratory.intrinsic+json": {
              "type": "string"
            }
          },
          "metadata": {},
          "execution_count": 97
        }
      ]
    },
    {
      "cell_type": "code",
      "source": [
        "link.get_property"
      ],
      "metadata": {
        "colab": {
          "base_uri": "https://localhost:8080/",
          "height": 187
        },
        "id": "F4EGQrl7Mn4x",
        "outputId": "be84d685-17ad-4650-888e-7e486421a78e"
      },
      "execution_count": 99,
      "outputs": [
        {
          "output_type": "execute_result",
          "data": {
            "text/plain": [
              "<bound method WebElement.get_property of <selenium.webdriver.remote.webelement.WebElement (session=\"020612f223c795886fe17b24cdec656d\", element=\"f.7BCD732314BCD53A2DAB8D6D1A9E56D7.d.B1FE45CCDC67F6EE8DF6F6A343DBAAE4.e.110\")>>"
            ],
            "text/html": [
              "<div style=\"max-width:800px; border: 1px solid var(--colab-border-color);\"><style>\n",
              "      pre.function-repr-contents {\n",
              "        overflow-x: auto;\n",
              "        padding: 8px 12px;\n",
              "        max-height: 500px;\n",
              "      }\n",
              "\n",
              "      pre.function-repr-contents.function-repr-contents-collapsed {\n",
              "        cursor: pointer;\n",
              "        max-height: 100px;\n",
              "      }\n",
              "    </style>\n",
              "    <pre style=\"white-space: initial; background:\n",
              "         var(--colab-secondary-surface-color); padding: 8px 12px;\n",
              "         border-bottom: 1px solid var(--colab-border-color);\"><b>selenium.webdriver.remote.webelement.WebElement.get_property</b><br/>def get_property(name) -&gt; str | bool | WebElement | dict</pre><pre class=\"function-repr-contents function-repr-contents-collapsed\" style=\"\"><a class=\"filepath\" style=\"display:none\" href=\"#\">/usr/local/lib/python3.10/dist-packages/selenium/webdriver/remote/webelement.py</a>Gets the given property of the element.\n",
              "\n",
              ":Args:\n",
              "    - name - Name of the property to retrieve.\n",
              "\n",
              ":Usage:\n",
              "    ::\n",
              "\n",
              "        text_length = target_element.get_property(&quot;text_length&quot;)</pre>\n",
              "      <script>\n",
              "      if (google.colab.kernel.accessAllowed && google.colab.files && google.colab.files.view) {\n",
              "        for (const element of document.querySelectorAll('.filepath')) {\n",
              "          element.style.display = 'block'\n",
              "          element.onclick = (event) => {\n",
              "            event.preventDefault();\n",
              "            event.stopPropagation();\n",
              "            google.colab.files.view(element.textContent, 119);\n",
              "          };\n",
              "        }\n",
              "      }\n",
              "      for (const element of document.querySelectorAll('.function-repr-contents')) {\n",
              "        element.onclick = (event) => {\n",
              "          event.preventDefault();\n",
              "          event.stopPropagation();\n",
              "          element.classList.toggle('function-repr-contents-collapsed');\n",
              "        };\n",
              "      }\n",
              "      </script>\n",
              "      </div>"
            ]
          },
          "metadata": {},
          "execution_count": 99
        }
      ]
    },
    {
      "cell_type": "code",
      "source": [
        "from bs4 import BeautifulSoup\n",
        "import requests\n",
        "\n",
        "url = \"https://demo.evershop.io/\"\n",
        "response = requests.get(url)\n",
        "soup = BeautifulSoup(response.text, 'html.parser')\n",
        "\n",
        "all_elements = soup.find_all(True)  # Find all elements\n",
        "print(all_elements)"
      ],
      "metadata": {
        "colab": {
          "base_uri": "https://localhost:8080/"
        },
        "id": "6Az_f8ocMyQ8",
        "outputId": "c84e2128-40ce-4255-d907-c4b77a638277"
      },
      "execution_count": 100,
      "outputs": [
        {
          "output_type": "stream",
          "name": "stdout",
          "text": [
            "[<html id=\"root\" lang=\"en\"><head><meta charset=\"utf-8\"/><script>var eContext = {\"graphqlResponse\":{\"ee8xunk5shlnt0g55f\":\"/search\",\"ee8xunk5shlnt0g55g\":{\"collectionId\":\"2\",\"name\":\"Featured Products\",\"products\":{\"items\":[{\"productId\":146,\"name\":\"Nike air zoom pegasus 35\",\"sku\":\"NJC83763-Green-L\",\"price\":{\"regular\":{\"value\":452.1,\"text\":\"$452.10\"},\"special\":{\"value\":452.1,\"text\":\"$452.10\"}},\"image\":{\"alt\":\"Nike air zoom pegasus 35\",\"url\":\"/assets/catalog/1034/3600/plv7632-Green-list.png\"},\"url\":\"/men/nike-air-zoom-pegasus-35-146\"},{\"productId\":118,\"name\":\"Mix and match chuck taylor all star\",\"sku\":\"NJC88122-Grey-X\",\"price\":{\"regular\":{\"value\":877.8,\"text\":\"$877.80\"},\"special\":{\"value\":877.8,\"text\":\"$877.80\"}},\"image\":{\"alt\":\"Mix and match chuck taylor all star\",\"url\":\"/assets/catalog/5059/3470/plv4547-Grey-list.png\"},\"url\":\"/mix-and-match-chuck-taylor-all-star-118\"},{\"productId\":81,\"name\":\"Geography class chuck taylor all star\",\"sku\":\"NJC11368-Black-XL\",\"price\":{\"regular\":{\"value\":275,\"text\":\"$275.00\"},\"special\":{\"value\":275,\"text\":\"$275.00\"}},\"image\":{\"alt\":\"Geography class chuck taylor all star\",\"url\":\"/assets/catalog/4056/5908/plv3360-Black-list.png\"},\"url\":\"/geography-class-chuck-taylor-all-star-81\"},{\"productId\":12,\"name\":\"Swift run x shoes\",\"sku\":\"NJC86672-Pink-XL\",\"price\":{\"regular\":{\"value\":370.7,\"text\":\"$370.70\"},\"special\":{\"value\":370.7,\"text\":\"$370.70\"}},\"image\":{\"alt\":\"Swift run x shoes\",\"url\":\"/assets/catalog/3241/9300/plv1517-Pink-list.png\"},\"url\":\"/kids/swift-run-x-shoes-12\"}]}},\"ee8xunk5shlnt0g55h\":\"/cart\",\"ee8xunk5shlnt0g55i\":null,\"ee8xunk5shlnt0g55j\":{\"breadcrumbs\":[]},\"ee8xunk5shlnt0g55k\":{\"copyRight\":null},\"ee8xunk5shlnt0g55l\":{\"title\":\"Charka Nurture\",\"description\":\"An Amazing EverShop Store\"},\"ee8xunk5shlnt0g55m\":{\"headTags\":{\"metas\":[],\"links\":[],\"scripts\":[],\"base\":null}},\"ee8xunk5shlnt0g55n\":{\"logo\":{\"src\":null,\"alt\":null,\"width\":null,\"height\":null}},\"ee8xunk5shlnt0g55o\":{\"items\":[{\"name\":\"Men\",\"url\":\"/men\"},{\"name\":\"Women\",\"url\":\"/women\"}]},\"ee8xunk5shlnt0g55p\":{\"items\":[{\"name\":\"Men\",\"url\":\"/men\"},{\"name\":\"Women\",\"url\":\"/women\"}]},\"ee8xunk5shlnt0g55q\":null,\"ee8xunk5shlnt0g55r\":\"/account\",\"ee8xunk5shlnt0g55s\":\"/account/login\"},\"propsMap\":{\"L25vZGVfbW9kdWxlcy9AZXZlcnNob3AvZXZlcnNob3Avc3JjL21vZHVsZXMvY2F0YWxvZy9wYWdlcy9mcm9udFN0b3JlL2FsbC9TZWFyY2hCb3guanN4\":[{\"origin\":\"searchPageUrl\",\"alias\":\"ee8xunk5shlnt0g55f\"}],\"L25vZGVfbW9kdWxlcy9AZXZlcnNob3AvZXZlcnNob3Avc3JjL21vZHVsZXMvY2F0YWxvZy9wYWdlcy9mcm9udFN0b3JlL2hvbWVwYWdlL0ZlYXR1cmVkQ2F0ZWdvcmllcy5qc3g=\":[],\"L25vZGVfbW9kdWxlcy9AZXZlcnNob3AvZXZlcnNob3Avc3JjL21vZHVsZXMvY2F0YWxvZy9wYWdlcy9mcm9udFN0b3JlL2hvbWVwYWdlL0ZlYXR1cmVkUHJvZHVjdHMuanN4\":[{\"origin\":\"collection\",\"alias\":\"ee8xunk5shlnt0g55g\"}],\"L25vZGVfbW9kdWxlcy9AZXZlcnNob3AvZXZlcnNob3Avc3JjL21vZHVsZXMvY2hlY2tvdXQvcGFnZXMvZnJvbnRTdG9yZS9hbGwvTWluaUNhcnQuanN4\":[{\"origin\":\"cartUrl\",\"alias\":\"ee8xunk5shlnt0g55h\"},{\"origin\":\"cart\",\"alias\":\"ee8xunk5shlnt0g55i\"}],\"L25vZGVfbW9kdWxlcy9AZXZlcnNob3AvZXZlcnNob3Avc3JjL21vZHVsZXMvY21zL3BhZ2VzL2Zyb250U3RvcmUvYWxsL0JyZWFkY3J1bWIuanN4\":[{\"origin\":\"pageInfo\",\"alias\":\"ee8xunk5shlnt0g55j\"}],\"L25vZGVfbW9kdWxlcy9AZXZlcnNob3AvZXZlcnNob3Avc3JjL21vZHVsZXMvY21zL3BhZ2VzL2Zyb250U3RvcmUvYWxsL0Zvb3Rlci5qc3g=\":[{\"origin\":\"themeConfig\",\"alias\":\"ee8xunk5shlnt0g55k\"}],\"L25vZGVfbW9kdWxlcy9AZXZlcnNob3AvZXZlcnNob3Avc3JjL21vZHVsZXMvY21zL3BhZ2VzL2Zyb250U3RvcmUvYWxsL0hlYWRUYWdzLmpzeA==\":[{\"origin\":\"pageInfo\",\"alias\":\"ee8xunk5shlnt0g55l\"},{\"origin\":\"themeConfig\",\"alias\":\"ee8xunk5shlnt0g55m\"}],\"L25vZGVfbW9kdWxlcy9AZXZlcnNob3AvZXZlcnNob3Avc3JjL21vZHVsZXMvY21zL3BhZ2VzL2Zyb250U3RvcmUvYWxsL0xheW91dC5qc3g=\":[],\"L25vZGVfbW9kdWxlcy9AZXZlcnNob3AvZXZlcnNob3Avc3JjL21vZHVsZXMvY21zL3BhZ2VzL2Zyb250U3RvcmUvYWxsL0xvZ28uanN4\":[{\"origin\":\"themeConfig\",\"alias\":\"ee8xunk5shlnt0g55n\"}],\"L25vZGVfbW9kdWxlcy9AZXZlcnNob3AvZXZlcnNob3Avc3JjL21vZHVsZXMvY21zL3BhZ2VzL2Zyb250U3RvcmUvYWxsL01lbnUuanN4\":[{\"origin\":\"menu\",\"alias\":\"ee8xunk5shlnt0g55o\"}],\"L25vZGVfbW9kdWxlcy9AZXZlcnNob3AvZXZlcnNob3Avc3JjL21vZHVsZXMvY21zL3BhZ2VzL2Zyb250U3RvcmUvYWxsL01vYmlsZU1lbnUuanN4\":[{\"origin\":\"menu\",\"alias\":\"ee8xunk5shlnt0g55p\"}],\"L25vZGVfbW9kdWxlcy9AZXZlcnNob3AvZXZlcnNob3Avc3JjL21vZHVsZXMvY21zL3BhZ2VzL2Zyb250U3RvcmUvYWxsL05vdGlmaWNhdGlvbi5qc3g=\":[],\"L25vZGVfbW9kdWxlcy9AZXZlcnNob3AvZXZlcnNob3Avc3JjL21vZHVsZXMvY21zL3BhZ2VzL2Zyb250U3RvcmUvaG9tZXBhZ2UvTWFpbkJhbm5lci5qc3g=\":[],\"L25vZGVfbW9kdWxlcy9AZXZlcnNob3AvZXZlcnNob3Avc3JjL21vZHVsZXMvY3VzdG9tZXIvcGFnZXMvZnJvbnRTdG9yZS9hbGwvVXNlckljb24uanN4\":[{\"origin\":\"customer\",\"alias\":\"ee8xunk5shlnt0g55q\"},{\"origin\":\"accountUrl\",\"alias\":\"ee8xunk5shlnt0g55r\"},{\"origin\":\"loginUrl\",\"alias\":\"ee8xunk5shlnt0g55s\"}]}}</script><link href=\"/assets/frontStore/homepage/client/903d232babd9d1207624.css\" rel=\"stylesheet\"/><title>Charka Nurture</title><meta content=\"An Amazing EverShop Store\" name=\"description\"/><meta content=\"width=device-width, initial-scale=1.0\" name=\"viewport\"/></head><body id=\"body\"><div class=\"bg-background\" id=\"app\"><div class=\"wrapper\"><div class=\"loading-bar\" style=\"width:0%;display:none\"></div><div class=\"header flex justify-between\"><div class=\"logo\"><a class=\"logo-icon\" href=\"/\"><svg fill=\"none\" height=\"146\" viewbox=\"0 0 128 146\" width=\"128\" xmlns=\"http://www.w3.org/2000/svg\"><path d=\"M32.388 18.0772L1.15175 36.1544L1.05206 72.5081L0.985596 108.895L32.4213 127.039C49.7009 137.008 63.9567 145.182 64.1228 145.182C64.289 145.182 72.8956 140.264 83.2966 134.283C93.6644 128.268 107.82 120.127 114.732 116.139L127.26 108.895V101.119V93.3102L126.529 93.7089C126.097 93.9415 111.941 102.083 95.06 111.853C78.1459 121.622 64.156 129.531 63.9567 129.498C63.724 129.431 52.5587 123.051 39.1005 115.275L14.6099 101.152V72.5746V43.9967L25.6756 37.6165C31.7234 34.1274 42.8223 27.7472 50.2991 23.4273C57.7426 19.1073 63.9899 15.585 64.1228 15.585C64.2557 15.585 72.9288 20.5362 83.3963 26.5841L113.902 43.9967L118.713 41.1657L127.26 36.1544L113.902 28.5447C103.334 22.2974 64.3554 -0.033191 64.0231 3.90721e-05C63.8237 3.90721e-05 49.568 8.14142 32.388 18.0772Z\" fill=\"#1F1F1F\"></path><path d=\"M96.0237 54.1983C78.9434 64.0677 64.721 72.2423 64.4219 72.3088C64.0896 72.4084 55.7488 67.7562 44.8826 61.509L25.9082 50.543V58.4186L25.9414 66.2609L44.3841 76.8945C54.5193 82.743 63.1591 87.6611 63.5911 87.8272C64.2557 88.0598 68.9079 85.5011 95.5585 70.1156C112.705 60.1798 126.861 51.9719 127.027 51.839C127.16 51.7061 127.227 48.1505 127.194 43.9302L127.094 36.2541L96.0237 54.1983Z\" fill=\"#1F1F1F\"></path><path d=\"M123.771 66.7261C121.943 67.7562 107.854 75.8976 92.4349 84.8033C77.0161 93.7089 64.289 100.986 64.1228 100.986C63.9567 100.986 55.3501 96.0683 44.9491 90.0869L26.0744 79.1874L25.9747 86.8303C25.9082 92.6788 26.0079 94.5729 26.307 94.872C26.9383 95.4369 63.7241 116.604 64.1228 116.604C64.4551 116.604 126.496 80.8821 127.027 80.4169C127.16 80.284 127.227 76.7284 127.194 72.4749L127.094 64.7987L123.771 66.7261Z\" fill=\"#1F1F1F\"></path></svg></a></div><div class=\"main-menu self-center hidden md:block\"><ul class=\"nav flex space-x-275 justify-content-center\"><li class=\"nav-item\"><a class=\"nav-link hover:underline\" href=\"/men\">Men</a></li><li class=\"nav-item\"><a class=\"nav-link hover:underline\" href=\"/women\">Women</a></li></ul></div><div class=\"icon-wrapper flex justify-between space-x-1\"><div class=\"search-box\"><a class=\"search-icon\" href=\"#\"><svg fill=\"none\" stroke=\"currentColor\" style=\"width:2.2rem;height:2.2rem\" viewbox=\"0 0 24 24\" xmlns=\"http://www.w3.org/2000/svg\"><path d=\"M21 21l-6-6m2-5a7 7 0 11-14 0 7 7 0 0114 0z\" stroke-linecap=\"round\" stroke-linejoin=\"round\" stroke-width=\"2\"></path></svg></a></div><div class=\"mini-cart-wrapper self-center\"><a class=\"mini-cart-icon\" href=\"/cart\"><svg aria-hidden=\"true\" fill=\"none\" height=\"20\" stroke=\"currentColor\" stroke-width=\"2\" viewbox=\"0 0 24 24\" width=\"20\" xmlns=\"http://www.w3.org/2000/svg\"><path d=\"M16 11V7a4 4 0 00-8 0v4M5 9h14l1 12H4L5 9z\" stroke-linecap=\"round\" stroke-linejoin=\"round\"></path></svg></a></div><div class=\"self-center\"><a href=\"/account/login\"><svg aria-hidden=\"true\" fill=\"none\" height=\"25\" stroke=\"currentColor\" stroke-width=\"2\" viewbox=\"0 0 24 24\" width=\"25\" xmlns=\"http://www.w3.org/2000/svg\"><path d=\"M16 7a4 4 0 11-8 0 4 4 0 018 0zM12 14a7 7 0 00-7 7h14a7 7 0 00-7-7z\" stroke-linecap=\"round\" stroke-linejoin=\"round\"></path></svg></a></div><div class=\"main-menu-mobile self-center\"><a class=\"menu-icon\" href=\"#\"><svg class=\"h-6 w-6\" fill=\"none\" stroke=\"currentColor\" viewbox=\"0 0 24 24\" xmlns=\"http://www.w3.org/2000/svg\"><path d=\"M4 6h16M4 12h16M4 18h16\" stroke-linecap=\"round\" stroke-linejoin=\"round\" stroke-width=\"2\"></path></svg></a></div></div></div><main class=\"content\"><div class=\"main-banner-home flex items-center\"><div class=\"container grid grid-cols-1 md:grid-cols-2 gap-2\"><div></div><div class=\"text-center md:text-left px-2\"><h2 class=\"h1\">Discount 20% For All Orders Over $2000</h2><p>Use coupon code<span class=\"font-bold\">DISCOUNT20</span></p><p>Use coupon DISCOUNT20</p><p></p></div></div></div><div class=\"mt-15\"><div class=\"grid grid-cols-1 md:grid-cols-3 gap-2 page-width\"><div><div class=\"text-center\"><img alt=\"\" src=\"/assets/homepage/banner/men-shoes.jpeg\"/></div><h3 class=\"h4 uppercase mt-1 mb-1\">Men shoes collection</h3><div class=\"mb-1\"><p>Constructed from luxury nylons, leathers, and custom hardware, featuring sport details such as hidden breathing vents, waterproof + antimicrobial linings, and more.</p></div><a class=\"button primary\" href=\"/kids\"><span>Shop kids</span></a></div><div><div><img alt=\"\" src=\"/assets/homepage/banner/women-shoes.jpeg\"/></div><h3 class=\"h4 uppercase mt-1 mb-1\">Women shoes collection</h3><div class=\"mb-1\"><p>Constructed from luxury nylons, leathers, and custom hardware, featuring sport details such as hidden breathing vents, waterproof + antimicrobial linings, and more.</p></div><a class=\"button primary\" href=\"/women\"><span>Shop women</span></a></div><div><div><img alt=\"\" src=\"/assets/homepage/banner/kid-shoes.jpeg\"/></div><h3 class=\"h4 uppercase mt-1 mb-1\">Men shoes collection</h3><div class=\"mb-1\"><p>Constructed from luxury nylons, leathers, and custom hardware, featuring sport details such as hidden breathing vents, waterproof + antimicrobial linings, and more.</p></div><a class=\"button primary\" href=\"/men\"><span>Shop men</span></a></div></div></div><div class=\"pt-3\"><div class=\"page-width\"><h3 class=\"mt-3 mb-3 text-center uppercase h5 tracking-widest\">Featured Products</h3><div class=\"grid grid-cols-2 md:grid-cols-4 gap-2\"><div class=\"listing-tem\"><div class=\"product-thumbnail-listing\"><a href=\"/men/nike-air-zoom-pegasus-35-146\"><img alt=\"Nike air zoom pegasus 35\" src=\"/assets/catalog/1034/3600/plv7632-Green-list.png\"/></a></div><div class=\"product-name product-list-name mt-1 mb-025\"><a class=\"font-bold hover:underline h5\" href=\"/men/nike-air-zoom-pegasus-35-146\"><span>Nike air zoom pegasus 35</span></a></div><div class=\"product-price-listing\"><div><span class=\"sale-price font-semibold\">$452.10</span></div></div></div><div class=\"listing-tem\"><div class=\"product-thumbnail-listing\"><a href=\"/mix-and-match-chuck-taylor-all-star-118\"><img alt=\"Mix and match chuck taylor all star\" src=\"/assets/catalog/5059/3470/plv4547-Grey-list.png\"/></a></div><div class=\"product-name product-list-name mt-1 mb-025\"><a class=\"font-bold hover:underline h5\" href=\"/mix-and-match-chuck-taylor-all-star-118\"><span>Mix and match chuck taylor all star</span></a></div><div class=\"product-price-listing\"><div><span class=\"sale-price font-semibold\">$877.80</span></div></div></div><div class=\"listing-tem\"><div class=\"product-thumbnail-listing\"><a href=\"/geography-class-chuck-taylor-all-star-81\"><img alt=\"Geography class chuck taylor all star\" src=\"/assets/catalog/4056/5908/plv3360-Black-list.png\"/></a></div><div class=\"product-name product-list-name mt-1 mb-025\"><a class=\"font-bold hover:underline h5\" href=\"/geography-class-chuck-taylor-all-star-81\"><span>Geography class chuck taylor all star</span></a></div><div class=\"product-price-listing\"><div><span class=\"sale-price font-semibold\">$275.00</span></div></div></div><div class=\"listing-tem\"><div class=\"product-thumbnail-listing\"><a href=\"/kids/swift-run-x-shoes-12\"><img alt=\"Swift run x shoes\" src=\"/assets/catalog/3241/9300/plv1517-Pink-list.png\"/></a></div><div class=\"product-name product-list-name mt-1 mb-025\"><a class=\"font-bold hover:underline h5\" href=\"/kids/swift-run-x-shoes-12\"><span>Swift run x shoes</span></a></div><div class=\"product-price-listing\"><div><span class=\"sale-price font-semibold\">$370.70</span></div></div></div></div></div></div></main><div class=\"footer\"><div class=\"footer__default\"><div class=\"page-width grid grid-cols-1 md:grid-cols-2 gap-2 justify-between\"><div><div class=\"card-icons flex justify-center space-x-1 md:justify-start\"><div><svg aria-labelledby=\"pi-visa\" height=\"24\" viewbox=\"0 0 38 24\" width=\"38\" xmlns=\"http://www.w3.org/2000/svg\"><path d=\"M35 0H3C1.3 0 0 1.3 0 3v18c0 1.7 1.4 3 3 3h32c1.7 0 3-1.3 3-3V3c0-1.7-1.4-3-3-3z\" opacity=\"0.07\"></path><path d=\"M35 1c1.1 0 2 .9 2 2v18c0 1.1-.9 2-2 2H3c-1.1 0-2-.9-2-2V3c0-1.1.9-2 2-2h32\" fill=\"#fff\"></path><path d=\"M28.3 10.1H28c-.4 1-.7 1.5-1 3h1.9c-.3-1.5-.3-2.2-.6-3zm2.9 5.9h-1.7c-.1 0-.1 0-.2-.1l-.2-.9-.1-.2h-2.4c-.1 0-.2 0-.2.2l-.3.9c0 .1-.1.1-.1.1h-2.1l.2-.5L27 8.7c0-.5.3-.7.8-.7h1.5c.1 0 .2 0 .2.2l1.4 6.5c.1.4.2.7.2 1.1.1.1.1.1.1.2zm-13.4-.3l.4-1.8c.1 0 .2.1.2.1.7.3 1.4.5 2.1.4.2 0 .5-.1.7-.2.5-.2.5-.7.1-1.1-.2-.2-.5-.3-.8-.5-.4-.2-.8-.4-1.1-.7-1.2-1-.8-2.4-.1-3.1.6-.4.9-.8 1.7-.8 1.2 0 2.5 0 3.1.2h.1c-.1.6-.2 1.1-.4 1.7-.5-.2-1-.4-1.5-.4-.3 0-.6 0-.9.1-.2 0-.3.1-.4.2-.2.2-.2.5 0 .7l.5.4c.4.2.8.4 1.1.6.5.3 1 .8 1.1 1.4.2.9-.1 1.7-.9 2.3-.5.4-.7.6-1.4.6-1.4 0-2.5.1-3.4-.2-.1.2-.1.2-.2.1zm-3.5.3c.1-.7.1-.7.2-1 .5-2.2 1-4.5 1.4-6.7.1-.2.1-.3.3-.3H18c-.2 1.2-.4 2.1-.7 3.2-.3 1.5-.6 3-1 4.5 0 .2-.1.2-.3.2M5 8.2c0-.1.2-.2.3-.2h3.4c.5 0 .9.3 1 .8l.9 4.4c0 .1 0 .1.1.2 0-.1.1-.1.1-.1l2.1-5.1c-.1-.1 0-.2.1-.2h2.1c0 .1 0 .1-.1.2l-3.1 7.3c-.1.2-.1.3-.2.4-.1.1-.3 0-.5 0H9.7c-.1 0-.2 0-.2-.2L7.9 9.5c-.2-.2-.5-.5-.9-.6-.6-.3-1.7-.5-1.9-.5L5 8.2z\" fill=\"#142688\"></path></svg></div><div><svg aria-labelledby=\"pi-master\" height=\"24\" viewbox=\"0 0 38 24\" width=\"38\" xmlns=\"http://www.w3.org/2000/svg\"><path d=\"M35 0H3C1.3 0 0 1.3 0 3v18c0 1.7 1.4 3 3 3h32c1.7 0 3-1.3 3-3V3c0-1.7-1.4-3-3-3z\" opacity=\"0.07\"></path><path d=\"M35 1c1.1 0 2 .9 2 2v18c0 1.1-.9 2-2 2H3c-1.1 0-2-.9-2-2V3c0-1.1.9-2 2-2h32\" fill=\"#fff\"></path><circle cx=\"15\" cy=\"12\" fill=\"#EB001B\" r=\"7\"></circle><circle cx=\"23\" cy=\"12\" fill=\"#F79E1B\" r=\"7\"></circle><path d=\"M22 12c0-2.4-1.2-4.5-3-5.7-1.8 1.3-3 3.4-3 5.7s1.2 4.5 3 5.7c1.8-1.2 3-3.3 3-5.7z\" fill=\"#FF5F00\"></path></svg></div><div><svg aria-labelledby=\"pi-paypal\" height=\"24\" role=\"img\" viewbox=\"0 0 38 24\" width=\"38\" xmlns=\"http://www.w3.org/2000/svg\"><title id=\"pi-paypal\">PayPal</title><path d=\"M35 0H3C1.3 0 0 1.3 0 3v18c0 1.7 1.4 3 3 3h32c1.7 0 3-1.3 3-3V3c0-1.7-1.4-3-3-3z\" opacity=\".07\"></path><path d=\"M35 1c1.1 0 2 .9 2 2v18c0 1.1-.9 2-2 2H3c-1.1 0-2-.9-2-2V3c0-1.1.9-2 2-2h32\" fill=\"#fff\"></path><path d=\"M23.9 8.3c.2-1 0-1.7-.6-2.3-.6-.7-1.7-1-3.1-1h-4.1c-.3 0-.5.2-.6.5L14 15.6c0 .2.1.4.3.4H17l.4-3.4 1.8-2.2 4.7-2.1z\" fill=\"#003087\"></path><path d=\"M23.9 8.3l-.2.2c-.5 2.8-2.2 3.8-4.6 3.8H18c-.3 0-.5.2-.6.5l-.6 3.9-.2 1c0 .2.1.4.3.4H19c.3 0 .5-.2.5-.4v-.1l.4-2.4v-.1c0-.2.3-.4.5-.4h.3c2.1 0 3.7-.8 4.1-3.2.2-1 .1-1.8-.4-2.4-.1-.5-.3-.7-.5-.8z\" fill=\"#3086C8\"></path><path d=\"M23.3 8.1c-.1-.1-.2-.1-.3-.1-.1 0-.2 0-.3-.1-.3-.1-.7-.1-1.1-.1h-3c-.1 0-.2 0-.2.1-.2.1-.3.2-.3.4l-.7 4.4v.1c0-.3.3-.5.6-.5h1.3c2.5 0 4.1-1 4.6-3.8v-.2c-.1-.1-.3-.2-.5-.2h-.1z\" fill=\"#012169\"></path></svg></div></div></div><div class=\"self-center\"><div class=\"copyright text-center md:text-right text-textSubdued\"><span></span></div></div></div></div></div><div><div class=\"Toastify\"></div></div></div></div><script src=\"/assets/frontStore/homepage/client/903d232babd9d1207624.js\"></script></body></html>, <head><meta charset=\"utf-8\"/><script>var eContext = {\"graphqlResponse\":{\"ee8xunk5shlnt0g55f\":\"/search\",\"ee8xunk5shlnt0g55g\":{\"collectionId\":\"2\",\"name\":\"Featured Products\",\"products\":{\"items\":[{\"productId\":146,\"name\":\"Nike air zoom pegasus 35\",\"sku\":\"NJC83763-Green-L\",\"price\":{\"regular\":{\"value\":452.1,\"text\":\"$452.10\"},\"special\":{\"value\":452.1,\"text\":\"$452.10\"}},\"image\":{\"alt\":\"Nike air zoom pegasus 35\",\"url\":\"/assets/catalog/1034/3600/plv7632-Green-list.png\"},\"url\":\"/men/nike-air-zoom-pegasus-35-146\"},{\"productId\":118,\"name\":\"Mix and match chuck taylor all star\",\"sku\":\"NJC88122-Grey-X\",\"price\":{\"regular\":{\"value\":877.8,\"text\":\"$877.80\"},\"special\":{\"value\":877.8,\"text\":\"$877.80\"}},\"image\":{\"alt\":\"Mix and match chuck taylor all star\",\"url\":\"/assets/catalog/5059/3470/plv4547-Grey-list.png\"},\"url\":\"/mix-and-match-chuck-taylor-all-star-118\"},{\"productId\":81,\"name\":\"Geography class chuck taylor all star\",\"sku\":\"NJC11368-Black-XL\",\"price\":{\"regular\":{\"value\":275,\"text\":\"$275.00\"},\"special\":{\"value\":275,\"text\":\"$275.00\"}},\"image\":{\"alt\":\"Geography class chuck taylor all star\",\"url\":\"/assets/catalog/4056/5908/plv3360-Black-list.png\"},\"url\":\"/geography-class-chuck-taylor-all-star-81\"},{\"productId\":12,\"name\":\"Swift run x shoes\",\"sku\":\"NJC86672-Pink-XL\",\"price\":{\"regular\":{\"value\":370.7,\"text\":\"$370.70\"},\"special\":{\"value\":370.7,\"text\":\"$370.70\"}},\"image\":{\"alt\":\"Swift run x shoes\",\"url\":\"/assets/catalog/3241/9300/plv1517-Pink-list.png\"},\"url\":\"/kids/swift-run-x-shoes-12\"}]}},\"ee8xunk5shlnt0g55h\":\"/cart\",\"ee8xunk5shlnt0g55i\":null,\"ee8xunk5shlnt0g55j\":{\"breadcrumbs\":[]},\"ee8xunk5shlnt0g55k\":{\"copyRight\":null},\"ee8xunk5shlnt0g55l\":{\"title\":\"Charka Nurture\",\"description\":\"An Amazing EverShop Store\"},\"ee8xunk5shlnt0g55m\":{\"headTags\":{\"metas\":[],\"links\":[],\"scripts\":[],\"base\":null}},\"ee8xunk5shlnt0g55n\":{\"logo\":{\"src\":null,\"alt\":null,\"width\":null,\"height\":null}},\"ee8xunk5shlnt0g55o\":{\"items\":[{\"name\":\"Men\",\"url\":\"/men\"},{\"name\":\"Women\",\"url\":\"/women\"}]},\"ee8xunk5shlnt0g55p\":{\"items\":[{\"name\":\"Men\",\"url\":\"/men\"},{\"name\":\"Women\",\"url\":\"/women\"}]},\"ee8xunk5shlnt0g55q\":null,\"ee8xunk5shlnt0g55r\":\"/account\",\"ee8xunk5shlnt0g55s\":\"/account/login\"},\"propsMap\":{\"L25vZGVfbW9kdWxlcy9AZXZlcnNob3AvZXZlcnNob3Avc3JjL21vZHVsZXMvY2F0YWxvZy9wYWdlcy9mcm9udFN0b3JlL2FsbC9TZWFyY2hCb3guanN4\":[{\"origin\":\"searchPageUrl\",\"alias\":\"ee8xunk5shlnt0g55f\"}],\"L25vZGVfbW9kdWxlcy9AZXZlcnNob3AvZXZlcnNob3Avc3JjL21vZHVsZXMvY2F0YWxvZy9wYWdlcy9mcm9udFN0b3JlL2hvbWVwYWdlL0ZlYXR1cmVkQ2F0ZWdvcmllcy5qc3g=\":[],\"L25vZGVfbW9kdWxlcy9AZXZlcnNob3AvZXZlcnNob3Avc3JjL21vZHVsZXMvY2F0YWxvZy9wYWdlcy9mcm9udFN0b3JlL2hvbWVwYWdlL0ZlYXR1cmVkUHJvZHVjdHMuanN4\":[{\"origin\":\"collection\",\"alias\":\"ee8xunk5shlnt0g55g\"}],\"L25vZGVfbW9kdWxlcy9AZXZlcnNob3AvZXZlcnNob3Avc3JjL21vZHVsZXMvY2hlY2tvdXQvcGFnZXMvZnJvbnRTdG9yZS9hbGwvTWluaUNhcnQuanN4\":[{\"origin\":\"cartUrl\",\"alias\":\"ee8xunk5shlnt0g55h\"},{\"origin\":\"cart\",\"alias\":\"ee8xunk5shlnt0g55i\"}],\"L25vZGVfbW9kdWxlcy9AZXZlcnNob3AvZXZlcnNob3Avc3JjL21vZHVsZXMvY21zL3BhZ2VzL2Zyb250U3RvcmUvYWxsL0JyZWFkY3J1bWIuanN4\":[{\"origin\":\"pageInfo\",\"alias\":\"ee8xunk5shlnt0g55j\"}],\"L25vZGVfbW9kdWxlcy9AZXZlcnNob3AvZXZlcnNob3Avc3JjL21vZHVsZXMvY21zL3BhZ2VzL2Zyb250U3RvcmUvYWxsL0Zvb3Rlci5qc3g=\":[{\"origin\":\"themeConfig\",\"alias\":\"ee8xunk5shlnt0g55k\"}],\"L25vZGVfbW9kdWxlcy9AZXZlcnNob3AvZXZlcnNob3Avc3JjL21vZHVsZXMvY21zL3BhZ2VzL2Zyb250U3RvcmUvYWxsL0hlYWRUYWdzLmpzeA==\":[{\"origin\":\"pageInfo\",\"alias\":\"ee8xunk5shlnt0g55l\"},{\"origin\":\"themeConfig\",\"alias\":\"ee8xunk5shlnt0g55m\"}],\"L25vZGVfbW9kdWxlcy9AZXZlcnNob3AvZXZlcnNob3Avc3JjL21vZHVsZXMvY21zL3BhZ2VzL2Zyb250U3RvcmUvYWxsL0xheW91dC5qc3g=\":[],\"L25vZGVfbW9kdWxlcy9AZXZlcnNob3AvZXZlcnNob3Avc3JjL21vZHVsZXMvY21zL3BhZ2VzL2Zyb250U3RvcmUvYWxsL0xvZ28uanN4\":[{\"origin\":\"themeConfig\",\"alias\":\"ee8xunk5shlnt0g55n\"}],\"L25vZGVfbW9kdWxlcy9AZXZlcnNob3AvZXZlcnNob3Avc3JjL21vZHVsZXMvY21zL3BhZ2VzL2Zyb250U3RvcmUvYWxsL01lbnUuanN4\":[{\"origin\":\"menu\",\"alias\":\"ee8xunk5shlnt0g55o\"}],\"L25vZGVfbW9kdWxlcy9AZXZlcnNob3AvZXZlcnNob3Avc3JjL21vZHVsZXMvY21zL3BhZ2VzL2Zyb250U3RvcmUvYWxsL01vYmlsZU1lbnUuanN4\":[{\"origin\":\"menu\",\"alias\":\"ee8xunk5shlnt0g55p\"}],\"L25vZGVfbW9kdWxlcy9AZXZlcnNob3AvZXZlcnNob3Avc3JjL21vZHVsZXMvY21zL3BhZ2VzL2Zyb250U3RvcmUvYWxsL05vdGlmaWNhdGlvbi5qc3g=\":[],\"L25vZGVfbW9kdWxlcy9AZXZlcnNob3AvZXZlcnNob3Avc3JjL21vZHVsZXMvY21zL3BhZ2VzL2Zyb250U3RvcmUvaG9tZXBhZ2UvTWFpbkJhbm5lci5qc3g=\":[],\"L25vZGVfbW9kdWxlcy9AZXZlcnNob3AvZXZlcnNob3Avc3JjL21vZHVsZXMvY3VzdG9tZXIvcGFnZXMvZnJvbnRTdG9yZS9hbGwvVXNlckljb24uanN4\":[{\"origin\":\"customer\",\"alias\":\"ee8xunk5shlnt0g55q\"},{\"origin\":\"accountUrl\",\"alias\":\"ee8xunk5shlnt0g55r\"},{\"origin\":\"loginUrl\",\"alias\":\"ee8xunk5shlnt0g55s\"}]}}</script><link href=\"/assets/frontStore/homepage/client/903d232babd9d1207624.css\" rel=\"stylesheet\"/><title>Charka Nurture</title><meta content=\"An Amazing EverShop Store\" name=\"description\"/><meta content=\"width=device-width, initial-scale=1.0\" name=\"viewport\"/></head>, <meta charset=\"utf-8\"/>, <script>var eContext = {\"graphqlResponse\":{\"ee8xunk5shlnt0g55f\":\"/search\",\"ee8xunk5shlnt0g55g\":{\"collectionId\":\"2\",\"name\":\"Featured Products\",\"products\":{\"items\":[{\"productId\":146,\"name\":\"Nike air zoom pegasus 35\",\"sku\":\"NJC83763-Green-L\",\"price\":{\"regular\":{\"value\":452.1,\"text\":\"$452.10\"},\"special\":{\"value\":452.1,\"text\":\"$452.10\"}},\"image\":{\"alt\":\"Nike air zoom pegasus 35\",\"url\":\"/assets/catalog/1034/3600/plv7632-Green-list.png\"},\"url\":\"/men/nike-air-zoom-pegasus-35-146\"},{\"productId\":118,\"name\":\"Mix and match chuck taylor all star\",\"sku\":\"NJC88122-Grey-X\",\"price\":{\"regular\":{\"value\":877.8,\"text\":\"$877.80\"},\"special\":{\"value\":877.8,\"text\":\"$877.80\"}},\"image\":{\"alt\":\"Mix and match chuck taylor all star\",\"url\":\"/assets/catalog/5059/3470/plv4547-Grey-list.png\"},\"url\":\"/mix-and-match-chuck-taylor-all-star-118\"},{\"productId\":81,\"name\":\"Geography class chuck taylor all star\",\"sku\":\"NJC11368-Black-XL\",\"price\":{\"regular\":{\"value\":275,\"text\":\"$275.00\"},\"special\":{\"value\":275,\"text\":\"$275.00\"}},\"image\":{\"alt\":\"Geography class chuck taylor all star\",\"url\":\"/assets/catalog/4056/5908/plv3360-Black-list.png\"},\"url\":\"/geography-class-chuck-taylor-all-star-81\"},{\"productId\":12,\"name\":\"Swift run x shoes\",\"sku\":\"NJC86672-Pink-XL\",\"price\":{\"regular\":{\"value\":370.7,\"text\":\"$370.70\"},\"special\":{\"value\":370.7,\"text\":\"$370.70\"}},\"image\":{\"alt\":\"Swift run x shoes\",\"url\":\"/assets/catalog/3241/9300/plv1517-Pink-list.png\"},\"url\":\"/kids/swift-run-x-shoes-12\"}]}},\"ee8xunk5shlnt0g55h\":\"/cart\",\"ee8xunk5shlnt0g55i\":null,\"ee8xunk5shlnt0g55j\":{\"breadcrumbs\":[]},\"ee8xunk5shlnt0g55k\":{\"copyRight\":null},\"ee8xunk5shlnt0g55l\":{\"title\":\"Charka Nurture\",\"description\":\"An Amazing EverShop Store\"},\"ee8xunk5shlnt0g55m\":{\"headTags\":{\"metas\":[],\"links\":[],\"scripts\":[],\"base\":null}},\"ee8xunk5shlnt0g55n\":{\"logo\":{\"src\":null,\"alt\":null,\"width\":null,\"height\":null}},\"ee8xunk5shlnt0g55o\":{\"items\":[{\"name\":\"Men\",\"url\":\"/men\"},{\"name\":\"Women\",\"url\":\"/women\"}]},\"ee8xunk5shlnt0g55p\":{\"items\":[{\"name\":\"Men\",\"url\":\"/men\"},{\"name\":\"Women\",\"url\":\"/women\"}]},\"ee8xunk5shlnt0g55q\":null,\"ee8xunk5shlnt0g55r\":\"/account\",\"ee8xunk5shlnt0g55s\":\"/account/login\"},\"propsMap\":{\"L25vZGVfbW9kdWxlcy9AZXZlcnNob3AvZXZlcnNob3Avc3JjL21vZHVsZXMvY2F0YWxvZy9wYWdlcy9mcm9udFN0b3JlL2FsbC9TZWFyY2hCb3guanN4\":[{\"origin\":\"searchPageUrl\",\"alias\":\"ee8xunk5shlnt0g55f\"}],\"L25vZGVfbW9kdWxlcy9AZXZlcnNob3AvZXZlcnNob3Avc3JjL21vZHVsZXMvY2F0YWxvZy9wYWdlcy9mcm9udFN0b3JlL2hvbWVwYWdlL0ZlYXR1cmVkQ2F0ZWdvcmllcy5qc3g=\":[],\"L25vZGVfbW9kdWxlcy9AZXZlcnNob3AvZXZlcnNob3Avc3JjL21vZHVsZXMvY2F0YWxvZy9wYWdlcy9mcm9udFN0b3JlL2hvbWVwYWdlL0ZlYXR1cmVkUHJvZHVjdHMuanN4\":[{\"origin\":\"collection\",\"alias\":\"ee8xunk5shlnt0g55g\"}],\"L25vZGVfbW9kdWxlcy9AZXZlcnNob3AvZXZlcnNob3Avc3JjL21vZHVsZXMvY2hlY2tvdXQvcGFnZXMvZnJvbnRTdG9yZS9hbGwvTWluaUNhcnQuanN4\":[{\"origin\":\"cartUrl\",\"alias\":\"ee8xunk5shlnt0g55h\"},{\"origin\":\"cart\",\"alias\":\"ee8xunk5shlnt0g55i\"}],\"L25vZGVfbW9kdWxlcy9AZXZlcnNob3AvZXZlcnNob3Avc3JjL21vZHVsZXMvY21zL3BhZ2VzL2Zyb250U3RvcmUvYWxsL0JyZWFkY3J1bWIuanN4\":[{\"origin\":\"pageInfo\",\"alias\":\"ee8xunk5shlnt0g55j\"}],\"L25vZGVfbW9kdWxlcy9AZXZlcnNob3AvZXZlcnNob3Avc3JjL21vZHVsZXMvY21zL3BhZ2VzL2Zyb250U3RvcmUvYWxsL0Zvb3Rlci5qc3g=\":[{\"origin\":\"themeConfig\",\"alias\":\"ee8xunk5shlnt0g55k\"}],\"L25vZGVfbW9kdWxlcy9AZXZlcnNob3AvZXZlcnNob3Avc3JjL21vZHVsZXMvY21zL3BhZ2VzL2Zyb250U3RvcmUvYWxsL0hlYWRUYWdzLmpzeA==\":[{\"origin\":\"pageInfo\",\"alias\":\"ee8xunk5shlnt0g55l\"},{\"origin\":\"themeConfig\",\"alias\":\"ee8xunk5shlnt0g55m\"}],\"L25vZGVfbW9kdWxlcy9AZXZlcnNob3AvZXZlcnNob3Avc3JjL21vZHVsZXMvY21zL3BhZ2VzL2Zyb250U3RvcmUvYWxsL0xheW91dC5qc3g=\":[],\"L25vZGVfbW9kdWxlcy9AZXZlcnNob3AvZXZlcnNob3Avc3JjL21vZHVsZXMvY21zL3BhZ2VzL2Zyb250U3RvcmUvYWxsL0xvZ28uanN4\":[{\"origin\":\"themeConfig\",\"alias\":\"ee8xunk5shlnt0g55n\"}],\"L25vZGVfbW9kdWxlcy9AZXZlcnNob3AvZXZlcnNob3Avc3JjL21vZHVsZXMvY21zL3BhZ2VzL2Zyb250U3RvcmUvYWxsL01lbnUuanN4\":[{\"origin\":\"menu\",\"alias\":\"ee8xunk5shlnt0g55o\"}],\"L25vZGVfbW9kdWxlcy9AZXZlcnNob3AvZXZlcnNob3Avc3JjL21vZHVsZXMvY21zL3BhZ2VzL2Zyb250U3RvcmUvYWxsL01vYmlsZU1lbnUuanN4\":[{\"origin\":\"menu\",\"alias\":\"ee8xunk5shlnt0g55p\"}],\"L25vZGVfbW9kdWxlcy9AZXZlcnNob3AvZXZlcnNob3Avc3JjL21vZHVsZXMvY21zL3BhZ2VzL2Zyb250U3RvcmUvYWxsL05vdGlmaWNhdGlvbi5qc3g=\":[],\"L25vZGVfbW9kdWxlcy9AZXZlcnNob3AvZXZlcnNob3Avc3JjL21vZHVsZXMvY21zL3BhZ2VzL2Zyb250U3RvcmUvaG9tZXBhZ2UvTWFpbkJhbm5lci5qc3g=\":[],\"L25vZGVfbW9kdWxlcy9AZXZlcnNob3AvZXZlcnNob3Avc3JjL21vZHVsZXMvY3VzdG9tZXIvcGFnZXMvZnJvbnRTdG9yZS9hbGwvVXNlckljb24uanN4\":[{\"origin\":\"customer\",\"alias\":\"ee8xunk5shlnt0g55q\"},{\"origin\":\"accountUrl\",\"alias\":\"ee8xunk5shlnt0g55r\"},{\"origin\":\"loginUrl\",\"alias\":\"ee8xunk5shlnt0g55s\"}]}}</script>, <link href=\"/assets/frontStore/homepage/client/903d232babd9d1207624.css\" rel=\"stylesheet\"/>, <title>Charka Nurture</title>, <meta content=\"An Amazing EverShop Store\" name=\"description\"/>, <meta content=\"width=device-width, initial-scale=1.0\" name=\"viewport\"/>, <body id=\"body\"><div class=\"bg-background\" id=\"app\"><div class=\"wrapper\"><div class=\"loading-bar\" style=\"width:0%;display:none\"></div><div class=\"header flex justify-between\"><div class=\"logo\"><a class=\"logo-icon\" href=\"/\"><svg fill=\"none\" height=\"146\" viewbox=\"0 0 128 146\" width=\"128\" xmlns=\"http://www.w3.org/2000/svg\"><path d=\"M32.388 18.0772L1.15175 36.1544L1.05206 72.5081L0.985596 108.895L32.4213 127.039C49.7009 137.008 63.9567 145.182 64.1228 145.182C64.289 145.182 72.8956 140.264 83.2966 134.283C93.6644 128.268 107.82 120.127 114.732 116.139L127.26 108.895V101.119V93.3102L126.529 93.7089C126.097 93.9415 111.941 102.083 95.06 111.853C78.1459 121.622 64.156 129.531 63.9567 129.498C63.724 129.431 52.5587 123.051 39.1005 115.275L14.6099 101.152V72.5746V43.9967L25.6756 37.6165C31.7234 34.1274 42.8223 27.7472 50.2991 23.4273C57.7426 19.1073 63.9899 15.585 64.1228 15.585C64.2557 15.585 72.9288 20.5362 83.3963 26.5841L113.902 43.9967L118.713 41.1657L127.26 36.1544L113.902 28.5447C103.334 22.2974 64.3554 -0.033191 64.0231 3.90721e-05C63.8237 3.90721e-05 49.568 8.14142 32.388 18.0772Z\" fill=\"#1F1F1F\"></path><path d=\"M96.0237 54.1983C78.9434 64.0677 64.721 72.2423 64.4219 72.3088C64.0896 72.4084 55.7488 67.7562 44.8826 61.509L25.9082 50.543V58.4186L25.9414 66.2609L44.3841 76.8945C54.5193 82.743 63.1591 87.6611 63.5911 87.8272C64.2557 88.0598 68.9079 85.5011 95.5585 70.1156C112.705 60.1798 126.861 51.9719 127.027 51.839C127.16 51.7061 127.227 48.1505 127.194 43.9302L127.094 36.2541L96.0237 54.1983Z\" fill=\"#1F1F1F\"></path><path d=\"M123.771 66.7261C121.943 67.7562 107.854 75.8976 92.4349 84.8033C77.0161 93.7089 64.289 100.986 64.1228 100.986C63.9567 100.986 55.3501 96.0683 44.9491 90.0869L26.0744 79.1874L25.9747 86.8303C25.9082 92.6788 26.0079 94.5729 26.307 94.872C26.9383 95.4369 63.7241 116.604 64.1228 116.604C64.4551 116.604 126.496 80.8821 127.027 80.4169C127.16 80.284 127.227 76.7284 127.194 72.4749L127.094 64.7987L123.771 66.7261Z\" fill=\"#1F1F1F\"></path></svg></a></div><div class=\"main-menu self-center hidden md:block\"><ul class=\"nav flex space-x-275 justify-content-center\"><li class=\"nav-item\"><a class=\"nav-link hover:underline\" href=\"/men\">Men</a></li><li class=\"nav-item\"><a class=\"nav-link hover:underline\" href=\"/women\">Women</a></li></ul></div><div class=\"icon-wrapper flex justify-between space-x-1\"><div class=\"search-box\"><a class=\"search-icon\" href=\"#\"><svg fill=\"none\" stroke=\"currentColor\" style=\"width:2.2rem;height:2.2rem\" viewbox=\"0 0 24 24\" xmlns=\"http://www.w3.org/2000/svg\"><path d=\"M21 21l-6-6m2-5a7 7 0 11-14 0 7 7 0 0114 0z\" stroke-linecap=\"round\" stroke-linejoin=\"round\" stroke-width=\"2\"></path></svg></a></div><div class=\"mini-cart-wrapper self-center\"><a class=\"mini-cart-icon\" href=\"/cart\"><svg aria-hidden=\"true\" fill=\"none\" height=\"20\" stroke=\"currentColor\" stroke-width=\"2\" viewbox=\"0 0 24 24\" width=\"20\" xmlns=\"http://www.w3.org/2000/svg\"><path d=\"M16 11V7a4 4 0 00-8 0v4M5 9h14l1 12H4L5 9z\" stroke-linecap=\"round\" stroke-linejoin=\"round\"></path></svg></a></div><div class=\"self-center\"><a href=\"/account/login\"><svg aria-hidden=\"true\" fill=\"none\" height=\"25\" stroke=\"currentColor\" stroke-width=\"2\" viewbox=\"0 0 24 24\" width=\"25\" xmlns=\"http://www.w3.org/2000/svg\"><path d=\"M16 7a4 4 0 11-8 0 4 4 0 018 0zM12 14a7 7 0 00-7 7h14a7 7 0 00-7-7z\" stroke-linecap=\"round\" stroke-linejoin=\"round\"></path></svg></a></div><div class=\"main-menu-mobile self-center\"><a class=\"menu-icon\" href=\"#\"><svg class=\"h-6 w-6\" fill=\"none\" stroke=\"currentColor\" viewbox=\"0 0 24 24\" xmlns=\"http://www.w3.org/2000/svg\"><path d=\"M4 6h16M4 12h16M4 18h16\" stroke-linecap=\"round\" stroke-linejoin=\"round\" stroke-width=\"2\"></path></svg></a></div></div></div><main class=\"content\"><div class=\"main-banner-home flex items-center\"><div class=\"container grid grid-cols-1 md:grid-cols-2 gap-2\"><div></div><div class=\"text-center md:text-left px-2\"><h2 class=\"h1\">Discount 20% For All Orders Over $2000</h2><p>Use coupon code<span class=\"font-bold\">DISCOUNT20</span></p><p>Use coupon DISCOUNT20</p><p></p></div></div></div><div class=\"mt-15\"><div class=\"grid grid-cols-1 md:grid-cols-3 gap-2 page-width\"><div><div class=\"text-center\"><img alt=\"\" src=\"/assets/homepage/banner/men-shoes.jpeg\"/></div><h3 class=\"h4 uppercase mt-1 mb-1\">Men shoes collection</h3><div class=\"mb-1\"><p>Constructed from luxury nylons, leathers, and custom hardware, featuring sport details such as hidden breathing vents, waterproof + antimicrobial linings, and more.</p></div><a class=\"button primary\" href=\"/kids\"><span>Shop kids</span></a></div><div><div><img alt=\"\" src=\"/assets/homepage/banner/women-shoes.jpeg\"/></div><h3 class=\"h4 uppercase mt-1 mb-1\">Women shoes collection</h3><div class=\"mb-1\"><p>Constructed from luxury nylons, leathers, and custom hardware, featuring sport details such as hidden breathing vents, waterproof + antimicrobial linings, and more.</p></div><a class=\"button primary\" href=\"/women\"><span>Shop women</span></a></div><div><div><img alt=\"\" src=\"/assets/homepage/banner/kid-shoes.jpeg\"/></div><h3 class=\"h4 uppercase mt-1 mb-1\">Men shoes collection</h3><div class=\"mb-1\"><p>Constructed from luxury nylons, leathers, and custom hardware, featuring sport details such as hidden breathing vents, waterproof + antimicrobial linings, and more.</p></div><a class=\"button primary\" href=\"/men\"><span>Shop men</span></a></div></div></div><div class=\"pt-3\"><div class=\"page-width\"><h3 class=\"mt-3 mb-3 text-center uppercase h5 tracking-widest\">Featured Products</h3><div class=\"grid grid-cols-2 md:grid-cols-4 gap-2\"><div class=\"listing-tem\"><div class=\"product-thumbnail-listing\"><a href=\"/men/nike-air-zoom-pegasus-35-146\"><img alt=\"Nike air zoom pegasus 35\" src=\"/assets/catalog/1034/3600/plv7632-Green-list.png\"/></a></div><div class=\"product-name product-list-name mt-1 mb-025\"><a class=\"font-bold hover:underline h5\" href=\"/men/nike-air-zoom-pegasus-35-146\"><span>Nike air zoom pegasus 35</span></a></div><div class=\"product-price-listing\"><div><span class=\"sale-price font-semibold\">$452.10</span></div></div></div><div class=\"listing-tem\"><div class=\"product-thumbnail-listing\"><a href=\"/mix-and-match-chuck-taylor-all-star-118\"><img alt=\"Mix and match chuck taylor all star\" src=\"/assets/catalog/5059/3470/plv4547-Grey-list.png\"/></a></div><div class=\"product-name product-list-name mt-1 mb-025\"><a class=\"font-bold hover:underline h5\" href=\"/mix-and-match-chuck-taylor-all-star-118\"><span>Mix and match chuck taylor all star</span></a></div><div class=\"product-price-listing\"><div><span class=\"sale-price font-semibold\">$877.80</span></div></div></div><div class=\"listing-tem\"><div class=\"product-thumbnail-listing\"><a href=\"/geography-class-chuck-taylor-all-star-81\"><img alt=\"Geography class chuck taylor all star\" src=\"/assets/catalog/4056/5908/plv3360-Black-list.png\"/></a></div><div class=\"product-name product-list-name mt-1 mb-025\"><a class=\"font-bold hover:underline h5\" href=\"/geography-class-chuck-taylor-all-star-81\"><span>Geography class chuck taylor all star</span></a></div><div class=\"product-price-listing\"><div><span class=\"sale-price font-semibold\">$275.00</span></div></div></div><div class=\"listing-tem\"><div class=\"product-thumbnail-listing\"><a href=\"/kids/swift-run-x-shoes-12\"><img alt=\"Swift run x shoes\" src=\"/assets/catalog/3241/9300/plv1517-Pink-list.png\"/></a></div><div class=\"product-name product-list-name mt-1 mb-025\"><a class=\"font-bold hover:underline h5\" href=\"/kids/swift-run-x-shoes-12\"><span>Swift run x shoes</span></a></div><div class=\"product-price-listing\"><div><span class=\"sale-price font-semibold\">$370.70</span></div></div></div></div></div></div></main><div class=\"footer\"><div class=\"footer__default\"><div class=\"page-width grid grid-cols-1 md:grid-cols-2 gap-2 justify-between\"><div><div class=\"card-icons flex justify-center space-x-1 md:justify-start\"><div><svg aria-labelledby=\"pi-visa\" height=\"24\" viewbox=\"0 0 38 24\" width=\"38\" xmlns=\"http://www.w3.org/2000/svg\"><path d=\"M35 0H3C1.3 0 0 1.3 0 3v18c0 1.7 1.4 3 3 3h32c1.7 0 3-1.3 3-3V3c0-1.7-1.4-3-3-3z\" opacity=\"0.07\"></path><path d=\"M35 1c1.1 0 2 .9 2 2v18c0 1.1-.9 2-2 2H3c-1.1 0-2-.9-2-2V3c0-1.1.9-2 2-2h32\" fill=\"#fff\"></path><path d=\"M28.3 10.1H28c-.4 1-.7 1.5-1 3h1.9c-.3-1.5-.3-2.2-.6-3zm2.9 5.9h-1.7c-.1 0-.1 0-.2-.1l-.2-.9-.1-.2h-2.4c-.1 0-.2 0-.2.2l-.3.9c0 .1-.1.1-.1.1h-2.1l.2-.5L27 8.7c0-.5.3-.7.8-.7h1.5c.1 0 .2 0 .2.2l1.4 6.5c.1.4.2.7.2 1.1.1.1.1.1.1.2zm-13.4-.3l.4-1.8c.1 0 .2.1.2.1.7.3 1.4.5 2.1.4.2 0 .5-.1.7-.2.5-.2.5-.7.1-1.1-.2-.2-.5-.3-.8-.5-.4-.2-.8-.4-1.1-.7-1.2-1-.8-2.4-.1-3.1.6-.4.9-.8 1.7-.8 1.2 0 2.5 0 3.1.2h.1c-.1.6-.2 1.1-.4 1.7-.5-.2-1-.4-1.5-.4-.3 0-.6 0-.9.1-.2 0-.3.1-.4.2-.2.2-.2.5 0 .7l.5.4c.4.2.8.4 1.1.6.5.3 1 .8 1.1 1.4.2.9-.1 1.7-.9 2.3-.5.4-.7.6-1.4.6-1.4 0-2.5.1-3.4-.2-.1.2-.1.2-.2.1zm-3.5.3c.1-.7.1-.7.2-1 .5-2.2 1-4.5 1.4-6.7.1-.2.1-.3.3-.3H18c-.2 1.2-.4 2.1-.7 3.2-.3 1.5-.6 3-1 4.5 0 .2-.1.2-.3.2M5 8.2c0-.1.2-.2.3-.2h3.4c.5 0 .9.3 1 .8l.9 4.4c0 .1 0 .1.1.2 0-.1.1-.1.1-.1l2.1-5.1c-.1-.1 0-.2.1-.2h2.1c0 .1 0 .1-.1.2l-3.1 7.3c-.1.2-.1.3-.2.4-.1.1-.3 0-.5 0H9.7c-.1 0-.2 0-.2-.2L7.9 9.5c-.2-.2-.5-.5-.9-.6-.6-.3-1.7-.5-1.9-.5L5 8.2z\" fill=\"#142688\"></path></svg></div><div><svg aria-labelledby=\"pi-master\" height=\"24\" viewbox=\"0 0 38 24\" width=\"38\" xmlns=\"http://www.w3.org/2000/svg\"><path d=\"M35 0H3C1.3 0 0 1.3 0 3v18c0 1.7 1.4 3 3 3h32c1.7 0 3-1.3 3-3V3c0-1.7-1.4-3-3-3z\" opacity=\"0.07\"></path><path d=\"M35 1c1.1 0 2 .9 2 2v18c0 1.1-.9 2-2 2H3c-1.1 0-2-.9-2-2V3c0-1.1.9-2 2-2h32\" fill=\"#fff\"></path><circle cx=\"15\" cy=\"12\" fill=\"#EB001B\" r=\"7\"></circle><circle cx=\"23\" cy=\"12\" fill=\"#F79E1B\" r=\"7\"></circle><path d=\"M22 12c0-2.4-1.2-4.5-3-5.7-1.8 1.3-3 3.4-3 5.7s1.2 4.5 3 5.7c1.8-1.2 3-3.3 3-5.7z\" fill=\"#FF5F00\"></path></svg></div><div><svg aria-labelledby=\"pi-paypal\" height=\"24\" role=\"img\" viewbox=\"0 0 38 24\" width=\"38\" xmlns=\"http://www.w3.org/2000/svg\"><title id=\"pi-paypal\">PayPal</title><path d=\"M35 0H3C1.3 0 0 1.3 0 3v18c0 1.7 1.4 3 3 3h32c1.7 0 3-1.3 3-3V3c0-1.7-1.4-3-3-3z\" opacity=\".07\"></path><path d=\"M35 1c1.1 0 2 .9 2 2v18c0 1.1-.9 2-2 2H3c-1.1 0-2-.9-2-2V3c0-1.1.9-2 2-2h32\" fill=\"#fff\"></path><path d=\"M23.9 8.3c.2-1 0-1.7-.6-2.3-.6-.7-1.7-1-3.1-1h-4.1c-.3 0-.5.2-.6.5L14 15.6c0 .2.1.4.3.4H17l.4-3.4 1.8-2.2 4.7-2.1z\" fill=\"#003087\"></path><path d=\"M23.9 8.3l-.2.2c-.5 2.8-2.2 3.8-4.6 3.8H18c-.3 0-.5.2-.6.5l-.6 3.9-.2 1c0 .2.1.4.3.4H19c.3 0 .5-.2.5-.4v-.1l.4-2.4v-.1c0-.2.3-.4.5-.4h.3c2.1 0 3.7-.8 4.1-3.2.2-1 .1-1.8-.4-2.4-.1-.5-.3-.7-.5-.8z\" fill=\"#3086C8\"></path><path d=\"M23.3 8.1c-.1-.1-.2-.1-.3-.1-.1 0-.2 0-.3-.1-.3-.1-.7-.1-1.1-.1h-3c-.1 0-.2 0-.2.1-.2.1-.3.2-.3.4l-.7 4.4v.1c0-.3.3-.5.6-.5h1.3c2.5 0 4.1-1 4.6-3.8v-.2c-.1-.1-.3-.2-.5-.2h-.1z\" fill=\"#012169\"></path></svg></div></div></div><div class=\"self-center\"><div class=\"copyright text-center md:text-right text-textSubdued\"><span></span></div></div></div></div></div><div><div class=\"Toastify\"></div></div></div></div><script src=\"/assets/frontStore/homepage/client/903d232babd9d1207624.js\"></script></body>, <div class=\"bg-background\" id=\"app\"><div class=\"wrapper\"><div class=\"loading-bar\" style=\"width:0%;display:none\"></div><div class=\"header flex justify-between\"><div class=\"logo\"><a class=\"logo-icon\" href=\"/\"><svg fill=\"none\" height=\"146\" viewbox=\"0 0 128 146\" width=\"128\" xmlns=\"http://www.w3.org/2000/svg\"><path d=\"M32.388 18.0772L1.15175 36.1544L1.05206 72.5081L0.985596 108.895L32.4213 127.039C49.7009 137.008 63.9567 145.182 64.1228 145.182C64.289 145.182 72.8956 140.264 83.2966 134.283C93.6644 128.268 107.82 120.127 114.732 116.139L127.26 108.895V101.119V93.3102L126.529 93.7089C126.097 93.9415 111.941 102.083 95.06 111.853C78.1459 121.622 64.156 129.531 63.9567 129.498C63.724 129.431 52.5587 123.051 39.1005 115.275L14.6099 101.152V72.5746V43.9967L25.6756 37.6165C31.7234 34.1274 42.8223 27.7472 50.2991 23.4273C57.7426 19.1073 63.9899 15.585 64.1228 15.585C64.2557 15.585 72.9288 20.5362 83.3963 26.5841L113.902 43.9967L118.713 41.1657L127.26 36.1544L113.902 28.5447C103.334 22.2974 64.3554 -0.033191 64.0231 3.90721e-05C63.8237 3.90721e-05 49.568 8.14142 32.388 18.0772Z\" fill=\"#1F1F1F\"></path><path d=\"M96.0237 54.1983C78.9434 64.0677 64.721 72.2423 64.4219 72.3088C64.0896 72.4084 55.7488 67.7562 44.8826 61.509L25.9082 50.543V58.4186L25.9414 66.2609L44.3841 76.8945C54.5193 82.743 63.1591 87.6611 63.5911 87.8272C64.2557 88.0598 68.9079 85.5011 95.5585 70.1156C112.705 60.1798 126.861 51.9719 127.027 51.839C127.16 51.7061 127.227 48.1505 127.194 43.9302L127.094 36.2541L96.0237 54.1983Z\" fill=\"#1F1F1F\"></path><path d=\"M123.771 66.7261C121.943 67.7562 107.854 75.8976 92.4349 84.8033C77.0161 93.7089 64.289 100.986 64.1228 100.986C63.9567 100.986 55.3501 96.0683 44.9491 90.0869L26.0744 79.1874L25.9747 86.8303C25.9082 92.6788 26.0079 94.5729 26.307 94.872C26.9383 95.4369 63.7241 116.604 64.1228 116.604C64.4551 116.604 126.496 80.8821 127.027 80.4169C127.16 80.284 127.227 76.7284 127.194 72.4749L127.094 64.7987L123.771 66.7261Z\" fill=\"#1F1F1F\"></path></svg></a></div><div class=\"main-menu self-center hidden md:block\"><ul class=\"nav flex space-x-275 justify-content-center\"><li class=\"nav-item\"><a class=\"nav-link hover:underline\" href=\"/men\">Men</a></li><li class=\"nav-item\"><a class=\"nav-link hover:underline\" href=\"/women\">Women</a></li></ul></div><div class=\"icon-wrapper flex justify-between space-x-1\"><div class=\"search-box\"><a class=\"search-icon\" href=\"#\"><svg fill=\"none\" stroke=\"currentColor\" style=\"width:2.2rem;height:2.2rem\" viewbox=\"0 0 24 24\" xmlns=\"http://www.w3.org/2000/svg\"><path d=\"M21 21l-6-6m2-5a7 7 0 11-14 0 7 7 0 0114 0z\" stroke-linecap=\"round\" stroke-linejoin=\"round\" stroke-width=\"2\"></path></svg></a></div><div class=\"mini-cart-wrapper self-center\"><a class=\"mini-cart-icon\" href=\"/cart\"><svg aria-hidden=\"true\" fill=\"none\" height=\"20\" stroke=\"currentColor\" stroke-width=\"2\" viewbox=\"0 0 24 24\" width=\"20\" xmlns=\"http://www.w3.org/2000/svg\"><path d=\"M16 11V7a4 4 0 00-8 0v4M5 9h14l1 12H4L5 9z\" stroke-linecap=\"round\" stroke-linejoin=\"round\"></path></svg></a></div><div class=\"self-center\"><a href=\"/account/login\"><svg aria-hidden=\"true\" fill=\"none\" height=\"25\" stroke=\"currentColor\" stroke-width=\"2\" viewbox=\"0 0 24 24\" width=\"25\" xmlns=\"http://www.w3.org/2000/svg\"><path d=\"M16 7a4 4 0 11-8 0 4 4 0 018 0zM12 14a7 7 0 00-7 7h14a7 7 0 00-7-7z\" stroke-linecap=\"round\" stroke-linejoin=\"round\"></path></svg></a></div><div class=\"main-menu-mobile self-center\"><a class=\"menu-icon\" href=\"#\"><svg class=\"h-6 w-6\" fill=\"none\" stroke=\"currentColor\" viewbox=\"0 0 24 24\" xmlns=\"http://www.w3.org/2000/svg\"><path d=\"M4 6h16M4 12h16M4 18h16\" stroke-linecap=\"round\" stroke-linejoin=\"round\" stroke-width=\"2\"></path></svg></a></div></div></div><main class=\"content\"><div class=\"main-banner-home flex items-center\"><div class=\"container grid grid-cols-1 md:grid-cols-2 gap-2\"><div></div><div class=\"text-center md:text-left px-2\"><h2 class=\"h1\">Discount 20% For All Orders Over $2000</h2><p>Use coupon code<span class=\"font-bold\">DISCOUNT20</span></p><p>Use coupon DISCOUNT20</p><p></p></div></div></div><div class=\"mt-15\"><div class=\"grid grid-cols-1 md:grid-cols-3 gap-2 page-width\"><div><div class=\"text-center\"><img alt=\"\" src=\"/assets/homepage/banner/men-shoes.jpeg\"/></div><h3 class=\"h4 uppercase mt-1 mb-1\">Men shoes collection</h3><div class=\"mb-1\"><p>Constructed from luxury nylons, leathers, and custom hardware, featuring sport details such as hidden breathing vents, waterproof + antimicrobial linings, and more.</p></div><a class=\"button primary\" href=\"/kids\"><span>Shop kids</span></a></div><div><div><img alt=\"\" src=\"/assets/homepage/banner/women-shoes.jpeg\"/></div><h3 class=\"h4 uppercase mt-1 mb-1\">Women shoes collection</h3><div class=\"mb-1\"><p>Constructed from luxury nylons, leathers, and custom hardware, featuring sport details such as hidden breathing vents, waterproof + antimicrobial linings, and more.</p></div><a class=\"button primary\" href=\"/women\"><span>Shop women</span></a></div><div><div><img alt=\"\" src=\"/assets/homepage/banner/kid-shoes.jpeg\"/></div><h3 class=\"h4 uppercase mt-1 mb-1\">Men shoes collection</h3><div class=\"mb-1\"><p>Constructed from luxury nylons, leathers, and custom hardware, featuring sport details such as hidden breathing vents, waterproof + antimicrobial linings, and more.</p></div><a class=\"button primary\" href=\"/men\"><span>Shop men</span></a></div></div></div><div class=\"pt-3\"><div class=\"page-width\"><h3 class=\"mt-3 mb-3 text-center uppercase h5 tracking-widest\">Featured Products</h3><div class=\"grid grid-cols-2 md:grid-cols-4 gap-2\"><div class=\"listing-tem\"><div class=\"product-thumbnail-listing\"><a href=\"/men/nike-air-zoom-pegasus-35-146\"><img alt=\"Nike air zoom pegasus 35\" src=\"/assets/catalog/1034/3600/plv7632-Green-list.png\"/></a></div><div class=\"product-name product-list-name mt-1 mb-025\"><a class=\"font-bold hover:underline h5\" href=\"/men/nike-air-zoom-pegasus-35-146\"><span>Nike air zoom pegasus 35</span></a></div><div class=\"product-price-listing\"><div><span class=\"sale-price font-semibold\">$452.10</span></div></div></div><div class=\"listing-tem\"><div class=\"product-thumbnail-listing\"><a href=\"/mix-and-match-chuck-taylor-all-star-118\"><img alt=\"Mix and match chuck taylor all star\" src=\"/assets/catalog/5059/3470/plv4547-Grey-list.png\"/></a></div><div class=\"product-name product-list-name mt-1 mb-025\"><a class=\"font-bold hover:underline h5\" href=\"/mix-and-match-chuck-taylor-all-star-118\"><span>Mix and match chuck taylor all star</span></a></div><div class=\"product-price-listing\"><div><span class=\"sale-price font-semibold\">$877.80</span></div></div></div><div class=\"listing-tem\"><div class=\"product-thumbnail-listing\"><a href=\"/geography-class-chuck-taylor-all-star-81\"><img alt=\"Geography class chuck taylor all star\" src=\"/assets/catalog/4056/5908/plv3360-Black-list.png\"/></a></div><div class=\"product-name product-list-name mt-1 mb-025\"><a class=\"font-bold hover:underline h5\" href=\"/geography-class-chuck-taylor-all-star-81\"><span>Geography class chuck taylor all star</span></a></div><div class=\"product-price-listing\"><div><span class=\"sale-price font-semibold\">$275.00</span></div></div></div><div class=\"listing-tem\"><div class=\"product-thumbnail-listing\"><a href=\"/kids/swift-run-x-shoes-12\"><img alt=\"Swift run x shoes\" src=\"/assets/catalog/3241/9300/plv1517-Pink-list.png\"/></a></div><div class=\"product-name product-list-name mt-1 mb-025\"><a class=\"font-bold hover:underline h5\" href=\"/kids/swift-run-x-shoes-12\"><span>Swift run x shoes</span></a></div><div class=\"product-price-listing\"><div><span class=\"sale-price font-semibold\">$370.70</span></div></div></div></div></div></div></main><div class=\"footer\"><div class=\"footer__default\"><div class=\"page-width grid grid-cols-1 md:grid-cols-2 gap-2 justify-between\"><div><div class=\"card-icons flex justify-center space-x-1 md:justify-start\"><div><svg aria-labelledby=\"pi-visa\" height=\"24\" viewbox=\"0 0 38 24\" width=\"38\" xmlns=\"http://www.w3.org/2000/svg\"><path d=\"M35 0H3C1.3 0 0 1.3 0 3v18c0 1.7 1.4 3 3 3h32c1.7 0 3-1.3 3-3V3c0-1.7-1.4-3-3-3z\" opacity=\"0.07\"></path><path d=\"M35 1c1.1 0 2 .9 2 2v18c0 1.1-.9 2-2 2H3c-1.1 0-2-.9-2-2V3c0-1.1.9-2 2-2h32\" fill=\"#fff\"></path><path d=\"M28.3 10.1H28c-.4 1-.7 1.5-1 3h1.9c-.3-1.5-.3-2.2-.6-3zm2.9 5.9h-1.7c-.1 0-.1 0-.2-.1l-.2-.9-.1-.2h-2.4c-.1 0-.2 0-.2.2l-.3.9c0 .1-.1.1-.1.1h-2.1l.2-.5L27 8.7c0-.5.3-.7.8-.7h1.5c.1 0 .2 0 .2.2l1.4 6.5c.1.4.2.7.2 1.1.1.1.1.1.1.2zm-13.4-.3l.4-1.8c.1 0 .2.1.2.1.7.3 1.4.5 2.1.4.2 0 .5-.1.7-.2.5-.2.5-.7.1-1.1-.2-.2-.5-.3-.8-.5-.4-.2-.8-.4-1.1-.7-1.2-1-.8-2.4-.1-3.1.6-.4.9-.8 1.7-.8 1.2 0 2.5 0 3.1.2h.1c-.1.6-.2 1.1-.4 1.7-.5-.2-1-.4-1.5-.4-.3 0-.6 0-.9.1-.2 0-.3.1-.4.2-.2.2-.2.5 0 .7l.5.4c.4.2.8.4 1.1.6.5.3 1 .8 1.1 1.4.2.9-.1 1.7-.9 2.3-.5.4-.7.6-1.4.6-1.4 0-2.5.1-3.4-.2-.1.2-.1.2-.2.1zm-3.5.3c.1-.7.1-.7.2-1 .5-2.2 1-4.5 1.4-6.7.1-.2.1-.3.3-.3H18c-.2 1.2-.4 2.1-.7 3.2-.3 1.5-.6 3-1 4.5 0 .2-.1.2-.3.2M5 8.2c0-.1.2-.2.3-.2h3.4c.5 0 .9.3 1 .8l.9 4.4c0 .1 0 .1.1.2 0-.1.1-.1.1-.1l2.1-5.1c-.1-.1 0-.2.1-.2h2.1c0 .1 0 .1-.1.2l-3.1 7.3c-.1.2-.1.3-.2.4-.1.1-.3 0-.5 0H9.7c-.1 0-.2 0-.2-.2L7.9 9.5c-.2-.2-.5-.5-.9-.6-.6-.3-1.7-.5-1.9-.5L5 8.2z\" fill=\"#142688\"></path></svg></div><div><svg aria-labelledby=\"pi-master\" height=\"24\" viewbox=\"0 0 38 24\" width=\"38\" xmlns=\"http://www.w3.org/2000/svg\"><path d=\"M35 0H3C1.3 0 0 1.3 0 3v18c0 1.7 1.4 3 3 3h32c1.7 0 3-1.3 3-3V3c0-1.7-1.4-3-3-3z\" opacity=\"0.07\"></path><path d=\"M35 1c1.1 0 2 .9 2 2v18c0 1.1-.9 2-2 2H3c-1.1 0-2-.9-2-2V3c0-1.1.9-2 2-2h32\" fill=\"#fff\"></path><circle cx=\"15\" cy=\"12\" fill=\"#EB001B\" r=\"7\"></circle><circle cx=\"23\" cy=\"12\" fill=\"#F79E1B\" r=\"7\"></circle><path d=\"M22 12c0-2.4-1.2-4.5-3-5.7-1.8 1.3-3 3.4-3 5.7s1.2 4.5 3 5.7c1.8-1.2 3-3.3 3-5.7z\" fill=\"#FF5F00\"></path></svg></div><div><svg aria-labelledby=\"pi-paypal\" height=\"24\" role=\"img\" viewbox=\"0 0 38 24\" width=\"38\" xmlns=\"http://www.w3.org/2000/svg\"><title id=\"pi-paypal\">PayPal</title><path d=\"M35 0H3C1.3 0 0 1.3 0 3v18c0 1.7 1.4 3 3 3h32c1.7 0 3-1.3 3-3V3c0-1.7-1.4-3-3-3z\" opacity=\".07\"></path><path d=\"M35 1c1.1 0 2 .9 2 2v18c0 1.1-.9 2-2 2H3c-1.1 0-2-.9-2-2V3c0-1.1.9-2 2-2h32\" fill=\"#fff\"></path><path d=\"M23.9 8.3c.2-1 0-1.7-.6-2.3-.6-.7-1.7-1-3.1-1h-4.1c-.3 0-.5.2-.6.5L14 15.6c0 .2.1.4.3.4H17l.4-3.4 1.8-2.2 4.7-2.1z\" fill=\"#003087\"></path><path d=\"M23.9 8.3l-.2.2c-.5 2.8-2.2 3.8-4.6 3.8H18c-.3 0-.5.2-.6.5l-.6 3.9-.2 1c0 .2.1.4.3.4H19c.3 0 .5-.2.5-.4v-.1l.4-2.4v-.1c0-.2.3-.4.5-.4h.3c2.1 0 3.7-.8 4.1-3.2.2-1 .1-1.8-.4-2.4-.1-.5-.3-.7-.5-.8z\" fill=\"#3086C8\"></path><path d=\"M23.3 8.1c-.1-.1-.2-.1-.3-.1-.1 0-.2 0-.3-.1-.3-.1-.7-.1-1.1-.1h-3c-.1 0-.2 0-.2.1-.2.1-.3.2-.3.4l-.7 4.4v.1c0-.3.3-.5.6-.5h1.3c2.5 0 4.1-1 4.6-3.8v-.2c-.1-.1-.3-.2-.5-.2h-.1z\" fill=\"#012169\"></path></svg></div></div></div><div class=\"self-center\"><div class=\"copyright text-center md:text-right text-textSubdued\"><span></span></div></div></div></div></div><div><div class=\"Toastify\"></div></div></div></div>, <div class=\"wrapper\"><div class=\"loading-bar\" style=\"width:0%;display:none\"></div><div class=\"header flex justify-between\"><div class=\"logo\"><a class=\"logo-icon\" href=\"/\"><svg fill=\"none\" height=\"146\" viewbox=\"0 0 128 146\" width=\"128\" xmlns=\"http://www.w3.org/2000/svg\"><path d=\"M32.388 18.0772L1.15175 36.1544L1.05206 72.5081L0.985596 108.895L32.4213 127.039C49.7009 137.008 63.9567 145.182 64.1228 145.182C64.289 145.182 72.8956 140.264 83.2966 134.283C93.6644 128.268 107.82 120.127 114.732 116.139L127.26 108.895V101.119V93.3102L126.529 93.7089C126.097 93.9415 111.941 102.083 95.06 111.853C78.1459 121.622 64.156 129.531 63.9567 129.498C63.724 129.431 52.5587 123.051 39.1005 115.275L14.6099 101.152V72.5746V43.9967L25.6756 37.6165C31.7234 34.1274 42.8223 27.7472 50.2991 23.4273C57.7426 19.1073 63.9899 15.585 64.1228 15.585C64.2557 15.585 72.9288 20.5362 83.3963 26.5841L113.902 43.9967L118.713 41.1657L127.26 36.1544L113.902 28.5447C103.334 22.2974 64.3554 -0.033191 64.0231 3.90721e-05C63.8237 3.90721e-05 49.568 8.14142 32.388 18.0772Z\" fill=\"#1F1F1F\"></path><path d=\"M96.0237 54.1983C78.9434 64.0677 64.721 72.2423 64.4219 72.3088C64.0896 72.4084 55.7488 67.7562 44.8826 61.509L25.9082 50.543V58.4186L25.9414 66.2609L44.3841 76.8945C54.5193 82.743 63.1591 87.6611 63.5911 87.8272C64.2557 88.0598 68.9079 85.5011 95.5585 70.1156C112.705 60.1798 126.861 51.9719 127.027 51.839C127.16 51.7061 127.227 48.1505 127.194 43.9302L127.094 36.2541L96.0237 54.1983Z\" fill=\"#1F1F1F\"></path><path d=\"M123.771 66.7261C121.943 67.7562 107.854 75.8976 92.4349 84.8033C77.0161 93.7089 64.289 100.986 64.1228 100.986C63.9567 100.986 55.3501 96.0683 44.9491 90.0869L26.0744 79.1874L25.9747 86.8303C25.9082 92.6788 26.0079 94.5729 26.307 94.872C26.9383 95.4369 63.7241 116.604 64.1228 116.604C64.4551 116.604 126.496 80.8821 127.027 80.4169C127.16 80.284 127.227 76.7284 127.194 72.4749L127.094 64.7987L123.771 66.7261Z\" fill=\"#1F1F1F\"></path></svg></a></div><div class=\"main-menu self-center hidden md:block\"><ul class=\"nav flex space-x-275 justify-content-center\"><li class=\"nav-item\"><a class=\"nav-link hover:underline\" href=\"/men\">Men</a></li><li class=\"nav-item\"><a class=\"nav-link hover:underline\" href=\"/women\">Women</a></li></ul></div><div class=\"icon-wrapper flex justify-between space-x-1\"><div class=\"search-box\"><a class=\"search-icon\" href=\"#\"><svg fill=\"none\" stroke=\"currentColor\" style=\"width:2.2rem;height:2.2rem\" viewbox=\"0 0 24 24\" xmlns=\"http://www.w3.org/2000/svg\"><path d=\"M21 21l-6-6m2-5a7 7 0 11-14 0 7 7 0 0114 0z\" stroke-linecap=\"round\" stroke-linejoin=\"round\" stroke-width=\"2\"></path></svg></a></div><div class=\"mini-cart-wrapper self-center\"><a class=\"mini-cart-icon\" href=\"/cart\"><svg aria-hidden=\"true\" fill=\"none\" height=\"20\" stroke=\"currentColor\" stroke-width=\"2\" viewbox=\"0 0 24 24\" width=\"20\" xmlns=\"http://www.w3.org/2000/svg\"><path d=\"M16 11V7a4 4 0 00-8 0v4M5 9h14l1 12H4L5 9z\" stroke-linecap=\"round\" stroke-linejoin=\"round\"></path></svg></a></div><div class=\"self-center\"><a href=\"/account/login\"><svg aria-hidden=\"true\" fill=\"none\" height=\"25\" stroke=\"currentColor\" stroke-width=\"2\" viewbox=\"0 0 24 24\" width=\"25\" xmlns=\"http://www.w3.org/2000/svg\"><path d=\"M16 7a4 4 0 11-8 0 4 4 0 018 0zM12 14a7 7 0 00-7 7h14a7 7 0 00-7-7z\" stroke-linecap=\"round\" stroke-linejoin=\"round\"></path></svg></a></div><div class=\"main-menu-mobile self-center\"><a class=\"menu-icon\" href=\"#\"><svg class=\"h-6 w-6\" fill=\"none\" stroke=\"currentColor\" viewbox=\"0 0 24 24\" xmlns=\"http://www.w3.org/2000/svg\"><path d=\"M4 6h16M4 12h16M4 18h16\" stroke-linecap=\"round\" stroke-linejoin=\"round\" stroke-width=\"2\"></path></svg></a></div></div></div><main class=\"content\"><div class=\"main-banner-home flex items-center\"><div class=\"container grid grid-cols-1 md:grid-cols-2 gap-2\"><div></div><div class=\"text-center md:text-left px-2\"><h2 class=\"h1\">Discount 20% For All Orders Over $2000</h2><p>Use coupon code<span class=\"font-bold\">DISCOUNT20</span></p><p>Use coupon DISCOUNT20</p><p></p></div></div></div><div class=\"mt-15\"><div class=\"grid grid-cols-1 md:grid-cols-3 gap-2 page-width\"><div><div class=\"text-center\"><img alt=\"\" src=\"/assets/homepage/banner/men-shoes.jpeg\"/></div><h3 class=\"h4 uppercase mt-1 mb-1\">Men shoes collection</h3><div class=\"mb-1\"><p>Constructed from luxury nylons, leathers, and custom hardware, featuring sport details such as hidden breathing vents, waterproof + antimicrobial linings, and more.</p></div><a class=\"button primary\" href=\"/kids\"><span>Shop kids</span></a></div><div><div><img alt=\"\" src=\"/assets/homepage/banner/women-shoes.jpeg\"/></div><h3 class=\"h4 uppercase mt-1 mb-1\">Women shoes collection</h3><div class=\"mb-1\"><p>Constructed from luxury nylons, leathers, and custom hardware, featuring sport details such as hidden breathing vents, waterproof + antimicrobial linings, and more.</p></div><a class=\"button primary\" href=\"/women\"><span>Shop women</span></a></div><div><div><img alt=\"\" src=\"/assets/homepage/banner/kid-shoes.jpeg\"/></div><h3 class=\"h4 uppercase mt-1 mb-1\">Men shoes collection</h3><div class=\"mb-1\"><p>Constructed from luxury nylons, leathers, and custom hardware, featuring sport details such as hidden breathing vents, waterproof + antimicrobial linings, and more.</p></div><a class=\"button primary\" href=\"/men\"><span>Shop men</span></a></div></div></div><div class=\"pt-3\"><div class=\"page-width\"><h3 class=\"mt-3 mb-3 text-center uppercase h5 tracking-widest\">Featured Products</h3><div class=\"grid grid-cols-2 md:grid-cols-4 gap-2\"><div class=\"listing-tem\"><div class=\"product-thumbnail-listing\"><a href=\"/men/nike-air-zoom-pegasus-35-146\"><img alt=\"Nike air zoom pegasus 35\" src=\"/assets/catalog/1034/3600/plv7632-Green-list.png\"/></a></div><div class=\"product-name product-list-name mt-1 mb-025\"><a class=\"font-bold hover:underline h5\" href=\"/men/nike-air-zoom-pegasus-35-146\"><span>Nike air zoom pegasus 35</span></a></div><div class=\"product-price-listing\"><div><span class=\"sale-price font-semibold\">$452.10</span></div></div></div><div class=\"listing-tem\"><div class=\"product-thumbnail-listing\"><a href=\"/mix-and-match-chuck-taylor-all-star-118\"><img alt=\"Mix and match chuck taylor all star\" src=\"/assets/catalog/5059/3470/plv4547-Grey-list.png\"/></a></div><div class=\"product-name product-list-name mt-1 mb-025\"><a class=\"font-bold hover:underline h5\" href=\"/mix-and-match-chuck-taylor-all-star-118\"><span>Mix and match chuck taylor all star</span></a></div><div class=\"product-price-listing\"><div><span class=\"sale-price font-semibold\">$877.80</span></div></div></div><div class=\"listing-tem\"><div class=\"product-thumbnail-listing\"><a href=\"/geography-class-chuck-taylor-all-star-81\"><img alt=\"Geography class chuck taylor all star\" src=\"/assets/catalog/4056/5908/plv3360-Black-list.png\"/></a></div><div class=\"product-name product-list-name mt-1 mb-025\"><a class=\"font-bold hover:underline h5\" href=\"/geography-class-chuck-taylor-all-star-81\"><span>Geography class chuck taylor all star</span></a></div><div class=\"product-price-listing\"><div><span class=\"sale-price font-semibold\">$275.00</span></div></div></div><div class=\"listing-tem\"><div class=\"product-thumbnail-listing\"><a href=\"/kids/swift-run-x-shoes-12\"><img alt=\"Swift run x shoes\" src=\"/assets/catalog/3241/9300/plv1517-Pink-list.png\"/></a></div><div class=\"product-name product-list-name mt-1 mb-025\"><a class=\"font-bold hover:underline h5\" href=\"/kids/swift-run-x-shoes-12\"><span>Swift run x shoes</span></a></div><div class=\"product-price-listing\"><div><span class=\"sale-price font-semibold\">$370.70</span></div></div></div></div></div></div></main><div class=\"footer\"><div class=\"footer__default\"><div class=\"page-width grid grid-cols-1 md:grid-cols-2 gap-2 justify-between\"><div><div class=\"card-icons flex justify-center space-x-1 md:justify-start\"><div><svg aria-labelledby=\"pi-visa\" height=\"24\" viewbox=\"0 0 38 24\" width=\"38\" xmlns=\"http://www.w3.org/2000/svg\"><path d=\"M35 0H3C1.3 0 0 1.3 0 3v18c0 1.7 1.4 3 3 3h32c1.7 0 3-1.3 3-3V3c0-1.7-1.4-3-3-3z\" opacity=\"0.07\"></path><path d=\"M35 1c1.1 0 2 .9 2 2v18c0 1.1-.9 2-2 2H3c-1.1 0-2-.9-2-2V3c0-1.1.9-2 2-2h32\" fill=\"#fff\"></path><path d=\"M28.3 10.1H28c-.4 1-.7 1.5-1 3h1.9c-.3-1.5-.3-2.2-.6-3zm2.9 5.9h-1.7c-.1 0-.1 0-.2-.1l-.2-.9-.1-.2h-2.4c-.1 0-.2 0-.2.2l-.3.9c0 .1-.1.1-.1.1h-2.1l.2-.5L27 8.7c0-.5.3-.7.8-.7h1.5c.1 0 .2 0 .2.2l1.4 6.5c.1.4.2.7.2 1.1.1.1.1.1.1.2zm-13.4-.3l.4-1.8c.1 0 .2.1.2.1.7.3 1.4.5 2.1.4.2 0 .5-.1.7-.2.5-.2.5-.7.1-1.1-.2-.2-.5-.3-.8-.5-.4-.2-.8-.4-1.1-.7-1.2-1-.8-2.4-.1-3.1.6-.4.9-.8 1.7-.8 1.2 0 2.5 0 3.1.2h.1c-.1.6-.2 1.1-.4 1.7-.5-.2-1-.4-1.5-.4-.3 0-.6 0-.9.1-.2 0-.3.1-.4.2-.2.2-.2.5 0 .7l.5.4c.4.2.8.4 1.1.6.5.3 1 .8 1.1 1.4.2.9-.1 1.7-.9 2.3-.5.4-.7.6-1.4.6-1.4 0-2.5.1-3.4-.2-.1.2-.1.2-.2.1zm-3.5.3c.1-.7.1-.7.2-1 .5-2.2 1-4.5 1.4-6.7.1-.2.1-.3.3-.3H18c-.2 1.2-.4 2.1-.7 3.2-.3 1.5-.6 3-1 4.5 0 .2-.1.2-.3.2M5 8.2c0-.1.2-.2.3-.2h3.4c.5 0 .9.3 1 .8l.9 4.4c0 .1 0 .1.1.2 0-.1.1-.1.1-.1l2.1-5.1c-.1-.1 0-.2.1-.2h2.1c0 .1 0 .1-.1.2l-3.1 7.3c-.1.2-.1.3-.2.4-.1.1-.3 0-.5 0H9.7c-.1 0-.2 0-.2-.2L7.9 9.5c-.2-.2-.5-.5-.9-.6-.6-.3-1.7-.5-1.9-.5L5 8.2z\" fill=\"#142688\"></path></svg></div><div><svg aria-labelledby=\"pi-master\" height=\"24\" viewbox=\"0 0 38 24\" width=\"38\" xmlns=\"http://www.w3.org/2000/svg\"><path d=\"M35 0H3C1.3 0 0 1.3 0 3v18c0 1.7 1.4 3 3 3h32c1.7 0 3-1.3 3-3V3c0-1.7-1.4-3-3-3z\" opacity=\"0.07\"></path><path d=\"M35 1c1.1 0 2 .9 2 2v18c0 1.1-.9 2-2 2H3c-1.1 0-2-.9-2-2V3c0-1.1.9-2 2-2h32\" fill=\"#fff\"></path><circle cx=\"15\" cy=\"12\" fill=\"#EB001B\" r=\"7\"></circle><circle cx=\"23\" cy=\"12\" fill=\"#F79E1B\" r=\"7\"></circle><path d=\"M22 12c0-2.4-1.2-4.5-3-5.7-1.8 1.3-3 3.4-3 5.7s1.2 4.5 3 5.7c1.8-1.2 3-3.3 3-5.7z\" fill=\"#FF5F00\"></path></svg></div><div><svg aria-labelledby=\"pi-paypal\" height=\"24\" role=\"img\" viewbox=\"0 0 38 24\" width=\"38\" xmlns=\"http://www.w3.org/2000/svg\"><title id=\"pi-paypal\">PayPal</title><path d=\"M35 0H3C1.3 0 0 1.3 0 3v18c0 1.7 1.4 3 3 3h32c1.7 0 3-1.3 3-3V3c0-1.7-1.4-3-3-3z\" opacity=\".07\"></path><path d=\"M35 1c1.1 0 2 .9 2 2v18c0 1.1-.9 2-2 2H3c-1.1 0-2-.9-2-2V3c0-1.1.9-2 2-2h32\" fill=\"#fff\"></path><path d=\"M23.9 8.3c.2-1 0-1.7-.6-2.3-.6-.7-1.7-1-3.1-1h-4.1c-.3 0-.5.2-.6.5L14 15.6c0 .2.1.4.3.4H17l.4-3.4 1.8-2.2 4.7-2.1z\" fill=\"#003087\"></path><path d=\"M23.9 8.3l-.2.2c-.5 2.8-2.2 3.8-4.6 3.8H18c-.3 0-.5.2-.6.5l-.6 3.9-.2 1c0 .2.1.4.3.4H19c.3 0 .5-.2.5-.4v-.1l.4-2.4v-.1c0-.2.3-.4.5-.4h.3c2.1 0 3.7-.8 4.1-3.2.2-1 .1-1.8-.4-2.4-.1-.5-.3-.7-.5-.8z\" fill=\"#3086C8\"></path><path d=\"M23.3 8.1c-.1-.1-.2-.1-.3-.1-.1 0-.2 0-.3-.1-.3-.1-.7-.1-1.1-.1h-3c-.1 0-.2 0-.2.1-.2.1-.3.2-.3.4l-.7 4.4v.1c0-.3.3-.5.6-.5h1.3c2.5 0 4.1-1 4.6-3.8v-.2c-.1-.1-.3-.2-.5-.2h-.1z\" fill=\"#012169\"></path></svg></div></div></div><div class=\"self-center\"><div class=\"copyright text-center md:text-right text-textSubdued\"><span></span></div></div></div></div></div><div><div class=\"Toastify\"></div></div></div>, <div class=\"loading-bar\" style=\"width:0%;display:none\"></div>, <div class=\"header flex justify-between\"><div class=\"logo\"><a class=\"logo-icon\" href=\"/\"><svg fill=\"none\" height=\"146\" viewbox=\"0 0 128 146\" width=\"128\" xmlns=\"http://www.w3.org/2000/svg\"><path d=\"M32.388 18.0772L1.15175 36.1544L1.05206 72.5081L0.985596 108.895L32.4213 127.039C49.7009 137.008 63.9567 145.182 64.1228 145.182C64.289 145.182 72.8956 140.264 83.2966 134.283C93.6644 128.268 107.82 120.127 114.732 116.139L127.26 108.895V101.119V93.3102L126.529 93.7089C126.097 93.9415 111.941 102.083 95.06 111.853C78.1459 121.622 64.156 129.531 63.9567 129.498C63.724 129.431 52.5587 123.051 39.1005 115.275L14.6099 101.152V72.5746V43.9967L25.6756 37.6165C31.7234 34.1274 42.8223 27.7472 50.2991 23.4273C57.7426 19.1073 63.9899 15.585 64.1228 15.585C64.2557 15.585 72.9288 20.5362 83.3963 26.5841L113.902 43.9967L118.713 41.1657L127.26 36.1544L113.902 28.5447C103.334 22.2974 64.3554 -0.033191 64.0231 3.90721e-05C63.8237 3.90721e-05 49.568 8.14142 32.388 18.0772Z\" fill=\"#1F1F1F\"></path><path d=\"M96.0237 54.1983C78.9434 64.0677 64.721 72.2423 64.4219 72.3088C64.0896 72.4084 55.7488 67.7562 44.8826 61.509L25.9082 50.543V58.4186L25.9414 66.2609L44.3841 76.8945C54.5193 82.743 63.1591 87.6611 63.5911 87.8272C64.2557 88.0598 68.9079 85.5011 95.5585 70.1156C112.705 60.1798 126.861 51.9719 127.027 51.839C127.16 51.7061 127.227 48.1505 127.194 43.9302L127.094 36.2541L96.0237 54.1983Z\" fill=\"#1F1F1F\"></path><path d=\"M123.771 66.7261C121.943 67.7562 107.854 75.8976 92.4349 84.8033C77.0161 93.7089 64.289 100.986 64.1228 100.986C63.9567 100.986 55.3501 96.0683 44.9491 90.0869L26.0744 79.1874L25.9747 86.8303C25.9082 92.6788 26.0079 94.5729 26.307 94.872C26.9383 95.4369 63.7241 116.604 64.1228 116.604C64.4551 116.604 126.496 80.8821 127.027 80.4169C127.16 80.284 127.227 76.7284 127.194 72.4749L127.094 64.7987L123.771 66.7261Z\" fill=\"#1F1F1F\"></path></svg></a></div><div class=\"main-menu self-center hidden md:block\"><ul class=\"nav flex space-x-275 justify-content-center\"><li class=\"nav-item\"><a class=\"nav-link hover:underline\" href=\"/men\">Men</a></li><li class=\"nav-item\"><a class=\"nav-link hover:underline\" href=\"/women\">Women</a></li></ul></div><div class=\"icon-wrapper flex justify-between space-x-1\"><div class=\"search-box\"><a class=\"search-icon\" href=\"#\"><svg fill=\"none\" stroke=\"currentColor\" style=\"width:2.2rem;height:2.2rem\" viewbox=\"0 0 24 24\" xmlns=\"http://www.w3.org/2000/svg\"><path d=\"M21 21l-6-6m2-5a7 7 0 11-14 0 7 7 0 0114 0z\" stroke-linecap=\"round\" stroke-linejoin=\"round\" stroke-width=\"2\"></path></svg></a></div><div class=\"mini-cart-wrapper self-center\"><a class=\"mini-cart-icon\" href=\"/cart\"><svg aria-hidden=\"true\" fill=\"none\" height=\"20\" stroke=\"currentColor\" stroke-width=\"2\" viewbox=\"0 0 24 24\" width=\"20\" xmlns=\"http://www.w3.org/2000/svg\"><path d=\"M16 11V7a4 4 0 00-8 0v4M5 9h14l1 12H4L5 9z\" stroke-linecap=\"round\" stroke-linejoin=\"round\"></path></svg></a></div><div class=\"self-center\"><a href=\"/account/login\"><svg aria-hidden=\"true\" fill=\"none\" height=\"25\" stroke=\"currentColor\" stroke-width=\"2\" viewbox=\"0 0 24 24\" width=\"25\" xmlns=\"http://www.w3.org/2000/svg\"><path d=\"M16 7a4 4 0 11-8 0 4 4 0 018 0zM12 14a7 7 0 00-7 7h14a7 7 0 00-7-7z\" stroke-linecap=\"round\" stroke-linejoin=\"round\"></path></svg></a></div><div class=\"main-menu-mobile self-center\"><a class=\"menu-icon\" href=\"#\"><svg class=\"h-6 w-6\" fill=\"none\" stroke=\"currentColor\" viewbox=\"0 0 24 24\" xmlns=\"http://www.w3.org/2000/svg\"><path d=\"M4 6h16M4 12h16M4 18h16\" stroke-linecap=\"round\" stroke-linejoin=\"round\" stroke-width=\"2\"></path></svg></a></div></div></div>, <div class=\"logo\"><a class=\"logo-icon\" href=\"/\"><svg fill=\"none\" height=\"146\" viewbox=\"0 0 128 146\" width=\"128\" xmlns=\"http://www.w3.org/2000/svg\"><path d=\"M32.388 18.0772L1.15175 36.1544L1.05206 72.5081L0.985596 108.895L32.4213 127.039C49.7009 137.008 63.9567 145.182 64.1228 145.182C64.289 145.182 72.8956 140.264 83.2966 134.283C93.6644 128.268 107.82 120.127 114.732 116.139L127.26 108.895V101.119V93.3102L126.529 93.7089C126.097 93.9415 111.941 102.083 95.06 111.853C78.1459 121.622 64.156 129.531 63.9567 129.498C63.724 129.431 52.5587 123.051 39.1005 115.275L14.6099 101.152V72.5746V43.9967L25.6756 37.6165C31.7234 34.1274 42.8223 27.7472 50.2991 23.4273C57.7426 19.1073 63.9899 15.585 64.1228 15.585C64.2557 15.585 72.9288 20.5362 83.3963 26.5841L113.902 43.9967L118.713 41.1657L127.26 36.1544L113.902 28.5447C103.334 22.2974 64.3554 -0.033191 64.0231 3.90721e-05C63.8237 3.90721e-05 49.568 8.14142 32.388 18.0772Z\" fill=\"#1F1F1F\"></path><path d=\"M96.0237 54.1983C78.9434 64.0677 64.721 72.2423 64.4219 72.3088C64.0896 72.4084 55.7488 67.7562 44.8826 61.509L25.9082 50.543V58.4186L25.9414 66.2609L44.3841 76.8945C54.5193 82.743 63.1591 87.6611 63.5911 87.8272C64.2557 88.0598 68.9079 85.5011 95.5585 70.1156C112.705 60.1798 126.861 51.9719 127.027 51.839C127.16 51.7061 127.227 48.1505 127.194 43.9302L127.094 36.2541L96.0237 54.1983Z\" fill=\"#1F1F1F\"></path><path d=\"M123.771 66.7261C121.943 67.7562 107.854 75.8976 92.4349 84.8033C77.0161 93.7089 64.289 100.986 64.1228 100.986C63.9567 100.986 55.3501 96.0683 44.9491 90.0869L26.0744 79.1874L25.9747 86.8303C25.9082 92.6788 26.0079 94.5729 26.307 94.872C26.9383 95.4369 63.7241 116.604 64.1228 116.604C64.4551 116.604 126.496 80.8821 127.027 80.4169C127.16 80.284 127.227 76.7284 127.194 72.4749L127.094 64.7987L123.771 66.7261Z\" fill=\"#1F1F1F\"></path></svg></a></div>, <a class=\"logo-icon\" href=\"/\"><svg fill=\"none\" height=\"146\" viewbox=\"0 0 128 146\" width=\"128\" xmlns=\"http://www.w3.org/2000/svg\"><path d=\"M32.388 18.0772L1.15175 36.1544L1.05206 72.5081L0.985596 108.895L32.4213 127.039C49.7009 137.008 63.9567 145.182 64.1228 145.182C64.289 145.182 72.8956 140.264 83.2966 134.283C93.6644 128.268 107.82 120.127 114.732 116.139L127.26 108.895V101.119V93.3102L126.529 93.7089C126.097 93.9415 111.941 102.083 95.06 111.853C78.1459 121.622 64.156 129.531 63.9567 129.498C63.724 129.431 52.5587 123.051 39.1005 115.275L14.6099 101.152V72.5746V43.9967L25.6756 37.6165C31.7234 34.1274 42.8223 27.7472 50.2991 23.4273C57.7426 19.1073 63.9899 15.585 64.1228 15.585C64.2557 15.585 72.9288 20.5362 83.3963 26.5841L113.902 43.9967L118.713 41.1657L127.26 36.1544L113.902 28.5447C103.334 22.2974 64.3554 -0.033191 64.0231 3.90721e-05C63.8237 3.90721e-05 49.568 8.14142 32.388 18.0772Z\" fill=\"#1F1F1F\"></path><path d=\"M96.0237 54.1983C78.9434 64.0677 64.721 72.2423 64.4219 72.3088C64.0896 72.4084 55.7488 67.7562 44.8826 61.509L25.9082 50.543V58.4186L25.9414 66.2609L44.3841 76.8945C54.5193 82.743 63.1591 87.6611 63.5911 87.8272C64.2557 88.0598 68.9079 85.5011 95.5585 70.1156C112.705 60.1798 126.861 51.9719 127.027 51.839C127.16 51.7061 127.227 48.1505 127.194 43.9302L127.094 36.2541L96.0237 54.1983Z\" fill=\"#1F1F1F\"></path><path d=\"M123.771 66.7261C121.943 67.7562 107.854 75.8976 92.4349 84.8033C77.0161 93.7089 64.289 100.986 64.1228 100.986C63.9567 100.986 55.3501 96.0683 44.9491 90.0869L26.0744 79.1874L25.9747 86.8303C25.9082 92.6788 26.0079 94.5729 26.307 94.872C26.9383 95.4369 63.7241 116.604 64.1228 116.604C64.4551 116.604 126.496 80.8821 127.027 80.4169C127.16 80.284 127.227 76.7284 127.194 72.4749L127.094 64.7987L123.771 66.7261Z\" fill=\"#1F1F1F\"></path></svg></a>, <svg fill=\"none\" height=\"146\" viewbox=\"0 0 128 146\" width=\"128\" xmlns=\"http://www.w3.org/2000/svg\"><path d=\"M32.388 18.0772L1.15175 36.1544L1.05206 72.5081L0.985596 108.895L32.4213 127.039C49.7009 137.008 63.9567 145.182 64.1228 145.182C64.289 145.182 72.8956 140.264 83.2966 134.283C93.6644 128.268 107.82 120.127 114.732 116.139L127.26 108.895V101.119V93.3102L126.529 93.7089C126.097 93.9415 111.941 102.083 95.06 111.853C78.1459 121.622 64.156 129.531 63.9567 129.498C63.724 129.431 52.5587 123.051 39.1005 115.275L14.6099 101.152V72.5746V43.9967L25.6756 37.6165C31.7234 34.1274 42.8223 27.7472 50.2991 23.4273C57.7426 19.1073 63.9899 15.585 64.1228 15.585C64.2557 15.585 72.9288 20.5362 83.3963 26.5841L113.902 43.9967L118.713 41.1657L127.26 36.1544L113.902 28.5447C103.334 22.2974 64.3554 -0.033191 64.0231 3.90721e-05C63.8237 3.90721e-05 49.568 8.14142 32.388 18.0772Z\" fill=\"#1F1F1F\"></path><path d=\"M96.0237 54.1983C78.9434 64.0677 64.721 72.2423 64.4219 72.3088C64.0896 72.4084 55.7488 67.7562 44.8826 61.509L25.9082 50.543V58.4186L25.9414 66.2609L44.3841 76.8945C54.5193 82.743 63.1591 87.6611 63.5911 87.8272C64.2557 88.0598 68.9079 85.5011 95.5585 70.1156C112.705 60.1798 126.861 51.9719 127.027 51.839C127.16 51.7061 127.227 48.1505 127.194 43.9302L127.094 36.2541L96.0237 54.1983Z\" fill=\"#1F1F1F\"></path><path d=\"M123.771 66.7261C121.943 67.7562 107.854 75.8976 92.4349 84.8033C77.0161 93.7089 64.289 100.986 64.1228 100.986C63.9567 100.986 55.3501 96.0683 44.9491 90.0869L26.0744 79.1874L25.9747 86.8303C25.9082 92.6788 26.0079 94.5729 26.307 94.872C26.9383 95.4369 63.7241 116.604 64.1228 116.604C64.4551 116.604 126.496 80.8821 127.027 80.4169C127.16 80.284 127.227 76.7284 127.194 72.4749L127.094 64.7987L123.771 66.7261Z\" fill=\"#1F1F1F\"></path></svg>, <path d=\"M32.388 18.0772L1.15175 36.1544L1.05206 72.5081L0.985596 108.895L32.4213 127.039C49.7009 137.008 63.9567 145.182 64.1228 145.182C64.289 145.182 72.8956 140.264 83.2966 134.283C93.6644 128.268 107.82 120.127 114.732 116.139L127.26 108.895V101.119V93.3102L126.529 93.7089C126.097 93.9415 111.941 102.083 95.06 111.853C78.1459 121.622 64.156 129.531 63.9567 129.498C63.724 129.431 52.5587 123.051 39.1005 115.275L14.6099 101.152V72.5746V43.9967L25.6756 37.6165C31.7234 34.1274 42.8223 27.7472 50.2991 23.4273C57.7426 19.1073 63.9899 15.585 64.1228 15.585C64.2557 15.585 72.9288 20.5362 83.3963 26.5841L113.902 43.9967L118.713 41.1657L127.26 36.1544L113.902 28.5447C103.334 22.2974 64.3554 -0.033191 64.0231 3.90721e-05C63.8237 3.90721e-05 49.568 8.14142 32.388 18.0772Z\" fill=\"#1F1F1F\"></path>, <path d=\"M96.0237 54.1983C78.9434 64.0677 64.721 72.2423 64.4219 72.3088C64.0896 72.4084 55.7488 67.7562 44.8826 61.509L25.9082 50.543V58.4186L25.9414 66.2609L44.3841 76.8945C54.5193 82.743 63.1591 87.6611 63.5911 87.8272C64.2557 88.0598 68.9079 85.5011 95.5585 70.1156C112.705 60.1798 126.861 51.9719 127.027 51.839C127.16 51.7061 127.227 48.1505 127.194 43.9302L127.094 36.2541L96.0237 54.1983Z\" fill=\"#1F1F1F\"></path>, <path d=\"M123.771 66.7261C121.943 67.7562 107.854 75.8976 92.4349 84.8033C77.0161 93.7089 64.289 100.986 64.1228 100.986C63.9567 100.986 55.3501 96.0683 44.9491 90.0869L26.0744 79.1874L25.9747 86.8303C25.9082 92.6788 26.0079 94.5729 26.307 94.872C26.9383 95.4369 63.7241 116.604 64.1228 116.604C64.4551 116.604 126.496 80.8821 127.027 80.4169C127.16 80.284 127.227 76.7284 127.194 72.4749L127.094 64.7987L123.771 66.7261Z\" fill=\"#1F1F1F\"></path>, <div class=\"main-menu self-center hidden md:block\"><ul class=\"nav flex space-x-275 justify-content-center\"><li class=\"nav-item\"><a class=\"nav-link hover:underline\" href=\"/men\">Men</a></li><li class=\"nav-item\"><a class=\"nav-link hover:underline\" href=\"/women\">Women</a></li></ul></div>, <ul class=\"nav flex space-x-275 justify-content-center\"><li class=\"nav-item\"><a class=\"nav-link hover:underline\" href=\"/men\">Men</a></li><li class=\"nav-item\"><a class=\"nav-link hover:underline\" href=\"/women\">Women</a></li></ul>, <li class=\"nav-item\"><a class=\"nav-link hover:underline\" href=\"/men\">Men</a></li>, <a class=\"nav-link hover:underline\" href=\"/men\">Men</a>, <li class=\"nav-item\"><a class=\"nav-link hover:underline\" href=\"/women\">Women</a></li>, <a class=\"nav-link hover:underline\" href=\"/women\">Women</a>, <div class=\"icon-wrapper flex justify-between space-x-1\"><div class=\"search-box\"><a class=\"search-icon\" href=\"#\"><svg fill=\"none\" stroke=\"currentColor\" style=\"width:2.2rem;height:2.2rem\" viewbox=\"0 0 24 24\" xmlns=\"http://www.w3.org/2000/svg\"><path d=\"M21 21l-6-6m2-5a7 7 0 11-14 0 7 7 0 0114 0z\" stroke-linecap=\"round\" stroke-linejoin=\"round\" stroke-width=\"2\"></path></svg></a></div><div class=\"mini-cart-wrapper self-center\"><a class=\"mini-cart-icon\" href=\"/cart\"><svg aria-hidden=\"true\" fill=\"none\" height=\"20\" stroke=\"currentColor\" stroke-width=\"2\" viewbox=\"0 0 24 24\" width=\"20\" xmlns=\"http://www.w3.org/2000/svg\"><path d=\"M16 11V7a4 4 0 00-8 0v4M5 9h14l1 12H4L5 9z\" stroke-linecap=\"round\" stroke-linejoin=\"round\"></path></svg></a></div><div class=\"self-center\"><a href=\"/account/login\"><svg aria-hidden=\"true\" fill=\"none\" height=\"25\" stroke=\"currentColor\" stroke-width=\"2\" viewbox=\"0 0 24 24\" width=\"25\" xmlns=\"http://www.w3.org/2000/svg\"><path d=\"M16 7a4 4 0 11-8 0 4 4 0 018 0zM12 14a7 7 0 00-7 7h14a7 7 0 00-7-7z\" stroke-linecap=\"round\" stroke-linejoin=\"round\"></path></svg></a></div><div class=\"main-menu-mobile self-center\"><a class=\"menu-icon\" href=\"#\"><svg class=\"h-6 w-6\" fill=\"none\" stroke=\"currentColor\" viewbox=\"0 0 24 24\" xmlns=\"http://www.w3.org/2000/svg\"><path d=\"M4 6h16M4 12h16M4 18h16\" stroke-linecap=\"round\" stroke-linejoin=\"round\" stroke-width=\"2\"></path></svg></a></div></div>, <div class=\"search-box\"><a class=\"search-icon\" href=\"#\"><svg fill=\"none\" stroke=\"currentColor\" style=\"width:2.2rem;height:2.2rem\" viewbox=\"0 0 24 24\" xmlns=\"http://www.w3.org/2000/svg\"><path d=\"M21 21l-6-6m2-5a7 7 0 11-14 0 7 7 0 0114 0z\" stroke-linecap=\"round\" stroke-linejoin=\"round\" stroke-width=\"2\"></path></svg></a></div>, <a class=\"search-icon\" href=\"#\"><svg fill=\"none\" stroke=\"currentColor\" style=\"width:2.2rem;height:2.2rem\" viewbox=\"0 0 24 24\" xmlns=\"http://www.w3.org/2000/svg\"><path d=\"M21 21l-6-6m2-5a7 7 0 11-14 0 7 7 0 0114 0z\" stroke-linecap=\"round\" stroke-linejoin=\"round\" stroke-width=\"2\"></path></svg></a>, <svg fill=\"none\" stroke=\"currentColor\" style=\"width:2.2rem;height:2.2rem\" viewbox=\"0 0 24 24\" xmlns=\"http://www.w3.org/2000/svg\"><path d=\"M21 21l-6-6m2-5a7 7 0 11-14 0 7 7 0 0114 0z\" stroke-linecap=\"round\" stroke-linejoin=\"round\" stroke-width=\"2\"></path></svg>, <path d=\"M21 21l-6-6m2-5a7 7 0 11-14 0 7 7 0 0114 0z\" stroke-linecap=\"round\" stroke-linejoin=\"round\" stroke-width=\"2\"></path>, <div class=\"mini-cart-wrapper self-center\"><a class=\"mini-cart-icon\" href=\"/cart\"><svg aria-hidden=\"true\" fill=\"none\" height=\"20\" stroke=\"currentColor\" stroke-width=\"2\" viewbox=\"0 0 24 24\" width=\"20\" xmlns=\"http://www.w3.org/2000/svg\"><path d=\"M16 11V7a4 4 0 00-8 0v4M5 9h14l1 12H4L5 9z\" stroke-linecap=\"round\" stroke-linejoin=\"round\"></path></svg></a></div>, <a class=\"mini-cart-icon\" href=\"/cart\"><svg aria-hidden=\"true\" fill=\"none\" height=\"20\" stroke=\"currentColor\" stroke-width=\"2\" viewbox=\"0 0 24 24\" width=\"20\" xmlns=\"http://www.w3.org/2000/svg\"><path d=\"M16 11V7a4 4 0 00-8 0v4M5 9h14l1 12H4L5 9z\" stroke-linecap=\"round\" stroke-linejoin=\"round\"></path></svg></a>, <svg aria-hidden=\"true\" fill=\"none\" height=\"20\" stroke=\"currentColor\" stroke-width=\"2\" viewbox=\"0 0 24 24\" width=\"20\" xmlns=\"http://www.w3.org/2000/svg\"><path d=\"M16 11V7a4 4 0 00-8 0v4M5 9h14l1 12H4L5 9z\" stroke-linecap=\"round\" stroke-linejoin=\"round\"></path></svg>, <path d=\"M16 11V7a4 4 0 00-8 0v4M5 9h14l1 12H4L5 9z\" stroke-linecap=\"round\" stroke-linejoin=\"round\"></path>, <div class=\"self-center\"><a href=\"/account/login\"><svg aria-hidden=\"true\" fill=\"none\" height=\"25\" stroke=\"currentColor\" stroke-width=\"2\" viewbox=\"0 0 24 24\" width=\"25\" xmlns=\"http://www.w3.org/2000/svg\"><path d=\"M16 7a4 4 0 11-8 0 4 4 0 018 0zM12 14a7 7 0 00-7 7h14a7 7 0 00-7-7z\" stroke-linecap=\"round\" stroke-linejoin=\"round\"></path></svg></a></div>, <a href=\"/account/login\"><svg aria-hidden=\"true\" fill=\"none\" height=\"25\" stroke=\"currentColor\" stroke-width=\"2\" viewbox=\"0 0 24 24\" width=\"25\" xmlns=\"http://www.w3.org/2000/svg\"><path d=\"M16 7a4 4 0 11-8 0 4 4 0 018 0zM12 14a7 7 0 00-7 7h14a7 7 0 00-7-7z\" stroke-linecap=\"round\" stroke-linejoin=\"round\"></path></svg></a>, <svg aria-hidden=\"true\" fill=\"none\" height=\"25\" stroke=\"currentColor\" stroke-width=\"2\" viewbox=\"0 0 24 24\" width=\"25\" xmlns=\"http://www.w3.org/2000/svg\"><path d=\"M16 7a4 4 0 11-8 0 4 4 0 018 0zM12 14a7 7 0 00-7 7h14a7 7 0 00-7-7z\" stroke-linecap=\"round\" stroke-linejoin=\"round\"></path></svg>, <path d=\"M16 7a4 4 0 11-8 0 4 4 0 018 0zM12 14a7 7 0 00-7 7h14a7 7 0 00-7-7z\" stroke-linecap=\"round\" stroke-linejoin=\"round\"></path>, <div class=\"main-menu-mobile self-center\"><a class=\"menu-icon\" href=\"#\"><svg class=\"h-6 w-6\" fill=\"none\" stroke=\"currentColor\" viewbox=\"0 0 24 24\" xmlns=\"http://www.w3.org/2000/svg\"><path d=\"M4 6h16M4 12h16M4 18h16\" stroke-linecap=\"round\" stroke-linejoin=\"round\" stroke-width=\"2\"></path></svg></a></div>, <a class=\"menu-icon\" href=\"#\"><svg class=\"h-6 w-6\" fill=\"none\" stroke=\"currentColor\" viewbox=\"0 0 24 24\" xmlns=\"http://www.w3.org/2000/svg\"><path d=\"M4 6h16M4 12h16M4 18h16\" stroke-linecap=\"round\" stroke-linejoin=\"round\" stroke-width=\"2\"></path></svg></a>, <svg class=\"h-6 w-6\" fill=\"none\" stroke=\"currentColor\" viewbox=\"0 0 24 24\" xmlns=\"http://www.w3.org/2000/svg\"><path d=\"M4 6h16M4 12h16M4 18h16\" stroke-linecap=\"round\" stroke-linejoin=\"round\" stroke-width=\"2\"></path></svg>, <path d=\"M4 6h16M4 12h16M4 18h16\" stroke-linecap=\"round\" stroke-linejoin=\"round\" stroke-width=\"2\"></path>, <main class=\"content\"><div class=\"main-banner-home flex items-center\"><div class=\"container grid grid-cols-1 md:grid-cols-2 gap-2\"><div></div><div class=\"text-center md:text-left px-2\"><h2 class=\"h1\">Discount 20% For All Orders Over $2000</h2><p>Use coupon code<span class=\"font-bold\">DISCOUNT20</span></p><p>Use coupon DISCOUNT20</p><p></p></div></div></div><div class=\"mt-15\"><div class=\"grid grid-cols-1 md:grid-cols-3 gap-2 page-width\"><div><div class=\"text-center\"><img alt=\"\" src=\"/assets/homepage/banner/men-shoes.jpeg\"/></div><h3 class=\"h4 uppercase mt-1 mb-1\">Men shoes collection</h3><div class=\"mb-1\"><p>Constructed from luxury nylons, leathers, and custom hardware, featuring sport details such as hidden breathing vents, waterproof + antimicrobial linings, and more.</p></div><a class=\"button primary\" href=\"/kids\"><span>Shop kids</span></a></div><div><div><img alt=\"\" src=\"/assets/homepage/banner/women-shoes.jpeg\"/></div><h3 class=\"h4 uppercase mt-1 mb-1\">Women shoes collection</h3><div class=\"mb-1\"><p>Constructed from luxury nylons, leathers, and custom hardware, featuring sport details such as hidden breathing vents, waterproof + antimicrobial linings, and more.</p></div><a class=\"button primary\" href=\"/women\"><span>Shop women</span></a></div><div><div><img alt=\"\" src=\"/assets/homepage/banner/kid-shoes.jpeg\"/></div><h3 class=\"h4 uppercase mt-1 mb-1\">Men shoes collection</h3><div class=\"mb-1\"><p>Constructed from luxury nylons, leathers, and custom hardware, featuring sport details such as hidden breathing vents, waterproof + antimicrobial linings, and more.</p></div><a class=\"button primary\" href=\"/men\"><span>Shop men</span></a></div></div></div><div class=\"pt-3\"><div class=\"page-width\"><h3 class=\"mt-3 mb-3 text-center uppercase h5 tracking-widest\">Featured Products</h3><div class=\"grid grid-cols-2 md:grid-cols-4 gap-2\"><div class=\"listing-tem\"><div class=\"product-thumbnail-listing\"><a href=\"/men/nike-air-zoom-pegasus-35-146\"><img alt=\"Nike air zoom pegasus 35\" src=\"/assets/catalog/1034/3600/plv7632-Green-list.png\"/></a></div><div class=\"product-name product-list-name mt-1 mb-025\"><a class=\"font-bold hover:underline h5\" href=\"/men/nike-air-zoom-pegasus-35-146\"><span>Nike air zoom pegasus 35</span></a></div><div class=\"product-price-listing\"><div><span class=\"sale-price font-semibold\">$452.10</span></div></div></div><div class=\"listing-tem\"><div class=\"product-thumbnail-listing\"><a href=\"/mix-and-match-chuck-taylor-all-star-118\"><img alt=\"Mix and match chuck taylor all star\" src=\"/assets/catalog/5059/3470/plv4547-Grey-list.png\"/></a></div><div class=\"product-name product-list-name mt-1 mb-025\"><a class=\"font-bold hover:underline h5\" href=\"/mix-and-match-chuck-taylor-all-star-118\"><span>Mix and match chuck taylor all star</span></a></div><div class=\"product-price-listing\"><div><span class=\"sale-price font-semibold\">$877.80</span></div></div></div><div class=\"listing-tem\"><div class=\"product-thumbnail-listing\"><a href=\"/geography-class-chuck-taylor-all-star-81\"><img alt=\"Geography class chuck taylor all star\" src=\"/assets/catalog/4056/5908/plv3360-Black-list.png\"/></a></div><div class=\"product-name product-list-name mt-1 mb-025\"><a class=\"font-bold hover:underline h5\" href=\"/geography-class-chuck-taylor-all-star-81\"><span>Geography class chuck taylor all star</span></a></div><div class=\"product-price-listing\"><div><span class=\"sale-price font-semibold\">$275.00</span></div></div></div><div class=\"listing-tem\"><div class=\"product-thumbnail-listing\"><a href=\"/kids/swift-run-x-shoes-12\"><img alt=\"Swift run x shoes\" src=\"/assets/catalog/3241/9300/plv1517-Pink-list.png\"/></a></div><div class=\"product-name product-list-name mt-1 mb-025\"><a class=\"font-bold hover:underline h5\" href=\"/kids/swift-run-x-shoes-12\"><span>Swift run x shoes</span></a></div><div class=\"product-price-listing\"><div><span class=\"sale-price font-semibold\">$370.70</span></div></div></div></div></div></div></main>, <div class=\"main-banner-home flex items-center\"><div class=\"container grid grid-cols-1 md:grid-cols-2 gap-2\"><div></div><div class=\"text-center md:text-left px-2\"><h2 class=\"h1\">Discount 20% For All Orders Over $2000</h2><p>Use coupon code<span class=\"font-bold\">DISCOUNT20</span></p><p>Use coupon DISCOUNT20</p><p></p></div></div></div>, <div class=\"container grid grid-cols-1 md:grid-cols-2 gap-2\"><div></div><div class=\"text-center md:text-left px-2\"><h2 class=\"h1\">Discount 20% For All Orders Over $2000</h2><p>Use coupon code<span class=\"font-bold\">DISCOUNT20</span></p><p>Use coupon DISCOUNT20</p><p></p></div></div>, <div></div>, <div class=\"text-center md:text-left px-2\"><h2 class=\"h1\">Discount 20% For All Orders Over $2000</h2><p>Use coupon code<span class=\"font-bold\">DISCOUNT20</span></p><p>Use coupon DISCOUNT20</p><p></p></div>, <h2 class=\"h1\">Discount 20% For All Orders Over $2000</h2>, <p>Use coupon code<span class=\"font-bold\">DISCOUNT20</span></p>, <span class=\"font-bold\">DISCOUNT20</span>, <p>Use coupon DISCOUNT20</p>, <p></p>, <div class=\"mt-15\"><div class=\"grid grid-cols-1 md:grid-cols-3 gap-2 page-width\"><div><div class=\"text-center\"><img alt=\"\" src=\"/assets/homepage/banner/men-shoes.jpeg\"/></div><h3 class=\"h4 uppercase mt-1 mb-1\">Men shoes collection</h3><div class=\"mb-1\"><p>Constructed from luxury nylons, leathers, and custom hardware, featuring sport details such as hidden breathing vents, waterproof + antimicrobial linings, and more.</p></div><a class=\"button primary\" href=\"/kids\"><span>Shop kids</span></a></div><div><div><img alt=\"\" src=\"/assets/homepage/banner/women-shoes.jpeg\"/></div><h3 class=\"h4 uppercase mt-1 mb-1\">Women shoes collection</h3><div class=\"mb-1\"><p>Constructed from luxury nylons, leathers, and custom hardware, featuring sport details such as hidden breathing vents, waterproof + antimicrobial linings, and more.</p></div><a class=\"button primary\" href=\"/women\"><span>Shop women</span></a></div><div><div><img alt=\"\" src=\"/assets/homepage/banner/kid-shoes.jpeg\"/></div><h3 class=\"h4 uppercase mt-1 mb-1\">Men shoes collection</h3><div class=\"mb-1\"><p>Constructed from luxury nylons, leathers, and custom hardware, featuring sport details such as hidden breathing vents, waterproof + antimicrobial linings, and more.</p></div><a class=\"button primary\" href=\"/men\"><span>Shop men</span></a></div></div></div>, <div class=\"grid grid-cols-1 md:grid-cols-3 gap-2 page-width\"><div><div class=\"text-center\"><img alt=\"\" src=\"/assets/homepage/banner/men-shoes.jpeg\"/></div><h3 class=\"h4 uppercase mt-1 mb-1\">Men shoes collection</h3><div class=\"mb-1\"><p>Constructed from luxury nylons, leathers, and custom hardware, featuring sport details such as hidden breathing vents, waterproof + antimicrobial linings, and more.</p></div><a class=\"button primary\" href=\"/kids\"><span>Shop kids</span></a></div><div><div><img alt=\"\" src=\"/assets/homepage/banner/women-shoes.jpeg\"/></div><h3 class=\"h4 uppercase mt-1 mb-1\">Women shoes collection</h3><div class=\"mb-1\"><p>Constructed from luxury nylons, leathers, and custom hardware, featuring sport details such as hidden breathing vents, waterproof + antimicrobial linings, and more.</p></div><a class=\"button primary\" href=\"/women\"><span>Shop women</span></a></div><div><div><img alt=\"\" src=\"/assets/homepage/banner/kid-shoes.jpeg\"/></div><h3 class=\"h4 uppercase mt-1 mb-1\">Men shoes collection</h3><div class=\"mb-1\"><p>Constructed from luxury nylons, leathers, and custom hardware, featuring sport details such as hidden breathing vents, waterproof + antimicrobial linings, and more.</p></div><a class=\"button primary\" href=\"/men\"><span>Shop men</span></a></div></div>, <div><div class=\"text-center\"><img alt=\"\" src=\"/assets/homepage/banner/men-shoes.jpeg\"/></div><h3 class=\"h4 uppercase mt-1 mb-1\">Men shoes collection</h3><div class=\"mb-1\"><p>Constructed from luxury nylons, leathers, and custom hardware, featuring sport details such as hidden breathing vents, waterproof + antimicrobial linings, and more.</p></div><a class=\"button primary\" href=\"/kids\"><span>Shop kids</span></a></div>, <div class=\"text-center\"><img alt=\"\" src=\"/assets/homepage/banner/men-shoes.jpeg\"/></div>, <img alt=\"\" src=\"/assets/homepage/banner/men-shoes.jpeg\"/>, <h3 class=\"h4 uppercase mt-1 mb-1\">Men shoes collection</h3>, <div class=\"mb-1\"><p>Constructed from luxury nylons, leathers, and custom hardware, featuring sport details such as hidden breathing vents, waterproof + antimicrobial linings, and more.</p></div>, <p>Constructed from luxury nylons, leathers, and custom hardware, featuring sport details such as hidden breathing vents, waterproof + antimicrobial linings, and more.</p>, <a class=\"button primary\" href=\"/kids\"><span>Shop kids</span></a>, <span>Shop kids</span>, <div><div><img alt=\"\" src=\"/assets/homepage/banner/women-shoes.jpeg\"/></div><h3 class=\"h4 uppercase mt-1 mb-1\">Women shoes collection</h3><div class=\"mb-1\"><p>Constructed from luxury nylons, leathers, and custom hardware, featuring sport details such as hidden breathing vents, waterproof + antimicrobial linings, and more.</p></div><a class=\"button primary\" href=\"/women\"><span>Shop women</span></a></div>, <div><img alt=\"\" src=\"/assets/homepage/banner/women-shoes.jpeg\"/></div>, <img alt=\"\" src=\"/assets/homepage/banner/women-shoes.jpeg\"/>, <h3 class=\"h4 uppercase mt-1 mb-1\">Women shoes collection</h3>, <div class=\"mb-1\"><p>Constructed from luxury nylons, leathers, and custom hardware, featuring sport details such as hidden breathing vents, waterproof + antimicrobial linings, and more.</p></div>, <p>Constructed from luxury nylons, leathers, and custom hardware, featuring sport details such as hidden breathing vents, waterproof + antimicrobial linings, and more.</p>, <a class=\"button primary\" href=\"/women\"><span>Shop women</span></a>, <span>Shop women</span>, <div><div><img alt=\"\" src=\"/assets/homepage/banner/kid-shoes.jpeg\"/></div><h3 class=\"h4 uppercase mt-1 mb-1\">Men shoes collection</h3><div class=\"mb-1\"><p>Constructed from luxury nylons, leathers, and custom hardware, featuring sport details such as hidden breathing vents, waterproof + antimicrobial linings, and more.</p></div><a class=\"button primary\" href=\"/men\"><span>Shop men</span></a></div>, <div><img alt=\"\" src=\"/assets/homepage/banner/kid-shoes.jpeg\"/></div>, <img alt=\"\" src=\"/assets/homepage/banner/kid-shoes.jpeg\"/>, <h3 class=\"h4 uppercase mt-1 mb-1\">Men shoes collection</h3>, <div class=\"mb-1\"><p>Constructed from luxury nylons, leathers, and custom hardware, featuring sport details such as hidden breathing vents, waterproof + antimicrobial linings, and more.</p></div>, <p>Constructed from luxury nylons, leathers, and custom hardware, featuring sport details such as hidden breathing vents, waterproof + antimicrobial linings, and more.</p>, <a class=\"button primary\" href=\"/men\"><span>Shop men</span></a>, <span>Shop men</span>, <div class=\"pt-3\"><div class=\"page-width\"><h3 class=\"mt-3 mb-3 text-center uppercase h5 tracking-widest\">Featured Products</h3><div class=\"grid grid-cols-2 md:grid-cols-4 gap-2\"><div class=\"listing-tem\"><div class=\"product-thumbnail-listing\"><a href=\"/men/nike-air-zoom-pegasus-35-146\"><img alt=\"Nike air zoom pegasus 35\" src=\"/assets/catalog/1034/3600/plv7632-Green-list.png\"/></a></div><div class=\"product-name product-list-name mt-1 mb-025\"><a class=\"font-bold hover:underline h5\" href=\"/men/nike-air-zoom-pegasus-35-146\"><span>Nike air zoom pegasus 35</span></a></div><div class=\"product-price-listing\"><div><span class=\"sale-price font-semibold\">$452.10</span></div></div></div><div class=\"listing-tem\"><div class=\"product-thumbnail-listing\"><a href=\"/mix-and-match-chuck-taylor-all-star-118\"><img alt=\"Mix and match chuck taylor all star\" src=\"/assets/catalog/5059/3470/plv4547-Grey-list.png\"/></a></div><div class=\"product-name product-list-name mt-1 mb-025\"><a class=\"font-bold hover:underline h5\" href=\"/mix-and-match-chuck-taylor-all-star-118\"><span>Mix and match chuck taylor all star</span></a></div><div class=\"product-price-listing\"><div><span class=\"sale-price font-semibold\">$877.80</span></div></div></div><div class=\"listing-tem\"><div class=\"product-thumbnail-listing\"><a href=\"/geography-class-chuck-taylor-all-star-81\"><img alt=\"Geography class chuck taylor all star\" src=\"/assets/catalog/4056/5908/plv3360-Black-list.png\"/></a></div><div class=\"product-name product-list-name mt-1 mb-025\"><a class=\"font-bold hover:underline h5\" href=\"/geography-class-chuck-taylor-all-star-81\"><span>Geography class chuck taylor all star</span></a></div><div class=\"product-price-listing\"><div><span class=\"sale-price font-semibold\">$275.00</span></div></div></div><div class=\"listing-tem\"><div class=\"product-thumbnail-listing\"><a href=\"/kids/swift-run-x-shoes-12\"><img alt=\"Swift run x shoes\" src=\"/assets/catalog/3241/9300/plv1517-Pink-list.png\"/></a></div><div class=\"product-name product-list-name mt-1 mb-025\"><a class=\"font-bold hover:underline h5\" href=\"/kids/swift-run-x-shoes-12\"><span>Swift run x shoes</span></a></div><div class=\"product-price-listing\"><div><span class=\"sale-price font-semibold\">$370.70</span></div></div></div></div></div></div>, <div class=\"page-width\"><h3 class=\"mt-3 mb-3 text-center uppercase h5 tracking-widest\">Featured Products</h3><div class=\"grid grid-cols-2 md:grid-cols-4 gap-2\"><div class=\"listing-tem\"><div class=\"product-thumbnail-listing\"><a href=\"/men/nike-air-zoom-pegasus-35-146\"><img alt=\"Nike air zoom pegasus 35\" src=\"/assets/catalog/1034/3600/plv7632-Green-list.png\"/></a></div><div class=\"product-name product-list-name mt-1 mb-025\"><a class=\"font-bold hover:underline h5\" href=\"/men/nike-air-zoom-pegasus-35-146\"><span>Nike air zoom pegasus 35</span></a></div><div class=\"product-price-listing\"><div><span class=\"sale-price font-semibold\">$452.10</span></div></div></div><div class=\"listing-tem\"><div class=\"product-thumbnail-listing\"><a href=\"/mix-and-match-chuck-taylor-all-star-118\"><img alt=\"Mix and match chuck taylor all star\" src=\"/assets/catalog/5059/3470/plv4547-Grey-list.png\"/></a></div><div class=\"product-name product-list-name mt-1 mb-025\"><a class=\"font-bold hover:underline h5\" href=\"/mix-and-match-chuck-taylor-all-star-118\"><span>Mix and match chuck taylor all star</span></a></div><div class=\"product-price-listing\"><div><span class=\"sale-price font-semibold\">$877.80</span></div></div></div><div class=\"listing-tem\"><div class=\"product-thumbnail-listing\"><a href=\"/geography-class-chuck-taylor-all-star-81\"><img alt=\"Geography class chuck taylor all star\" src=\"/assets/catalog/4056/5908/plv3360-Black-list.png\"/></a></div><div class=\"product-name product-list-name mt-1 mb-025\"><a class=\"font-bold hover:underline h5\" href=\"/geography-class-chuck-taylor-all-star-81\"><span>Geography class chuck taylor all star</span></a></div><div class=\"product-price-listing\"><div><span class=\"sale-price font-semibold\">$275.00</span></div></div></div><div class=\"listing-tem\"><div class=\"product-thumbnail-listing\"><a href=\"/kids/swift-run-x-shoes-12\"><img alt=\"Swift run x shoes\" src=\"/assets/catalog/3241/9300/plv1517-Pink-list.png\"/></a></div><div class=\"product-name product-list-name mt-1 mb-025\"><a class=\"font-bold hover:underline h5\" href=\"/kids/swift-run-x-shoes-12\"><span>Swift run x shoes</span></a></div><div class=\"product-price-listing\"><div><span class=\"sale-price font-semibold\">$370.70</span></div></div></div></div></div>, <h3 class=\"mt-3 mb-3 text-center uppercase h5 tracking-widest\">Featured Products</h3>, <div class=\"grid grid-cols-2 md:grid-cols-4 gap-2\"><div class=\"listing-tem\"><div class=\"product-thumbnail-listing\"><a href=\"/men/nike-air-zoom-pegasus-35-146\"><img alt=\"Nike air zoom pegasus 35\" src=\"/assets/catalog/1034/3600/plv7632-Green-list.png\"/></a></div><div class=\"product-name product-list-name mt-1 mb-025\"><a class=\"font-bold hover:underline h5\" href=\"/men/nike-air-zoom-pegasus-35-146\"><span>Nike air zoom pegasus 35</span></a></div><div class=\"product-price-listing\"><div><span class=\"sale-price font-semibold\">$452.10</span></div></div></div><div class=\"listing-tem\"><div class=\"product-thumbnail-listing\"><a href=\"/mix-and-match-chuck-taylor-all-star-118\"><img alt=\"Mix and match chuck taylor all star\" src=\"/assets/catalog/5059/3470/plv4547-Grey-list.png\"/></a></div><div class=\"product-name product-list-name mt-1 mb-025\"><a class=\"font-bold hover:underline h5\" href=\"/mix-and-match-chuck-taylor-all-star-118\"><span>Mix and match chuck taylor all star</span></a></div><div class=\"product-price-listing\"><div><span class=\"sale-price font-semibold\">$877.80</span></div></div></div><div class=\"listing-tem\"><div class=\"product-thumbnail-listing\"><a href=\"/geography-class-chuck-taylor-all-star-81\"><img alt=\"Geography class chuck taylor all star\" src=\"/assets/catalog/4056/5908/plv3360-Black-list.png\"/></a></div><div class=\"product-name product-list-name mt-1 mb-025\"><a class=\"font-bold hover:underline h5\" href=\"/geography-class-chuck-taylor-all-star-81\"><span>Geography class chuck taylor all star</span></a></div><div class=\"product-price-listing\"><div><span class=\"sale-price font-semibold\">$275.00</span></div></div></div><div class=\"listing-tem\"><div class=\"product-thumbnail-listing\"><a href=\"/kids/swift-run-x-shoes-12\"><img alt=\"Swift run x shoes\" src=\"/assets/catalog/3241/9300/plv1517-Pink-list.png\"/></a></div><div class=\"product-name product-list-name mt-1 mb-025\"><a class=\"font-bold hover:underline h5\" href=\"/kids/swift-run-x-shoes-12\"><span>Swift run x shoes</span></a></div><div class=\"product-price-listing\"><div><span class=\"sale-price font-semibold\">$370.70</span></div></div></div></div>, <div class=\"listing-tem\"><div class=\"product-thumbnail-listing\"><a href=\"/men/nike-air-zoom-pegasus-35-146\"><img alt=\"Nike air zoom pegasus 35\" src=\"/assets/catalog/1034/3600/plv7632-Green-list.png\"/></a></div><div class=\"product-name product-list-name mt-1 mb-025\"><a class=\"font-bold hover:underline h5\" href=\"/men/nike-air-zoom-pegasus-35-146\"><span>Nike air zoom pegasus 35</span></a></div><div class=\"product-price-listing\"><div><span class=\"sale-price font-semibold\">$452.10</span></div></div></div>, <div class=\"product-thumbnail-listing\"><a href=\"/men/nike-air-zoom-pegasus-35-146\"><img alt=\"Nike air zoom pegasus 35\" src=\"/assets/catalog/1034/3600/plv7632-Green-list.png\"/></a></div>, <a href=\"/men/nike-air-zoom-pegasus-35-146\"><img alt=\"Nike air zoom pegasus 35\" src=\"/assets/catalog/1034/3600/plv7632-Green-list.png\"/></a>, <img alt=\"Nike air zoom pegasus 35\" src=\"/assets/catalog/1034/3600/plv7632-Green-list.png\"/>, <div class=\"product-name product-list-name mt-1 mb-025\"><a class=\"font-bold hover:underline h5\" href=\"/men/nike-air-zoom-pegasus-35-146\"><span>Nike air zoom pegasus 35</span></a></div>, <a class=\"font-bold hover:underline h5\" href=\"/men/nike-air-zoom-pegasus-35-146\"><span>Nike air zoom pegasus 35</span></a>, <span>Nike air zoom pegasus 35</span>, <div class=\"product-price-listing\"><div><span class=\"sale-price font-semibold\">$452.10</span></div></div>, <div><span class=\"sale-price font-semibold\">$452.10</span></div>, <span class=\"sale-price font-semibold\">$452.10</span>, <div class=\"listing-tem\"><div class=\"product-thumbnail-listing\"><a href=\"/mix-and-match-chuck-taylor-all-star-118\"><img alt=\"Mix and match chuck taylor all star\" src=\"/assets/catalog/5059/3470/plv4547-Grey-list.png\"/></a></div><div class=\"product-name product-list-name mt-1 mb-025\"><a class=\"font-bold hover:underline h5\" href=\"/mix-and-match-chuck-taylor-all-star-118\"><span>Mix and match chuck taylor all star</span></a></div><div class=\"product-price-listing\"><div><span class=\"sale-price font-semibold\">$877.80</span></div></div></div>, <div class=\"product-thumbnail-listing\"><a href=\"/mix-and-match-chuck-taylor-all-star-118\"><img alt=\"Mix and match chuck taylor all star\" src=\"/assets/catalog/5059/3470/plv4547-Grey-list.png\"/></a></div>, <a href=\"/mix-and-match-chuck-taylor-all-star-118\"><img alt=\"Mix and match chuck taylor all star\" src=\"/assets/catalog/5059/3470/plv4547-Grey-list.png\"/></a>, <img alt=\"Mix and match chuck taylor all star\" src=\"/assets/catalog/5059/3470/plv4547-Grey-list.png\"/>, <div class=\"product-name product-list-name mt-1 mb-025\"><a class=\"font-bold hover:underline h5\" href=\"/mix-and-match-chuck-taylor-all-star-118\"><span>Mix and match chuck taylor all star</span></a></div>, <a class=\"font-bold hover:underline h5\" href=\"/mix-and-match-chuck-taylor-all-star-118\"><span>Mix and match chuck taylor all star</span></a>, <span>Mix and match chuck taylor all star</span>, <div class=\"product-price-listing\"><div><span class=\"sale-price font-semibold\">$877.80</span></div></div>, <div><span class=\"sale-price font-semibold\">$877.80</span></div>, <span class=\"sale-price font-semibold\">$877.80</span>, <div class=\"listing-tem\"><div class=\"product-thumbnail-listing\"><a href=\"/geography-class-chuck-taylor-all-star-81\"><img alt=\"Geography class chuck taylor all star\" src=\"/assets/catalog/4056/5908/plv3360-Black-list.png\"/></a></div><div class=\"product-name product-list-name mt-1 mb-025\"><a class=\"font-bold hover:underline h5\" href=\"/geography-class-chuck-taylor-all-star-81\"><span>Geography class chuck taylor all star</span></a></div><div class=\"product-price-listing\"><div><span class=\"sale-price font-semibold\">$275.00</span></div></div></div>, <div class=\"product-thumbnail-listing\"><a href=\"/geography-class-chuck-taylor-all-star-81\"><img alt=\"Geography class chuck taylor all star\" src=\"/assets/catalog/4056/5908/plv3360-Black-list.png\"/></a></div>, <a href=\"/geography-class-chuck-taylor-all-star-81\"><img alt=\"Geography class chuck taylor all star\" src=\"/assets/catalog/4056/5908/plv3360-Black-list.png\"/></a>, <img alt=\"Geography class chuck taylor all star\" src=\"/assets/catalog/4056/5908/plv3360-Black-list.png\"/>, <div class=\"product-name product-list-name mt-1 mb-025\"><a class=\"font-bold hover:underline h5\" href=\"/geography-class-chuck-taylor-all-star-81\"><span>Geography class chuck taylor all star</span></a></div>, <a class=\"font-bold hover:underline h5\" href=\"/geography-class-chuck-taylor-all-star-81\"><span>Geography class chuck taylor all star</span></a>, <span>Geography class chuck taylor all star</span>, <div class=\"product-price-listing\"><div><span class=\"sale-price font-semibold\">$275.00</span></div></div>, <div><span class=\"sale-price font-semibold\">$275.00</span></div>, <span class=\"sale-price font-semibold\">$275.00</span>, <div class=\"listing-tem\"><div class=\"product-thumbnail-listing\"><a href=\"/kids/swift-run-x-shoes-12\"><img alt=\"Swift run x shoes\" src=\"/assets/catalog/3241/9300/plv1517-Pink-list.png\"/></a></div><div class=\"product-name product-list-name mt-1 mb-025\"><a class=\"font-bold hover:underline h5\" href=\"/kids/swift-run-x-shoes-12\"><span>Swift run x shoes</span></a></div><div class=\"product-price-listing\"><div><span class=\"sale-price font-semibold\">$370.70</span></div></div></div>, <div class=\"product-thumbnail-listing\"><a href=\"/kids/swift-run-x-shoes-12\"><img alt=\"Swift run x shoes\" src=\"/assets/catalog/3241/9300/plv1517-Pink-list.png\"/></a></div>, <a href=\"/kids/swift-run-x-shoes-12\"><img alt=\"Swift run x shoes\" src=\"/assets/catalog/3241/9300/plv1517-Pink-list.png\"/></a>, <img alt=\"Swift run x shoes\" src=\"/assets/catalog/3241/9300/plv1517-Pink-list.png\"/>, <div class=\"product-name product-list-name mt-1 mb-025\"><a class=\"font-bold hover:underline h5\" href=\"/kids/swift-run-x-shoes-12\"><span>Swift run x shoes</span></a></div>, <a class=\"font-bold hover:underline h5\" href=\"/kids/swift-run-x-shoes-12\"><span>Swift run x shoes</span></a>, <span>Swift run x shoes</span>, <div class=\"product-price-listing\"><div><span class=\"sale-price font-semibold\">$370.70</span></div></div>, <div><span class=\"sale-price font-semibold\">$370.70</span></div>, <span class=\"sale-price font-semibold\">$370.70</span>, <div class=\"footer\"><div class=\"footer__default\"><div class=\"page-width grid grid-cols-1 md:grid-cols-2 gap-2 justify-between\"><div><div class=\"card-icons flex justify-center space-x-1 md:justify-start\"><div><svg aria-labelledby=\"pi-visa\" height=\"24\" viewbox=\"0 0 38 24\" width=\"38\" xmlns=\"http://www.w3.org/2000/svg\"><path d=\"M35 0H3C1.3 0 0 1.3 0 3v18c0 1.7 1.4 3 3 3h32c1.7 0 3-1.3 3-3V3c0-1.7-1.4-3-3-3z\" opacity=\"0.07\"></path><path d=\"M35 1c1.1 0 2 .9 2 2v18c0 1.1-.9 2-2 2H3c-1.1 0-2-.9-2-2V3c0-1.1.9-2 2-2h32\" fill=\"#fff\"></path><path d=\"M28.3 10.1H28c-.4 1-.7 1.5-1 3h1.9c-.3-1.5-.3-2.2-.6-3zm2.9 5.9h-1.7c-.1 0-.1 0-.2-.1l-.2-.9-.1-.2h-2.4c-.1 0-.2 0-.2.2l-.3.9c0 .1-.1.1-.1.1h-2.1l.2-.5L27 8.7c0-.5.3-.7.8-.7h1.5c.1 0 .2 0 .2.2l1.4 6.5c.1.4.2.7.2 1.1.1.1.1.1.1.2zm-13.4-.3l.4-1.8c.1 0 .2.1.2.1.7.3 1.4.5 2.1.4.2 0 .5-.1.7-.2.5-.2.5-.7.1-1.1-.2-.2-.5-.3-.8-.5-.4-.2-.8-.4-1.1-.7-1.2-1-.8-2.4-.1-3.1.6-.4.9-.8 1.7-.8 1.2 0 2.5 0 3.1.2h.1c-.1.6-.2 1.1-.4 1.7-.5-.2-1-.4-1.5-.4-.3 0-.6 0-.9.1-.2 0-.3.1-.4.2-.2.2-.2.5 0 .7l.5.4c.4.2.8.4 1.1.6.5.3 1 .8 1.1 1.4.2.9-.1 1.7-.9 2.3-.5.4-.7.6-1.4.6-1.4 0-2.5.1-3.4-.2-.1.2-.1.2-.2.1zm-3.5.3c.1-.7.1-.7.2-1 .5-2.2 1-4.5 1.4-6.7.1-.2.1-.3.3-.3H18c-.2 1.2-.4 2.1-.7 3.2-.3 1.5-.6 3-1 4.5 0 .2-.1.2-.3.2M5 8.2c0-.1.2-.2.3-.2h3.4c.5 0 .9.3 1 .8l.9 4.4c0 .1 0 .1.1.2 0-.1.1-.1.1-.1l2.1-5.1c-.1-.1 0-.2.1-.2h2.1c0 .1 0 .1-.1.2l-3.1 7.3c-.1.2-.1.3-.2.4-.1.1-.3 0-.5 0H9.7c-.1 0-.2 0-.2-.2L7.9 9.5c-.2-.2-.5-.5-.9-.6-.6-.3-1.7-.5-1.9-.5L5 8.2z\" fill=\"#142688\"></path></svg></div><div><svg aria-labelledby=\"pi-master\" height=\"24\" viewbox=\"0 0 38 24\" width=\"38\" xmlns=\"http://www.w3.org/2000/svg\"><path d=\"M35 0H3C1.3 0 0 1.3 0 3v18c0 1.7 1.4 3 3 3h32c1.7 0 3-1.3 3-3V3c0-1.7-1.4-3-3-3z\" opacity=\"0.07\"></path><path d=\"M35 1c1.1 0 2 .9 2 2v18c0 1.1-.9 2-2 2H3c-1.1 0-2-.9-2-2V3c0-1.1.9-2 2-2h32\" fill=\"#fff\"></path><circle cx=\"15\" cy=\"12\" fill=\"#EB001B\" r=\"7\"></circle><circle cx=\"23\" cy=\"12\" fill=\"#F79E1B\" r=\"7\"></circle><path d=\"M22 12c0-2.4-1.2-4.5-3-5.7-1.8 1.3-3 3.4-3 5.7s1.2 4.5 3 5.7c1.8-1.2 3-3.3 3-5.7z\" fill=\"#FF5F00\"></path></svg></div><div><svg aria-labelledby=\"pi-paypal\" height=\"24\" role=\"img\" viewbox=\"0 0 38 24\" width=\"38\" xmlns=\"http://www.w3.org/2000/svg\"><title id=\"pi-paypal\">PayPal</title><path d=\"M35 0H3C1.3 0 0 1.3 0 3v18c0 1.7 1.4 3 3 3h32c1.7 0 3-1.3 3-3V3c0-1.7-1.4-3-3-3z\" opacity=\".07\"></path><path d=\"M35 1c1.1 0 2 .9 2 2v18c0 1.1-.9 2-2 2H3c-1.1 0-2-.9-2-2V3c0-1.1.9-2 2-2h32\" fill=\"#fff\"></path><path d=\"M23.9 8.3c.2-1 0-1.7-.6-2.3-.6-.7-1.7-1-3.1-1h-4.1c-.3 0-.5.2-.6.5L14 15.6c0 .2.1.4.3.4H17l.4-3.4 1.8-2.2 4.7-2.1z\" fill=\"#003087\"></path><path d=\"M23.9 8.3l-.2.2c-.5 2.8-2.2 3.8-4.6 3.8H18c-.3 0-.5.2-.6.5l-.6 3.9-.2 1c0 .2.1.4.3.4H19c.3 0 .5-.2.5-.4v-.1l.4-2.4v-.1c0-.2.3-.4.5-.4h.3c2.1 0 3.7-.8 4.1-3.2.2-1 .1-1.8-.4-2.4-.1-.5-.3-.7-.5-.8z\" fill=\"#3086C8\"></path><path d=\"M23.3 8.1c-.1-.1-.2-.1-.3-.1-.1 0-.2 0-.3-.1-.3-.1-.7-.1-1.1-.1h-3c-.1 0-.2 0-.2.1-.2.1-.3.2-.3.4l-.7 4.4v.1c0-.3.3-.5.6-.5h1.3c2.5 0 4.1-1 4.6-3.8v-.2c-.1-.1-.3-.2-.5-.2h-.1z\" fill=\"#012169\"></path></svg></div></div></div><div class=\"self-center\"><div class=\"copyright text-center md:text-right text-textSubdued\"><span></span></div></div></div></div></div>, <div class=\"footer__default\"><div class=\"page-width grid grid-cols-1 md:grid-cols-2 gap-2 justify-between\"><div><div class=\"card-icons flex justify-center space-x-1 md:justify-start\"><div><svg aria-labelledby=\"pi-visa\" height=\"24\" viewbox=\"0 0 38 24\" width=\"38\" xmlns=\"http://www.w3.org/2000/svg\"><path d=\"M35 0H3C1.3 0 0 1.3 0 3v18c0 1.7 1.4 3 3 3h32c1.7 0 3-1.3 3-3V3c0-1.7-1.4-3-3-3z\" opacity=\"0.07\"></path><path d=\"M35 1c1.1 0 2 .9 2 2v18c0 1.1-.9 2-2 2H3c-1.1 0-2-.9-2-2V3c0-1.1.9-2 2-2h32\" fill=\"#fff\"></path><path d=\"M28.3 10.1H28c-.4 1-.7 1.5-1 3h1.9c-.3-1.5-.3-2.2-.6-3zm2.9 5.9h-1.7c-.1 0-.1 0-.2-.1l-.2-.9-.1-.2h-2.4c-.1 0-.2 0-.2.2l-.3.9c0 .1-.1.1-.1.1h-2.1l.2-.5L27 8.7c0-.5.3-.7.8-.7h1.5c.1 0 .2 0 .2.2l1.4 6.5c.1.4.2.7.2 1.1.1.1.1.1.1.2zm-13.4-.3l.4-1.8c.1 0 .2.1.2.1.7.3 1.4.5 2.1.4.2 0 .5-.1.7-.2.5-.2.5-.7.1-1.1-.2-.2-.5-.3-.8-.5-.4-.2-.8-.4-1.1-.7-1.2-1-.8-2.4-.1-3.1.6-.4.9-.8 1.7-.8 1.2 0 2.5 0 3.1.2h.1c-.1.6-.2 1.1-.4 1.7-.5-.2-1-.4-1.5-.4-.3 0-.6 0-.9.1-.2 0-.3.1-.4.2-.2.2-.2.5 0 .7l.5.4c.4.2.8.4 1.1.6.5.3 1 .8 1.1 1.4.2.9-.1 1.7-.9 2.3-.5.4-.7.6-1.4.6-1.4 0-2.5.1-3.4-.2-.1.2-.1.2-.2.1zm-3.5.3c.1-.7.1-.7.2-1 .5-2.2 1-4.5 1.4-6.7.1-.2.1-.3.3-.3H18c-.2 1.2-.4 2.1-.7 3.2-.3 1.5-.6 3-1 4.5 0 .2-.1.2-.3.2M5 8.2c0-.1.2-.2.3-.2h3.4c.5 0 .9.3 1 .8l.9 4.4c0 .1 0 .1.1.2 0-.1.1-.1.1-.1l2.1-5.1c-.1-.1 0-.2.1-.2h2.1c0 .1 0 .1-.1.2l-3.1 7.3c-.1.2-.1.3-.2.4-.1.1-.3 0-.5 0H9.7c-.1 0-.2 0-.2-.2L7.9 9.5c-.2-.2-.5-.5-.9-.6-.6-.3-1.7-.5-1.9-.5L5 8.2z\" fill=\"#142688\"></path></svg></div><div><svg aria-labelledby=\"pi-master\" height=\"24\" viewbox=\"0 0 38 24\" width=\"38\" xmlns=\"http://www.w3.org/2000/svg\"><path d=\"M35 0H3C1.3 0 0 1.3 0 3v18c0 1.7 1.4 3 3 3h32c1.7 0 3-1.3 3-3V3c0-1.7-1.4-3-3-3z\" opacity=\"0.07\"></path><path d=\"M35 1c1.1 0 2 .9 2 2v18c0 1.1-.9 2-2 2H3c-1.1 0-2-.9-2-2V3c0-1.1.9-2 2-2h32\" fill=\"#fff\"></path><circle cx=\"15\" cy=\"12\" fill=\"#EB001B\" r=\"7\"></circle><circle cx=\"23\" cy=\"12\" fill=\"#F79E1B\" r=\"7\"></circle><path d=\"M22 12c0-2.4-1.2-4.5-3-5.7-1.8 1.3-3 3.4-3 5.7s1.2 4.5 3 5.7c1.8-1.2 3-3.3 3-5.7z\" fill=\"#FF5F00\"></path></svg></div><div><svg aria-labelledby=\"pi-paypal\" height=\"24\" role=\"img\" viewbox=\"0 0 38 24\" width=\"38\" xmlns=\"http://www.w3.org/2000/svg\"><title id=\"pi-paypal\">PayPal</title><path d=\"M35 0H3C1.3 0 0 1.3 0 3v18c0 1.7 1.4 3 3 3h32c1.7 0 3-1.3 3-3V3c0-1.7-1.4-3-3-3z\" opacity=\".07\"></path><path d=\"M35 1c1.1 0 2 .9 2 2v18c0 1.1-.9 2-2 2H3c-1.1 0-2-.9-2-2V3c0-1.1.9-2 2-2h32\" fill=\"#fff\"></path><path d=\"M23.9 8.3c.2-1 0-1.7-.6-2.3-.6-.7-1.7-1-3.1-1h-4.1c-.3 0-.5.2-.6.5L14 15.6c0 .2.1.4.3.4H17l.4-3.4 1.8-2.2 4.7-2.1z\" fill=\"#003087\"></path><path d=\"M23.9 8.3l-.2.2c-.5 2.8-2.2 3.8-4.6 3.8H18c-.3 0-.5.2-.6.5l-.6 3.9-.2 1c0 .2.1.4.3.4H19c.3 0 .5-.2.5-.4v-.1l.4-2.4v-.1c0-.2.3-.4.5-.4h.3c2.1 0 3.7-.8 4.1-3.2.2-1 .1-1.8-.4-2.4-.1-.5-.3-.7-.5-.8z\" fill=\"#3086C8\"></path><path d=\"M23.3 8.1c-.1-.1-.2-.1-.3-.1-.1 0-.2 0-.3-.1-.3-.1-.7-.1-1.1-.1h-3c-.1 0-.2 0-.2.1-.2.1-.3.2-.3.4l-.7 4.4v.1c0-.3.3-.5.6-.5h1.3c2.5 0 4.1-1 4.6-3.8v-.2c-.1-.1-.3-.2-.5-.2h-.1z\" fill=\"#012169\"></path></svg></div></div></div><div class=\"self-center\"><div class=\"copyright text-center md:text-right text-textSubdued\"><span></span></div></div></div></div>, <div class=\"page-width grid grid-cols-1 md:grid-cols-2 gap-2 justify-between\"><div><div class=\"card-icons flex justify-center space-x-1 md:justify-start\"><div><svg aria-labelledby=\"pi-visa\" height=\"24\" viewbox=\"0 0 38 24\" width=\"38\" xmlns=\"http://www.w3.org/2000/svg\"><path d=\"M35 0H3C1.3 0 0 1.3 0 3v18c0 1.7 1.4 3 3 3h32c1.7 0 3-1.3 3-3V3c0-1.7-1.4-3-3-3z\" opacity=\"0.07\"></path><path d=\"M35 1c1.1 0 2 .9 2 2v18c0 1.1-.9 2-2 2H3c-1.1 0-2-.9-2-2V3c0-1.1.9-2 2-2h32\" fill=\"#fff\"></path><path d=\"M28.3 10.1H28c-.4 1-.7 1.5-1 3h1.9c-.3-1.5-.3-2.2-.6-3zm2.9 5.9h-1.7c-.1 0-.1 0-.2-.1l-.2-.9-.1-.2h-2.4c-.1 0-.2 0-.2.2l-.3.9c0 .1-.1.1-.1.1h-2.1l.2-.5L27 8.7c0-.5.3-.7.8-.7h1.5c.1 0 .2 0 .2.2l1.4 6.5c.1.4.2.7.2 1.1.1.1.1.1.1.2zm-13.4-.3l.4-1.8c.1 0 .2.1.2.1.7.3 1.4.5 2.1.4.2 0 .5-.1.7-.2.5-.2.5-.7.1-1.1-.2-.2-.5-.3-.8-.5-.4-.2-.8-.4-1.1-.7-1.2-1-.8-2.4-.1-3.1.6-.4.9-.8 1.7-.8 1.2 0 2.5 0 3.1.2h.1c-.1.6-.2 1.1-.4 1.7-.5-.2-1-.4-1.5-.4-.3 0-.6 0-.9.1-.2 0-.3.1-.4.2-.2.2-.2.5 0 .7l.5.4c.4.2.8.4 1.1.6.5.3 1 .8 1.1 1.4.2.9-.1 1.7-.9 2.3-.5.4-.7.6-1.4.6-1.4 0-2.5.1-3.4-.2-.1.2-.1.2-.2.1zm-3.5.3c.1-.7.1-.7.2-1 .5-2.2 1-4.5 1.4-6.7.1-.2.1-.3.3-.3H18c-.2 1.2-.4 2.1-.7 3.2-.3 1.5-.6 3-1 4.5 0 .2-.1.2-.3.2M5 8.2c0-.1.2-.2.3-.2h3.4c.5 0 .9.3 1 .8l.9 4.4c0 .1 0 .1.1.2 0-.1.1-.1.1-.1l2.1-5.1c-.1-.1 0-.2.1-.2h2.1c0 .1 0 .1-.1.2l-3.1 7.3c-.1.2-.1.3-.2.4-.1.1-.3 0-.5 0H9.7c-.1 0-.2 0-.2-.2L7.9 9.5c-.2-.2-.5-.5-.9-.6-.6-.3-1.7-.5-1.9-.5L5 8.2z\" fill=\"#142688\"></path></svg></div><div><svg aria-labelledby=\"pi-master\" height=\"24\" viewbox=\"0 0 38 24\" width=\"38\" xmlns=\"http://www.w3.org/2000/svg\"><path d=\"M35 0H3C1.3 0 0 1.3 0 3v18c0 1.7 1.4 3 3 3h32c1.7 0 3-1.3 3-3V3c0-1.7-1.4-3-3-3z\" opacity=\"0.07\"></path><path d=\"M35 1c1.1 0 2 .9 2 2v18c0 1.1-.9 2-2 2H3c-1.1 0-2-.9-2-2V3c0-1.1.9-2 2-2h32\" fill=\"#fff\"></path><circle cx=\"15\" cy=\"12\" fill=\"#EB001B\" r=\"7\"></circle><circle cx=\"23\" cy=\"12\" fill=\"#F79E1B\" r=\"7\"></circle><path d=\"M22 12c0-2.4-1.2-4.5-3-5.7-1.8 1.3-3 3.4-3 5.7s1.2 4.5 3 5.7c1.8-1.2 3-3.3 3-5.7z\" fill=\"#FF5F00\"></path></svg></div><div><svg aria-labelledby=\"pi-paypal\" height=\"24\" role=\"img\" viewbox=\"0 0 38 24\" width=\"38\" xmlns=\"http://www.w3.org/2000/svg\"><title id=\"pi-paypal\">PayPal</title><path d=\"M35 0H3C1.3 0 0 1.3 0 3v18c0 1.7 1.4 3 3 3h32c1.7 0 3-1.3 3-3V3c0-1.7-1.4-3-3-3z\" opacity=\".07\"></path><path d=\"M35 1c1.1 0 2 .9 2 2v18c0 1.1-.9 2-2 2H3c-1.1 0-2-.9-2-2V3c0-1.1.9-2 2-2h32\" fill=\"#fff\"></path><path d=\"M23.9 8.3c.2-1 0-1.7-.6-2.3-.6-.7-1.7-1-3.1-1h-4.1c-.3 0-.5.2-.6.5L14 15.6c0 .2.1.4.3.4H17l.4-3.4 1.8-2.2 4.7-2.1z\" fill=\"#003087\"></path><path d=\"M23.9 8.3l-.2.2c-.5 2.8-2.2 3.8-4.6 3.8H18c-.3 0-.5.2-.6.5l-.6 3.9-.2 1c0 .2.1.4.3.4H19c.3 0 .5-.2.5-.4v-.1l.4-2.4v-.1c0-.2.3-.4.5-.4h.3c2.1 0 3.7-.8 4.1-3.2.2-1 .1-1.8-.4-2.4-.1-.5-.3-.7-.5-.8z\" fill=\"#3086C8\"></path><path d=\"M23.3 8.1c-.1-.1-.2-.1-.3-.1-.1 0-.2 0-.3-.1-.3-.1-.7-.1-1.1-.1h-3c-.1 0-.2 0-.2.1-.2.1-.3.2-.3.4l-.7 4.4v.1c0-.3.3-.5.6-.5h1.3c2.5 0 4.1-1 4.6-3.8v-.2c-.1-.1-.3-.2-.5-.2h-.1z\" fill=\"#012169\"></path></svg></div></div></div><div class=\"self-center\"><div class=\"copyright text-center md:text-right text-textSubdued\"><span></span></div></div></div>, <div><div class=\"card-icons flex justify-center space-x-1 md:justify-start\"><div><svg aria-labelledby=\"pi-visa\" height=\"24\" viewbox=\"0 0 38 24\" width=\"38\" xmlns=\"http://www.w3.org/2000/svg\"><path d=\"M35 0H3C1.3 0 0 1.3 0 3v18c0 1.7 1.4 3 3 3h32c1.7 0 3-1.3 3-3V3c0-1.7-1.4-3-3-3z\" opacity=\"0.07\"></path><path d=\"M35 1c1.1 0 2 .9 2 2v18c0 1.1-.9 2-2 2H3c-1.1 0-2-.9-2-2V3c0-1.1.9-2 2-2h32\" fill=\"#fff\"></path><path d=\"M28.3 10.1H28c-.4 1-.7 1.5-1 3h1.9c-.3-1.5-.3-2.2-.6-3zm2.9 5.9h-1.7c-.1 0-.1 0-.2-.1l-.2-.9-.1-.2h-2.4c-.1 0-.2 0-.2.2l-.3.9c0 .1-.1.1-.1.1h-2.1l.2-.5L27 8.7c0-.5.3-.7.8-.7h1.5c.1 0 .2 0 .2.2l1.4 6.5c.1.4.2.7.2 1.1.1.1.1.1.1.2zm-13.4-.3l.4-1.8c.1 0 .2.1.2.1.7.3 1.4.5 2.1.4.2 0 .5-.1.7-.2.5-.2.5-.7.1-1.1-.2-.2-.5-.3-.8-.5-.4-.2-.8-.4-1.1-.7-1.2-1-.8-2.4-.1-3.1.6-.4.9-.8 1.7-.8 1.2 0 2.5 0 3.1.2h.1c-.1.6-.2 1.1-.4 1.7-.5-.2-1-.4-1.5-.4-.3 0-.6 0-.9.1-.2 0-.3.1-.4.2-.2.2-.2.5 0 .7l.5.4c.4.2.8.4 1.1.6.5.3 1 .8 1.1 1.4.2.9-.1 1.7-.9 2.3-.5.4-.7.6-1.4.6-1.4 0-2.5.1-3.4-.2-.1.2-.1.2-.2.1zm-3.5.3c.1-.7.1-.7.2-1 .5-2.2 1-4.5 1.4-6.7.1-.2.1-.3.3-.3H18c-.2 1.2-.4 2.1-.7 3.2-.3 1.5-.6 3-1 4.5 0 .2-.1.2-.3.2M5 8.2c0-.1.2-.2.3-.2h3.4c.5 0 .9.3 1 .8l.9 4.4c0 .1 0 .1.1.2 0-.1.1-.1.1-.1l2.1-5.1c-.1-.1 0-.2.1-.2h2.1c0 .1 0 .1-.1.2l-3.1 7.3c-.1.2-.1.3-.2.4-.1.1-.3 0-.5 0H9.7c-.1 0-.2 0-.2-.2L7.9 9.5c-.2-.2-.5-.5-.9-.6-.6-.3-1.7-.5-1.9-.5L5 8.2z\" fill=\"#142688\"></path></svg></div><div><svg aria-labelledby=\"pi-master\" height=\"24\" viewbox=\"0 0 38 24\" width=\"38\" xmlns=\"http://www.w3.org/2000/svg\"><path d=\"M35 0H3C1.3 0 0 1.3 0 3v18c0 1.7 1.4 3 3 3h32c1.7 0 3-1.3 3-3V3c0-1.7-1.4-3-3-3z\" opacity=\"0.07\"></path><path d=\"M35 1c1.1 0 2 .9 2 2v18c0 1.1-.9 2-2 2H3c-1.1 0-2-.9-2-2V3c0-1.1.9-2 2-2h32\" fill=\"#fff\"></path><circle cx=\"15\" cy=\"12\" fill=\"#EB001B\" r=\"7\"></circle><circle cx=\"23\" cy=\"12\" fill=\"#F79E1B\" r=\"7\"></circle><path d=\"M22 12c0-2.4-1.2-4.5-3-5.7-1.8 1.3-3 3.4-3 5.7s1.2 4.5 3 5.7c1.8-1.2 3-3.3 3-5.7z\" fill=\"#FF5F00\"></path></svg></div><div><svg aria-labelledby=\"pi-paypal\" height=\"24\" role=\"img\" viewbox=\"0 0 38 24\" width=\"38\" xmlns=\"http://www.w3.org/2000/svg\"><title id=\"pi-paypal\">PayPal</title><path d=\"M35 0H3C1.3 0 0 1.3 0 3v18c0 1.7 1.4 3 3 3h32c1.7 0 3-1.3 3-3V3c0-1.7-1.4-3-3-3z\" opacity=\".07\"></path><path d=\"M35 1c1.1 0 2 .9 2 2v18c0 1.1-.9 2-2 2H3c-1.1 0-2-.9-2-2V3c0-1.1.9-2 2-2h32\" fill=\"#fff\"></path><path d=\"M23.9 8.3c.2-1 0-1.7-.6-2.3-.6-.7-1.7-1-3.1-1h-4.1c-.3 0-.5.2-.6.5L14 15.6c0 .2.1.4.3.4H17l.4-3.4 1.8-2.2 4.7-2.1z\" fill=\"#003087\"></path><path d=\"M23.9 8.3l-.2.2c-.5 2.8-2.2 3.8-4.6 3.8H18c-.3 0-.5.2-.6.5l-.6 3.9-.2 1c0 .2.1.4.3.4H19c.3 0 .5-.2.5-.4v-.1l.4-2.4v-.1c0-.2.3-.4.5-.4h.3c2.1 0 3.7-.8 4.1-3.2.2-1 .1-1.8-.4-2.4-.1-.5-.3-.7-.5-.8z\" fill=\"#3086C8\"></path><path d=\"M23.3 8.1c-.1-.1-.2-.1-.3-.1-.1 0-.2 0-.3-.1-.3-.1-.7-.1-1.1-.1h-3c-.1 0-.2 0-.2.1-.2.1-.3.2-.3.4l-.7 4.4v.1c0-.3.3-.5.6-.5h1.3c2.5 0 4.1-1 4.6-3.8v-.2c-.1-.1-.3-.2-.5-.2h-.1z\" fill=\"#012169\"></path></svg></div></div></div>, <div class=\"card-icons flex justify-center space-x-1 md:justify-start\"><div><svg aria-labelledby=\"pi-visa\" height=\"24\" viewbox=\"0 0 38 24\" width=\"38\" xmlns=\"http://www.w3.org/2000/svg\"><path d=\"M35 0H3C1.3 0 0 1.3 0 3v18c0 1.7 1.4 3 3 3h32c1.7 0 3-1.3 3-3V3c0-1.7-1.4-3-3-3z\" opacity=\"0.07\"></path><path d=\"M35 1c1.1 0 2 .9 2 2v18c0 1.1-.9 2-2 2H3c-1.1 0-2-.9-2-2V3c0-1.1.9-2 2-2h32\" fill=\"#fff\"></path><path d=\"M28.3 10.1H28c-.4 1-.7 1.5-1 3h1.9c-.3-1.5-.3-2.2-.6-3zm2.9 5.9h-1.7c-.1 0-.1 0-.2-.1l-.2-.9-.1-.2h-2.4c-.1 0-.2 0-.2.2l-.3.9c0 .1-.1.1-.1.1h-2.1l.2-.5L27 8.7c0-.5.3-.7.8-.7h1.5c.1 0 .2 0 .2.2l1.4 6.5c.1.4.2.7.2 1.1.1.1.1.1.1.2zm-13.4-.3l.4-1.8c.1 0 .2.1.2.1.7.3 1.4.5 2.1.4.2 0 .5-.1.7-.2.5-.2.5-.7.1-1.1-.2-.2-.5-.3-.8-.5-.4-.2-.8-.4-1.1-.7-1.2-1-.8-2.4-.1-3.1.6-.4.9-.8 1.7-.8 1.2 0 2.5 0 3.1.2h.1c-.1.6-.2 1.1-.4 1.7-.5-.2-1-.4-1.5-.4-.3 0-.6 0-.9.1-.2 0-.3.1-.4.2-.2.2-.2.5 0 .7l.5.4c.4.2.8.4 1.1.6.5.3 1 .8 1.1 1.4.2.9-.1 1.7-.9 2.3-.5.4-.7.6-1.4.6-1.4 0-2.5.1-3.4-.2-.1.2-.1.2-.2.1zm-3.5.3c.1-.7.1-.7.2-1 .5-2.2 1-4.5 1.4-6.7.1-.2.1-.3.3-.3H18c-.2 1.2-.4 2.1-.7 3.2-.3 1.5-.6 3-1 4.5 0 .2-.1.2-.3.2M5 8.2c0-.1.2-.2.3-.2h3.4c.5 0 .9.3 1 .8l.9 4.4c0 .1 0 .1.1.2 0-.1.1-.1.1-.1l2.1-5.1c-.1-.1 0-.2.1-.2h2.1c0 .1 0 .1-.1.2l-3.1 7.3c-.1.2-.1.3-.2.4-.1.1-.3 0-.5 0H9.7c-.1 0-.2 0-.2-.2L7.9 9.5c-.2-.2-.5-.5-.9-.6-.6-.3-1.7-.5-1.9-.5L5 8.2z\" fill=\"#142688\"></path></svg></div><div><svg aria-labelledby=\"pi-master\" height=\"24\" viewbox=\"0 0 38 24\" width=\"38\" xmlns=\"http://www.w3.org/2000/svg\"><path d=\"M35 0H3C1.3 0 0 1.3 0 3v18c0 1.7 1.4 3 3 3h32c1.7 0 3-1.3 3-3V3c0-1.7-1.4-3-3-3z\" opacity=\"0.07\"></path><path d=\"M35 1c1.1 0 2 .9 2 2v18c0 1.1-.9 2-2 2H3c-1.1 0-2-.9-2-2V3c0-1.1.9-2 2-2h32\" fill=\"#fff\"></path><circle cx=\"15\" cy=\"12\" fill=\"#EB001B\" r=\"7\"></circle><circle cx=\"23\" cy=\"12\" fill=\"#F79E1B\" r=\"7\"></circle><path d=\"M22 12c0-2.4-1.2-4.5-3-5.7-1.8 1.3-3 3.4-3 5.7s1.2 4.5 3 5.7c1.8-1.2 3-3.3 3-5.7z\" fill=\"#FF5F00\"></path></svg></div><div><svg aria-labelledby=\"pi-paypal\" height=\"24\" role=\"img\" viewbox=\"0 0 38 24\" width=\"38\" xmlns=\"http://www.w3.org/2000/svg\"><title id=\"pi-paypal\">PayPal</title><path d=\"M35 0H3C1.3 0 0 1.3 0 3v18c0 1.7 1.4 3 3 3h32c1.7 0 3-1.3 3-3V3c0-1.7-1.4-3-3-3z\" opacity=\".07\"></path><path d=\"M35 1c1.1 0 2 .9 2 2v18c0 1.1-.9 2-2 2H3c-1.1 0-2-.9-2-2V3c0-1.1.9-2 2-2h32\" fill=\"#fff\"></path><path d=\"M23.9 8.3c.2-1 0-1.7-.6-2.3-.6-.7-1.7-1-3.1-1h-4.1c-.3 0-.5.2-.6.5L14 15.6c0 .2.1.4.3.4H17l.4-3.4 1.8-2.2 4.7-2.1z\" fill=\"#003087\"></path><path d=\"M23.9 8.3l-.2.2c-.5 2.8-2.2 3.8-4.6 3.8H18c-.3 0-.5.2-.6.5l-.6 3.9-.2 1c0 .2.1.4.3.4H19c.3 0 .5-.2.5-.4v-.1l.4-2.4v-.1c0-.2.3-.4.5-.4h.3c2.1 0 3.7-.8 4.1-3.2.2-1 .1-1.8-.4-2.4-.1-.5-.3-.7-.5-.8z\" fill=\"#3086C8\"></path><path d=\"M23.3 8.1c-.1-.1-.2-.1-.3-.1-.1 0-.2 0-.3-.1-.3-.1-.7-.1-1.1-.1h-3c-.1 0-.2 0-.2.1-.2.1-.3.2-.3.4l-.7 4.4v.1c0-.3.3-.5.6-.5h1.3c2.5 0 4.1-1 4.6-3.8v-.2c-.1-.1-.3-.2-.5-.2h-.1z\" fill=\"#012169\"></path></svg></div></div>, <div><svg aria-labelledby=\"pi-visa\" height=\"24\" viewbox=\"0 0 38 24\" width=\"38\" xmlns=\"http://www.w3.org/2000/svg\"><path d=\"M35 0H3C1.3 0 0 1.3 0 3v18c0 1.7 1.4 3 3 3h32c1.7 0 3-1.3 3-3V3c0-1.7-1.4-3-3-3z\" opacity=\"0.07\"></path><path d=\"M35 1c1.1 0 2 .9 2 2v18c0 1.1-.9 2-2 2H3c-1.1 0-2-.9-2-2V3c0-1.1.9-2 2-2h32\" fill=\"#fff\"></path><path d=\"M28.3 10.1H28c-.4 1-.7 1.5-1 3h1.9c-.3-1.5-.3-2.2-.6-3zm2.9 5.9h-1.7c-.1 0-.1 0-.2-.1l-.2-.9-.1-.2h-2.4c-.1 0-.2 0-.2.2l-.3.9c0 .1-.1.1-.1.1h-2.1l.2-.5L27 8.7c0-.5.3-.7.8-.7h1.5c.1 0 .2 0 .2.2l1.4 6.5c.1.4.2.7.2 1.1.1.1.1.1.1.2zm-13.4-.3l.4-1.8c.1 0 .2.1.2.1.7.3 1.4.5 2.1.4.2 0 .5-.1.7-.2.5-.2.5-.7.1-1.1-.2-.2-.5-.3-.8-.5-.4-.2-.8-.4-1.1-.7-1.2-1-.8-2.4-.1-3.1.6-.4.9-.8 1.7-.8 1.2 0 2.5 0 3.1.2h.1c-.1.6-.2 1.1-.4 1.7-.5-.2-1-.4-1.5-.4-.3 0-.6 0-.9.1-.2 0-.3.1-.4.2-.2.2-.2.5 0 .7l.5.4c.4.2.8.4 1.1.6.5.3 1 .8 1.1 1.4.2.9-.1 1.7-.9 2.3-.5.4-.7.6-1.4.6-1.4 0-2.5.1-3.4-.2-.1.2-.1.2-.2.1zm-3.5.3c.1-.7.1-.7.2-1 .5-2.2 1-4.5 1.4-6.7.1-.2.1-.3.3-.3H18c-.2 1.2-.4 2.1-.7 3.2-.3 1.5-.6 3-1 4.5 0 .2-.1.2-.3.2M5 8.2c0-.1.2-.2.3-.2h3.4c.5 0 .9.3 1 .8l.9 4.4c0 .1 0 .1.1.2 0-.1.1-.1.1-.1l2.1-5.1c-.1-.1 0-.2.1-.2h2.1c0 .1 0 .1-.1.2l-3.1 7.3c-.1.2-.1.3-.2.4-.1.1-.3 0-.5 0H9.7c-.1 0-.2 0-.2-.2L7.9 9.5c-.2-.2-.5-.5-.9-.6-.6-.3-1.7-.5-1.9-.5L5 8.2z\" fill=\"#142688\"></path></svg></div>, <svg aria-labelledby=\"pi-visa\" height=\"24\" viewbox=\"0 0 38 24\" width=\"38\" xmlns=\"http://www.w3.org/2000/svg\"><path d=\"M35 0H3C1.3 0 0 1.3 0 3v18c0 1.7 1.4 3 3 3h32c1.7 0 3-1.3 3-3V3c0-1.7-1.4-3-3-3z\" opacity=\"0.07\"></path><path d=\"M35 1c1.1 0 2 .9 2 2v18c0 1.1-.9 2-2 2H3c-1.1 0-2-.9-2-2V3c0-1.1.9-2 2-2h32\" fill=\"#fff\"></path><path d=\"M28.3 10.1H28c-.4 1-.7 1.5-1 3h1.9c-.3-1.5-.3-2.2-.6-3zm2.9 5.9h-1.7c-.1 0-.1 0-.2-.1l-.2-.9-.1-.2h-2.4c-.1 0-.2 0-.2.2l-.3.9c0 .1-.1.1-.1.1h-2.1l.2-.5L27 8.7c0-.5.3-.7.8-.7h1.5c.1 0 .2 0 .2.2l1.4 6.5c.1.4.2.7.2 1.1.1.1.1.1.1.2zm-13.4-.3l.4-1.8c.1 0 .2.1.2.1.7.3 1.4.5 2.1.4.2 0 .5-.1.7-.2.5-.2.5-.7.1-1.1-.2-.2-.5-.3-.8-.5-.4-.2-.8-.4-1.1-.7-1.2-1-.8-2.4-.1-3.1.6-.4.9-.8 1.7-.8 1.2 0 2.5 0 3.1.2h.1c-.1.6-.2 1.1-.4 1.7-.5-.2-1-.4-1.5-.4-.3 0-.6 0-.9.1-.2 0-.3.1-.4.2-.2.2-.2.5 0 .7l.5.4c.4.2.8.4 1.1.6.5.3 1 .8 1.1 1.4.2.9-.1 1.7-.9 2.3-.5.4-.7.6-1.4.6-1.4 0-2.5.1-3.4-.2-.1.2-.1.2-.2.1zm-3.5.3c.1-.7.1-.7.2-1 .5-2.2 1-4.5 1.4-6.7.1-.2.1-.3.3-.3H18c-.2 1.2-.4 2.1-.7 3.2-.3 1.5-.6 3-1 4.5 0 .2-.1.2-.3.2M5 8.2c0-.1.2-.2.3-.2h3.4c.5 0 .9.3 1 .8l.9 4.4c0 .1 0 .1.1.2 0-.1.1-.1.1-.1l2.1-5.1c-.1-.1 0-.2.1-.2h2.1c0 .1 0 .1-.1.2l-3.1 7.3c-.1.2-.1.3-.2.4-.1.1-.3 0-.5 0H9.7c-.1 0-.2 0-.2-.2L7.9 9.5c-.2-.2-.5-.5-.9-.6-.6-.3-1.7-.5-1.9-.5L5 8.2z\" fill=\"#142688\"></path></svg>, <path d=\"M35 0H3C1.3 0 0 1.3 0 3v18c0 1.7 1.4 3 3 3h32c1.7 0 3-1.3 3-3V3c0-1.7-1.4-3-3-3z\" opacity=\"0.07\"></path>, <path d=\"M35 1c1.1 0 2 .9 2 2v18c0 1.1-.9 2-2 2H3c-1.1 0-2-.9-2-2V3c0-1.1.9-2 2-2h32\" fill=\"#fff\"></path>, <path d=\"M28.3 10.1H28c-.4 1-.7 1.5-1 3h1.9c-.3-1.5-.3-2.2-.6-3zm2.9 5.9h-1.7c-.1 0-.1 0-.2-.1l-.2-.9-.1-.2h-2.4c-.1 0-.2 0-.2.2l-.3.9c0 .1-.1.1-.1.1h-2.1l.2-.5L27 8.7c0-.5.3-.7.8-.7h1.5c.1 0 .2 0 .2.2l1.4 6.5c.1.4.2.7.2 1.1.1.1.1.1.1.2zm-13.4-.3l.4-1.8c.1 0 .2.1.2.1.7.3 1.4.5 2.1.4.2 0 .5-.1.7-.2.5-.2.5-.7.1-1.1-.2-.2-.5-.3-.8-.5-.4-.2-.8-.4-1.1-.7-1.2-1-.8-2.4-.1-3.1.6-.4.9-.8 1.7-.8 1.2 0 2.5 0 3.1.2h.1c-.1.6-.2 1.1-.4 1.7-.5-.2-1-.4-1.5-.4-.3 0-.6 0-.9.1-.2 0-.3.1-.4.2-.2.2-.2.5 0 .7l.5.4c.4.2.8.4 1.1.6.5.3 1 .8 1.1 1.4.2.9-.1 1.7-.9 2.3-.5.4-.7.6-1.4.6-1.4 0-2.5.1-3.4-.2-.1.2-.1.2-.2.1zm-3.5.3c.1-.7.1-.7.2-1 .5-2.2 1-4.5 1.4-6.7.1-.2.1-.3.3-.3H18c-.2 1.2-.4 2.1-.7 3.2-.3 1.5-.6 3-1 4.5 0 .2-.1.2-.3.2M5 8.2c0-.1.2-.2.3-.2h3.4c.5 0 .9.3 1 .8l.9 4.4c0 .1 0 .1.1.2 0-.1.1-.1.1-.1l2.1-5.1c-.1-.1 0-.2.1-.2h2.1c0 .1 0 .1-.1.2l-3.1 7.3c-.1.2-.1.3-.2.4-.1.1-.3 0-.5 0H9.7c-.1 0-.2 0-.2-.2L7.9 9.5c-.2-.2-.5-.5-.9-.6-.6-.3-1.7-.5-1.9-.5L5 8.2z\" fill=\"#142688\"></path>, <div><svg aria-labelledby=\"pi-master\" height=\"24\" viewbox=\"0 0 38 24\" width=\"38\" xmlns=\"http://www.w3.org/2000/svg\"><path d=\"M35 0H3C1.3 0 0 1.3 0 3v18c0 1.7 1.4 3 3 3h32c1.7 0 3-1.3 3-3V3c0-1.7-1.4-3-3-3z\" opacity=\"0.07\"></path><path d=\"M35 1c1.1 0 2 .9 2 2v18c0 1.1-.9 2-2 2H3c-1.1 0-2-.9-2-2V3c0-1.1.9-2 2-2h32\" fill=\"#fff\"></path><circle cx=\"15\" cy=\"12\" fill=\"#EB001B\" r=\"7\"></circle><circle cx=\"23\" cy=\"12\" fill=\"#F79E1B\" r=\"7\"></circle><path d=\"M22 12c0-2.4-1.2-4.5-3-5.7-1.8 1.3-3 3.4-3 5.7s1.2 4.5 3 5.7c1.8-1.2 3-3.3 3-5.7z\" fill=\"#FF5F00\"></path></svg></div>, <svg aria-labelledby=\"pi-master\" height=\"24\" viewbox=\"0 0 38 24\" width=\"38\" xmlns=\"http://www.w3.org/2000/svg\"><path d=\"M35 0H3C1.3 0 0 1.3 0 3v18c0 1.7 1.4 3 3 3h32c1.7 0 3-1.3 3-3V3c0-1.7-1.4-3-3-3z\" opacity=\"0.07\"></path><path d=\"M35 1c1.1 0 2 .9 2 2v18c0 1.1-.9 2-2 2H3c-1.1 0-2-.9-2-2V3c0-1.1.9-2 2-2h32\" fill=\"#fff\"></path><circle cx=\"15\" cy=\"12\" fill=\"#EB001B\" r=\"7\"></circle><circle cx=\"23\" cy=\"12\" fill=\"#F79E1B\" r=\"7\"></circle><path d=\"M22 12c0-2.4-1.2-4.5-3-5.7-1.8 1.3-3 3.4-3 5.7s1.2 4.5 3 5.7c1.8-1.2 3-3.3 3-5.7z\" fill=\"#FF5F00\"></path></svg>, <path d=\"M35 0H3C1.3 0 0 1.3 0 3v18c0 1.7 1.4 3 3 3h32c1.7 0 3-1.3 3-3V3c0-1.7-1.4-3-3-3z\" opacity=\"0.07\"></path>, <path d=\"M35 1c1.1 0 2 .9 2 2v18c0 1.1-.9 2-2 2H3c-1.1 0-2-.9-2-2V3c0-1.1.9-2 2-2h32\" fill=\"#fff\"></path>, <circle cx=\"15\" cy=\"12\" fill=\"#EB001B\" r=\"7\"></circle>, <circle cx=\"23\" cy=\"12\" fill=\"#F79E1B\" r=\"7\"></circle>, <path d=\"M22 12c0-2.4-1.2-4.5-3-5.7-1.8 1.3-3 3.4-3 5.7s1.2 4.5 3 5.7c1.8-1.2 3-3.3 3-5.7z\" fill=\"#FF5F00\"></path>, <div><svg aria-labelledby=\"pi-paypal\" height=\"24\" role=\"img\" viewbox=\"0 0 38 24\" width=\"38\" xmlns=\"http://www.w3.org/2000/svg\"><title id=\"pi-paypal\">PayPal</title><path d=\"M35 0H3C1.3 0 0 1.3 0 3v18c0 1.7 1.4 3 3 3h32c1.7 0 3-1.3 3-3V3c0-1.7-1.4-3-3-3z\" opacity=\".07\"></path><path d=\"M35 1c1.1 0 2 .9 2 2v18c0 1.1-.9 2-2 2H3c-1.1 0-2-.9-2-2V3c0-1.1.9-2 2-2h32\" fill=\"#fff\"></path><path d=\"M23.9 8.3c.2-1 0-1.7-.6-2.3-.6-.7-1.7-1-3.1-1h-4.1c-.3 0-.5.2-.6.5L14 15.6c0 .2.1.4.3.4H17l.4-3.4 1.8-2.2 4.7-2.1z\" fill=\"#003087\"></path><path d=\"M23.9 8.3l-.2.2c-.5 2.8-2.2 3.8-4.6 3.8H18c-.3 0-.5.2-.6.5l-.6 3.9-.2 1c0 .2.1.4.3.4H19c.3 0 .5-.2.5-.4v-.1l.4-2.4v-.1c0-.2.3-.4.5-.4h.3c2.1 0 3.7-.8 4.1-3.2.2-1 .1-1.8-.4-2.4-.1-.5-.3-.7-.5-.8z\" fill=\"#3086C8\"></path><path d=\"M23.3 8.1c-.1-.1-.2-.1-.3-.1-.1 0-.2 0-.3-.1-.3-.1-.7-.1-1.1-.1h-3c-.1 0-.2 0-.2.1-.2.1-.3.2-.3.4l-.7 4.4v.1c0-.3.3-.5.6-.5h1.3c2.5 0 4.1-1 4.6-3.8v-.2c-.1-.1-.3-.2-.5-.2h-.1z\" fill=\"#012169\"></path></svg></div>, <svg aria-labelledby=\"pi-paypal\" height=\"24\" role=\"img\" viewbox=\"0 0 38 24\" width=\"38\" xmlns=\"http://www.w3.org/2000/svg\"><title id=\"pi-paypal\">PayPal</title><path d=\"M35 0H3C1.3 0 0 1.3 0 3v18c0 1.7 1.4 3 3 3h32c1.7 0 3-1.3 3-3V3c0-1.7-1.4-3-3-3z\" opacity=\".07\"></path><path d=\"M35 1c1.1 0 2 .9 2 2v18c0 1.1-.9 2-2 2H3c-1.1 0-2-.9-2-2V3c0-1.1.9-2 2-2h32\" fill=\"#fff\"></path><path d=\"M23.9 8.3c.2-1 0-1.7-.6-2.3-.6-.7-1.7-1-3.1-1h-4.1c-.3 0-.5.2-.6.5L14 15.6c0 .2.1.4.3.4H17l.4-3.4 1.8-2.2 4.7-2.1z\" fill=\"#003087\"></path><path d=\"M23.9 8.3l-.2.2c-.5 2.8-2.2 3.8-4.6 3.8H18c-.3 0-.5.2-.6.5l-.6 3.9-.2 1c0 .2.1.4.3.4H19c.3 0 .5-.2.5-.4v-.1l.4-2.4v-.1c0-.2.3-.4.5-.4h.3c2.1 0 3.7-.8 4.1-3.2.2-1 .1-1.8-.4-2.4-.1-.5-.3-.7-.5-.8z\" fill=\"#3086C8\"></path><path d=\"M23.3 8.1c-.1-.1-.2-.1-.3-.1-.1 0-.2 0-.3-.1-.3-.1-.7-.1-1.1-.1h-3c-.1 0-.2 0-.2.1-.2.1-.3.2-.3.4l-.7 4.4v.1c0-.3.3-.5.6-.5h1.3c2.5 0 4.1-1 4.6-3.8v-.2c-.1-.1-.3-.2-.5-.2h-.1z\" fill=\"#012169\"></path></svg>, <title id=\"pi-paypal\">PayPal</title>, <path d=\"M35 0H3C1.3 0 0 1.3 0 3v18c0 1.7 1.4 3 3 3h32c1.7 0 3-1.3 3-3V3c0-1.7-1.4-3-3-3z\" opacity=\".07\"></path>, <path d=\"M35 1c1.1 0 2 .9 2 2v18c0 1.1-.9 2-2 2H3c-1.1 0-2-.9-2-2V3c0-1.1.9-2 2-2h32\" fill=\"#fff\"></path>, <path d=\"M23.9 8.3c.2-1 0-1.7-.6-2.3-.6-.7-1.7-1-3.1-1h-4.1c-.3 0-.5.2-.6.5L14 15.6c0 .2.1.4.3.4H17l.4-3.4 1.8-2.2 4.7-2.1z\" fill=\"#003087\"></path>, <path d=\"M23.9 8.3l-.2.2c-.5 2.8-2.2 3.8-4.6 3.8H18c-.3 0-.5.2-.6.5l-.6 3.9-.2 1c0 .2.1.4.3.4H19c.3 0 .5-.2.5-.4v-.1l.4-2.4v-.1c0-.2.3-.4.5-.4h.3c2.1 0 3.7-.8 4.1-3.2.2-1 .1-1.8-.4-2.4-.1-.5-.3-.7-.5-.8z\" fill=\"#3086C8\"></path>, <path d=\"M23.3 8.1c-.1-.1-.2-.1-.3-.1-.1 0-.2 0-.3-.1-.3-.1-.7-.1-1.1-.1h-3c-.1 0-.2 0-.2.1-.2.1-.3.2-.3.4l-.7 4.4v.1c0-.3.3-.5.6-.5h1.3c2.5 0 4.1-1 4.6-3.8v-.2c-.1-.1-.3-.2-.5-.2h-.1z\" fill=\"#012169\"></path>, <div class=\"self-center\"><div class=\"copyright text-center md:text-right text-textSubdued\"><span></span></div></div>, <div class=\"copyright text-center md:text-right text-textSubdued\"><span></span></div>, <span></span>, <div><div class=\"Toastify\"></div></div>, <div class=\"Toastify\"></div>, <script src=\"/assets/frontStore/homepage/client/903d232babd9d1207624.js\"></script>]\n"
          ]
        }
      ]
    },
    {
      "cell_type": "code",
      "source": [
        "all_elements"
      ],
      "metadata": {
        "id": "EuAMmT2sNnp1"
      },
      "execution_count": null,
      "outputs": []
    },
    {
      "cell_type": "code",
      "source": [
        "!pip install openai\n"
      ],
      "metadata": {
        "colab": {
          "base_uri": "https://localhost:8080/"
        },
        "id": "TleH0WGCNqj1",
        "outputId": "29ae746d-8e28-485b-bd51-7313bd64be1a"
      },
      "execution_count": 102,
      "outputs": [
        {
          "output_type": "stream",
          "name": "stdout",
          "text": [
            "Collecting openai\n",
            "  Downloading openai-1.23.6-py3-none-any.whl (311 kB)\n",
            "\u001b[2K     \u001b[90m━━━━━━━━━━━━━━━━━━━━━━━━━━━━━━━━━━━━━━━━\u001b[0m \u001b[32m311.6/311.6 kB\u001b[0m \u001b[31m5.1 MB/s\u001b[0m eta \u001b[36m0:00:00\u001b[0m\n",
            "\u001b[?25hRequirement already satisfied: anyio<5,>=3.5.0 in /usr/local/lib/python3.10/dist-packages (from openai) (3.7.1)\n",
            "Requirement already satisfied: distro<2,>=1.7.0 in /usr/lib/python3/dist-packages (from openai) (1.7.0)\n",
            "Collecting httpx<1,>=0.23.0 (from openai)\n",
            "  Downloading httpx-0.27.0-py3-none-any.whl (75 kB)\n",
            "\u001b[2K     \u001b[90m━━━━━━━━━━━━━━━━━━━━━━━━━━━━━━━━━━━━━━━━\u001b[0m \u001b[32m75.6/75.6 kB\u001b[0m \u001b[31m7.2 MB/s\u001b[0m eta \u001b[36m0:00:00\u001b[0m\n",
            "\u001b[?25hRequirement already satisfied: pydantic<3,>=1.9.0 in /usr/local/lib/python3.10/dist-packages (from openai) (2.7.0)\n",
            "Requirement already satisfied: sniffio in /usr/local/lib/python3.10/dist-packages (from openai) (1.3.1)\n",
            "Requirement already satisfied: tqdm>4 in /usr/local/lib/python3.10/dist-packages (from openai) (4.66.2)\n",
            "Requirement already satisfied: typing-extensions<5,>=4.7 in /usr/local/lib/python3.10/dist-packages (from openai) (4.11.0)\n",
            "Requirement already satisfied: idna>=2.8 in /usr/local/lib/python3.10/dist-packages (from anyio<5,>=3.5.0->openai) (3.7)\n",
            "Requirement already satisfied: exceptiongroup in /usr/local/lib/python3.10/dist-packages (from anyio<5,>=3.5.0->openai) (1.2.1)\n",
            "Requirement already satisfied: certifi in /usr/local/lib/python3.10/dist-packages (from httpx<1,>=0.23.0->openai) (2024.2.2)\n",
            "Collecting httpcore==1.* (from httpx<1,>=0.23.0->openai)\n",
            "  Downloading httpcore-1.0.5-py3-none-any.whl (77 kB)\n",
            "\u001b[2K     \u001b[90m━━━━━━━━━━━━━━━━━━━━━━━━━━━━━━━━━━━━━━━━\u001b[0m \u001b[32m77.9/77.9 kB\u001b[0m \u001b[31m7.1 MB/s\u001b[0m eta \u001b[36m0:00:00\u001b[0m\n",
            "\u001b[?25hRequirement already satisfied: h11<0.15,>=0.13 in /usr/local/lib/python3.10/dist-packages (from httpcore==1.*->httpx<1,>=0.23.0->openai) (0.14.0)\n",
            "Requirement already satisfied: annotated-types>=0.4.0 in /usr/local/lib/python3.10/dist-packages (from pydantic<3,>=1.9.0->openai) (0.6.0)\n",
            "Requirement already satisfied: pydantic-core==2.18.1 in /usr/local/lib/python3.10/dist-packages (from pydantic<3,>=1.9.0->openai) (2.18.1)\n",
            "Installing collected packages: httpcore, httpx, openai\n",
            "Successfully installed httpcore-1.0.5 httpx-0.27.0 openai-1.23.6\n"
          ]
        }
      ]
    },
    {
      "cell_type": "code",
      "source": [
        "import os\n",
        "os.environ['OPENAI_API_KEY'] = 'sk-proj-5T6Rvs3kU1iQPAajHhmmT3BlbkFJBY36tjbPh0v7PZIZqRLS'"
      ],
      "metadata": {
        "id": "NHdwNQTsO3cl"
      },
      "execution_count": 109,
      "outputs": []
    },
    {
      "cell_type": "code",
      "source": [
        "import os\n",
        "from openai import OpenAI\n",
        "\n",
        "client = OpenAI(\n",
        "    # This is the default and can be omitted\n",
        "    api_key=os.environ.get(\"OPENAI_API_KEY\"),\n",
        ")\n",
        "\n",
        "chat_completion = client.chat.completions.create(\n",
        "    messages=[\n",
        "        {\n",
        "            \"role\": \"user\",\n",
        "            \"content\": \"Say this is a test\",\n",
        "        }\n",
        "    ],\n",
        "    model=\"gpt-3.5-turbo\",\n",
        ")"
      ],
      "metadata": {
        "id": "5Cdt4TN5PHpl"
      },
      "execution_count": 110,
      "outputs": []
    },
    {
      "cell_type": "code",
      "source": [
        "from openai import OpenAI\n",
        "\n",
        "client = OpenAI()\n",
        "\n",
        "stream = client.chat.completions.create(\n",
        "    model=\"gpt-4\",\n",
        "    messages=[{\"role\": \"user\", \"content\": \"Say this is a test\"}],\n",
        "    stream=True,\n",
        ")\n",
        "for chunk in stream:\n",
        "    print(chunk.choices[0].delta.content or \"\", end=\"\")"
      ],
      "metadata": {
        "colab": {
          "base_uri": "https://localhost:8080/"
        },
        "id": "ug58QxYdRVge",
        "outputId": "c1df5626-05f8-4a22-dda6-b118db23e8e2"
      },
      "execution_count": 112,
      "outputs": [
        {
          "output_type": "stream",
          "name": "stdout",
          "text": [
            "This is a test."
          ]
        }
      ]
    },
    {
      "cell_type": "code",
      "source": [
        "prompt = \"I will provide you with an HTML code, please provide Selenium code that clicks on the button that goes to the '/men' page. Here is the HTML: {}\".format(all_elements)"
      ],
      "metadata": {
        "id": "KD_HUh8cRneZ"
      },
      "execution_count": 121,
      "outputs": []
    },
    {
      "cell_type": "code",
      "source": [
        "stream = client.chat.completions.create(\n",
        "    model=\"gpt-4-turbo\",\n",
        "    messages=[{\"role\": \"user\", \"content\": prompt}],\n",
        "    stream=True,\n",
        ")"
      ],
      "metadata": {
        "id": "oKYkumMsRK4i"
      },
      "execution_count": 122,
      "outputs": []
    },
    {
      "cell_type": "code",
      "source": [
        "for chunk in stream:\n",
        "    print(chunk.choices[0].delta.content or \"\", end=\"\")"
      ],
      "metadata": {
        "colab": {
          "base_uri": "https://localhost:8080/"
        },
        "id": "tfwZcbN8SafN",
        "outputId": "003c99b2-e626-4df8-bc01-5d59a8d48e2c"
      },
      "execution_count": 123,
      "outputs": [
        {
          "output_type": "stream",
          "name": "stdout",
          "text": [
            "Certainly! Here is the Selenium Python code that clicks on the button which navigates to the '/men' page:\n",
            "\n",
            "```python\n",
            "from selenium import webdriver\n",
            "from selenium.webdriver.common.by import By\n",
            "\n",
            "# Set up the webdriver and navigate to the webpage\n",
            "driver = webdriver.Chrome()\n",
            "driver.get(\"URL_OF_THE_PAGE_CONTAINING_THE_HTML\")\n",
            "\n",
            "# Locate the link for the '/men' page and click it\n",
            "men_link = driver.find_element(By.XPATH, \"//a[@href='/men']\")\n",
            "men_link.click()\n",
            "\n",
            "# It's good practice to close the driver after the task is completed\n",
            "driver.quit()\n",
            "```\n",
            "\n",
            "In this code snippet:\n",
            "\n",
            "1. A Selenium WebDriver is initialized. You need to replace `webdriver.Chrome()` with the appropriate driver for your browser (Chrome, Firefox, etc.).\n",
            "2. We specify the URL where the HTML is hosted (replace `\"URL_OF_THE_PAGE_CONTAINING_THE_HTML\"` with the actual URL).\n",
            "3. The `find_element` function is used with `By.XPATH` as a selector to locate the link for the '/men' page. The XPath used here is `\"//a[@href='/men']\"` which matches an anchor tag with the attribute `href` equal to `'/men'`.\n",
            "4. The `.click()` method is called on the located element to navigate to the linked page.\n",
            "5. Finally, `driver.quit()` closes the browser window.\n",
            "\n",
            "Make sure to adjust the WebDriver and specifics to match the environment (web page URL, local paths, etc.) where you're executing the code. Also, ensure that all necessary libraries are installed, and the browser driver is correctly set up and accessible from your script."
          ]
        }
      ]
    },
    {
      "cell_type": "code",
      "source": [
        "new_driver = webdriver.Chrome(options=chrome_options)\n",
        "new_driver.get(\"https://demo.evershop.io/\")\n",
        "men_link = new_driver.find_element(By.XPATH, \"//a[@href='/men']\")\n",
        "men_link.click()\n"
      ],
      "metadata": {
        "id": "8WyYVnRMS4jp"
      },
      "execution_count": 134,
      "outputs": []
    },
    {
      "cell_type": "code",
      "source": [
        "new_driver.current_url"
      ],
      "metadata": {
        "colab": {
          "base_uri": "https://localhost:8080/",
          "height": 35
        },
        "id": "v6vh6k6mVa_B",
        "outputId": "b5e32884-da19-455f-c499-2a329aea6e6c"
      },
      "execution_count": 136,
      "outputs": [
        {
          "output_type": "execute_result",
          "data": {
            "text/plain": [
              "'https://demo.evershop.io/men'"
            ],
            "application/vnd.google.colaboratory.intrinsic+json": {
              "type": "string"
            }
          },
          "metadata": {},
          "execution_count": 136
        }
      ]
    },
    {
      "cell_type": "code",
      "source": [
        "all_elements.find_all(\"//span[normalize-space()='Shop men']\")"
      ],
      "metadata": {
        "colab": {
          "base_uri": "https://localhost:8080/",
          "height": 297
        },
        "id": "EDWfojJTTlEJ",
        "outputId": "75768cdc-d0ea-4489-facc-76b4e9af8117"
      },
      "execution_count": 127,
      "outputs": [
        {
          "output_type": "error",
          "ename": "AttributeError",
          "evalue": "ResultSet object has no attribute 'find_all'. You're probably treating a list of elements like a single element. Did you call find_all() when you meant to call find()?",
          "traceback": [
            "\u001b[0;31m---------------------------------------------------------------------------\u001b[0m",
            "\u001b[0;31mAttributeError\u001b[0m                            Traceback (most recent call last)",
            "\u001b[0;32m<ipython-input-127-61f8c58ae1ab>\u001b[0m in \u001b[0;36m<cell line: 1>\u001b[0;34m()\u001b[0m\n\u001b[0;32m----> 1\u001b[0;31m \u001b[0mall_elements\u001b[0m\u001b[0;34m.\u001b[0m\u001b[0mfind_all\u001b[0m\u001b[0;34m(\u001b[0m\u001b[0;34m\"//span[normalize-space()='Shop men']\"\u001b[0m\u001b[0;34m)\u001b[0m\u001b[0;34m\u001b[0m\u001b[0;34m\u001b[0m\u001b[0m\n\u001b[0m",
            "\u001b[0;32m/usr/local/lib/python3.10/dist-packages/bs4/element.py\u001b[0m in \u001b[0;36m__getattr__\u001b[0;34m(self, key)\u001b[0m\n\u001b[1;32m   2431\u001b[0m     \u001b[0;32mdef\u001b[0m \u001b[0m__getattr__\u001b[0m\u001b[0;34m(\u001b[0m\u001b[0mself\u001b[0m\u001b[0;34m,\u001b[0m \u001b[0mkey\u001b[0m\u001b[0;34m)\u001b[0m\u001b[0;34m:\u001b[0m\u001b[0;34m\u001b[0m\u001b[0;34m\u001b[0m\u001b[0m\n\u001b[1;32m   2432\u001b[0m         \u001b[0;34m\"\"\"Raise a helpful exception to explain a common code fix.\"\"\"\u001b[0m\u001b[0;34m\u001b[0m\u001b[0;34m\u001b[0m\u001b[0m\n\u001b[0;32m-> 2433\u001b[0;31m         raise AttributeError(\n\u001b[0m\u001b[1;32m   2434\u001b[0m             \u001b[0;34m\"ResultSet object has no attribute '%s'. You're probably treating a list of elements like a single element. Did you call find_all() when you meant to call find()?\"\u001b[0m \u001b[0;34m%\u001b[0m \u001b[0mkey\u001b[0m\u001b[0;34m\u001b[0m\u001b[0;34m\u001b[0m\u001b[0m\n\u001b[1;32m   2435\u001b[0m         )\n",
            "\u001b[0;31mAttributeError\u001b[0m: ResultSet object has no attribute 'find_all'. You're probably treating a list of elements like a single element. Did you call find_all() when you meant to call find()?"
          ]
        }
      ]
    },
    {
      "cell_type": "code",
      "source": [
        "all_elements"
      ],
      "metadata": {
        "colab": {
          "base_uri": "https://localhost:8080/"
        },
        "id": "sLKRuoslT2_B",
        "outputId": "076a5f0d-b4f0-4676-aecb-48d74be6002c"
      },
      "execution_count": 128,
      "outputs": [
        {
          "output_type": "execute_result",
          "data": {
            "text/plain": [
              "[<html id=\"root\" lang=\"en\"><head><meta charset=\"utf-8\"/><script>var eContext = {\"graphqlResponse\":{\"ee8xunk5shlnt0g55f\":\"/search\",\"ee8xunk5shlnt0g55g\":{\"collectionId\":\"2\",\"name\":\"Featured Products\",\"products\":{\"items\":[{\"productId\":146,\"name\":\"Nike air zoom pegasus 35\",\"sku\":\"NJC83763-Green-L\",\"price\":{\"regular\":{\"value\":452.1,\"text\":\"$452.10\"},\"special\":{\"value\":452.1,\"text\":\"$452.10\"}},\"image\":{\"alt\":\"Nike air zoom pegasus 35\",\"url\":\"/assets/catalog/1034/3600/plv7632-Green-list.png\"},\"url\":\"/men/nike-air-zoom-pegasus-35-146\"},{\"productId\":118,\"name\":\"Mix and match chuck taylor all star\",\"sku\":\"NJC88122-Grey-X\",\"price\":{\"regular\":{\"value\":877.8,\"text\":\"$877.80\"},\"special\":{\"value\":877.8,\"text\":\"$877.80\"}},\"image\":{\"alt\":\"Mix and match chuck taylor all star\",\"url\":\"/assets/catalog/5059/3470/plv4547-Grey-list.png\"},\"url\":\"/mix-and-match-chuck-taylor-all-star-118\"},{\"productId\":81,\"name\":\"Geography class chuck taylor all star\",\"sku\":\"NJC11368-Black-XL\",\"price\":{\"regular\":{\"value\":275,\"text\":\"$275.00\"},\"special\":{\"value\":275,\"text\":\"$275.00\"}},\"image\":{\"alt\":\"Geography class chuck taylor all star\",\"url\":\"/assets/catalog/4056/5908/plv3360-Black-list.png\"},\"url\":\"/geography-class-chuck-taylor-all-star-81\"},{\"productId\":12,\"name\":\"Swift run x shoes\",\"sku\":\"NJC86672-Pink-XL\",\"price\":{\"regular\":{\"value\":370.7,\"text\":\"$370.70\"},\"special\":{\"value\":370.7,\"text\":\"$370.70\"}},\"image\":{\"alt\":\"Swift run x shoes\",\"url\":\"/assets/catalog/3241/9300/plv1517-Pink-list.png\"},\"url\":\"/kids/swift-run-x-shoes-12\"}]}},\"ee8xunk5shlnt0g55h\":\"/cart\",\"ee8xunk5shlnt0g55i\":null,\"ee8xunk5shlnt0g55j\":{\"breadcrumbs\":[]},\"ee8xunk5shlnt0g55k\":{\"copyRight\":null},\"ee8xunk5shlnt0g55l\":{\"title\":\"Charka Nurture\",\"description\":\"An Amazing EverShop Store\"},\"ee8xunk5shlnt0g55m\":{\"headTags\":{\"metas\":[],\"links\":[],\"scripts\":[],\"base\":null}},\"ee8xunk5shlnt0g55n\":{\"logo\":{\"src\":null,\"alt\":null,\"width\":null,\"height\":null}},\"ee8xunk5shlnt0g55o\":{\"items\":[{\"name\":\"Men\",\"url\":\"/men\"},{\"name\":\"Women\",\"url\":\"/women\"}]},\"ee8xunk5shlnt0g55p\":{\"items\":[{\"name\":\"Men\",\"url\":\"/men\"},{\"name\":\"Women\",\"url\":\"/women\"}]},\"ee8xunk5shlnt0g55q\":null,\"ee8xunk5shlnt0g55r\":\"/account\",\"ee8xunk5shlnt0g55s\":\"/account/login\"},\"propsMap\":{\"L25vZGVfbW9kdWxlcy9AZXZlcnNob3AvZXZlcnNob3Avc3JjL21vZHVsZXMvY2F0YWxvZy9wYWdlcy9mcm9udFN0b3JlL2FsbC9TZWFyY2hCb3guanN4\":[{\"origin\":\"searchPageUrl\",\"alias\":\"ee8xunk5shlnt0g55f\"}],\"L25vZGVfbW9kdWxlcy9AZXZlcnNob3AvZXZlcnNob3Avc3JjL21vZHVsZXMvY2F0YWxvZy9wYWdlcy9mcm9udFN0b3JlL2hvbWVwYWdlL0ZlYXR1cmVkQ2F0ZWdvcmllcy5qc3g=\":[],\"L25vZGVfbW9kdWxlcy9AZXZlcnNob3AvZXZlcnNob3Avc3JjL21vZHVsZXMvY2F0YWxvZy9wYWdlcy9mcm9udFN0b3JlL2hvbWVwYWdlL0ZlYXR1cmVkUHJvZHVjdHMuanN4\":[{\"origin\":\"collection\",\"alias\":\"ee8xunk5shlnt0g55g\"}],\"L25vZGVfbW9kdWxlcy9AZXZlcnNob3AvZXZlcnNob3Avc3JjL21vZHVsZXMvY2hlY2tvdXQvcGFnZXMvZnJvbnRTdG9yZS9hbGwvTWluaUNhcnQuanN4\":[{\"origin\":\"cartUrl\",\"alias\":\"ee8xunk5shlnt0g55h\"},{\"origin\":\"cart\",\"alias\":\"ee8xunk5shlnt0g55i\"}],\"L25vZGVfbW9kdWxlcy9AZXZlcnNob3AvZXZlcnNob3Avc3JjL21vZHVsZXMvY21zL3BhZ2VzL2Zyb250U3RvcmUvYWxsL0JyZWFkY3J1bWIuanN4\":[{\"origin\":\"pageInfo\",\"alias\":\"ee8xunk5shlnt0g55j\"}],\"L25vZGVfbW9kdWxlcy9AZXZlcnNob3AvZXZlcnNob3Avc3JjL21vZHVsZXMvY21zL3BhZ2VzL2Zyb250U3RvcmUvYWxsL0Zvb3Rlci5qc3g=\":[{\"origin\":\"themeConfig\",\"alias\":\"ee8xunk5shlnt0g55k\"}],\"L25vZGVfbW9kdWxlcy9AZXZlcnNob3AvZXZlcnNob3Avc3JjL21vZHVsZXMvY21zL3BhZ2VzL2Zyb250U3RvcmUvYWxsL0hlYWRUYWdzLmpzeA==\":[{\"origin\":\"pageInfo\",\"alias\":\"ee8xunk5shlnt0g55l\"},{\"origin\":\"themeConfig\",\"alias\":\"ee8xunk5shlnt0g55m\"}],\"L25vZGVfbW9kdWxlcy9AZXZlcnNob3AvZXZlcnNob3Avc3JjL21vZHVsZXMvY21zL3BhZ2VzL2Zyb250U3RvcmUvYWxsL0xheW91dC5qc3g=\":[],\"L25vZGVfbW9kdWxlcy9AZXZlcnNob3AvZXZlcnNob3Avc3JjL21vZHVsZXMvY21zL3BhZ2VzL2Zyb250U3RvcmUvYWxsL0xvZ28uanN4\":[{\"origin\":\"themeConfig\",\"alias\":\"ee8xunk5shlnt0g55n\"}],\"L25vZGVfbW9kdWxlcy9AZXZlcnNob3AvZXZlcnNob3Avc3JjL21vZHVsZXMvY21zL3BhZ2VzL2Zyb250U3RvcmUvYWxsL01lbnUuanN4\":[{\"origin\":\"menu\",\"alias\":\"ee8xunk5shlnt0g55o\"}],\"L25vZGVfbW9kdWxlcy9AZXZlcnNob3AvZXZlcnNob3Avc3JjL21vZHVsZXMvY21zL3BhZ2VzL2Zyb250U3RvcmUvYWxsL01vYmlsZU1lbnUuanN4\":[{\"origin\":\"menu\",\"alias\":\"ee8xunk5shlnt0g55p\"}],\"L25vZGVfbW9kdWxlcy9AZXZlcnNob3AvZXZlcnNob3Avc3JjL21vZHVsZXMvY21zL3BhZ2VzL2Zyb250U3RvcmUvYWxsL05vdGlmaWNhdGlvbi5qc3g=\":[],\"L25vZGVfbW9kdWxlcy9AZXZlcnNob3AvZXZlcnNob3Avc3JjL21vZHVsZXMvY21zL3BhZ2VzL2Zyb250U3RvcmUvaG9tZXBhZ2UvTWFpbkJhbm5lci5qc3g=\":[],\"L25vZGVfbW9kdWxlcy9AZXZlcnNob3AvZXZlcnNob3Avc3JjL21vZHVsZXMvY3VzdG9tZXIvcGFnZXMvZnJvbnRTdG9yZS9hbGwvVXNlckljb24uanN4\":[{\"origin\":\"customer\",\"alias\":\"ee8xunk5shlnt0g55q\"},{\"origin\":\"accountUrl\",\"alias\":\"ee8xunk5shlnt0g55r\"},{\"origin\":\"loginUrl\",\"alias\":\"ee8xunk5shlnt0g55s\"}]}}</script><link href=\"/assets/frontStore/homepage/client/903d232babd9d1207624.css\" rel=\"stylesheet\"/><title>Charka Nurture</title><meta content=\"An Amazing EverShop Store\" name=\"description\"/><meta content=\"width=device-width, initial-scale=1.0\" name=\"viewport\"/></head><body id=\"body\"><div class=\"bg-background\" id=\"app\"><div class=\"wrapper\"><div class=\"loading-bar\" style=\"width:0%;display:none\"></div><div class=\"header flex justify-between\"><div class=\"logo\"><a class=\"logo-icon\" href=\"/\"><svg fill=\"none\" height=\"146\" viewbox=\"0 0 128 146\" width=\"128\" xmlns=\"http://www.w3.org/2000/svg\"><path d=\"M32.388 18.0772L1.15175 36.1544L1.05206 72.5081L0.985596 108.895L32.4213 127.039C49.7009 137.008 63.9567 145.182 64.1228 145.182C64.289 145.182 72.8956 140.264 83.2966 134.283C93.6644 128.268 107.82 120.127 114.732 116.139L127.26 108.895V101.119V93.3102L126.529 93.7089C126.097 93.9415 111.941 102.083 95.06 111.853C78.1459 121.622 64.156 129.531 63.9567 129.498C63.724 129.431 52.5587 123.051 39.1005 115.275L14.6099 101.152V72.5746V43.9967L25.6756 37.6165C31.7234 34.1274 42.8223 27.7472 50.2991 23.4273C57.7426 19.1073 63.9899 15.585 64.1228 15.585C64.2557 15.585 72.9288 20.5362 83.3963 26.5841L113.902 43.9967L118.713 41.1657L127.26 36.1544L113.902 28.5447C103.334 22.2974 64.3554 -0.033191 64.0231 3.90721e-05C63.8237 3.90721e-05 49.568 8.14142 32.388 18.0772Z\" fill=\"#1F1F1F\"></path><path d=\"M96.0237 54.1983C78.9434 64.0677 64.721 72.2423 64.4219 72.3088C64.0896 72.4084 55.7488 67.7562 44.8826 61.509L25.9082 50.543V58.4186L25.9414 66.2609L44.3841 76.8945C54.5193 82.743 63.1591 87.6611 63.5911 87.8272C64.2557 88.0598 68.9079 85.5011 95.5585 70.1156C112.705 60.1798 126.861 51.9719 127.027 51.839C127.16 51.7061 127.227 48.1505 127.194 43.9302L127.094 36.2541L96.0237 54.1983Z\" fill=\"#1F1F1F\"></path><path d=\"M123.771 66.7261C121.943 67.7562 107.854 75.8976 92.4349 84.8033C77.0161 93.7089 64.289 100.986 64.1228 100.986C63.9567 100.986 55.3501 96.0683 44.9491 90.0869L26.0744 79.1874L25.9747 86.8303C25.9082 92.6788 26.0079 94.5729 26.307 94.872C26.9383 95.4369 63.7241 116.604 64.1228 116.604C64.4551 116.604 126.496 80.8821 127.027 80.4169C127.16 80.284 127.227 76.7284 127.194 72.4749L127.094 64.7987L123.771 66.7261Z\" fill=\"#1F1F1F\"></path></svg></a></div><div class=\"main-menu self-center hidden md:block\"><ul class=\"nav flex space-x-275 justify-content-center\"><li class=\"nav-item\"><a class=\"nav-link hover:underline\" href=\"/men\">Men</a></li><li class=\"nav-item\"><a class=\"nav-link hover:underline\" href=\"/women\">Women</a></li></ul></div><div class=\"icon-wrapper flex justify-between space-x-1\"><div class=\"search-box\"><a class=\"search-icon\" href=\"#\"><svg fill=\"none\" stroke=\"currentColor\" style=\"width:2.2rem;height:2.2rem\" viewbox=\"0 0 24 24\" xmlns=\"http://www.w3.org/2000/svg\"><path d=\"M21 21l-6-6m2-5a7 7 0 11-14 0 7 7 0 0114 0z\" stroke-linecap=\"round\" stroke-linejoin=\"round\" stroke-width=\"2\"></path></svg></a></div><div class=\"mini-cart-wrapper self-center\"><a class=\"mini-cart-icon\" href=\"/cart\"><svg aria-hidden=\"true\" fill=\"none\" height=\"20\" stroke=\"currentColor\" stroke-width=\"2\" viewbox=\"0 0 24 24\" width=\"20\" xmlns=\"http://www.w3.org/2000/svg\"><path d=\"M16 11V7a4 4 0 00-8 0v4M5 9h14l1 12H4L5 9z\" stroke-linecap=\"round\" stroke-linejoin=\"round\"></path></svg></a></div><div class=\"self-center\"><a href=\"/account/login\"><svg aria-hidden=\"true\" fill=\"none\" height=\"25\" stroke=\"currentColor\" stroke-width=\"2\" viewbox=\"0 0 24 24\" width=\"25\" xmlns=\"http://www.w3.org/2000/svg\"><path d=\"M16 7a4 4 0 11-8 0 4 4 0 018 0zM12 14a7 7 0 00-7 7h14a7 7 0 00-7-7z\" stroke-linecap=\"round\" stroke-linejoin=\"round\"></path></svg></a></div><div class=\"main-menu-mobile self-center\"><a class=\"menu-icon\" href=\"#\"><svg class=\"h-6 w-6\" fill=\"none\" stroke=\"currentColor\" viewbox=\"0 0 24 24\" xmlns=\"http://www.w3.org/2000/svg\"><path d=\"M4 6h16M4 12h16M4 18h16\" stroke-linecap=\"round\" stroke-linejoin=\"round\" stroke-width=\"2\"></path></svg></a></div></div></div><main class=\"content\"><div class=\"main-banner-home flex items-center\"><div class=\"container grid grid-cols-1 md:grid-cols-2 gap-2\"><div></div><div class=\"text-center md:text-left px-2\"><h2 class=\"h1\">Discount 20% For All Orders Over $2000</h2><p>Use coupon code<span class=\"font-bold\">DISCOUNT20</span></p><p>Use coupon DISCOUNT20</p><p></p></div></div></div><div class=\"mt-15\"><div class=\"grid grid-cols-1 md:grid-cols-3 gap-2 page-width\"><div><div class=\"text-center\"><img alt=\"\" src=\"/assets/homepage/banner/men-shoes.jpeg\"/></div><h3 class=\"h4 uppercase mt-1 mb-1\">Men shoes collection</h3><div class=\"mb-1\"><p>Constructed from luxury nylons, leathers, and custom hardware, featuring sport details such as hidden breathing vents, waterproof + antimicrobial linings, and more.</p></div><a class=\"button primary\" href=\"/kids\"><span>Shop kids</span></a></div><div><div><img alt=\"\" src=\"/assets/homepage/banner/women-shoes.jpeg\"/></div><h3 class=\"h4 uppercase mt-1 mb-1\">Women shoes collection</h3><div class=\"mb-1\"><p>Constructed from luxury nylons, leathers, and custom hardware, featuring sport details such as hidden breathing vents, waterproof + antimicrobial linings, and more.</p></div><a class=\"button primary\" href=\"/women\"><span>Shop women</span></a></div><div><div><img alt=\"\" src=\"/assets/homepage/banner/kid-shoes.jpeg\"/></div><h3 class=\"h4 uppercase mt-1 mb-1\">Men shoes collection</h3><div class=\"mb-1\"><p>Constructed from luxury nylons, leathers, and custom hardware, featuring sport details such as hidden breathing vents, waterproof + antimicrobial linings, and more.</p></div><a class=\"button primary\" href=\"/men\"><span>Shop men</span></a></div></div></div><div class=\"pt-3\"><div class=\"page-width\"><h3 class=\"mt-3 mb-3 text-center uppercase h5 tracking-widest\">Featured Products</h3><div class=\"grid grid-cols-2 md:grid-cols-4 gap-2\"><div class=\"listing-tem\"><div class=\"product-thumbnail-listing\"><a href=\"/men/nike-air-zoom-pegasus-35-146\"><img alt=\"Nike air zoom pegasus 35\" src=\"/assets/catalog/1034/3600/plv7632-Green-list.png\"/></a></div><div class=\"product-name product-list-name mt-1 mb-025\"><a class=\"font-bold hover:underline h5\" href=\"/men/nike-air-zoom-pegasus-35-146\"><span>Nike air zoom pegasus 35</span></a></div><div class=\"product-price-listing\"><div><span class=\"sale-price font-semibold\">$452.10</span></div></div></div><div class=\"listing-tem\"><div class=\"product-thumbnail-listing\"><a href=\"/mix-and-match-chuck-taylor-all-star-118\"><img alt=\"Mix and match chuck taylor all star\" src=\"/assets/catalog/5059/3470/plv4547-Grey-list.png\"/></a></div><div class=\"product-name product-list-name mt-1 mb-025\"><a class=\"font-bold hover:underline h5\" href=\"/mix-and-match-chuck-taylor-all-star-118\"><span>Mix and match chuck taylor all star</span></a></div><div class=\"product-price-listing\"><div><span class=\"sale-price font-semibold\">$877.80</span></div></div></div><div class=\"listing-tem\"><div class=\"product-thumbnail-listing\"><a href=\"/geography-class-chuck-taylor-all-star-81\"><img alt=\"Geography class chuck taylor all star\" src=\"/assets/catalog/4056/5908/plv3360-Black-list.png\"/></a></div><div class=\"product-name product-list-name mt-1 mb-025\"><a class=\"font-bold hover:underline h5\" href=\"/geography-class-chuck-taylor-all-star-81\"><span>Geography class chuck taylor all star</span></a></div><div class=\"product-price-listing\"><div><span class=\"sale-price font-semibold\">$275.00</span></div></div></div><div class=\"listing-tem\"><div class=\"product-thumbnail-listing\"><a href=\"/kids/swift-run-x-shoes-12\"><img alt=\"Swift run x shoes\" src=\"/assets/catalog/3241/9300/plv1517-Pink-list.png\"/></a></div><div class=\"product-name product-list-name mt-1 mb-025\"><a class=\"font-bold hover:underline h5\" href=\"/kids/swift-run-x-shoes-12\"><span>Swift run x shoes</span></a></div><div class=\"product-price-listing\"><div><span class=\"sale-price font-semibold\">$370.70</span></div></div></div></div></div></div></main><div class=\"footer\"><div class=\"footer__default\"><div class=\"page-width grid grid-cols-1 md:grid-cols-2 gap-2 justify-between\"><div><div class=\"card-icons flex justify-center space-x-1 md:justify-start\"><div><svg aria-labelledby=\"pi-visa\" height=\"24\" viewbox=\"0 0 38 24\" width=\"38\" xmlns=\"http://www.w3.org/2000/svg\"><path d=\"M35 0H3C1.3 0 0 1.3 0 3v18c0 1.7 1.4 3 3 3h32c1.7 0 3-1.3 3-3V3c0-1.7-1.4-3-3-3z\" opacity=\"0.07\"></path><path d=\"M35 1c1.1 0 2 .9 2 2v18c0 1.1-.9 2-2 2H3c-1.1 0-2-.9-2-2V3c0-1.1.9-2 2-2h32\" fill=\"#fff\"></path><path d=\"M28.3 10.1H28c-.4 1-.7 1.5-1 3h1.9c-.3-1.5-.3-2.2-.6-3zm2.9 5.9h-1.7c-.1 0-.1 0-.2-.1l-.2-.9-.1-.2h-2.4c-.1 0-.2 0-.2.2l-.3.9c0 .1-.1.1-.1.1h-2.1l.2-.5L27 8.7c0-.5.3-.7.8-.7h1.5c.1 0 .2 0 .2.2l1.4 6.5c.1.4.2.7.2 1.1.1.1.1.1.1.2zm-13.4-.3l.4-1.8c.1 0 .2.1.2.1.7.3 1.4.5 2.1.4.2 0 .5-.1.7-.2.5-.2.5-.7.1-1.1-.2-.2-.5-.3-.8-.5-.4-.2-.8-.4-1.1-.7-1.2-1-.8-2.4-.1-3.1.6-.4.9-.8 1.7-.8 1.2 0 2.5 0 3.1.2h.1c-.1.6-.2 1.1-.4 1.7-.5-.2-1-.4-1.5-.4-.3 0-.6 0-.9.1-.2 0-.3.1-.4.2-.2.2-.2.5 0 .7l.5.4c.4.2.8.4 1.1.6.5.3 1 .8 1.1 1.4.2.9-.1 1.7-.9 2.3-.5.4-.7.6-1.4.6-1.4 0-2.5.1-3.4-.2-.1.2-.1.2-.2.1zm-3.5.3c.1-.7.1-.7.2-1 .5-2.2 1-4.5 1.4-6.7.1-.2.1-.3.3-.3H18c-.2 1.2-.4 2.1-.7 3.2-.3 1.5-.6 3-1 4.5 0 .2-.1.2-.3.2M5 8.2c0-.1.2-.2.3-.2h3.4c.5 0 .9.3 1 .8l.9 4.4c0 .1 0 .1.1.2 0-.1.1-.1.1-.1l2.1-5.1c-.1-.1 0-.2.1-.2h2.1c0 .1 0 .1-.1.2l-3.1 7.3c-.1.2-.1.3-.2.4-.1.1-.3 0-.5 0H9.7c-.1 0-.2 0-.2-.2L7.9 9.5c-.2-.2-.5-.5-.9-.6-.6-.3-1.7-.5-1.9-.5L5 8.2z\" fill=\"#142688\"></path></svg></div><div><svg aria-labelledby=\"pi-master\" height=\"24\" viewbox=\"0 0 38 24\" width=\"38\" xmlns=\"http://www.w3.org/2000/svg\"><path d=\"M35 0H3C1.3 0 0 1.3 0 3v18c0 1.7 1.4 3 3 3h32c1.7 0 3-1.3 3-3V3c0-1.7-1.4-3-3-3z\" opacity=\"0.07\"></path><path d=\"M35 1c1.1 0 2 .9 2 2v18c0 1.1-.9 2-2 2H3c-1.1 0-2-.9-2-2V3c0-1.1.9-2 2-2h32\" fill=\"#fff\"></path><circle cx=\"15\" cy=\"12\" fill=\"#EB001B\" r=\"7\"></circle><circle cx=\"23\" cy=\"12\" fill=\"#F79E1B\" r=\"7\"></circle><path d=\"M22 12c0-2.4-1.2-4.5-3-5.7-1.8 1.3-3 3.4-3 5.7s1.2 4.5 3 5.7c1.8-1.2 3-3.3 3-5.7z\" fill=\"#FF5F00\"></path></svg></div><div><svg aria-labelledby=\"pi-paypal\" height=\"24\" role=\"img\" viewbox=\"0 0 38 24\" width=\"38\" xmlns=\"http://www.w3.org/2000/svg\"><title id=\"pi-paypal\">PayPal</title><path d=\"M35 0H3C1.3 0 0 1.3 0 3v18c0 1.7 1.4 3 3 3h32c1.7 0 3-1.3 3-3V3c0-1.7-1.4-3-3-3z\" opacity=\".07\"></path><path d=\"M35 1c1.1 0 2 .9 2 2v18c0 1.1-.9 2-2 2H3c-1.1 0-2-.9-2-2V3c0-1.1.9-2 2-2h32\" fill=\"#fff\"></path><path d=\"M23.9 8.3c.2-1 0-1.7-.6-2.3-.6-.7-1.7-1-3.1-1h-4.1c-.3 0-.5.2-.6.5L14 15.6c0 .2.1.4.3.4H17l.4-3.4 1.8-2.2 4.7-2.1z\" fill=\"#003087\"></path><path d=\"M23.9 8.3l-.2.2c-.5 2.8-2.2 3.8-4.6 3.8H18c-.3 0-.5.2-.6.5l-.6 3.9-.2 1c0 .2.1.4.3.4H19c.3 0 .5-.2.5-.4v-.1l.4-2.4v-.1c0-.2.3-.4.5-.4h.3c2.1 0 3.7-.8 4.1-3.2.2-1 .1-1.8-.4-2.4-.1-.5-.3-.7-.5-.8z\" fill=\"#3086C8\"></path><path d=\"M23.3 8.1c-.1-.1-.2-.1-.3-.1-.1 0-.2 0-.3-.1-.3-.1-.7-.1-1.1-.1h-3c-.1 0-.2 0-.2.1-.2.1-.3.2-.3.4l-.7 4.4v.1c0-.3.3-.5.6-.5h1.3c2.5 0 4.1-1 4.6-3.8v-.2c-.1-.1-.3-.2-.5-.2h-.1z\" fill=\"#012169\"></path></svg></div></div></div><div class=\"self-center\"><div class=\"copyright text-center md:text-right text-textSubdued\"><span></span></div></div></div></div></div><div><div class=\"Toastify\"></div></div></div></div><script src=\"/assets/frontStore/homepage/client/903d232babd9d1207624.js\"></script></body></html>,\n",
              " <head><meta charset=\"utf-8\"/><script>var eContext = {\"graphqlResponse\":{\"ee8xunk5shlnt0g55f\":\"/search\",\"ee8xunk5shlnt0g55g\":{\"collectionId\":\"2\",\"name\":\"Featured Products\",\"products\":{\"items\":[{\"productId\":146,\"name\":\"Nike air zoom pegasus 35\",\"sku\":\"NJC83763-Green-L\",\"price\":{\"regular\":{\"value\":452.1,\"text\":\"$452.10\"},\"special\":{\"value\":452.1,\"text\":\"$452.10\"}},\"image\":{\"alt\":\"Nike air zoom pegasus 35\",\"url\":\"/assets/catalog/1034/3600/plv7632-Green-list.png\"},\"url\":\"/men/nike-air-zoom-pegasus-35-146\"},{\"productId\":118,\"name\":\"Mix and match chuck taylor all star\",\"sku\":\"NJC88122-Grey-X\",\"price\":{\"regular\":{\"value\":877.8,\"text\":\"$877.80\"},\"special\":{\"value\":877.8,\"text\":\"$877.80\"}},\"image\":{\"alt\":\"Mix and match chuck taylor all star\",\"url\":\"/assets/catalog/5059/3470/plv4547-Grey-list.png\"},\"url\":\"/mix-and-match-chuck-taylor-all-star-118\"},{\"productId\":81,\"name\":\"Geography class chuck taylor all star\",\"sku\":\"NJC11368-Black-XL\",\"price\":{\"regular\":{\"value\":275,\"text\":\"$275.00\"},\"special\":{\"value\":275,\"text\":\"$275.00\"}},\"image\":{\"alt\":\"Geography class chuck taylor all star\",\"url\":\"/assets/catalog/4056/5908/plv3360-Black-list.png\"},\"url\":\"/geography-class-chuck-taylor-all-star-81\"},{\"productId\":12,\"name\":\"Swift run x shoes\",\"sku\":\"NJC86672-Pink-XL\",\"price\":{\"regular\":{\"value\":370.7,\"text\":\"$370.70\"},\"special\":{\"value\":370.7,\"text\":\"$370.70\"}},\"image\":{\"alt\":\"Swift run x shoes\",\"url\":\"/assets/catalog/3241/9300/plv1517-Pink-list.png\"},\"url\":\"/kids/swift-run-x-shoes-12\"}]}},\"ee8xunk5shlnt0g55h\":\"/cart\",\"ee8xunk5shlnt0g55i\":null,\"ee8xunk5shlnt0g55j\":{\"breadcrumbs\":[]},\"ee8xunk5shlnt0g55k\":{\"copyRight\":null},\"ee8xunk5shlnt0g55l\":{\"title\":\"Charka Nurture\",\"description\":\"An Amazing EverShop Store\"},\"ee8xunk5shlnt0g55m\":{\"headTags\":{\"metas\":[],\"links\":[],\"scripts\":[],\"base\":null}},\"ee8xunk5shlnt0g55n\":{\"logo\":{\"src\":null,\"alt\":null,\"width\":null,\"height\":null}},\"ee8xunk5shlnt0g55o\":{\"items\":[{\"name\":\"Men\",\"url\":\"/men\"},{\"name\":\"Women\",\"url\":\"/women\"}]},\"ee8xunk5shlnt0g55p\":{\"items\":[{\"name\":\"Men\",\"url\":\"/men\"},{\"name\":\"Women\",\"url\":\"/women\"}]},\"ee8xunk5shlnt0g55q\":null,\"ee8xunk5shlnt0g55r\":\"/account\",\"ee8xunk5shlnt0g55s\":\"/account/login\"},\"propsMap\":{\"L25vZGVfbW9kdWxlcy9AZXZlcnNob3AvZXZlcnNob3Avc3JjL21vZHVsZXMvY2F0YWxvZy9wYWdlcy9mcm9udFN0b3JlL2FsbC9TZWFyY2hCb3guanN4\":[{\"origin\":\"searchPageUrl\",\"alias\":\"ee8xunk5shlnt0g55f\"}],\"L25vZGVfbW9kdWxlcy9AZXZlcnNob3AvZXZlcnNob3Avc3JjL21vZHVsZXMvY2F0YWxvZy9wYWdlcy9mcm9udFN0b3JlL2hvbWVwYWdlL0ZlYXR1cmVkQ2F0ZWdvcmllcy5qc3g=\":[],\"L25vZGVfbW9kdWxlcy9AZXZlcnNob3AvZXZlcnNob3Avc3JjL21vZHVsZXMvY2F0YWxvZy9wYWdlcy9mcm9udFN0b3JlL2hvbWVwYWdlL0ZlYXR1cmVkUHJvZHVjdHMuanN4\":[{\"origin\":\"collection\",\"alias\":\"ee8xunk5shlnt0g55g\"}],\"L25vZGVfbW9kdWxlcy9AZXZlcnNob3AvZXZlcnNob3Avc3JjL21vZHVsZXMvY2hlY2tvdXQvcGFnZXMvZnJvbnRTdG9yZS9hbGwvTWluaUNhcnQuanN4\":[{\"origin\":\"cartUrl\",\"alias\":\"ee8xunk5shlnt0g55h\"},{\"origin\":\"cart\",\"alias\":\"ee8xunk5shlnt0g55i\"}],\"L25vZGVfbW9kdWxlcy9AZXZlcnNob3AvZXZlcnNob3Avc3JjL21vZHVsZXMvY21zL3BhZ2VzL2Zyb250U3RvcmUvYWxsL0JyZWFkY3J1bWIuanN4\":[{\"origin\":\"pageInfo\",\"alias\":\"ee8xunk5shlnt0g55j\"}],\"L25vZGVfbW9kdWxlcy9AZXZlcnNob3AvZXZlcnNob3Avc3JjL21vZHVsZXMvY21zL3BhZ2VzL2Zyb250U3RvcmUvYWxsL0Zvb3Rlci5qc3g=\":[{\"origin\":\"themeConfig\",\"alias\":\"ee8xunk5shlnt0g55k\"}],\"L25vZGVfbW9kdWxlcy9AZXZlcnNob3AvZXZlcnNob3Avc3JjL21vZHVsZXMvY21zL3BhZ2VzL2Zyb250U3RvcmUvYWxsL0hlYWRUYWdzLmpzeA==\":[{\"origin\":\"pageInfo\",\"alias\":\"ee8xunk5shlnt0g55l\"},{\"origin\":\"themeConfig\",\"alias\":\"ee8xunk5shlnt0g55m\"}],\"L25vZGVfbW9kdWxlcy9AZXZlcnNob3AvZXZlcnNob3Avc3JjL21vZHVsZXMvY21zL3BhZ2VzL2Zyb250U3RvcmUvYWxsL0xheW91dC5qc3g=\":[],\"L25vZGVfbW9kdWxlcy9AZXZlcnNob3AvZXZlcnNob3Avc3JjL21vZHVsZXMvY21zL3BhZ2VzL2Zyb250U3RvcmUvYWxsL0xvZ28uanN4\":[{\"origin\":\"themeConfig\",\"alias\":\"ee8xunk5shlnt0g55n\"}],\"L25vZGVfbW9kdWxlcy9AZXZlcnNob3AvZXZlcnNob3Avc3JjL21vZHVsZXMvY21zL3BhZ2VzL2Zyb250U3RvcmUvYWxsL01lbnUuanN4\":[{\"origin\":\"menu\",\"alias\":\"ee8xunk5shlnt0g55o\"}],\"L25vZGVfbW9kdWxlcy9AZXZlcnNob3AvZXZlcnNob3Avc3JjL21vZHVsZXMvY21zL3BhZ2VzL2Zyb250U3RvcmUvYWxsL01vYmlsZU1lbnUuanN4\":[{\"origin\":\"menu\",\"alias\":\"ee8xunk5shlnt0g55p\"}],\"L25vZGVfbW9kdWxlcy9AZXZlcnNob3AvZXZlcnNob3Avc3JjL21vZHVsZXMvY21zL3BhZ2VzL2Zyb250U3RvcmUvYWxsL05vdGlmaWNhdGlvbi5qc3g=\":[],\"L25vZGVfbW9kdWxlcy9AZXZlcnNob3AvZXZlcnNob3Avc3JjL21vZHVsZXMvY21zL3BhZ2VzL2Zyb250U3RvcmUvaG9tZXBhZ2UvTWFpbkJhbm5lci5qc3g=\":[],\"L25vZGVfbW9kdWxlcy9AZXZlcnNob3AvZXZlcnNob3Avc3JjL21vZHVsZXMvY3VzdG9tZXIvcGFnZXMvZnJvbnRTdG9yZS9hbGwvVXNlckljb24uanN4\":[{\"origin\":\"customer\",\"alias\":\"ee8xunk5shlnt0g55q\"},{\"origin\":\"accountUrl\",\"alias\":\"ee8xunk5shlnt0g55r\"},{\"origin\":\"loginUrl\",\"alias\":\"ee8xunk5shlnt0g55s\"}]}}</script><link href=\"/assets/frontStore/homepage/client/903d232babd9d1207624.css\" rel=\"stylesheet\"/><title>Charka Nurture</title><meta content=\"An Amazing EverShop Store\" name=\"description\"/><meta content=\"width=device-width, initial-scale=1.0\" name=\"viewport\"/></head>,\n",
              " <meta charset=\"utf-8\"/>,\n",
              " <script>var eContext = {\"graphqlResponse\":{\"ee8xunk5shlnt0g55f\":\"/search\",\"ee8xunk5shlnt0g55g\":{\"collectionId\":\"2\",\"name\":\"Featured Products\",\"products\":{\"items\":[{\"productId\":146,\"name\":\"Nike air zoom pegasus 35\",\"sku\":\"NJC83763-Green-L\",\"price\":{\"regular\":{\"value\":452.1,\"text\":\"$452.10\"},\"special\":{\"value\":452.1,\"text\":\"$452.10\"}},\"image\":{\"alt\":\"Nike air zoom pegasus 35\",\"url\":\"/assets/catalog/1034/3600/plv7632-Green-list.png\"},\"url\":\"/men/nike-air-zoom-pegasus-35-146\"},{\"productId\":118,\"name\":\"Mix and match chuck taylor all star\",\"sku\":\"NJC88122-Grey-X\",\"price\":{\"regular\":{\"value\":877.8,\"text\":\"$877.80\"},\"special\":{\"value\":877.8,\"text\":\"$877.80\"}},\"image\":{\"alt\":\"Mix and match chuck taylor all star\",\"url\":\"/assets/catalog/5059/3470/plv4547-Grey-list.png\"},\"url\":\"/mix-and-match-chuck-taylor-all-star-118\"},{\"productId\":81,\"name\":\"Geography class chuck taylor all star\",\"sku\":\"NJC11368-Black-XL\",\"price\":{\"regular\":{\"value\":275,\"text\":\"$275.00\"},\"special\":{\"value\":275,\"text\":\"$275.00\"}},\"image\":{\"alt\":\"Geography class chuck taylor all star\",\"url\":\"/assets/catalog/4056/5908/plv3360-Black-list.png\"},\"url\":\"/geography-class-chuck-taylor-all-star-81\"},{\"productId\":12,\"name\":\"Swift run x shoes\",\"sku\":\"NJC86672-Pink-XL\",\"price\":{\"regular\":{\"value\":370.7,\"text\":\"$370.70\"},\"special\":{\"value\":370.7,\"text\":\"$370.70\"}},\"image\":{\"alt\":\"Swift run x shoes\",\"url\":\"/assets/catalog/3241/9300/plv1517-Pink-list.png\"},\"url\":\"/kids/swift-run-x-shoes-12\"}]}},\"ee8xunk5shlnt0g55h\":\"/cart\",\"ee8xunk5shlnt0g55i\":null,\"ee8xunk5shlnt0g55j\":{\"breadcrumbs\":[]},\"ee8xunk5shlnt0g55k\":{\"copyRight\":null},\"ee8xunk5shlnt0g55l\":{\"title\":\"Charka Nurture\",\"description\":\"An Amazing EverShop Store\"},\"ee8xunk5shlnt0g55m\":{\"headTags\":{\"metas\":[],\"links\":[],\"scripts\":[],\"base\":null}},\"ee8xunk5shlnt0g55n\":{\"logo\":{\"src\":null,\"alt\":null,\"width\":null,\"height\":null}},\"ee8xunk5shlnt0g55o\":{\"items\":[{\"name\":\"Men\",\"url\":\"/men\"},{\"name\":\"Women\",\"url\":\"/women\"}]},\"ee8xunk5shlnt0g55p\":{\"items\":[{\"name\":\"Men\",\"url\":\"/men\"},{\"name\":\"Women\",\"url\":\"/women\"}]},\"ee8xunk5shlnt0g55q\":null,\"ee8xunk5shlnt0g55r\":\"/account\",\"ee8xunk5shlnt0g55s\":\"/account/login\"},\"propsMap\":{\"L25vZGVfbW9kdWxlcy9AZXZlcnNob3AvZXZlcnNob3Avc3JjL21vZHVsZXMvY2F0YWxvZy9wYWdlcy9mcm9udFN0b3JlL2FsbC9TZWFyY2hCb3guanN4\":[{\"origin\":\"searchPageUrl\",\"alias\":\"ee8xunk5shlnt0g55f\"}],\"L25vZGVfbW9kdWxlcy9AZXZlcnNob3AvZXZlcnNob3Avc3JjL21vZHVsZXMvY2F0YWxvZy9wYWdlcy9mcm9udFN0b3JlL2hvbWVwYWdlL0ZlYXR1cmVkQ2F0ZWdvcmllcy5qc3g=\":[],\"L25vZGVfbW9kdWxlcy9AZXZlcnNob3AvZXZlcnNob3Avc3JjL21vZHVsZXMvY2F0YWxvZy9wYWdlcy9mcm9udFN0b3JlL2hvbWVwYWdlL0ZlYXR1cmVkUHJvZHVjdHMuanN4\":[{\"origin\":\"collection\",\"alias\":\"ee8xunk5shlnt0g55g\"}],\"L25vZGVfbW9kdWxlcy9AZXZlcnNob3AvZXZlcnNob3Avc3JjL21vZHVsZXMvY2hlY2tvdXQvcGFnZXMvZnJvbnRTdG9yZS9hbGwvTWluaUNhcnQuanN4\":[{\"origin\":\"cartUrl\",\"alias\":\"ee8xunk5shlnt0g55h\"},{\"origin\":\"cart\",\"alias\":\"ee8xunk5shlnt0g55i\"}],\"L25vZGVfbW9kdWxlcy9AZXZlcnNob3AvZXZlcnNob3Avc3JjL21vZHVsZXMvY21zL3BhZ2VzL2Zyb250U3RvcmUvYWxsL0JyZWFkY3J1bWIuanN4\":[{\"origin\":\"pageInfo\",\"alias\":\"ee8xunk5shlnt0g55j\"}],\"L25vZGVfbW9kdWxlcy9AZXZlcnNob3AvZXZlcnNob3Avc3JjL21vZHVsZXMvY21zL3BhZ2VzL2Zyb250U3RvcmUvYWxsL0Zvb3Rlci5qc3g=\":[{\"origin\":\"themeConfig\",\"alias\":\"ee8xunk5shlnt0g55k\"}],\"L25vZGVfbW9kdWxlcy9AZXZlcnNob3AvZXZlcnNob3Avc3JjL21vZHVsZXMvY21zL3BhZ2VzL2Zyb250U3RvcmUvYWxsL0hlYWRUYWdzLmpzeA==\":[{\"origin\":\"pageInfo\",\"alias\":\"ee8xunk5shlnt0g55l\"},{\"origin\":\"themeConfig\",\"alias\":\"ee8xunk5shlnt0g55m\"}],\"L25vZGVfbW9kdWxlcy9AZXZlcnNob3AvZXZlcnNob3Avc3JjL21vZHVsZXMvY21zL3BhZ2VzL2Zyb250U3RvcmUvYWxsL0xheW91dC5qc3g=\":[],\"L25vZGVfbW9kdWxlcy9AZXZlcnNob3AvZXZlcnNob3Avc3JjL21vZHVsZXMvY21zL3BhZ2VzL2Zyb250U3RvcmUvYWxsL0xvZ28uanN4\":[{\"origin\":\"themeConfig\",\"alias\":\"ee8xunk5shlnt0g55n\"}],\"L25vZGVfbW9kdWxlcy9AZXZlcnNob3AvZXZlcnNob3Avc3JjL21vZHVsZXMvY21zL3BhZ2VzL2Zyb250U3RvcmUvYWxsL01lbnUuanN4\":[{\"origin\":\"menu\",\"alias\":\"ee8xunk5shlnt0g55o\"}],\"L25vZGVfbW9kdWxlcy9AZXZlcnNob3AvZXZlcnNob3Avc3JjL21vZHVsZXMvY21zL3BhZ2VzL2Zyb250U3RvcmUvYWxsL01vYmlsZU1lbnUuanN4\":[{\"origin\":\"menu\",\"alias\":\"ee8xunk5shlnt0g55p\"}],\"L25vZGVfbW9kdWxlcy9AZXZlcnNob3AvZXZlcnNob3Avc3JjL21vZHVsZXMvY21zL3BhZ2VzL2Zyb250U3RvcmUvYWxsL05vdGlmaWNhdGlvbi5qc3g=\":[],\"L25vZGVfbW9kdWxlcy9AZXZlcnNob3AvZXZlcnNob3Avc3JjL21vZHVsZXMvY21zL3BhZ2VzL2Zyb250U3RvcmUvaG9tZXBhZ2UvTWFpbkJhbm5lci5qc3g=\":[],\"L25vZGVfbW9kdWxlcy9AZXZlcnNob3AvZXZlcnNob3Avc3JjL21vZHVsZXMvY3VzdG9tZXIvcGFnZXMvZnJvbnRTdG9yZS9hbGwvVXNlckljb24uanN4\":[{\"origin\":\"customer\",\"alias\":\"ee8xunk5shlnt0g55q\"},{\"origin\":\"accountUrl\",\"alias\":\"ee8xunk5shlnt0g55r\"},{\"origin\":\"loginUrl\",\"alias\":\"ee8xunk5shlnt0g55s\"}]}}</script>,\n",
              " <link href=\"/assets/frontStore/homepage/client/903d232babd9d1207624.css\" rel=\"stylesheet\"/>,\n",
              " <title>Charka Nurture</title>,\n",
              " <meta content=\"An Amazing EverShop Store\" name=\"description\"/>,\n",
              " <meta content=\"width=device-width, initial-scale=1.0\" name=\"viewport\"/>,\n",
              " <body id=\"body\"><div class=\"bg-background\" id=\"app\"><div class=\"wrapper\"><div class=\"loading-bar\" style=\"width:0%;display:none\"></div><div class=\"header flex justify-between\"><div class=\"logo\"><a class=\"logo-icon\" href=\"/\"><svg fill=\"none\" height=\"146\" viewbox=\"0 0 128 146\" width=\"128\" xmlns=\"http://www.w3.org/2000/svg\"><path d=\"M32.388 18.0772L1.15175 36.1544L1.05206 72.5081L0.985596 108.895L32.4213 127.039C49.7009 137.008 63.9567 145.182 64.1228 145.182C64.289 145.182 72.8956 140.264 83.2966 134.283C93.6644 128.268 107.82 120.127 114.732 116.139L127.26 108.895V101.119V93.3102L126.529 93.7089C126.097 93.9415 111.941 102.083 95.06 111.853C78.1459 121.622 64.156 129.531 63.9567 129.498C63.724 129.431 52.5587 123.051 39.1005 115.275L14.6099 101.152V72.5746V43.9967L25.6756 37.6165C31.7234 34.1274 42.8223 27.7472 50.2991 23.4273C57.7426 19.1073 63.9899 15.585 64.1228 15.585C64.2557 15.585 72.9288 20.5362 83.3963 26.5841L113.902 43.9967L118.713 41.1657L127.26 36.1544L113.902 28.5447C103.334 22.2974 64.3554 -0.033191 64.0231 3.90721e-05C63.8237 3.90721e-05 49.568 8.14142 32.388 18.0772Z\" fill=\"#1F1F1F\"></path><path d=\"M96.0237 54.1983C78.9434 64.0677 64.721 72.2423 64.4219 72.3088C64.0896 72.4084 55.7488 67.7562 44.8826 61.509L25.9082 50.543V58.4186L25.9414 66.2609L44.3841 76.8945C54.5193 82.743 63.1591 87.6611 63.5911 87.8272C64.2557 88.0598 68.9079 85.5011 95.5585 70.1156C112.705 60.1798 126.861 51.9719 127.027 51.839C127.16 51.7061 127.227 48.1505 127.194 43.9302L127.094 36.2541L96.0237 54.1983Z\" fill=\"#1F1F1F\"></path><path d=\"M123.771 66.7261C121.943 67.7562 107.854 75.8976 92.4349 84.8033C77.0161 93.7089 64.289 100.986 64.1228 100.986C63.9567 100.986 55.3501 96.0683 44.9491 90.0869L26.0744 79.1874L25.9747 86.8303C25.9082 92.6788 26.0079 94.5729 26.307 94.872C26.9383 95.4369 63.7241 116.604 64.1228 116.604C64.4551 116.604 126.496 80.8821 127.027 80.4169C127.16 80.284 127.227 76.7284 127.194 72.4749L127.094 64.7987L123.771 66.7261Z\" fill=\"#1F1F1F\"></path></svg></a></div><div class=\"main-menu self-center hidden md:block\"><ul class=\"nav flex space-x-275 justify-content-center\"><li class=\"nav-item\"><a class=\"nav-link hover:underline\" href=\"/men\">Men</a></li><li class=\"nav-item\"><a class=\"nav-link hover:underline\" href=\"/women\">Women</a></li></ul></div><div class=\"icon-wrapper flex justify-between space-x-1\"><div class=\"search-box\"><a class=\"search-icon\" href=\"#\"><svg fill=\"none\" stroke=\"currentColor\" style=\"width:2.2rem;height:2.2rem\" viewbox=\"0 0 24 24\" xmlns=\"http://www.w3.org/2000/svg\"><path d=\"M21 21l-6-6m2-5a7 7 0 11-14 0 7 7 0 0114 0z\" stroke-linecap=\"round\" stroke-linejoin=\"round\" stroke-width=\"2\"></path></svg></a></div><div class=\"mini-cart-wrapper self-center\"><a class=\"mini-cart-icon\" href=\"/cart\"><svg aria-hidden=\"true\" fill=\"none\" height=\"20\" stroke=\"currentColor\" stroke-width=\"2\" viewbox=\"0 0 24 24\" width=\"20\" xmlns=\"http://www.w3.org/2000/svg\"><path d=\"M16 11V7a4 4 0 00-8 0v4M5 9h14l1 12H4L5 9z\" stroke-linecap=\"round\" stroke-linejoin=\"round\"></path></svg></a></div><div class=\"self-center\"><a href=\"/account/login\"><svg aria-hidden=\"true\" fill=\"none\" height=\"25\" stroke=\"currentColor\" stroke-width=\"2\" viewbox=\"0 0 24 24\" width=\"25\" xmlns=\"http://www.w3.org/2000/svg\"><path d=\"M16 7a4 4 0 11-8 0 4 4 0 018 0zM12 14a7 7 0 00-7 7h14a7 7 0 00-7-7z\" stroke-linecap=\"round\" stroke-linejoin=\"round\"></path></svg></a></div><div class=\"main-menu-mobile self-center\"><a class=\"menu-icon\" href=\"#\"><svg class=\"h-6 w-6\" fill=\"none\" stroke=\"currentColor\" viewbox=\"0 0 24 24\" xmlns=\"http://www.w3.org/2000/svg\"><path d=\"M4 6h16M4 12h16M4 18h16\" stroke-linecap=\"round\" stroke-linejoin=\"round\" stroke-width=\"2\"></path></svg></a></div></div></div><main class=\"content\"><div class=\"main-banner-home flex items-center\"><div class=\"container grid grid-cols-1 md:grid-cols-2 gap-2\"><div></div><div class=\"text-center md:text-left px-2\"><h2 class=\"h1\">Discount 20% For All Orders Over $2000</h2><p>Use coupon code<span class=\"font-bold\">DISCOUNT20</span></p><p>Use coupon DISCOUNT20</p><p></p></div></div></div><div class=\"mt-15\"><div class=\"grid grid-cols-1 md:grid-cols-3 gap-2 page-width\"><div><div class=\"text-center\"><img alt=\"\" src=\"/assets/homepage/banner/men-shoes.jpeg\"/></div><h3 class=\"h4 uppercase mt-1 mb-1\">Men shoes collection</h3><div class=\"mb-1\"><p>Constructed from luxury nylons, leathers, and custom hardware, featuring sport details such as hidden breathing vents, waterproof + antimicrobial linings, and more.</p></div><a class=\"button primary\" href=\"/kids\"><span>Shop kids</span></a></div><div><div><img alt=\"\" src=\"/assets/homepage/banner/women-shoes.jpeg\"/></div><h3 class=\"h4 uppercase mt-1 mb-1\">Women shoes collection</h3><div class=\"mb-1\"><p>Constructed from luxury nylons, leathers, and custom hardware, featuring sport details such as hidden breathing vents, waterproof + antimicrobial linings, and more.</p></div><a class=\"button primary\" href=\"/women\"><span>Shop women</span></a></div><div><div><img alt=\"\" src=\"/assets/homepage/banner/kid-shoes.jpeg\"/></div><h3 class=\"h4 uppercase mt-1 mb-1\">Men shoes collection</h3><div class=\"mb-1\"><p>Constructed from luxury nylons, leathers, and custom hardware, featuring sport details such as hidden breathing vents, waterproof + antimicrobial linings, and more.</p></div><a class=\"button primary\" href=\"/men\"><span>Shop men</span></a></div></div></div><div class=\"pt-3\"><div class=\"page-width\"><h3 class=\"mt-3 mb-3 text-center uppercase h5 tracking-widest\">Featured Products</h3><div class=\"grid grid-cols-2 md:grid-cols-4 gap-2\"><div class=\"listing-tem\"><div class=\"product-thumbnail-listing\"><a href=\"/men/nike-air-zoom-pegasus-35-146\"><img alt=\"Nike air zoom pegasus 35\" src=\"/assets/catalog/1034/3600/plv7632-Green-list.png\"/></a></div><div class=\"product-name product-list-name mt-1 mb-025\"><a class=\"font-bold hover:underline h5\" href=\"/men/nike-air-zoom-pegasus-35-146\"><span>Nike air zoom pegasus 35</span></a></div><div class=\"product-price-listing\"><div><span class=\"sale-price font-semibold\">$452.10</span></div></div></div><div class=\"listing-tem\"><div class=\"product-thumbnail-listing\"><a href=\"/mix-and-match-chuck-taylor-all-star-118\"><img alt=\"Mix and match chuck taylor all star\" src=\"/assets/catalog/5059/3470/plv4547-Grey-list.png\"/></a></div><div class=\"product-name product-list-name mt-1 mb-025\"><a class=\"font-bold hover:underline h5\" href=\"/mix-and-match-chuck-taylor-all-star-118\"><span>Mix and match chuck taylor all star</span></a></div><div class=\"product-price-listing\"><div><span class=\"sale-price font-semibold\">$877.80</span></div></div></div><div class=\"listing-tem\"><div class=\"product-thumbnail-listing\"><a href=\"/geography-class-chuck-taylor-all-star-81\"><img alt=\"Geography class chuck taylor all star\" src=\"/assets/catalog/4056/5908/plv3360-Black-list.png\"/></a></div><div class=\"product-name product-list-name mt-1 mb-025\"><a class=\"font-bold hover:underline h5\" href=\"/geography-class-chuck-taylor-all-star-81\"><span>Geography class chuck taylor all star</span></a></div><div class=\"product-price-listing\"><div><span class=\"sale-price font-semibold\">$275.00</span></div></div></div><div class=\"listing-tem\"><div class=\"product-thumbnail-listing\"><a href=\"/kids/swift-run-x-shoes-12\"><img alt=\"Swift run x shoes\" src=\"/assets/catalog/3241/9300/plv1517-Pink-list.png\"/></a></div><div class=\"product-name product-list-name mt-1 mb-025\"><a class=\"font-bold hover:underline h5\" href=\"/kids/swift-run-x-shoes-12\"><span>Swift run x shoes</span></a></div><div class=\"product-price-listing\"><div><span class=\"sale-price font-semibold\">$370.70</span></div></div></div></div></div></div></main><div class=\"footer\"><div class=\"footer__default\"><div class=\"page-width grid grid-cols-1 md:grid-cols-2 gap-2 justify-between\"><div><div class=\"card-icons flex justify-center space-x-1 md:justify-start\"><div><svg aria-labelledby=\"pi-visa\" height=\"24\" viewbox=\"0 0 38 24\" width=\"38\" xmlns=\"http://www.w3.org/2000/svg\"><path d=\"M35 0H3C1.3 0 0 1.3 0 3v18c0 1.7 1.4 3 3 3h32c1.7 0 3-1.3 3-3V3c0-1.7-1.4-3-3-3z\" opacity=\"0.07\"></path><path d=\"M35 1c1.1 0 2 .9 2 2v18c0 1.1-.9 2-2 2H3c-1.1 0-2-.9-2-2V3c0-1.1.9-2 2-2h32\" fill=\"#fff\"></path><path d=\"M28.3 10.1H28c-.4 1-.7 1.5-1 3h1.9c-.3-1.5-.3-2.2-.6-3zm2.9 5.9h-1.7c-.1 0-.1 0-.2-.1l-.2-.9-.1-.2h-2.4c-.1 0-.2 0-.2.2l-.3.9c0 .1-.1.1-.1.1h-2.1l.2-.5L27 8.7c0-.5.3-.7.8-.7h1.5c.1 0 .2 0 .2.2l1.4 6.5c.1.4.2.7.2 1.1.1.1.1.1.1.2zm-13.4-.3l.4-1.8c.1 0 .2.1.2.1.7.3 1.4.5 2.1.4.2 0 .5-.1.7-.2.5-.2.5-.7.1-1.1-.2-.2-.5-.3-.8-.5-.4-.2-.8-.4-1.1-.7-1.2-1-.8-2.4-.1-3.1.6-.4.9-.8 1.7-.8 1.2 0 2.5 0 3.1.2h.1c-.1.6-.2 1.1-.4 1.7-.5-.2-1-.4-1.5-.4-.3 0-.6 0-.9.1-.2 0-.3.1-.4.2-.2.2-.2.5 0 .7l.5.4c.4.2.8.4 1.1.6.5.3 1 .8 1.1 1.4.2.9-.1 1.7-.9 2.3-.5.4-.7.6-1.4.6-1.4 0-2.5.1-3.4-.2-.1.2-.1.2-.2.1zm-3.5.3c.1-.7.1-.7.2-1 .5-2.2 1-4.5 1.4-6.7.1-.2.1-.3.3-.3H18c-.2 1.2-.4 2.1-.7 3.2-.3 1.5-.6 3-1 4.5 0 .2-.1.2-.3.2M5 8.2c0-.1.2-.2.3-.2h3.4c.5 0 .9.3 1 .8l.9 4.4c0 .1 0 .1.1.2 0-.1.1-.1.1-.1l2.1-5.1c-.1-.1 0-.2.1-.2h2.1c0 .1 0 .1-.1.2l-3.1 7.3c-.1.2-.1.3-.2.4-.1.1-.3 0-.5 0H9.7c-.1 0-.2 0-.2-.2L7.9 9.5c-.2-.2-.5-.5-.9-.6-.6-.3-1.7-.5-1.9-.5L5 8.2z\" fill=\"#142688\"></path></svg></div><div><svg aria-labelledby=\"pi-master\" height=\"24\" viewbox=\"0 0 38 24\" width=\"38\" xmlns=\"http://www.w3.org/2000/svg\"><path d=\"M35 0H3C1.3 0 0 1.3 0 3v18c0 1.7 1.4 3 3 3h32c1.7 0 3-1.3 3-3V3c0-1.7-1.4-3-3-3z\" opacity=\"0.07\"></path><path d=\"M35 1c1.1 0 2 .9 2 2v18c0 1.1-.9 2-2 2H3c-1.1 0-2-.9-2-2V3c0-1.1.9-2 2-2h32\" fill=\"#fff\"></path><circle cx=\"15\" cy=\"12\" fill=\"#EB001B\" r=\"7\"></circle><circle cx=\"23\" cy=\"12\" fill=\"#F79E1B\" r=\"7\"></circle><path d=\"M22 12c0-2.4-1.2-4.5-3-5.7-1.8 1.3-3 3.4-3 5.7s1.2 4.5 3 5.7c1.8-1.2 3-3.3 3-5.7z\" fill=\"#FF5F00\"></path></svg></div><div><svg aria-labelledby=\"pi-paypal\" height=\"24\" role=\"img\" viewbox=\"0 0 38 24\" width=\"38\" xmlns=\"http://www.w3.org/2000/svg\"><title id=\"pi-paypal\">PayPal</title><path d=\"M35 0H3C1.3 0 0 1.3 0 3v18c0 1.7 1.4 3 3 3h32c1.7 0 3-1.3 3-3V3c0-1.7-1.4-3-3-3z\" opacity=\".07\"></path><path d=\"M35 1c1.1 0 2 .9 2 2v18c0 1.1-.9 2-2 2H3c-1.1 0-2-.9-2-2V3c0-1.1.9-2 2-2h32\" fill=\"#fff\"></path><path d=\"M23.9 8.3c.2-1 0-1.7-.6-2.3-.6-.7-1.7-1-3.1-1h-4.1c-.3 0-.5.2-.6.5L14 15.6c0 .2.1.4.3.4H17l.4-3.4 1.8-2.2 4.7-2.1z\" fill=\"#003087\"></path><path d=\"M23.9 8.3l-.2.2c-.5 2.8-2.2 3.8-4.6 3.8H18c-.3 0-.5.2-.6.5l-.6 3.9-.2 1c0 .2.1.4.3.4H19c.3 0 .5-.2.5-.4v-.1l.4-2.4v-.1c0-.2.3-.4.5-.4h.3c2.1 0 3.7-.8 4.1-3.2.2-1 .1-1.8-.4-2.4-.1-.5-.3-.7-.5-.8z\" fill=\"#3086C8\"></path><path d=\"M23.3 8.1c-.1-.1-.2-.1-.3-.1-.1 0-.2 0-.3-.1-.3-.1-.7-.1-1.1-.1h-3c-.1 0-.2 0-.2.1-.2.1-.3.2-.3.4l-.7 4.4v.1c0-.3.3-.5.6-.5h1.3c2.5 0 4.1-1 4.6-3.8v-.2c-.1-.1-.3-.2-.5-.2h-.1z\" fill=\"#012169\"></path></svg></div></div></div><div class=\"self-center\"><div class=\"copyright text-center md:text-right text-textSubdued\"><span></span></div></div></div></div></div><div><div class=\"Toastify\"></div></div></div></div><script src=\"/assets/frontStore/homepage/client/903d232babd9d1207624.js\"></script></body>,\n",
              " <div class=\"bg-background\" id=\"app\"><div class=\"wrapper\"><div class=\"loading-bar\" style=\"width:0%;display:none\"></div><div class=\"header flex justify-between\"><div class=\"logo\"><a class=\"logo-icon\" href=\"/\"><svg fill=\"none\" height=\"146\" viewbox=\"0 0 128 146\" width=\"128\" xmlns=\"http://www.w3.org/2000/svg\"><path d=\"M32.388 18.0772L1.15175 36.1544L1.05206 72.5081L0.985596 108.895L32.4213 127.039C49.7009 137.008 63.9567 145.182 64.1228 145.182C64.289 145.182 72.8956 140.264 83.2966 134.283C93.6644 128.268 107.82 120.127 114.732 116.139L127.26 108.895V101.119V93.3102L126.529 93.7089C126.097 93.9415 111.941 102.083 95.06 111.853C78.1459 121.622 64.156 129.531 63.9567 129.498C63.724 129.431 52.5587 123.051 39.1005 115.275L14.6099 101.152V72.5746V43.9967L25.6756 37.6165C31.7234 34.1274 42.8223 27.7472 50.2991 23.4273C57.7426 19.1073 63.9899 15.585 64.1228 15.585C64.2557 15.585 72.9288 20.5362 83.3963 26.5841L113.902 43.9967L118.713 41.1657L127.26 36.1544L113.902 28.5447C103.334 22.2974 64.3554 -0.033191 64.0231 3.90721e-05C63.8237 3.90721e-05 49.568 8.14142 32.388 18.0772Z\" fill=\"#1F1F1F\"></path><path d=\"M96.0237 54.1983C78.9434 64.0677 64.721 72.2423 64.4219 72.3088C64.0896 72.4084 55.7488 67.7562 44.8826 61.509L25.9082 50.543V58.4186L25.9414 66.2609L44.3841 76.8945C54.5193 82.743 63.1591 87.6611 63.5911 87.8272C64.2557 88.0598 68.9079 85.5011 95.5585 70.1156C112.705 60.1798 126.861 51.9719 127.027 51.839C127.16 51.7061 127.227 48.1505 127.194 43.9302L127.094 36.2541L96.0237 54.1983Z\" fill=\"#1F1F1F\"></path><path d=\"M123.771 66.7261C121.943 67.7562 107.854 75.8976 92.4349 84.8033C77.0161 93.7089 64.289 100.986 64.1228 100.986C63.9567 100.986 55.3501 96.0683 44.9491 90.0869L26.0744 79.1874L25.9747 86.8303C25.9082 92.6788 26.0079 94.5729 26.307 94.872C26.9383 95.4369 63.7241 116.604 64.1228 116.604C64.4551 116.604 126.496 80.8821 127.027 80.4169C127.16 80.284 127.227 76.7284 127.194 72.4749L127.094 64.7987L123.771 66.7261Z\" fill=\"#1F1F1F\"></path></svg></a></div><div class=\"main-menu self-center hidden md:block\"><ul class=\"nav flex space-x-275 justify-content-center\"><li class=\"nav-item\"><a class=\"nav-link hover:underline\" href=\"/men\">Men</a></li><li class=\"nav-item\"><a class=\"nav-link hover:underline\" href=\"/women\">Women</a></li></ul></div><div class=\"icon-wrapper flex justify-between space-x-1\"><div class=\"search-box\"><a class=\"search-icon\" href=\"#\"><svg fill=\"none\" stroke=\"currentColor\" style=\"width:2.2rem;height:2.2rem\" viewbox=\"0 0 24 24\" xmlns=\"http://www.w3.org/2000/svg\"><path d=\"M21 21l-6-6m2-5a7 7 0 11-14 0 7 7 0 0114 0z\" stroke-linecap=\"round\" stroke-linejoin=\"round\" stroke-width=\"2\"></path></svg></a></div><div class=\"mini-cart-wrapper self-center\"><a class=\"mini-cart-icon\" href=\"/cart\"><svg aria-hidden=\"true\" fill=\"none\" height=\"20\" stroke=\"currentColor\" stroke-width=\"2\" viewbox=\"0 0 24 24\" width=\"20\" xmlns=\"http://www.w3.org/2000/svg\"><path d=\"M16 11V7a4 4 0 00-8 0v4M5 9h14l1 12H4L5 9z\" stroke-linecap=\"round\" stroke-linejoin=\"round\"></path></svg></a></div><div class=\"self-center\"><a href=\"/account/login\"><svg aria-hidden=\"true\" fill=\"none\" height=\"25\" stroke=\"currentColor\" stroke-width=\"2\" viewbox=\"0 0 24 24\" width=\"25\" xmlns=\"http://www.w3.org/2000/svg\"><path d=\"M16 7a4 4 0 11-8 0 4 4 0 018 0zM12 14a7 7 0 00-7 7h14a7 7 0 00-7-7z\" stroke-linecap=\"round\" stroke-linejoin=\"round\"></path></svg></a></div><div class=\"main-menu-mobile self-center\"><a class=\"menu-icon\" href=\"#\"><svg class=\"h-6 w-6\" fill=\"none\" stroke=\"currentColor\" viewbox=\"0 0 24 24\" xmlns=\"http://www.w3.org/2000/svg\"><path d=\"M4 6h16M4 12h16M4 18h16\" stroke-linecap=\"round\" stroke-linejoin=\"round\" stroke-width=\"2\"></path></svg></a></div></div></div><main class=\"content\"><div class=\"main-banner-home flex items-center\"><div class=\"container grid grid-cols-1 md:grid-cols-2 gap-2\"><div></div><div class=\"text-center md:text-left px-2\"><h2 class=\"h1\">Discount 20% For All Orders Over $2000</h2><p>Use coupon code<span class=\"font-bold\">DISCOUNT20</span></p><p>Use coupon DISCOUNT20</p><p></p></div></div></div><div class=\"mt-15\"><div class=\"grid grid-cols-1 md:grid-cols-3 gap-2 page-width\"><div><div class=\"text-center\"><img alt=\"\" src=\"/assets/homepage/banner/men-shoes.jpeg\"/></div><h3 class=\"h4 uppercase mt-1 mb-1\">Men shoes collection</h3><div class=\"mb-1\"><p>Constructed from luxury nylons, leathers, and custom hardware, featuring sport details such as hidden breathing vents, waterproof + antimicrobial linings, and more.</p></div><a class=\"button primary\" href=\"/kids\"><span>Shop kids</span></a></div><div><div><img alt=\"\" src=\"/assets/homepage/banner/women-shoes.jpeg\"/></div><h3 class=\"h4 uppercase mt-1 mb-1\">Women shoes collection</h3><div class=\"mb-1\"><p>Constructed from luxury nylons, leathers, and custom hardware, featuring sport details such as hidden breathing vents, waterproof + antimicrobial linings, and more.</p></div><a class=\"button primary\" href=\"/women\"><span>Shop women</span></a></div><div><div><img alt=\"\" src=\"/assets/homepage/banner/kid-shoes.jpeg\"/></div><h3 class=\"h4 uppercase mt-1 mb-1\">Men shoes collection</h3><div class=\"mb-1\"><p>Constructed from luxury nylons, leathers, and custom hardware, featuring sport details such as hidden breathing vents, waterproof + antimicrobial linings, and more.</p></div><a class=\"button primary\" href=\"/men\"><span>Shop men</span></a></div></div></div><div class=\"pt-3\"><div class=\"page-width\"><h3 class=\"mt-3 mb-3 text-center uppercase h5 tracking-widest\">Featured Products</h3><div class=\"grid grid-cols-2 md:grid-cols-4 gap-2\"><div class=\"listing-tem\"><div class=\"product-thumbnail-listing\"><a href=\"/men/nike-air-zoom-pegasus-35-146\"><img alt=\"Nike air zoom pegasus 35\" src=\"/assets/catalog/1034/3600/plv7632-Green-list.png\"/></a></div><div class=\"product-name product-list-name mt-1 mb-025\"><a class=\"font-bold hover:underline h5\" href=\"/men/nike-air-zoom-pegasus-35-146\"><span>Nike air zoom pegasus 35</span></a></div><div class=\"product-price-listing\"><div><span class=\"sale-price font-semibold\">$452.10</span></div></div></div><div class=\"listing-tem\"><div class=\"product-thumbnail-listing\"><a href=\"/mix-and-match-chuck-taylor-all-star-118\"><img alt=\"Mix and match chuck taylor all star\" src=\"/assets/catalog/5059/3470/plv4547-Grey-list.png\"/></a></div><div class=\"product-name product-list-name mt-1 mb-025\"><a class=\"font-bold hover:underline h5\" href=\"/mix-and-match-chuck-taylor-all-star-118\"><span>Mix and match chuck taylor all star</span></a></div><div class=\"product-price-listing\"><div><span class=\"sale-price font-semibold\">$877.80</span></div></div></div><div class=\"listing-tem\"><div class=\"product-thumbnail-listing\"><a href=\"/geography-class-chuck-taylor-all-star-81\"><img alt=\"Geography class chuck taylor all star\" src=\"/assets/catalog/4056/5908/plv3360-Black-list.png\"/></a></div><div class=\"product-name product-list-name mt-1 mb-025\"><a class=\"font-bold hover:underline h5\" href=\"/geography-class-chuck-taylor-all-star-81\"><span>Geography class chuck taylor all star</span></a></div><div class=\"product-price-listing\"><div><span class=\"sale-price font-semibold\">$275.00</span></div></div></div><div class=\"listing-tem\"><div class=\"product-thumbnail-listing\"><a href=\"/kids/swift-run-x-shoes-12\"><img alt=\"Swift run x shoes\" src=\"/assets/catalog/3241/9300/plv1517-Pink-list.png\"/></a></div><div class=\"product-name product-list-name mt-1 mb-025\"><a class=\"font-bold hover:underline h5\" href=\"/kids/swift-run-x-shoes-12\"><span>Swift run x shoes</span></a></div><div class=\"product-price-listing\"><div><span class=\"sale-price font-semibold\">$370.70</span></div></div></div></div></div></div></main><div class=\"footer\"><div class=\"footer__default\"><div class=\"page-width grid grid-cols-1 md:grid-cols-2 gap-2 justify-between\"><div><div class=\"card-icons flex justify-center space-x-1 md:justify-start\"><div><svg aria-labelledby=\"pi-visa\" height=\"24\" viewbox=\"0 0 38 24\" width=\"38\" xmlns=\"http://www.w3.org/2000/svg\"><path d=\"M35 0H3C1.3 0 0 1.3 0 3v18c0 1.7 1.4 3 3 3h32c1.7 0 3-1.3 3-3V3c0-1.7-1.4-3-3-3z\" opacity=\"0.07\"></path><path d=\"M35 1c1.1 0 2 .9 2 2v18c0 1.1-.9 2-2 2H3c-1.1 0-2-.9-2-2V3c0-1.1.9-2 2-2h32\" fill=\"#fff\"></path><path d=\"M28.3 10.1H28c-.4 1-.7 1.5-1 3h1.9c-.3-1.5-.3-2.2-.6-3zm2.9 5.9h-1.7c-.1 0-.1 0-.2-.1l-.2-.9-.1-.2h-2.4c-.1 0-.2 0-.2.2l-.3.9c0 .1-.1.1-.1.1h-2.1l.2-.5L27 8.7c0-.5.3-.7.8-.7h1.5c.1 0 .2 0 .2.2l1.4 6.5c.1.4.2.7.2 1.1.1.1.1.1.1.2zm-13.4-.3l.4-1.8c.1 0 .2.1.2.1.7.3 1.4.5 2.1.4.2 0 .5-.1.7-.2.5-.2.5-.7.1-1.1-.2-.2-.5-.3-.8-.5-.4-.2-.8-.4-1.1-.7-1.2-1-.8-2.4-.1-3.1.6-.4.9-.8 1.7-.8 1.2 0 2.5 0 3.1.2h.1c-.1.6-.2 1.1-.4 1.7-.5-.2-1-.4-1.5-.4-.3 0-.6 0-.9.1-.2 0-.3.1-.4.2-.2.2-.2.5 0 .7l.5.4c.4.2.8.4 1.1.6.5.3 1 .8 1.1 1.4.2.9-.1 1.7-.9 2.3-.5.4-.7.6-1.4.6-1.4 0-2.5.1-3.4-.2-.1.2-.1.2-.2.1zm-3.5.3c.1-.7.1-.7.2-1 .5-2.2 1-4.5 1.4-6.7.1-.2.1-.3.3-.3H18c-.2 1.2-.4 2.1-.7 3.2-.3 1.5-.6 3-1 4.5 0 .2-.1.2-.3.2M5 8.2c0-.1.2-.2.3-.2h3.4c.5 0 .9.3 1 .8l.9 4.4c0 .1 0 .1.1.2 0-.1.1-.1.1-.1l2.1-5.1c-.1-.1 0-.2.1-.2h2.1c0 .1 0 .1-.1.2l-3.1 7.3c-.1.2-.1.3-.2.4-.1.1-.3 0-.5 0H9.7c-.1 0-.2 0-.2-.2L7.9 9.5c-.2-.2-.5-.5-.9-.6-.6-.3-1.7-.5-1.9-.5L5 8.2z\" fill=\"#142688\"></path></svg></div><div><svg aria-labelledby=\"pi-master\" height=\"24\" viewbox=\"0 0 38 24\" width=\"38\" xmlns=\"http://www.w3.org/2000/svg\"><path d=\"M35 0H3C1.3 0 0 1.3 0 3v18c0 1.7 1.4 3 3 3h32c1.7 0 3-1.3 3-3V3c0-1.7-1.4-3-3-3z\" opacity=\"0.07\"></path><path d=\"M35 1c1.1 0 2 .9 2 2v18c0 1.1-.9 2-2 2H3c-1.1 0-2-.9-2-2V3c0-1.1.9-2 2-2h32\" fill=\"#fff\"></path><circle cx=\"15\" cy=\"12\" fill=\"#EB001B\" r=\"7\"></circle><circle cx=\"23\" cy=\"12\" fill=\"#F79E1B\" r=\"7\"></circle><path d=\"M22 12c0-2.4-1.2-4.5-3-5.7-1.8 1.3-3 3.4-3 5.7s1.2 4.5 3 5.7c1.8-1.2 3-3.3 3-5.7z\" fill=\"#FF5F00\"></path></svg></div><div><svg aria-labelledby=\"pi-paypal\" height=\"24\" role=\"img\" viewbox=\"0 0 38 24\" width=\"38\" xmlns=\"http://www.w3.org/2000/svg\"><title id=\"pi-paypal\">PayPal</title><path d=\"M35 0H3C1.3 0 0 1.3 0 3v18c0 1.7 1.4 3 3 3h32c1.7 0 3-1.3 3-3V3c0-1.7-1.4-3-3-3z\" opacity=\".07\"></path><path d=\"M35 1c1.1 0 2 .9 2 2v18c0 1.1-.9 2-2 2H3c-1.1 0-2-.9-2-2V3c0-1.1.9-2 2-2h32\" fill=\"#fff\"></path><path d=\"M23.9 8.3c.2-1 0-1.7-.6-2.3-.6-.7-1.7-1-3.1-1h-4.1c-.3 0-.5.2-.6.5L14 15.6c0 .2.1.4.3.4H17l.4-3.4 1.8-2.2 4.7-2.1z\" fill=\"#003087\"></path><path d=\"M23.9 8.3l-.2.2c-.5 2.8-2.2 3.8-4.6 3.8H18c-.3 0-.5.2-.6.5l-.6 3.9-.2 1c0 .2.1.4.3.4H19c.3 0 .5-.2.5-.4v-.1l.4-2.4v-.1c0-.2.3-.4.5-.4h.3c2.1 0 3.7-.8 4.1-3.2.2-1 .1-1.8-.4-2.4-.1-.5-.3-.7-.5-.8z\" fill=\"#3086C8\"></path><path d=\"M23.3 8.1c-.1-.1-.2-.1-.3-.1-.1 0-.2 0-.3-.1-.3-.1-.7-.1-1.1-.1h-3c-.1 0-.2 0-.2.1-.2.1-.3.2-.3.4l-.7 4.4v.1c0-.3.3-.5.6-.5h1.3c2.5 0 4.1-1 4.6-3.8v-.2c-.1-.1-.3-.2-.5-.2h-.1z\" fill=\"#012169\"></path></svg></div></div></div><div class=\"self-center\"><div class=\"copyright text-center md:text-right text-textSubdued\"><span></span></div></div></div></div></div><div><div class=\"Toastify\"></div></div></div></div>,\n",
              " <div class=\"wrapper\"><div class=\"loading-bar\" style=\"width:0%;display:none\"></div><div class=\"header flex justify-between\"><div class=\"logo\"><a class=\"logo-icon\" href=\"/\"><svg fill=\"none\" height=\"146\" viewbox=\"0 0 128 146\" width=\"128\" xmlns=\"http://www.w3.org/2000/svg\"><path d=\"M32.388 18.0772L1.15175 36.1544L1.05206 72.5081L0.985596 108.895L32.4213 127.039C49.7009 137.008 63.9567 145.182 64.1228 145.182C64.289 145.182 72.8956 140.264 83.2966 134.283C93.6644 128.268 107.82 120.127 114.732 116.139L127.26 108.895V101.119V93.3102L126.529 93.7089C126.097 93.9415 111.941 102.083 95.06 111.853C78.1459 121.622 64.156 129.531 63.9567 129.498C63.724 129.431 52.5587 123.051 39.1005 115.275L14.6099 101.152V72.5746V43.9967L25.6756 37.6165C31.7234 34.1274 42.8223 27.7472 50.2991 23.4273C57.7426 19.1073 63.9899 15.585 64.1228 15.585C64.2557 15.585 72.9288 20.5362 83.3963 26.5841L113.902 43.9967L118.713 41.1657L127.26 36.1544L113.902 28.5447C103.334 22.2974 64.3554 -0.033191 64.0231 3.90721e-05C63.8237 3.90721e-05 49.568 8.14142 32.388 18.0772Z\" fill=\"#1F1F1F\"></path><path d=\"M96.0237 54.1983C78.9434 64.0677 64.721 72.2423 64.4219 72.3088C64.0896 72.4084 55.7488 67.7562 44.8826 61.509L25.9082 50.543V58.4186L25.9414 66.2609L44.3841 76.8945C54.5193 82.743 63.1591 87.6611 63.5911 87.8272C64.2557 88.0598 68.9079 85.5011 95.5585 70.1156C112.705 60.1798 126.861 51.9719 127.027 51.839C127.16 51.7061 127.227 48.1505 127.194 43.9302L127.094 36.2541L96.0237 54.1983Z\" fill=\"#1F1F1F\"></path><path d=\"M123.771 66.7261C121.943 67.7562 107.854 75.8976 92.4349 84.8033C77.0161 93.7089 64.289 100.986 64.1228 100.986C63.9567 100.986 55.3501 96.0683 44.9491 90.0869L26.0744 79.1874L25.9747 86.8303C25.9082 92.6788 26.0079 94.5729 26.307 94.872C26.9383 95.4369 63.7241 116.604 64.1228 116.604C64.4551 116.604 126.496 80.8821 127.027 80.4169C127.16 80.284 127.227 76.7284 127.194 72.4749L127.094 64.7987L123.771 66.7261Z\" fill=\"#1F1F1F\"></path></svg></a></div><div class=\"main-menu self-center hidden md:block\"><ul class=\"nav flex space-x-275 justify-content-center\"><li class=\"nav-item\"><a class=\"nav-link hover:underline\" href=\"/men\">Men</a></li><li class=\"nav-item\"><a class=\"nav-link hover:underline\" href=\"/women\">Women</a></li></ul></div><div class=\"icon-wrapper flex justify-between space-x-1\"><div class=\"search-box\"><a class=\"search-icon\" href=\"#\"><svg fill=\"none\" stroke=\"currentColor\" style=\"width:2.2rem;height:2.2rem\" viewbox=\"0 0 24 24\" xmlns=\"http://www.w3.org/2000/svg\"><path d=\"M21 21l-6-6m2-5a7 7 0 11-14 0 7 7 0 0114 0z\" stroke-linecap=\"round\" stroke-linejoin=\"round\" stroke-width=\"2\"></path></svg></a></div><div class=\"mini-cart-wrapper self-center\"><a class=\"mini-cart-icon\" href=\"/cart\"><svg aria-hidden=\"true\" fill=\"none\" height=\"20\" stroke=\"currentColor\" stroke-width=\"2\" viewbox=\"0 0 24 24\" width=\"20\" xmlns=\"http://www.w3.org/2000/svg\"><path d=\"M16 11V7a4 4 0 00-8 0v4M5 9h14l1 12H4L5 9z\" stroke-linecap=\"round\" stroke-linejoin=\"round\"></path></svg></a></div><div class=\"self-center\"><a href=\"/account/login\"><svg aria-hidden=\"true\" fill=\"none\" height=\"25\" stroke=\"currentColor\" stroke-width=\"2\" viewbox=\"0 0 24 24\" width=\"25\" xmlns=\"http://www.w3.org/2000/svg\"><path d=\"M16 7a4 4 0 11-8 0 4 4 0 018 0zM12 14a7 7 0 00-7 7h14a7 7 0 00-7-7z\" stroke-linecap=\"round\" stroke-linejoin=\"round\"></path></svg></a></div><div class=\"main-menu-mobile self-center\"><a class=\"menu-icon\" href=\"#\"><svg class=\"h-6 w-6\" fill=\"none\" stroke=\"currentColor\" viewbox=\"0 0 24 24\" xmlns=\"http://www.w3.org/2000/svg\"><path d=\"M4 6h16M4 12h16M4 18h16\" stroke-linecap=\"round\" stroke-linejoin=\"round\" stroke-width=\"2\"></path></svg></a></div></div></div><main class=\"content\"><div class=\"main-banner-home flex items-center\"><div class=\"container grid grid-cols-1 md:grid-cols-2 gap-2\"><div></div><div class=\"text-center md:text-left px-2\"><h2 class=\"h1\">Discount 20% For All Orders Over $2000</h2><p>Use coupon code<span class=\"font-bold\">DISCOUNT20</span></p><p>Use coupon DISCOUNT20</p><p></p></div></div></div><div class=\"mt-15\"><div class=\"grid grid-cols-1 md:grid-cols-3 gap-2 page-width\"><div><div class=\"text-center\"><img alt=\"\" src=\"/assets/homepage/banner/men-shoes.jpeg\"/></div><h3 class=\"h4 uppercase mt-1 mb-1\">Men shoes collection</h3><div class=\"mb-1\"><p>Constructed from luxury nylons, leathers, and custom hardware, featuring sport details such as hidden breathing vents, waterproof + antimicrobial linings, and more.</p></div><a class=\"button primary\" href=\"/kids\"><span>Shop kids</span></a></div><div><div><img alt=\"\" src=\"/assets/homepage/banner/women-shoes.jpeg\"/></div><h3 class=\"h4 uppercase mt-1 mb-1\">Women shoes collection</h3><div class=\"mb-1\"><p>Constructed from luxury nylons, leathers, and custom hardware, featuring sport details such as hidden breathing vents, waterproof + antimicrobial linings, and more.</p></div><a class=\"button primary\" href=\"/women\"><span>Shop women</span></a></div><div><div><img alt=\"\" src=\"/assets/homepage/banner/kid-shoes.jpeg\"/></div><h3 class=\"h4 uppercase mt-1 mb-1\">Men shoes collection</h3><div class=\"mb-1\"><p>Constructed from luxury nylons, leathers, and custom hardware, featuring sport details such as hidden breathing vents, waterproof + antimicrobial linings, and more.</p></div><a class=\"button primary\" href=\"/men\"><span>Shop men</span></a></div></div></div><div class=\"pt-3\"><div class=\"page-width\"><h3 class=\"mt-3 mb-3 text-center uppercase h5 tracking-widest\">Featured Products</h3><div class=\"grid grid-cols-2 md:grid-cols-4 gap-2\"><div class=\"listing-tem\"><div class=\"product-thumbnail-listing\"><a href=\"/men/nike-air-zoom-pegasus-35-146\"><img alt=\"Nike air zoom pegasus 35\" src=\"/assets/catalog/1034/3600/plv7632-Green-list.png\"/></a></div><div class=\"product-name product-list-name mt-1 mb-025\"><a class=\"font-bold hover:underline h5\" href=\"/men/nike-air-zoom-pegasus-35-146\"><span>Nike air zoom pegasus 35</span></a></div><div class=\"product-price-listing\"><div><span class=\"sale-price font-semibold\">$452.10</span></div></div></div><div class=\"listing-tem\"><div class=\"product-thumbnail-listing\"><a href=\"/mix-and-match-chuck-taylor-all-star-118\"><img alt=\"Mix and match chuck taylor all star\" src=\"/assets/catalog/5059/3470/plv4547-Grey-list.png\"/></a></div><div class=\"product-name product-list-name mt-1 mb-025\"><a class=\"font-bold hover:underline h5\" href=\"/mix-and-match-chuck-taylor-all-star-118\"><span>Mix and match chuck taylor all star</span></a></div><div class=\"product-price-listing\"><div><span class=\"sale-price font-semibold\">$877.80</span></div></div></div><div class=\"listing-tem\"><div class=\"product-thumbnail-listing\"><a href=\"/geography-class-chuck-taylor-all-star-81\"><img alt=\"Geography class chuck taylor all star\" src=\"/assets/catalog/4056/5908/plv3360-Black-list.png\"/></a></div><div class=\"product-name product-list-name mt-1 mb-025\"><a class=\"font-bold hover:underline h5\" href=\"/geography-class-chuck-taylor-all-star-81\"><span>Geography class chuck taylor all star</span></a></div><div class=\"product-price-listing\"><div><span class=\"sale-price font-semibold\">$275.00</span></div></div></div><div class=\"listing-tem\"><div class=\"product-thumbnail-listing\"><a href=\"/kids/swift-run-x-shoes-12\"><img alt=\"Swift run x shoes\" src=\"/assets/catalog/3241/9300/plv1517-Pink-list.png\"/></a></div><div class=\"product-name product-list-name mt-1 mb-025\"><a class=\"font-bold hover:underline h5\" href=\"/kids/swift-run-x-shoes-12\"><span>Swift run x shoes</span></a></div><div class=\"product-price-listing\"><div><span class=\"sale-price font-semibold\">$370.70</span></div></div></div></div></div></div></main><div class=\"footer\"><div class=\"footer__default\"><div class=\"page-width grid grid-cols-1 md:grid-cols-2 gap-2 justify-between\"><div><div class=\"card-icons flex justify-center space-x-1 md:justify-start\"><div><svg aria-labelledby=\"pi-visa\" height=\"24\" viewbox=\"0 0 38 24\" width=\"38\" xmlns=\"http://www.w3.org/2000/svg\"><path d=\"M35 0H3C1.3 0 0 1.3 0 3v18c0 1.7 1.4 3 3 3h32c1.7 0 3-1.3 3-3V3c0-1.7-1.4-3-3-3z\" opacity=\"0.07\"></path><path d=\"M35 1c1.1 0 2 .9 2 2v18c0 1.1-.9 2-2 2H3c-1.1 0-2-.9-2-2V3c0-1.1.9-2 2-2h32\" fill=\"#fff\"></path><path d=\"M28.3 10.1H28c-.4 1-.7 1.5-1 3h1.9c-.3-1.5-.3-2.2-.6-3zm2.9 5.9h-1.7c-.1 0-.1 0-.2-.1l-.2-.9-.1-.2h-2.4c-.1 0-.2 0-.2.2l-.3.9c0 .1-.1.1-.1.1h-2.1l.2-.5L27 8.7c0-.5.3-.7.8-.7h1.5c.1 0 .2 0 .2.2l1.4 6.5c.1.4.2.7.2 1.1.1.1.1.1.1.2zm-13.4-.3l.4-1.8c.1 0 .2.1.2.1.7.3 1.4.5 2.1.4.2 0 .5-.1.7-.2.5-.2.5-.7.1-1.1-.2-.2-.5-.3-.8-.5-.4-.2-.8-.4-1.1-.7-1.2-1-.8-2.4-.1-3.1.6-.4.9-.8 1.7-.8 1.2 0 2.5 0 3.1.2h.1c-.1.6-.2 1.1-.4 1.7-.5-.2-1-.4-1.5-.4-.3 0-.6 0-.9.1-.2 0-.3.1-.4.2-.2.2-.2.5 0 .7l.5.4c.4.2.8.4 1.1.6.5.3 1 .8 1.1 1.4.2.9-.1 1.7-.9 2.3-.5.4-.7.6-1.4.6-1.4 0-2.5.1-3.4-.2-.1.2-.1.2-.2.1zm-3.5.3c.1-.7.1-.7.2-1 .5-2.2 1-4.5 1.4-6.7.1-.2.1-.3.3-.3H18c-.2 1.2-.4 2.1-.7 3.2-.3 1.5-.6 3-1 4.5 0 .2-.1.2-.3.2M5 8.2c0-.1.2-.2.3-.2h3.4c.5 0 .9.3 1 .8l.9 4.4c0 .1 0 .1.1.2 0-.1.1-.1.1-.1l2.1-5.1c-.1-.1 0-.2.1-.2h2.1c0 .1 0 .1-.1.2l-3.1 7.3c-.1.2-.1.3-.2.4-.1.1-.3 0-.5 0H9.7c-.1 0-.2 0-.2-.2L7.9 9.5c-.2-.2-.5-.5-.9-.6-.6-.3-1.7-.5-1.9-.5L5 8.2z\" fill=\"#142688\"></path></svg></div><div><svg aria-labelledby=\"pi-master\" height=\"24\" viewbox=\"0 0 38 24\" width=\"38\" xmlns=\"http://www.w3.org/2000/svg\"><path d=\"M35 0H3C1.3 0 0 1.3 0 3v18c0 1.7 1.4 3 3 3h32c1.7 0 3-1.3 3-3V3c0-1.7-1.4-3-3-3z\" opacity=\"0.07\"></path><path d=\"M35 1c1.1 0 2 .9 2 2v18c0 1.1-.9 2-2 2H3c-1.1 0-2-.9-2-2V3c0-1.1.9-2 2-2h32\" fill=\"#fff\"></path><circle cx=\"15\" cy=\"12\" fill=\"#EB001B\" r=\"7\"></circle><circle cx=\"23\" cy=\"12\" fill=\"#F79E1B\" r=\"7\"></circle><path d=\"M22 12c0-2.4-1.2-4.5-3-5.7-1.8 1.3-3 3.4-3 5.7s1.2 4.5 3 5.7c1.8-1.2 3-3.3 3-5.7z\" fill=\"#FF5F00\"></path></svg></div><div><svg aria-labelledby=\"pi-paypal\" height=\"24\" role=\"img\" viewbox=\"0 0 38 24\" width=\"38\" xmlns=\"http://www.w3.org/2000/svg\"><title id=\"pi-paypal\">PayPal</title><path d=\"M35 0H3C1.3 0 0 1.3 0 3v18c0 1.7 1.4 3 3 3h32c1.7 0 3-1.3 3-3V3c0-1.7-1.4-3-3-3z\" opacity=\".07\"></path><path d=\"M35 1c1.1 0 2 .9 2 2v18c0 1.1-.9 2-2 2H3c-1.1 0-2-.9-2-2V3c0-1.1.9-2 2-2h32\" fill=\"#fff\"></path><path d=\"M23.9 8.3c.2-1 0-1.7-.6-2.3-.6-.7-1.7-1-3.1-1h-4.1c-.3 0-.5.2-.6.5L14 15.6c0 .2.1.4.3.4H17l.4-3.4 1.8-2.2 4.7-2.1z\" fill=\"#003087\"></path><path d=\"M23.9 8.3l-.2.2c-.5 2.8-2.2 3.8-4.6 3.8H18c-.3 0-.5.2-.6.5l-.6 3.9-.2 1c0 .2.1.4.3.4H19c.3 0 .5-.2.5-.4v-.1l.4-2.4v-.1c0-.2.3-.4.5-.4h.3c2.1 0 3.7-.8 4.1-3.2.2-1 .1-1.8-.4-2.4-.1-.5-.3-.7-.5-.8z\" fill=\"#3086C8\"></path><path d=\"M23.3 8.1c-.1-.1-.2-.1-.3-.1-.1 0-.2 0-.3-.1-.3-.1-.7-.1-1.1-.1h-3c-.1 0-.2 0-.2.1-.2.1-.3.2-.3.4l-.7 4.4v.1c0-.3.3-.5.6-.5h1.3c2.5 0 4.1-1 4.6-3.8v-.2c-.1-.1-.3-.2-.5-.2h-.1z\" fill=\"#012169\"></path></svg></div></div></div><div class=\"self-center\"><div class=\"copyright text-center md:text-right text-textSubdued\"><span></span></div></div></div></div></div><div><div class=\"Toastify\"></div></div></div>,\n",
              " <div class=\"loading-bar\" style=\"width:0%;display:none\"></div>,\n",
              " <div class=\"header flex justify-between\"><div class=\"logo\"><a class=\"logo-icon\" href=\"/\"><svg fill=\"none\" height=\"146\" viewbox=\"0 0 128 146\" width=\"128\" xmlns=\"http://www.w3.org/2000/svg\"><path d=\"M32.388 18.0772L1.15175 36.1544L1.05206 72.5081L0.985596 108.895L32.4213 127.039C49.7009 137.008 63.9567 145.182 64.1228 145.182C64.289 145.182 72.8956 140.264 83.2966 134.283C93.6644 128.268 107.82 120.127 114.732 116.139L127.26 108.895V101.119V93.3102L126.529 93.7089C126.097 93.9415 111.941 102.083 95.06 111.853C78.1459 121.622 64.156 129.531 63.9567 129.498C63.724 129.431 52.5587 123.051 39.1005 115.275L14.6099 101.152V72.5746V43.9967L25.6756 37.6165C31.7234 34.1274 42.8223 27.7472 50.2991 23.4273C57.7426 19.1073 63.9899 15.585 64.1228 15.585C64.2557 15.585 72.9288 20.5362 83.3963 26.5841L113.902 43.9967L118.713 41.1657L127.26 36.1544L113.902 28.5447C103.334 22.2974 64.3554 -0.033191 64.0231 3.90721e-05C63.8237 3.90721e-05 49.568 8.14142 32.388 18.0772Z\" fill=\"#1F1F1F\"></path><path d=\"M96.0237 54.1983C78.9434 64.0677 64.721 72.2423 64.4219 72.3088C64.0896 72.4084 55.7488 67.7562 44.8826 61.509L25.9082 50.543V58.4186L25.9414 66.2609L44.3841 76.8945C54.5193 82.743 63.1591 87.6611 63.5911 87.8272C64.2557 88.0598 68.9079 85.5011 95.5585 70.1156C112.705 60.1798 126.861 51.9719 127.027 51.839C127.16 51.7061 127.227 48.1505 127.194 43.9302L127.094 36.2541L96.0237 54.1983Z\" fill=\"#1F1F1F\"></path><path d=\"M123.771 66.7261C121.943 67.7562 107.854 75.8976 92.4349 84.8033C77.0161 93.7089 64.289 100.986 64.1228 100.986C63.9567 100.986 55.3501 96.0683 44.9491 90.0869L26.0744 79.1874L25.9747 86.8303C25.9082 92.6788 26.0079 94.5729 26.307 94.872C26.9383 95.4369 63.7241 116.604 64.1228 116.604C64.4551 116.604 126.496 80.8821 127.027 80.4169C127.16 80.284 127.227 76.7284 127.194 72.4749L127.094 64.7987L123.771 66.7261Z\" fill=\"#1F1F1F\"></path></svg></a></div><div class=\"main-menu self-center hidden md:block\"><ul class=\"nav flex space-x-275 justify-content-center\"><li class=\"nav-item\"><a class=\"nav-link hover:underline\" href=\"/men\">Men</a></li><li class=\"nav-item\"><a class=\"nav-link hover:underline\" href=\"/women\">Women</a></li></ul></div><div class=\"icon-wrapper flex justify-between space-x-1\"><div class=\"search-box\"><a class=\"search-icon\" href=\"#\"><svg fill=\"none\" stroke=\"currentColor\" style=\"width:2.2rem;height:2.2rem\" viewbox=\"0 0 24 24\" xmlns=\"http://www.w3.org/2000/svg\"><path d=\"M21 21l-6-6m2-5a7 7 0 11-14 0 7 7 0 0114 0z\" stroke-linecap=\"round\" stroke-linejoin=\"round\" stroke-width=\"2\"></path></svg></a></div><div class=\"mini-cart-wrapper self-center\"><a class=\"mini-cart-icon\" href=\"/cart\"><svg aria-hidden=\"true\" fill=\"none\" height=\"20\" stroke=\"currentColor\" stroke-width=\"2\" viewbox=\"0 0 24 24\" width=\"20\" xmlns=\"http://www.w3.org/2000/svg\"><path d=\"M16 11V7a4 4 0 00-8 0v4M5 9h14l1 12H4L5 9z\" stroke-linecap=\"round\" stroke-linejoin=\"round\"></path></svg></a></div><div class=\"self-center\"><a href=\"/account/login\"><svg aria-hidden=\"true\" fill=\"none\" height=\"25\" stroke=\"currentColor\" stroke-width=\"2\" viewbox=\"0 0 24 24\" width=\"25\" xmlns=\"http://www.w3.org/2000/svg\"><path d=\"M16 7a4 4 0 11-8 0 4 4 0 018 0zM12 14a7 7 0 00-7 7h14a7 7 0 00-7-7z\" stroke-linecap=\"round\" stroke-linejoin=\"round\"></path></svg></a></div><div class=\"main-menu-mobile self-center\"><a class=\"menu-icon\" href=\"#\"><svg class=\"h-6 w-6\" fill=\"none\" stroke=\"currentColor\" viewbox=\"0 0 24 24\" xmlns=\"http://www.w3.org/2000/svg\"><path d=\"M4 6h16M4 12h16M4 18h16\" stroke-linecap=\"round\" stroke-linejoin=\"round\" stroke-width=\"2\"></path></svg></a></div></div></div>,\n",
              " <div class=\"logo\"><a class=\"logo-icon\" href=\"/\"><svg fill=\"none\" height=\"146\" viewbox=\"0 0 128 146\" width=\"128\" xmlns=\"http://www.w3.org/2000/svg\"><path d=\"M32.388 18.0772L1.15175 36.1544L1.05206 72.5081L0.985596 108.895L32.4213 127.039C49.7009 137.008 63.9567 145.182 64.1228 145.182C64.289 145.182 72.8956 140.264 83.2966 134.283C93.6644 128.268 107.82 120.127 114.732 116.139L127.26 108.895V101.119V93.3102L126.529 93.7089C126.097 93.9415 111.941 102.083 95.06 111.853C78.1459 121.622 64.156 129.531 63.9567 129.498C63.724 129.431 52.5587 123.051 39.1005 115.275L14.6099 101.152V72.5746V43.9967L25.6756 37.6165C31.7234 34.1274 42.8223 27.7472 50.2991 23.4273C57.7426 19.1073 63.9899 15.585 64.1228 15.585C64.2557 15.585 72.9288 20.5362 83.3963 26.5841L113.902 43.9967L118.713 41.1657L127.26 36.1544L113.902 28.5447C103.334 22.2974 64.3554 -0.033191 64.0231 3.90721e-05C63.8237 3.90721e-05 49.568 8.14142 32.388 18.0772Z\" fill=\"#1F1F1F\"></path><path d=\"M96.0237 54.1983C78.9434 64.0677 64.721 72.2423 64.4219 72.3088C64.0896 72.4084 55.7488 67.7562 44.8826 61.509L25.9082 50.543V58.4186L25.9414 66.2609L44.3841 76.8945C54.5193 82.743 63.1591 87.6611 63.5911 87.8272C64.2557 88.0598 68.9079 85.5011 95.5585 70.1156C112.705 60.1798 126.861 51.9719 127.027 51.839C127.16 51.7061 127.227 48.1505 127.194 43.9302L127.094 36.2541L96.0237 54.1983Z\" fill=\"#1F1F1F\"></path><path d=\"M123.771 66.7261C121.943 67.7562 107.854 75.8976 92.4349 84.8033C77.0161 93.7089 64.289 100.986 64.1228 100.986C63.9567 100.986 55.3501 96.0683 44.9491 90.0869L26.0744 79.1874L25.9747 86.8303C25.9082 92.6788 26.0079 94.5729 26.307 94.872C26.9383 95.4369 63.7241 116.604 64.1228 116.604C64.4551 116.604 126.496 80.8821 127.027 80.4169C127.16 80.284 127.227 76.7284 127.194 72.4749L127.094 64.7987L123.771 66.7261Z\" fill=\"#1F1F1F\"></path></svg></a></div>,\n",
              " <a class=\"logo-icon\" href=\"/\"><svg fill=\"none\" height=\"146\" viewbox=\"0 0 128 146\" width=\"128\" xmlns=\"http://www.w3.org/2000/svg\"><path d=\"M32.388 18.0772L1.15175 36.1544L1.05206 72.5081L0.985596 108.895L32.4213 127.039C49.7009 137.008 63.9567 145.182 64.1228 145.182C64.289 145.182 72.8956 140.264 83.2966 134.283C93.6644 128.268 107.82 120.127 114.732 116.139L127.26 108.895V101.119V93.3102L126.529 93.7089C126.097 93.9415 111.941 102.083 95.06 111.853C78.1459 121.622 64.156 129.531 63.9567 129.498C63.724 129.431 52.5587 123.051 39.1005 115.275L14.6099 101.152V72.5746V43.9967L25.6756 37.6165C31.7234 34.1274 42.8223 27.7472 50.2991 23.4273C57.7426 19.1073 63.9899 15.585 64.1228 15.585C64.2557 15.585 72.9288 20.5362 83.3963 26.5841L113.902 43.9967L118.713 41.1657L127.26 36.1544L113.902 28.5447C103.334 22.2974 64.3554 -0.033191 64.0231 3.90721e-05C63.8237 3.90721e-05 49.568 8.14142 32.388 18.0772Z\" fill=\"#1F1F1F\"></path><path d=\"M96.0237 54.1983C78.9434 64.0677 64.721 72.2423 64.4219 72.3088C64.0896 72.4084 55.7488 67.7562 44.8826 61.509L25.9082 50.543V58.4186L25.9414 66.2609L44.3841 76.8945C54.5193 82.743 63.1591 87.6611 63.5911 87.8272C64.2557 88.0598 68.9079 85.5011 95.5585 70.1156C112.705 60.1798 126.861 51.9719 127.027 51.839C127.16 51.7061 127.227 48.1505 127.194 43.9302L127.094 36.2541L96.0237 54.1983Z\" fill=\"#1F1F1F\"></path><path d=\"M123.771 66.7261C121.943 67.7562 107.854 75.8976 92.4349 84.8033C77.0161 93.7089 64.289 100.986 64.1228 100.986C63.9567 100.986 55.3501 96.0683 44.9491 90.0869L26.0744 79.1874L25.9747 86.8303C25.9082 92.6788 26.0079 94.5729 26.307 94.872C26.9383 95.4369 63.7241 116.604 64.1228 116.604C64.4551 116.604 126.496 80.8821 127.027 80.4169C127.16 80.284 127.227 76.7284 127.194 72.4749L127.094 64.7987L123.771 66.7261Z\" fill=\"#1F1F1F\"></path></svg></a>,\n",
              " <svg fill=\"none\" height=\"146\" viewbox=\"0 0 128 146\" width=\"128\" xmlns=\"http://www.w3.org/2000/svg\"><path d=\"M32.388 18.0772L1.15175 36.1544L1.05206 72.5081L0.985596 108.895L32.4213 127.039C49.7009 137.008 63.9567 145.182 64.1228 145.182C64.289 145.182 72.8956 140.264 83.2966 134.283C93.6644 128.268 107.82 120.127 114.732 116.139L127.26 108.895V101.119V93.3102L126.529 93.7089C126.097 93.9415 111.941 102.083 95.06 111.853C78.1459 121.622 64.156 129.531 63.9567 129.498C63.724 129.431 52.5587 123.051 39.1005 115.275L14.6099 101.152V72.5746V43.9967L25.6756 37.6165C31.7234 34.1274 42.8223 27.7472 50.2991 23.4273C57.7426 19.1073 63.9899 15.585 64.1228 15.585C64.2557 15.585 72.9288 20.5362 83.3963 26.5841L113.902 43.9967L118.713 41.1657L127.26 36.1544L113.902 28.5447C103.334 22.2974 64.3554 -0.033191 64.0231 3.90721e-05C63.8237 3.90721e-05 49.568 8.14142 32.388 18.0772Z\" fill=\"#1F1F1F\"></path><path d=\"M96.0237 54.1983C78.9434 64.0677 64.721 72.2423 64.4219 72.3088C64.0896 72.4084 55.7488 67.7562 44.8826 61.509L25.9082 50.543V58.4186L25.9414 66.2609L44.3841 76.8945C54.5193 82.743 63.1591 87.6611 63.5911 87.8272C64.2557 88.0598 68.9079 85.5011 95.5585 70.1156C112.705 60.1798 126.861 51.9719 127.027 51.839C127.16 51.7061 127.227 48.1505 127.194 43.9302L127.094 36.2541L96.0237 54.1983Z\" fill=\"#1F1F1F\"></path><path d=\"M123.771 66.7261C121.943 67.7562 107.854 75.8976 92.4349 84.8033C77.0161 93.7089 64.289 100.986 64.1228 100.986C63.9567 100.986 55.3501 96.0683 44.9491 90.0869L26.0744 79.1874L25.9747 86.8303C25.9082 92.6788 26.0079 94.5729 26.307 94.872C26.9383 95.4369 63.7241 116.604 64.1228 116.604C64.4551 116.604 126.496 80.8821 127.027 80.4169C127.16 80.284 127.227 76.7284 127.194 72.4749L127.094 64.7987L123.771 66.7261Z\" fill=\"#1F1F1F\"></path></svg>,\n",
              " <path d=\"M32.388 18.0772L1.15175 36.1544L1.05206 72.5081L0.985596 108.895L32.4213 127.039C49.7009 137.008 63.9567 145.182 64.1228 145.182C64.289 145.182 72.8956 140.264 83.2966 134.283C93.6644 128.268 107.82 120.127 114.732 116.139L127.26 108.895V101.119V93.3102L126.529 93.7089C126.097 93.9415 111.941 102.083 95.06 111.853C78.1459 121.622 64.156 129.531 63.9567 129.498C63.724 129.431 52.5587 123.051 39.1005 115.275L14.6099 101.152V72.5746V43.9967L25.6756 37.6165C31.7234 34.1274 42.8223 27.7472 50.2991 23.4273C57.7426 19.1073 63.9899 15.585 64.1228 15.585C64.2557 15.585 72.9288 20.5362 83.3963 26.5841L113.902 43.9967L118.713 41.1657L127.26 36.1544L113.902 28.5447C103.334 22.2974 64.3554 -0.033191 64.0231 3.90721e-05C63.8237 3.90721e-05 49.568 8.14142 32.388 18.0772Z\" fill=\"#1F1F1F\"></path>,\n",
              " <path d=\"M96.0237 54.1983C78.9434 64.0677 64.721 72.2423 64.4219 72.3088C64.0896 72.4084 55.7488 67.7562 44.8826 61.509L25.9082 50.543V58.4186L25.9414 66.2609L44.3841 76.8945C54.5193 82.743 63.1591 87.6611 63.5911 87.8272C64.2557 88.0598 68.9079 85.5011 95.5585 70.1156C112.705 60.1798 126.861 51.9719 127.027 51.839C127.16 51.7061 127.227 48.1505 127.194 43.9302L127.094 36.2541L96.0237 54.1983Z\" fill=\"#1F1F1F\"></path>,\n",
              " <path d=\"M123.771 66.7261C121.943 67.7562 107.854 75.8976 92.4349 84.8033C77.0161 93.7089 64.289 100.986 64.1228 100.986C63.9567 100.986 55.3501 96.0683 44.9491 90.0869L26.0744 79.1874L25.9747 86.8303C25.9082 92.6788 26.0079 94.5729 26.307 94.872C26.9383 95.4369 63.7241 116.604 64.1228 116.604C64.4551 116.604 126.496 80.8821 127.027 80.4169C127.16 80.284 127.227 76.7284 127.194 72.4749L127.094 64.7987L123.771 66.7261Z\" fill=\"#1F1F1F\"></path>,\n",
              " <div class=\"main-menu self-center hidden md:block\"><ul class=\"nav flex space-x-275 justify-content-center\"><li class=\"nav-item\"><a class=\"nav-link hover:underline\" href=\"/men\">Men</a></li><li class=\"nav-item\"><a class=\"nav-link hover:underline\" href=\"/women\">Women</a></li></ul></div>,\n",
              " <ul class=\"nav flex space-x-275 justify-content-center\"><li class=\"nav-item\"><a class=\"nav-link hover:underline\" href=\"/men\">Men</a></li><li class=\"nav-item\"><a class=\"nav-link hover:underline\" href=\"/women\">Women</a></li></ul>,\n",
              " <li class=\"nav-item\"><a class=\"nav-link hover:underline\" href=\"/men\">Men</a></li>,\n",
              " <a class=\"nav-link hover:underline\" href=\"/men\">Men</a>,\n",
              " <li class=\"nav-item\"><a class=\"nav-link hover:underline\" href=\"/women\">Women</a></li>,\n",
              " <a class=\"nav-link hover:underline\" href=\"/women\">Women</a>,\n",
              " <div class=\"icon-wrapper flex justify-between space-x-1\"><div class=\"search-box\"><a class=\"search-icon\" href=\"#\"><svg fill=\"none\" stroke=\"currentColor\" style=\"width:2.2rem;height:2.2rem\" viewbox=\"0 0 24 24\" xmlns=\"http://www.w3.org/2000/svg\"><path d=\"M21 21l-6-6m2-5a7 7 0 11-14 0 7 7 0 0114 0z\" stroke-linecap=\"round\" stroke-linejoin=\"round\" stroke-width=\"2\"></path></svg></a></div><div class=\"mini-cart-wrapper self-center\"><a class=\"mini-cart-icon\" href=\"/cart\"><svg aria-hidden=\"true\" fill=\"none\" height=\"20\" stroke=\"currentColor\" stroke-width=\"2\" viewbox=\"0 0 24 24\" width=\"20\" xmlns=\"http://www.w3.org/2000/svg\"><path d=\"M16 11V7a4 4 0 00-8 0v4M5 9h14l1 12H4L5 9z\" stroke-linecap=\"round\" stroke-linejoin=\"round\"></path></svg></a></div><div class=\"self-center\"><a href=\"/account/login\"><svg aria-hidden=\"true\" fill=\"none\" height=\"25\" stroke=\"currentColor\" stroke-width=\"2\" viewbox=\"0 0 24 24\" width=\"25\" xmlns=\"http://www.w3.org/2000/svg\"><path d=\"M16 7a4 4 0 11-8 0 4 4 0 018 0zM12 14a7 7 0 00-7 7h14a7 7 0 00-7-7z\" stroke-linecap=\"round\" stroke-linejoin=\"round\"></path></svg></a></div><div class=\"main-menu-mobile self-center\"><a class=\"menu-icon\" href=\"#\"><svg class=\"h-6 w-6\" fill=\"none\" stroke=\"currentColor\" viewbox=\"0 0 24 24\" xmlns=\"http://www.w3.org/2000/svg\"><path d=\"M4 6h16M4 12h16M4 18h16\" stroke-linecap=\"round\" stroke-linejoin=\"round\" stroke-width=\"2\"></path></svg></a></div></div>,\n",
              " <div class=\"search-box\"><a class=\"search-icon\" href=\"#\"><svg fill=\"none\" stroke=\"currentColor\" style=\"width:2.2rem;height:2.2rem\" viewbox=\"0 0 24 24\" xmlns=\"http://www.w3.org/2000/svg\"><path d=\"M21 21l-6-6m2-5a7 7 0 11-14 0 7 7 0 0114 0z\" stroke-linecap=\"round\" stroke-linejoin=\"round\" stroke-width=\"2\"></path></svg></a></div>,\n",
              " <a class=\"search-icon\" href=\"#\"><svg fill=\"none\" stroke=\"currentColor\" style=\"width:2.2rem;height:2.2rem\" viewbox=\"0 0 24 24\" xmlns=\"http://www.w3.org/2000/svg\"><path d=\"M21 21l-6-6m2-5a7 7 0 11-14 0 7 7 0 0114 0z\" stroke-linecap=\"round\" stroke-linejoin=\"round\" stroke-width=\"2\"></path></svg></a>,\n",
              " <svg fill=\"none\" stroke=\"currentColor\" style=\"width:2.2rem;height:2.2rem\" viewbox=\"0 0 24 24\" xmlns=\"http://www.w3.org/2000/svg\"><path d=\"M21 21l-6-6m2-5a7 7 0 11-14 0 7 7 0 0114 0z\" stroke-linecap=\"round\" stroke-linejoin=\"round\" stroke-width=\"2\"></path></svg>,\n",
              " <path d=\"M21 21l-6-6m2-5a7 7 0 11-14 0 7 7 0 0114 0z\" stroke-linecap=\"round\" stroke-linejoin=\"round\" stroke-width=\"2\"></path>,\n",
              " <div class=\"mini-cart-wrapper self-center\"><a class=\"mini-cart-icon\" href=\"/cart\"><svg aria-hidden=\"true\" fill=\"none\" height=\"20\" stroke=\"currentColor\" stroke-width=\"2\" viewbox=\"0 0 24 24\" width=\"20\" xmlns=\"http://www.w3.org/2000/svg\"><path d=\"M16 11V7a4 4 0 00-8 0v4M5 9h14l1 12H4L5 9z\" stroke-linecap=\"round\" stroke-linejoin=\"round\"></path></svg></a></div>,\n",
              " <a class=\"mini-cart-icon\" href=\"/cart\"><svg aria-hidden=\"true\" fill=\"none\" height=\"20\" stroke=\"currentColor\" stroke-width=\"2\" viewbox=\"0 0 24 24\" width=\"20\" xmlns=\"http://www.w3.org/2000/svg\"><path d=\"M16 11V7a4 4 0 00-8 0v4M5 9h14l1 12H4L5 9z\" stroke-linecap=\"round\" stroke-linejoin=\"round\"></path></svg></a>,\n",
              " <svg aria-hidden=\"true\" fill=\"none\" height=\"20\" stroke=\"currentColor\" stroke-width=\"2\" viewbox=\"0 0 24 24\" width=\"20\" xmlns=\"http://www.w3.org/2000/svg\"><path d=\"M16 11V7a4 4 0 00-8 0v4M5 9h14l1 12H4L5 9z\" stroke-linecap=\"round\" stroke-linejoin=\"round\"></path></svg>,\n",
              " <path d=\"M16 11V7a4 4 0 00-8 0v4M5 9h14l1 12H4L5 9z\" stroke-linecap=\"round\" stroke-linejoin=\"round\"></path>,\n",
              " <div class=\"self-center\"><a href=\"/account/login\"><svg aria-hidden=\"true\" fill=\"none\" height=\"25\" stroke=\"currentColor\" stroke-width=\"2\" viewbox=\"0 0 24 24\" width=\"25\" xmlns=\"http://www.w3.org/2000/svg\"><path d=\"M16 7a4 4 0 11-8 0 4 4 0 018 0zM12 14a7 7 0 00-7 7h14a7 7 0 00-7-7z\" stroke-linecap=\"round\" stroke-linejoin=\"round\"></path></svg></a></div>,\n",
              " <a href=\"/account/login\"><svg aria-hidden=\"true\" fill=\"none\" height=\"25\" stroke=\"currentColor\" stroke-width=\"2\" viewbox=\"0 0 24 24\" width=\"25\" xmlns=\"http://www.w3.org/2000/svg\"><path d=\"M16 7a4 4 0 11-8 0 4 4 0 018 0zM12 14a7 7 0 00-7 7h14a7 7 0 00-7-7z\" stroke-linecap=\"round\" stroke-linejoin=\"round\"></path></svg></a>,\n",
              " <svg aria-hidden=\"true\" fill=\"none\" height=\"25\" stroke=\"currentColor\" stroke-width=\"2\" viewbox=\"0 0 24 24\" width=\"25\" xmlns=\"http://www.w3.org/2000/svg\"><path d=\"M16 7a4 4 0 11-8 0 4 4 0 018 0zM12 14a7 7 0 00-7 7h14a7 7 0 00-7-7z\" stroke-linecap=\"round\" stroke-linejoin=\"round\"></path></svg>,\n",
              " <path d=\"M16 7a4 4 0 11-8 0 4 4 0 018 0zM12 14a7 7 0 00-7 7h14a7 7 0 00-7-7z\" stroke-linecap=\"round\" stroke-linejoin=\"round\"></path>,\n",
              " <div class=\"main-menu-mobile self-center\"><a class=\"menu-icon\" href=\"#\"><svg class=\"h-6 w-6\" fill=\"none\" stroke=\"currentColor\" viewbox=\"0 0 24 24\" xmlns=\"http://www.w3.org/2000/svg\"><path d=\"M4 6h16M4 12h16M4 18h16\" stroke-linecap=\"round\" stroke-linejoin=\"round\" stroke-width=\"2\"></path></svg></a></div>,\n",
              " <a class=\"menu-icon\" href=\"#\"><svg class=\"h-6 w-6\" fill=\"none\" stroke=\"currentColor\" viewbox=\"0 0 24 24\" xmlns=\"http://www.w3.org/2000/svg\"><path d=\"M4 6h16M4 12h16M4 18h16\" stroke-linecap=\"round\" stroke-linejoin=\"round\" stroke-width=\"2\"></path></svg></a>,\n",
              " <svg class=\"h-6 w-6\" fill=\"none\" stroke=\"currentColor\" viewbox=\"0 0 24 24\" xmlns=\"http://www.w3.org/2000/svg\"><path d=\"M4 6h16M4 12h16M4 18h16\" stroke-linecap=\"round\" stroke-linejoin=\"round\" stroke-width=\"2\"></path></svg>,\n",
              " <path d=\"M4 6h16M4 12h16M4 18h16\" stroke-linecap=\"round\" stroke-linejoin=\"round\" stroke-width=\"2\"></path>,\n",
              " <main class=\"content\"><div class=\"main-banner-home flex items-center\"><div class=\"container grid grid-cols-1 md:grid-cols-2 gap-2\"><div></div><div class=\"text-center md:text-left px-2\"><h2 class=\"h1\">Discount 20% For All Orders Over $2000</h2><p>Use coupon code<span class=\"font-bold\">DISCOUNT20</span></p><p>Use coupon DISCOUNT20</p><p></p></div></div></div><div class=\"mt-15\"><div class=\"grid grid-cols-1 md:grid-cols-3 gap-2 page-width\"><div><div class=\"text-center\"><img alt=\"\" src=\"/assets/homepage/banner/men-shoes.jpeg\"/></div><h3 class=\"h4 uppercase mt-1 mb-1\">Men shoes collection</h3><div class=\"mb-1\"><p>Constructed from luxury nylons, leathers, and custom hardware, featuring sport details such as hidden breathing vents, waterproof + antimicrobial linings, and more.</p></div><a class=\"button primary\" href=\"/kids\"><span>Shop kids</span></a></div><div><div><img alt=\"\" src=\"/assets/homepage/banner/women-shoes.jpeg\"/></div><h3 class=\"h4 uppercase mt-1 mb-1\">Women shoes collection</h3><div class=\"mb-1\"><p>Constructed from luxury nylons, leathers, and custom hardware, featuring sport details such as hidden breathing vents, waterproof + antimicrobial linings, and more.</p></div><a class=\"button primary\" href=\"/women\"><span>Shop women</span></a></div><div><div><img alt=\"\" src=\"/assets/homepage/banner/kid-shoes.jpeg\"/></div><h3 class=\"h4 uppercase mt-1 mb-1\">Men shoes collection</h3><div class=\"mb-1\"><p>Constructed from luxury nylons, leathers, and custom hardware, featuring sport details such as hidden breathing vents, waterproof + antimicrobial linings, and more.</p></div><a class=\"button primary\" href=\"/men\"><span>Shop men</span></a></div></div></div><div class=\"pt-3\"><div class=\"page-width\"><h3 class=\"mt-3 mb-3 text-center uppercase h5 tracking-widest\">Featured Products</h3><div class=\"grid grid-cols-2 md:grid-cols-4 gap-2\"><div class=\"listing-tem\"><div class=\"product-thumbnail-listing\"><a href=\"/men/nike-air-zoom-pegasus-35-146\"><img alt=\"Nike air zoom pegasus 35\" src=\"/assets/catalog/1034/3600/plv7632-Green-list.png\"/></a></div><div class=\"product-name product-list-name mt-1 mb-025\"><a class=\"font-bold hover:underline h5\" href=\"/men/nike-air-zoom-pegasus-35-146\"><span>Nike air zoom pegasus 35</span></a></div><div class=\"product-price-listing\"><div><span class=\"sale-price font-semibold\">$452.10</span></div></div></div><div class=\"listing-tem\"><div class=\"product-thumbnail-listing\"><a href=\"/mix-and-match-chuck-taylor-all-star-118\"><img alt=\"Mix and match chuck taylor all star\" src=\"/assets/catalog/5059/3470/plv4547-Grey-list.png\"/></a></div><div class=\"product-name product-list-name mt-1 mb-025\"><a class=\"font-bold hover:underline h5\" href=\"/mix-and-match-chuck-taylor-all-star-118\"><span>Mix and match chuck taylor all star</span></a></div><div class=\"product-price-listing\"><div><span class=\"sale-price font-semibold\">$877.80</span></div></div></div><div class=\"listing-tem\"><div class=\"product-thumbnail-listing\"><a href=\"/geography-class-chuck-taylor-all-star-81\"><img alt=\"Geography class chuck taylor all star\" src=\"/assets/catalog/4056/5908/plv3360-Black-list.png\"/></a></div><div class=\"product-name product-list-name mt-1 mb-025\"><a class=\"font-bold hover:underline h5\" href=\"/geography-class-chuck-taylor-all-star-81\"><span>Geography class chuck taylor all star</span></a></div><div class=\"product-price-listing\"><div><span class=\"sale-price font-semibold\">$275.00</span></div></div></div><div class=\"listing-tem\"><div class=\"product-thumbnail-listing\"><a href=\"/kids/swift-run-x-shoes-12\"><img alt=\"Swift run x shoes\" src=\"/assets/catalog/3241/9300/plv1517-Pink-list.png\"/></a></div><div class=\"product-name product-list-name mt-1 mb-025\"><a class=\"font-bold hover:underline h5\" href=\"/kids/swift-run-x-shoes-12\"><span>Swift run x shoes</span></a></div><div class=\"product-price-listing\"><div><span class=\"sale-price font-semibold\">$370.70</span></div></div></div></div></div></div></main>,\n",
              " <div class=\"main-banner-home flex items-center\"><div class=\"container grid grid-cols-1 md:grid-cols-2 gap-2\"><div></div><div class=\"text-center md:text-left px-2\"><h2 class=\"h1\">Discount 20% For All Orders Over $2000</h2><p>Use coupon code<span class=\"font-bold\">DISCOUNT20</span></p><p>Use coupon DISCOUNT20</p><p></p></div></div></div>,\n",
              " <div class=\"container grid grid-cols-1 md:grid-cols-2 gap-2\"><div></div><div class=\"text-center md:text-left px-2\"><h2 class=\"h1\">Discount 20% For All Orders Over $2000</h2><p>Use coupon code<span class=\"font-bold\">DISCOUNT20</span></p><p>Use coupon DISCOUNT20</p><p></p></div></div>,\n",
              " <div></div>,\n",
              " <div class=\"text-center md:text-left px-2\"><h2 class=\"h1\">Discount 20% For All Orders Over $2000</h2><p>Use coupon code<span class=\"font-bold\">DISCOUNT20</span></p><p>Use coupon DISCOUNT20</p><p></p></div>,\n",
              " <h2 class=\"h1\">Discount 20% For All Orders Over $2000</h2>,\n",
              " <p>Use coupon code<span class=\"font-bold\">DISCOUNT20</span></p>,\n",
              " <span class=\"font-bold\">DISCOUNT20</span>,\n",
              " <p>Use coupon DISCOUNT20</p>,\n",
              " <p></p>,\n",
              " <div class=\"mt-15\"><div class=\"grid grid-cols-1 md:grid-cols-3 gap-2 page-width\"><div><div class=\"text-center\"><img alt=\"\" src=\"/assets/homepage/banner/men-shoes.jpeg\"/></div><h3 class=\"h4 uppercase mt-1 mb-1\">Men shoes collection</h3><div class=\"mb-1\"><p>Constructed from luxury nylons, leathers, and custom hardware, featuring sport details such as hidden breathing vents, waterproof + antimicrobial linings, and more.</p></div><a class=\"button primary\" href=\"/kids\"><span>Shop kids</span></a></div><div><div><img alt=\"\" src=\"/assets/homepage/banner/women-shoes.jpeg\"/></div><h3 class=\"h4 uppercase mt-1 mb-1\">Women shoes collection</h3><div class=\"mb-1\"><p>Constructed from luxury nylons, leathers, and custom hardware, featuring sport details such as hidden breathing vents, waterproof + antimicrobial linings, and more.</p></div><a class=\"button primary\" href=\"/women\"><span>Shop women</span></a></div><div><div><img alt=\"\" src=\"/assets/homepage/banner/kid-shoes.jpeg\"/></div><h3 class=\"h4 uppercase mt-1 mb-1\">Men shoes collection</h3><div class=\"mb-1\"><p>Constructed from luxury nylons, leathers, and custom hardware, featuring sport details such as hidden breathing vents, waterproof + antimicrobial linings, and more.</p></div><a class=\"button primary\" href=\"/men\"><span>Shop men</span></a></div></div></div>,\n",
              " <div class=\"grid grid-cols-1 md:grid-cols-3 gap-2 page-width\"><div><div class=\"text-center\"><img alt=\"\" src=\"/assets/homepage/banner/men-shoes.jpeg\"/></div><h3 class=\"h4 uppercase mt-1 mb-1\">Men shoes collection</h3><div class=\"mb-1\"><p>Constructed from luxury nylons, leathers, and custom hardware, featuring sport details such as hidden breathing vents, waterproof + antimicrobial linings, and more.</p></div><a class=\"button primary\" href=\"/kids\"><span>Shop kids</span></a></div><div><div><img alt=\"\" src=\"/assets/homepage/banner/women-shoes.jpeg\"/></div><h3 class=\"h4 uppercase mt-1 mb-1\">Women shoes collection</h3><div class=\"mb-1\"><p>Constructed from luxury nylons, leathers, and custom hardware, featuring sport details such as hidden breathing vents, waterproof + antimicrobial linings, and more.</p></div><a class=\"button primary\" href=\"/women\"><span>Shop women</span></a></div><div><div><img alt=\"\" src=\"/assets/homepage/banner/kid-shoes.jpeg\"/></div><h3 class=\"h4 uppercase mt-1 mb-1\">Men shoes collection</h3><div class=\"mb-1\"><p>Constructed from luxury nylons, leathers, and custom hardware, featuring sport details such as hidden breathing vents, waterproof + antimicrobial linings, and more.</p></div><a class=\"button primary\" href=\"/men\"><span>Shop men</span></a></div></div>,\n",
              " <div><div class=\"text-center\"><img alt=\"\" src=\"/assets/homepage/banner/men-shoes.jpeg\"/></div><h3 class=\"h4 uppercase mt-1 mb-1\">Men shoes collection</h3><div class=\"mb-1\"><p>Constructed from luxury nylons, leathers, and custom hardware, featuring sport details such as hidden breathing vents, waterproof + antimicrobial linings, and more.</p></div><a class=\"button primary\" href=\"/kids\"><span>Shop kids</span></a></div>,\n",
              " <div class=\"text-center\"><img alt=\"\" src=\"/assets/homepage/banner/men-shoes.jpeg\"/></div>,\n",
              " <img alt=\"\" src=\"/assets/homepage/banner/men-shoes.jpeg\"/>,\n",
              " <h3 class=\"h4 uppercase mt-1 mb-1\">Men shoes collection</h3>,\n",
              " <div class=\"mb-1\"><p>Constructed from luxury nylons, leathers, and custom hardware, featuring sport details such as hidden breathing vents, waterproof + antimicrobial linings, and more.</p></div>,\n",
              " <p>Constructed from luxury nylons, leathers, and custom hardware, featuring sport details such as hidden breathing vents, waterproof + antimicrobial linings, and more.</p>,\n",
              " <a class=\"button primary\" href=\"/kids\"><span>Shop kids</span></a>,\n",
              " <span>Shop kids</span>,\n",
              " <div><div><img alt=\"\" src=\"/assets/homepage/banner/women-shoes.jpeg\"/></div><h3 class=\"h4 uppercase mt-1 mb-1\">Women shoes collection</h3><div class=\"mb-1\"><p>Constructed from luxury nylons, leathers, and custom hardware, featuring sport details such as hidden breathing vents, waterproof + antimicrobial linings, and more.</p></div><a class=\"button primary\" href=\"/women\"><span>Shop women</span></a></div>,\n",
              " <div><img alt=\"\" src=\"/assets/homepage/banner/women-shoes.jpeg\"/></div>,\n",
              " <img alt=\"\" src=\"/assets/homepage/banner/women-shoes.jpeg\"/>,\n",
              " <h3 class=\"h4 uppercase mt-1 mb-1\">Women shoes collection</h3>,\n",
              " <div class=\"mb-1\"><p>Constructed from luxury nylons, leathers, and custom hardware, featuring sport details such as hidden breathing vents, waterproof + antimicrobial linings, and more.</p></div>,\n",
              " <p>Constructed from luxury nylons, leathers, and custom hardware, featuring sport details such as hidden breathing vents, waterproof + antimicrobial linings, and more.</p>,\n",
              " <a class=\"button primary\" href=\"/women\"><span>Shop women</span></a>,\n",
              " <span>Shop women</span>,\n",
              " <div><div><img alt=\"\" src=\"/assets/homepage/banner/kid-shoes.jpeg\"/></div><h3 class=\"h4 uppercase mt-1 mb-1\">Men shoes collection</h3><div class=\"mb-1\"><p>Constructed from luxury nylons, leathers, and custom hardware, featuring sport details such as hidden breathing vents, waterproof + antimicrobial linings, and more.</p></div><a class=\"button primary\" href=\"/men\"><span>Shop men</span></a></div>,\n",
              " <div><img alt=\"\" src=\"/assets/homepage/banner/kid-shoes.jpeg\"/></div>,\n",
              " <img alt=\"\" src=\"/assets/homepage/banner/kid-shoes.jpeg\"/>,\n",
              " <h3 class=\"h4 uppercase mt-1 mb-1\">Men shoes collection</h3>,\n",
              " <div class=\"mb-1\"><p>Constructed from luxury nylons, leathers, and custom hardware, featuring sport details such as hidden breathing vents, waterproof + antimicrobial linings, and more.</p></div>,\n",
              " <p>Constructed from luxury nylons, leathers, and custom hardware, featuring sport details such as hidden breathing vents, waterproof + antimicrobial linings, and more.</p>,\n",
              " <a class=\"button primary\" href=\"/men\"><span>Shop men</span></a>,\n",
              " <span>Shop men</span>,\n",
              " <div class=\"pt-3\"><div class=\"page-width\"><h3 class=\"mt-3 mb-3 text-center uppercase h5 tracking-widest\">Featured Products</h3><div class=\"grid grid-cols-2 md:grid-cols-4 gap-2\"><div class=\"listing-tem\"><div class=\"product-thumbnail-listing\"><a href=\"/men/nike-air-zoom-pegasus-35-146\"><img alt=\"Nike air zoom pegasus 35\" src=\"/assets/catalog/1034/3600/plv7632-Green-list.png\"/></a></div><div class=\"product-name product-list-name mt-1 mb-025\"><a class=\"font-bold hover:underline h5\" href=\"/men/nike-air-zoom-pegasus-35-146\"><span>Nike air zoom pegasus 35</span></a></div><div class=\"product-price-listing\"><div><span class=\"sale-price font-semibold\">$452.10</span></div></div></div><div class=\"listing-tem\"><div class=\"product-thumbnail-listing\"><a href=\"/mix-and-match-chuck-taylor-all-star-118\"><img alt=\"Mix and match chuck taylor all star\" src=\"/assets/catalog/5059/3470/plv4547-Grey-list.png\"/></a></div><div class=\"product-name product-list-name mt-1 mb-025\"><a class=\"font-bold hover:underline h5\" href=\"/mix-and-match-chuck-taylor-all-star-118\"><span>Mix and match chuck taylor all star</span></a></div><div class=\"product-price-listing\"><div><span class=\"sale-price font-semibold\">$877.80</span></div></div></div><div class=\"listing-tem\"><div class=\"product-thumbnail-listing\"><a href=\"/geography-class-chuck-taylor-all-star-81\"><img alt=\"Geography class chuck taylor all star\" src=\"/assets/catalog/4056/5908/plv3360-Black-list.png\"/></a></div><div class=\"product-name product-list-name mt-1 mb-025\"><a class=\"font-bold hover:underline h5\" href=\"/geography-class-chuck-taylor-all-star-81\"><span>Geography class chuck taylor all star</span></a></div><div class=\"product-price-listing\"><div><span class=\"sale-price font-semibold\">$275.00</span></div></div></div><div class=\"listing-tem\"><div class=\"product-thumbnail-listing\"><a href=\"/kids/swift-run-x-shoes-12\"><img alt=\"Swift run x shoes\" src=\"/assets/catalog/3241/9300/plv1517-Pink-list.png\"/></a></div><div class=\"product-name product-list-name mt-1 mb-025\"><a class=\"font-bold hover:underline h5\" href=\"/kids/swift-run-x-shoes-12\"><span>Swift run x shoes</span></a></div><div class=\"product-price-listing\"><div><span class=\"sale-price font-semibold\">$370.70</span></div></div></div></div></div></div>,\n",
              " <div class=\"page-width\"><h3 class=\"mt-3 mb-3 text-center uppercase h5 tracking-widest\">Featured Products</h3><div class=\"grid grid-cols-2 md:grid-cols-4 gap-2\"><div class=\"listing-tem\"><div class=\"product-thumbnail-listing\"><a href=\"/men/nike-air-zoom-pegasus-35-146\"><img alt=\"Nike air zoom pegasus 35\" src=\"/assets/catalog/1034/3600/plv7632-Green-list.png\"/></a></div><div class=\"product-name product-list-name mt-1 mb-025\"><a class=\"font-bold hover:underline h5\" href=\"/men/nike-air-zoom-pegasus-35-146\"><span>Nike air zoom pegasus 35</span></a></div><div class=\"product-price-listing\"><div><span class=\"sale-price font-semibold\">$452.10</span></div></div></div><div class=\"listing-tem\"><div class=\"product-thumbnail-listing\"><a href=\"/mix-and-match-chuck-taylor-all-star-118\"><img alt=\"Mix and match chuck taylor all star\" src=\"/assets/catalog/5059/3470/plv4547-Grey-list.png\"/></a></div><div class=\"product-name product-list-name mt-1 mb-025\"><a class=\"font-bold hover:underline h5\" href=\"/mix-and-match-chuck-taylor-all-star-118\"><span>Mix and match chuck taylor all star</span></a></div><div class=\"product-price-listing\"><div><span class=\"sale-price font-semibold\">$877.80</span></div></div></div><div class=\"listing-tem\"><div class=\"product-thumbnail-listing\"><a href=\"/geography-class-chuck-taylor-all-star-81\"><img alt=\"Geography class chuck taylor all star\" src=\"/assets/catalog/4056/5908/plv3360-Black-list.png\"/></a></div><div class=\"product-name product-list-name mt-1 mb-025\"><a class=\"font-bold hover:underline h5\" href=\"/geography-class-chuck-taylor-all-star-81\"><span>Geography class chuck taylor all star</span></a></div><div class=\"product-price-listing\"><div><span class=\"sale-price font-semibold\">$275.00</span></div></div></div><div class=\"listing-tem\"><div class=\"product-thumbnail-listing\"><a href=\"/kids/swift-run-x-shoes-12\"><img alt=\"Swift run x shoes\" src=\"/assets/catalog/3241/9300/plv1517-Pink-list.png\"/></a></div><div class=\"product-name product-list-name mt-1 mb-025\"><a class=\"font-bold hover:underline h5\" href=\"/kids/swift-run-x-shoes-12\"><span>Swift run x shoes</span></a></div><div class=\"product-price-listing\"><div><span class=\"sale-price font-semibold\">$370.70</span></div></div></div></div></div>,\n",
              " <h3 class=\"mt-3 mb-3 text-center uppercase h5 tracking-widest\">Featured Products</h3>,\n",
              " <div class=\"grid grid-cols-2 md:grid-cols-4 gap-2\"><div class=\"listing-tem\"><div class=\"product-thumbnail-listing\"><a href=\"/men/nike-air-zoom-pegasus-35-146\"><img alt=\"Nike air zoom pegasus 35\" src=\"/assets/catalog/1034/3600/plv7632-Green-list.png\"/></a></div><div class=\"product-name product-list-name mt-1 mb-025\"><a class=\"font-bold hover:underline h5\" href=\"/men/nike-air-zoom-pegasus-35-146\"><span>Nike air zoom pegasus 35</span></a></div><div class=\"product-price-listing\"><div><span class=\"sale-price font-semibold\">$452.10</span></div></div></div><div class=\"listing-tem\"><div class=\"product-thumbnail-listing\"><a href=\"/mix-and-match-chuck-taylor-all-star-118\"><img alt=\"Mix and match chuck taylor all star\" src=\"/assets/catalog/5059/3470/plv4547-Grey-list.png\"/></a></div><div class=\"product-name product-list-name mt-1 mb-025\"><a class=\"font-bold hover:underline h5\" href=\"/mix-and-match-chuck-taylor-all-star-118\"><span>Mix and match chuck taylor all star</span></a></div><div class=\"product-price-listing\"><div><span class=\"sale-price font-semibold\">$877.80</span></div></div></div><div class=\"listing-tem\"><div class=\"product-thumbnail-listing\"><a href=\"/geography-class-chuck-taylor-all-star-81\"><img alt=\"Geography class chuck taylor all star\" src=\"/assets/catalog/4056/5908/plv3360-Black-list.png\"/></a></div><div class=\"product-name product-list-name mt-1 mb-025\"><a class=\"font-bold hover:underline h5\" href=\"/geography-class-chuck-taylor-all-star-81\"><span>Geography class chuck taylor all star</span></a></div><div class=\"product-price-listing\"><div><span class=\"sale-price font-semibold\">$275.00</span></div></div></div><div class=\"listing-tem\"><div class=\"product-thumbnail-listing\"><a href=\"/kids/swift-run-x-shoes-12\"><img alt=\"Swift run x shoes\" src=\"/assets/catalog/3241/9300/plv1517-Pink-list.png\"/></a></div><div class=\"product-name product-list-name mt-1 mb-025\"><a class=\"font-bold hover:underline h5\" href=\"/kids/swift-run-x-shoes-12\"><span>Swift run x shoes</span></a></div><div class=\"product-price-listing\"><div><span class=\"sale-price font-semibold\">$370.70</span></div></div></div></div>,\n",
              " <div class=\"listing-tem\"><div class=\"product-thumbnail-listing\"><a href=\"/men/nike-air-zoom-pegasus-35-146\"><img alt=\"Nike air zoom pegasus 35\" src=\"/assets/catalog/1034/3600/plv7632-Green-list.png\"/></a></div><div class=\"product-name product-list-name mt-1 mb-025\"><a class=\"font-bold hover:underline h5\" href=\"/men/nike-air-zoom-pegasus-35-146\"><span>Nike air zoom pegasus 35</span></a></div><div class=\"product-price-listing\"><div><span class=\"sale-price font-semibold\">$452.10</span></div></div></div>,\n",
              " <div class=\"product-thumbnail-listing\"><a href=\"/men/nike-air-zoom-pegasus-35-146\"><img alt=\"Nike air zoom pegasus 35\" src=\"/assets/catalog/1034/3600/plv7632-Green-list.png\"/></a></div>,\n",
              " <a href=\"/men/nike-air-zoom-pegasus-35-146\"><img alt=\"Nike air zoom pegasus 35\" src=\"/assets/catalog/1034/3600/plv7632-Green-list.png\"/></a>,\n",
              " <img alt=\"Nike air zoom pegasus 35\" src=\"/assets/catalog/1034/3600/plv7632-Green-list.png\"/>,\n",
              " <div class=\"product-name product-list-name mt-1 mb-025\"><a class=\"font-bold hover:underline h5\" href=\"/men/nike-air-zoom-pegasus-35-146\"><span>Nike air zoom pegasus 35</span></a></div>,\n",
              " <a class=\"font-bold hover:underline h5\" href=\"/men/nike-air-zoom-pegasus-35-146\"><span>Nike air zoom pegasus 35</span></a>,\n",
              " <span>Nike air zoom pegasus 35</span>,\n",
              " <div class=\"product-price-listing\"><div><span class=\"sale-price font-semibold\">$452.10</span></div></div>,\n",
              " <div><span class=\"sale-price font-semibold\">$452.10</span></div>,\n",
              " <span class=\"sale-price font-semibold\">$452.10</span>,\n",
              " <div class=\"listing-tem\"><div class=\"product-thumbnail-listing\"><a href=\"/mix-and-match-chuck-taylor-all-star-118\"><img alt=\"Mix and match chuck taylor all star\" src=\"/assets/catalog/5059/3470/plv4547-Grey-list.png\"/></a></div><div class=\"product-name product-list-name mt-1 mb-025\"><a class=\"font-bold hover:underline h5\" href=\"/mix-and-match-chuck-taylor-all-star-118\"><span>Mix and match chuck taylor all star</span></a></div><div class=\"product-price-listing\"><div><span class=\"sale-price font-semibold\">$877.80</span></div></div></div>,\n",
              " <div class=\"product-thumbnail-listing\"><a href=\"/mix-and-match-chuck-taylor-all-star-118\"><img alt=\"Mix and match chuck taylor all star\" src=\"/assets/catalog/5059/3470/plv4547-Grey-list.png\"/></a></div>,\n",
              " <a href=\"/mix-and-match-chuck-taylor-all-star-118\"><img alt=\"Mix and match chuck taylor all star\" src=\"/assets/catalog/5059/3470/plv4547-Grey-list.png\"/></a>,\n",
              " <img alt=\"Mix and match chuck taylor all star\" src=\"/assets/catalog/5059/3470/plv4547-Grey-list.png\"/>,\n",
              " <div class=\"product-name product-list-name mt-1 mb-025\"><a class=\"font-bold hover:underline h5\" href=\"/mix-and-match-chuck-taylor-all-star-118\"><span>Mix and match chuck taylor all star</span></a></div>,\n",
              " <a class=\"font-bold hover:underline h5\" href=\"/mix-and-match-chuck-taylor-all-star-118\"><span>Mix and match chuck taylor all star</span></a>,\n",
              " <span>Mix and match chuck taylor all star</span>,\n",
              " <div class=\"product-price-listing\"><div><span class=\"sale-price font-semibold\">$877.80</span></div></div>,\n",
              " <div><span class=\"sale-price font-semibold\">$877.80</span></div>,\n",
              " <span class=\"sale-price font-semibold\">$877.80</span>,\n",
              " <div class=\"listing-tem\"><div class=\"product-thumbnail-listing\"><a href=\"/geography-class-chuck-taylor-all-star-81\"><img alt=\"Geography class chuck taylor all star\" src=\"/assets/catalog/4056/5908/plv3360-Black-list.png\"/></a></div><div class=\"product-name product-list-name mt-1 mb-025\"><a class=\"font-bold hover:underline h5\" href=\"/geography-class-chuck-taylor-all-star-81\"><span>Geography class chuck taylor all star</span></a></div><div class=\"product-price-listing\"><div><span class=\"sale-price font-semibold\">$275.00</span></div></div></div>,\n",
              " <div class=\"product-thumbnail-listing\"><a href=\"/geography-class-chuck-taylor-all-star-81\"><img alt=\"Geography class chuck taylor all star\" src=\"/assets/catalog/4056/5908/plv3360-Black-list.png\"/></a></div>,\n",
              " <a href=\"/geography-class-chuck-taylor-all-star-81\"><img alt=\"Geography class chuck taylor all star\" src=\"/assets/catalog/4056/5908/plv3360-Black-list.png\"/></a>,\n",
              " <img alt=\"Geography class chuck taylor all star\" src=\"/assets/catalog/4056/5908/plv3360-Black-list.png\"/>,\n",
              " <div class=\"product-name product-list-name mt-1 mb-025\"><a class=\"font-bold hover:underline h5\" href=\"/geography-class-chuck-taylor-all-star-81\"><span>Geography class chuck taylor all star</span></a></div>,\n",
              " <a class=\"font-bold hover:underline h5\" href=\"/geography-class-chuck-taylor-all-star-81\"><span>Geography class chuck taylor all star</span></a>,\n",
              " <span>Geography class chuck taylor all star</span>,\n",
              " <div class=\"product-price-listing\"><div><span class=\"sale-price font-semibold\">$275.00</span></div></div>,\n",
              " <div><span class=\"sale-price font-semibold\">$275.00</span></div>,\n",
              " <span class=\"sale-price font-semibold\">$275.00</span>,\n",
              " <div class=\"listing-tem\"><div class=\"product-thumbnail-listing\"><a href=\"/kids/swift-run-x-shoes-12\"><img alt=\"Swift run x shoes\" src=\"/assets/catalog/3241/9300/plv1517-Pink-list.png\"/></a></div><div class=\"product-name product-list-name mt-1 mb-025\"><a class=\"font-bold hover:underline h5\" href=\"/kids/swift-run-x-shoes-12\"><span>Swift run x shoes</span></a></div><div class=\"product-price-listing\"><div><span class=\"sale-price font-semibold\">$370.70</span></div></div></div>,\n",
              " <div class=\"product-thumbnail-listing\"><a href=\"/kids/swift-run-x-shoes-12\"><img alt=\"Swift run x shoes\" src=\"/assets/catalog/3241/9300/plv1517-Pink-list.png\"/></a></div>,\n",
              " <a href=\"/kids/swift-run-x-shoes-12\"><img alt=\"Swift run x shoes\" src=\"/assets/catalog/3241/9300/plv1517-Pink-list.png\"/></a>,\n",
              " <img alt=\"Swift run x shoes\" src=\"/assets/catalog/3241/9300/plv1517-Pink-list.png\"/>,\n",
              " <div class=\"product-name product-list-name mt-1 mb-025\"><a class=\"font-bold hover:underline h5\" href=\"/kids/swift-run-x-shoes-12\"><span>Swift run x shoes</span></a></div>,\n",
              " <a class=\"font-bold hover:underline h5\" href=\"/kids/swift-run-x-shoes-12\"><span>Swift run x shoes</span></a>,\n",
              " <span>Swift run x shoes</span>,\n",
              " <div class=\"product-price-listing\"><div><span class=\"sale-price font-semibold\">$370.70</span></div></div>,\n",
              " <div><span class=\"sale-price font-semibold\">$370.70</span></div>,\n",
              " <span class=\"sale-price font-semibold\">$370.70</span>,\n",
              " <div class=\"footer\"><div class=\"footer__default\"><div class=\"page-width grid grid-cols-1 md:grid-cols-2 gap-2 justify-between\"><div><div class=\"card-icons flex justify-center space-x-1 md:justify-start\"><div><svg aria-labelledby=\"pi-visa\" height=\"24\" viewbox=\"0 0 38 24\" width=\"38\" xmlns=\"http://www.w3.org/2000/svg\"><path d=\"M35 0H3C1.3 0 0 1.3 0 3v18c0 1.7 1.4 3 3 3h32c1.7 0 3-1.3 3-3V3c0-1.7-1.4-3-3-3z\" opacity=\"0.07\"></path><path d=\"M35 1c1.1 0 2 .9 2 2v18c0 1.1-.9 2-2 2H3c-1.1 0-2-.9-2-2V3c0-1.1.9-2 2-2h32\" fill=\"#fff\"></path><path d=\"M28.3 10.1H28c-.4 1-.7 1.5-1 3h1.9c-.3-1.5-.3-2.2-.6-3zm2.9 5.9h-1.7c-.1 0-.1 0-.2-.1l-.2-.9-.1-.2h-2.4c-.1 0-.2 0-.2.2l-.3.9c0 .1-.1.1-.1.1h-2.1l.2-.5L27 8.7c0-.5.3-.7.8-.7h1.5c.1 0 .2 0 .2.2l1.4 6.5c.1.4.2.7.2 1.1.1.1.1.1.1.2zm-13.4-.3l.4-1.8c.1 0 .2.1.2.1.7.3 1.4.5 2.1.4.2 0 .5-.1.7-.2.5-.2.5-.7.1-1.1-.2-.2-.5-.3-.8-.5-.4-.2-.8-.4-1.1-.7-1.2-1-.8-2.4-.1-3.1.6-.4.9-.8 1.7-.8 1.2 0 2.5 0 3.1.2h.1c-.1.6-.2 1.1-.4 1.7-.5-.2-1-.4-1.5-.4-.3 0-.6 0-.9.1-.2 0-.3.1-.4.2-.2.2-.2.5 0 .7l.5.4c.4.2.8.4 1.1.6.5.3 1 .8 1.1 1.4.2.9-.1 1.7-.9 2.3-.5.4-.7.6-1.4.6-1.4 0-2.5.1-3.4-.2-.1.2-.1.2-.2.1zm-3.5.3c.1-.7.1-.7.2-1 .5-2.2 1-4.5 1.4-6.7.1-.2.1-.3.3-.3H18c-.2 1.2-.4 2.1-.7 3.2-.3 1.5-.6 3-1 4.5 0 .2-.1.2-.3.2M5 8.2c0-.1.2-.2.3-.2h3.4c.5 0 .9.3 1 .8l.9 4.4c0 .1 0 .1.1.2 0-.1.1-.1.1-.1l2.1-5.1c-.1-.1 0-.2.1-.2h2.1c0 .1 0 .1-.1.2l-3.1 7.3c-.1.2-.1.3-.2.4-.1.1-.3 0-.5 0H9.7c-.1 0-.2 0-.2-.2L7.9 9.5c-.2-.2-.5-.5-.9-.6-.6-.3-1.7-.5-1.9-.5L5 8.2z\" fill=\"#142688\"></path></svg></div><div><svg aria-labelledby=\"pi-master\" height=\"24\" viewbox=\"0 0 38 24\" width=\"38\" xmlns=\"http://www.w3.org/2000/svg\"><path d=\"M35 0H3C1.3 0 0 1.3 0 3v18c0 1.7 1.4 3 3 3h32c1.7 0 3-1.3 3-3V3c0-1.7-1.4-3-3-3z\" opacity=\"0.07\"></path><path d=\"M35 1c1.1 0 2 .9 2 2v18c0 1.1-.9 2-2 2H3c-1.1 0-2-.9-2-2V3c0-1.1.9-2 2-2h32\" fill=\"#fff\"></path><circle cx=\"15\" cy=\"12\" fill=\"#EB001B\" r=\"7\"></circle><circle cx=\"23\" cy=\"12\" fill=\"#F79E1B\" r=\"7\"></circle><path d=\"M22 12c0-2.4-1.2-4.5-3-5.7-1.8 1.3-3 3.4-3 5.7s1.2 4.5 3 5.7c1.8-1.2 3-3.3 3-5.7z\" fill=\"#FF5F00\"></path></svg></div><div><svg aria-labelledby=\"pi-paypal\" height=\"24\" role=\"img\" viewbox=\"0 0 38 24\" width=\"38\" xmlns=\"http://www.w3.org/2000/svg\"><title id=\"pi-paypal\">PayPal</title><path d=\"M35 0H3C1.3 0 0 1.3 0 3v18c0 1.7 1.4 3 3 3h32c1.7 0 3-1.3 3-3V3c0-1.7-1.4-3-3-3z\" opacity=\".07\"></path><path d=\"M35 1c1.1 0 2 .9 2 2v18c0 1.1-.9 2-2 2H3c-1.1 0-2-.9-2-2V3c0-1.1.9-2 2-2h32\" fill=\"#fff\"></path><path d=\"M23.9 8.3c.2-1 0-1.7-.6-2.3-.6-.7-1.7-1-3.1-1h-4.1c-.3 0-.5.2-.6.5L14 15.6c0 .2.1.4.3.4H17l.4-3.4 1.8-2.2 4.7-2.1z\" fill=\"#003087\"></path><path d=\"M23.9 8.3l-.2.2c-.5 2.8-2.2 3.8-4.6 3.8H18c-.3 0-.5.2-.6.5l-.6 3.9-.2 1c0 .2.1.4.3.4H19c.3 0 .5-.2.5-.4v-.1l.4-2.4v-.1c0-.2.3-.4.5-.4h.3c2.1 0 3.7-.8 4.1-3.2.2-1 .1-1.8-.4-2.4-.1-.5-.3-.7-.5-.8z\" fill=\"#3086C8\"></path><path d=\"M23.3 8.1c-.1-.1-.2-.1-.3-.1-.1 0-.2 0-.3-.1-.3-.1-.7-.1-1.1-.1h-3c-.1 0-.2 0-.2.1-.2.1-.3.2-.3.4l-.7 4.4v.1c0-.3.3-.5.6-.5h1.3c2.5 0 4.1-1 4.6-3.8v-.2c-.1-.1-.3-.2-.5-.2h-.1z\" fill=\"#012169\"></path></svg></div></div></div><div class=\"self-center\"><div class=\"copyright text-center md:text-right text-textSubdued\"><span></span></div></div></div></div></div>,\n",
              " <div class=\"footer__default\"><div class=\"page-width grid grid-cols-1 md:grid-cols-2 gap-2 justify-between\"><div><div class=\"card-icons flex justify-center space-x-1 md:justify-start\"><div><svg aria-labelledby=\"pi-visa\" height=\"24\" viewbox=\"0 0 38 24\" width=\"38\" xmlns=\"http://www.w3.org/2000/svg\"><path d=\"M35 0H3C1.3 0 0 1.3 0 3v18c0 1.7 1.4 3 3 3h32c1.7 0 3-1.3 3-3V3c0-1.7-1.4-3-3-3z\" opacity=\"0.07\"></path><path d=\"M35 1c1.1 0 2 .9 2 2v18c0 1.1-.9 2-2 2H3c-1.1 0-2-.9-2-2V3c0-1.1.9-2 2-2h32\" fill=\"#fff\"></path><path d=\"M28.3 10.1H28c-.4 1-.7 1.5-1 3h1.9c-.3-1.5-.3-2.2-.6-3zm2.9 5.9h-1.7c-.1 0-.1 0-.2-.1l-.2-.9-.1-.2h-2.4c-.1 0-.2 0-.2.2l-.3.9c0 .1-.1.1-.1.1h-2.1l.2-.5L27 8.7c0-.5.3-.7.8-.7h1.5c.1 0 .2 0 .2.2l1.4 6.5c.1.4.2.7.2 1.1.1.1.1.1.1.2zm-13.4-.3l.4-1.8c.1 0 .2.1.2.1.7.3 1.4.5 2.1.4.2 0 .5-.1.7-.2.5-.2.5-.7.1-1.1-.2-.2-.5-.3-.8-.5-.4-.2-.8-.4-1.1-.7-1.2-1-.8-2.4-.1-3.1.6-.4.9-.8 1.7-.8 1.2 0 2.5 0 3.1.2h.1c-.1.6-.2 1.1-.4 1.7-.5-.2-1-.4-1.5-.4-.3 0-.6 0-.9.1-.2 0-.3.1-.4.2-.2.2-.2.5 0 .7l.5.4c.4.2.8.4 1.1.6.5.3 1 .8 1.1 1.4.2.9-.1 1.7-.9 2.3-.5.4-.7.6-1.4.6-1.4 0-2.5.1-3.4-.2-.1.2-.1.2-.2.1zm-3.5.3c.1-.7.1-.7.2-1 .5-2.2 1-4.5 1.4-6.7.1-.2.1-.3.3-.3H18c-.2 1.2-.4 2.1-.7 3.2-.3 1.5-.6 3-1 4.5 0 .2-.1.2-.3.2M5 8.2c0-.1.2-.2.3-.2h3.4c.5 0 .9.3 1 .8l.9 4.4c0 .1 0 .1.1.2 0-.1.1-.1.1-.1l2.1-5.1c-.1-.1 0-.2.1-.2h2.1c0 .1 0 .1-.1.2l-3.1 7.3c-.1.2-.1.3-.2.4-.1.1-.3 0-.5 0H9.7c-.1 0-.2 0-.2-.2L7.9 9.5c-.2-.2-.5-.5-.9-.6-.6-.3-1.7-.5-1.9-.5L5 8.2z\" fill=\"#142688\"></path></svg></div><div><svg aria-labelledby=\"pi-master\" height=\"24\" viewbox=\"0 0 38 24\" width=\"38\" xmlns=\"http://www.w3.org/2000/svg\"><path d=\"M35 0H3C1.3 0 0 1.3 0 3v18c0 1.7 1.4 3 3 3h32c1.7 0 3-1.3 3-3V3c0-1.7-1.4-3-3-3z\" opacity=\"0.07\"></path><path d=\"M35 1c1.1 0 2 .9 2 2v18c0 1.1-.9 2-2 2H3c-1.1 0-2-.9-2-2V3c0-1.1.9-2 2-2h32\" fill=\"#fff\"></path><circle cx=\"15\" cy=\"12\" fill=\"#EB001B\" r=\"7\"></circle><circle cx=\"23\" cy=\"12\" fill=\"#F79E1B\" r=\"7\"></circle><path d=\"M22 12c0-2.4-1.2-4.5-3-5.7-1.8 1.3-3 3.4-3 5.7s1.2 4.5 3 5.7c1.8-1.2 3-3.3 3-5.7z\" fill=\"#FF5F00\"></path></svg></div><div><svg aria-labelledby=\"pi-paypal\" height=\"24\" role=\"img\" viewbox=\"0 0 38 24\" width=\"38\" xmlns=\"http://www.w3.org/2000/svg\"><title id=\"pi-paypal\">PayPal</title><path d=\"M35 0H3C1.3 0 0 1.3 0 3v18c0 1.7 1.4 3 3 3h32c1.7 0 3-1.3 3-3V3c0-1.7-1.4-3-3-3z\" opacity=\".07\"></path><path d=\"M35 1c1.1 0 2 .9 2 2v18c0 1.1-.9 2-2 2H3c-1.1 0-2-.9-2-2V3c0-1.1.9-2 2-2h32\" fill=\"#fff\"></path><path d=\"M23.9 8.3c.2-1 0-1.7-.6-2.3-.6-.7-1.7-1-3.1-1h-4.1c-.3 0-.5.2-.6.5L14 15.6c0 .2.1.4.3.4H17l.4-3.4 1.8-2.2 4.7-2.1z\" fill=\"#003087\"></path><path d=\"M23.9 8.3l-.2.2c-.5 2.8-2.2 3.8-4.6 3.8H18c-.3 0-.5.2-.6.5l-.6 3.9-.2 1c0 .2.1.4.3.4H19c.3 0 .5-.2.5-.4v-.1l.4-2.4v-.1c0-.2.3-.4.5-.4h.3c2.1 0 3.7-.8 4.1-3.2.2-1 .1-1.8-.4-2.4-.1-.5-.3-.7-.5-.8z\" fill=\"#3086C8\"></path><path d=\"M23.3 8.1c-.1-.1-.2-.1-.3-.1-.1 0-.2 0-.3-.1-.3-.1-.7-.1-1.1-.1h-3c-.1 0-.2 0-.2.1-.2.1-.3.2-.3.4l-.7 4.4v.1c0-.3.3-.5.6-.5h1.3c2.5 0 4.1-1 4.6-3.8v-.2c-.1-.1-.3-.2-.5-.2h-.1z\" fill=\"#012169\"></path></svg></div></div></div><div class=\"self-center\"><div class=\"copyright text-center md:text-right text-textSubdued\"><span></span></div></div></div></div>,\n",
              " <div class=\"page-width grid grid-cols-1 md:grid-cols-2 gap-2 justify-between\"><div><div class=\"card-icons flex justify-center space-x-1 md:justify-start\"><div><svg aria-labelledby=\"pi-visa\" height=\"24\" viewbox=\"0 0 38 24\" width=\"38\" xmlns=\"http://www.w3.org/2000/svg\"><path d=\"M35 0H3C1.3 0 0 1.3 0 3v18c0 1.7 1.4 3 3 3h32c1.7 0 3-1.3 3-3V3c0-1.7-1.4-3-3-3z\" opacity=\"0.07\"></path><path d=\"M35 1c1.1 0 2 .9 2 2v18c0 1.1-.9 2-2 2H3c-1.1 0-2-.9-2-2V3c0-1.1.9-2 2-2h32\" fill=\"#fff\"></path><path d=\"M28.3 10.1H28c-.4 1-.7 1.5-1 3h1.9c-.3-1.5-.3-2.2-.6-3zm2.9 5.9h-1.7c-.1 0-.1 0-.2-.1l-.2-.9-.1-.2h-2.4c-.1 0-.2 0-.2.2l-.3.9c0 .1-.1.1-.1.1h-2.1l.2-.5L27 8.7c0-.5.3-.7.8-.7h1.5c.1 0 .2 0 .2.2l1.4 6.5c.1.4.2.7.2 1.1.1.1.1.1.1.2zm-13.4-.3l.4-1.8c.1 0 .2.1.2.1.7.3 1.4.5 2.1.4.2 0 .5-.1.7-.2.5-.2.5-.7.1-1.1-.2-.2-.5-.3-.8-.5-.4-.2-.8-.4-1.1-.7-1.2-1-.8-2.4-.1-3.1.6-.4.9-.8 1.7-.8 1.2 0 2.5 0 3.1.2h.1c-.1.6-.2 1.1-.4 1.7-.5-.2-1-.4-1.5-.4-.3 0-.6 0-.9.1-.2 0-.3.1-.4.2-.2.2-.2.5 0 .7l.5.4c.4.2.8.4 1.1.6.5.3 1 .8 1.1 1.4.2.9-.1 1.7-.9 2.3-.5.4-.7.6-1.4.6-1.4 0-2.5.1-3.4-.2-.1.2-.1.2-.2.1zm-3.5.3c.1-.7.1-.7.2-1 .5-2.2 1-4.5 1.4-6.7.1-.2.1-.3.3-.3H18c-.2 1.2-.4 2.1-.7 3.2-.3 1.5-.6 3-1 4.5 0 .2-.1.2-.3.2M5 8.2c0-.1.2-.2.3-.2h3.4c.5 0 .9.3 1 .8l.9 4.4c0 .1 0 .1.1.2 0-.1.1-.1.1-.1l2.1-5.1c-.1-.1 0-.2.1-.2h2.1c0 .1 0 .1-.1.2l-3.1 7.3c-.1.2-.1.3-.2.4-.1.1-.3 0-.5 0H9.7c-.1 0-.2 0-.2-.2L7.9 9.5c-.2-.2-.5-.5-.9-.6-.6-.3-1.7-.5-1.9-.5L5 8.2z\" fill=\"#142688\"></path></svg></div><div><svg aria-labelledby=\"pi-master\" height=\"24\" viewbox=\"0 0 38 24\" width=\"38\" xmlns=\"http://www.w3.org/2000/svg\"><path d=\"M35 0H3C1.3 0 0 1.3 0 3v18c0 1.7 1.4 3 3 3h32c1.7 0 3-1.3 3-3V3c0-1.7-1.4-3-3-3z\" opacity=\"0.07\"></path><path d=\"M35 1c1.1 0 2 .9 2 2v18c0 1.1-.9 2-2 2H3c-1.1 0-2-.9-2-2V3c0-1.1.9-2 2-2h32\" fill=\"#fff\"></path><circle cx=\"15\" cy=\"12\" fill=\"#EB001B\" r=\"7\"></circle><circle cx=\"23\" cy=\"12\" fill=\"#F79E1B\" r=\"7\"></circle><path d=\"M22 12c0-2.4-1.2-4.5-3-5.7-1.8 1.3-3 3.4-3 5.7s1.2 4.5 3 5.7c1.8-1.2 3-3.3 3-5.7z\" fill=\"#FF5F00\"></path></svg></div><div><svg aria-labelledby=\"pi-paypal\" height=\"24\" role=\"img\" viewbox=\"0 0 38 24\" width=\"38\" xmlns=\"http://www.w3.org/2000/svg\"><title id=\"pi-paypal\">PayPal</title><path d=\"M35 0H3C1.3 0 0 1.3 0 3v18c0 1.7 1.4 3 3 3h32c1.7 0 3-1.3 3-3V3c0-1.7-1.4-3-3-3z\" opacity=\".07\"></path><path d=\"M35 1c1.1 0 2 .9 2 2v18c0 1.1-.9 2-2 2H3c-1.1 0-2-.9-2-2V3c0-1.1.9-2 2-2h32\" fill=\"#fff\"></path><path d=\"M23.9 8.3c.2-1 0-1.7-.6-2.3-.6-.7-1.7-1-3.1-1h-4.1c-.3 0-.5.2-.6.5L14 15.6c0 .2.1.4.3.4H17l.4-3.4 1.8-2.2 4.7-2.1z\" fill=\"#003087\"></path><path d=\"M23.9 8.3l-.2.2c-.5 2.8-2.2 3.8-4.6 3.8H18c-.3 0-.5.2-.6.5l-.6 3.9-.2 1c0 .2.1.4.3.4H19c.3 0 .5-.2.5-.4v-.1l.4-2.4v-.1c0-.2.3-.4.5-.4h.3c2.1 0 3.7-.8 4.1-3.2.2-1 .1-1.8-.4-2.4-.1-.5-.3-.7-.5-.8z\" fill=\"#3086C8\"></path><path d=\"M23.3 8.1c-.1-.1-.2-.1-.3-.1-.1 0-.2 0-.3-.1-.3-.1-.7-.1-1.1-.1h-3c-.1 0-.2 0-.2.1-.2.1-.3.2-.3.4l-.7 4.4v.1c0-.3.3-.5.6-.5h1.3c2.5 0 4.1-1 4.6-3.8v-.2c-.1-.1-.3-.2-.5-.2h-.1z\" fill=\"#012169\"></path></svg></div></div></div><div class=\"self-center\"><div class=\"copyright text-center md:text-right text-textSubdued\"><span></span></div></div></div>,\n",
              " <div><div class=\"card-icons flex justify-center space-x-1 md:justify-start\"><div><svg aria-labelledby=\"pi-visa\" height=\"24\" viewbox=\"0 0 38 24\" width=\"38\" xmlns=\"http://www.w3.org/2000/svg\"><path d=\"M35 0H3C1.3 0 0 1.3 0 3v18c0 1.7 1.4 3 3 3h32c1.7 0 3-1.3 3-3V3c0-1.7-1.4-3-3-3z\" opacity=\"0.07\"></path><path d=\"M35 1c1.1 0 2 .9 2 2v18c0 1.1-.9 2-2 2H3c-1.1 0-2-.9-2-2V3c0-1.1.9-2 2-2h32\" fill=\"#fff\"></path><path d=\"M28.3 10.1H28c-.4 1-.7 1.5-1 3h1.9c-.3-1.5-.3-2.2-.6-3zm2.9 5.9h-1.7c-.1 0-.1 0-.2-.1l-.2-.9-.1-.2h-2.4c-.1 0-.2 0-.2.2l-.3.9c0 .1-.1.1-.1.1h-2.1l.2-.5L27 8.7c0-.5.3-.7.8-.7h1.5c.1 0 .2 0 .2.2l1.4 6.5c.1.4.2.7.2 1.1.1.1.1.1.1.2zm-13.4-.3l.4-1.8c.1 0 .2.1.2.1.7.3 1.4.5 2.1.4.2 0 .5-.1.7-.2.5-.2.5-.7.1-1.1-.2-.2-.5-.3-.8-.5-.4-.2-.8-.4-1.1-.7-1.2-1-.8-2.4-.1-3.1.6-.4.9-.8 1.7-.8 1.2 0 2.5 0 3.1.2h.1c-.1.6-.2 1.1-.4 1.7-.5-.2-1-.4-1.5-.4-.3 0-.6 0-.9.1-.2 0-.3.1-.4.2-.2.2-.2.5 0 .7l.5.4c.4.2.8.4 1.1.6.5.3 1 .8 1.1 1.4.2.9-.1 1.7-.9 2.3-.5.4-.7.6-1.4.6-1.4 0-2.5.1-3.4-.2-.1.2-.1.2-.2.1zm-3.5.3c.1-.7.1-.7.2-1 .5-2.2 1-4.5 1.4-6.7.1-.2.1-.3.3-.3H18c-.2 1.2-.4 2.1-.7 3.2-.3 1.5-.6 3-1 4.5 0 .2-.1.2-.3.2M5 8.2c0-.1.2-.2.3-.2h3.4c.5 0 .9.3 1 .8l.9 4.4c0 .1 0 .1.1.2 0-.1.1-.1.1-.1l2.1-5.1c-.1-.1 0-.2.1-.2h2.1c0 .1 0 .1-.1.2l-3.1 7.3c-.1.2-.1.3-.2.4-.1.1-.3 0-.5 0H9.7c-.1 0-.2 0-.2-.2L7.9 9.5c-.2-.2-.5-.5-.9-.6-.6-.3-1.7-.5-1.9-.5L5 8.2z\" fill=\"#142688\"></path></svg></div><div><svg aria-labelledby=\"pi-master\" height=\"24\" viewbox=\"0 0 38 24\" width=\"38\" xmlns=\"http://www.w3.org/2000/svg\"><path d=\"M35 0H3C1.3 0 0 1.3 0 3v18c0 1.7 1.4 3 3 3h32c1.7 0 3-1.3 3-3V3c0-1.7-1.4-3-3-3z\" opacity=\"0.07\"></path><path d=\"M35 1c1.1 0 2 .9 2 2v18c0 1.1-.9 2-2 2H3c-1.1 0-2-.9-2-2V3c0-1.1.9-2 2-2h32\" fill=\"#fff\"></path><circle cx=\"15\" cy=\"12\" fill=\"#EB001B\" r=\"7\"></circle><circle cx=\"23\" cy=\"12\" fill=\"#F79E1B\" r=\"7\"></circle><path d=\"M22 12c0-2.4-1.2-4.5-3-5.7-1.8 1.3-3 3.4-3 5.7s1.2 4.5 3 5.7c1.8-1.2 3-3.3 3-5.7z\" fill=\"#FF5F00\"></path></svg></div><div><svg aria-labelledby=\"pi-paypal\" height=\"24\" role=\"img\" viewbox=\"0 0 38 24\" width=\"38\" xmlns=\"http://www.w3.org/2000/svg\"><title id=\"pi-paypal\">PayPal</title><path d=\"M35 0H3C1.3 0 0 1.3 0 3v18c0 1.7 1.4 3 3 3h32c1.7 0 3-1.3 3-3V3c0-1.7-1.4-3-3-3z\" opacity=\".07\"></path><path d=\"M35 1c1.1 0 2 .9 2 2v18c0 1.1-.9 2-2 2H3c-1.1 0-2-.9-2-2V3c0-1.1.9-2 2-2h32\" fill=\"#fff\"></path><path d=\"M23.9 8.3c.2-1 0-1.7-.6-2.3-.6-.7-1.7-1-3.1-1h-4.1c-.3 0-.5.2-.6.5L14 15.6c0 .2.1.4.3.4H17l.4-3.4 1.8-2.2 4.7-2.1z\" fill=\"#003087\"></path><path d=\"M23.9 8.3l-.2.2c-.5 2.8-2.2 3.8-4.6 3.8H18c-.3 0-.5.2-.6.5l-.6 3.9-.2 1c0 .2.1.4.3.4H19c.3 0 .5-.2.5-.4v-.1l.4-2.4v-.1c0-.2.3-.4.5-.4h.3c2.1 0 3.7-.8 4.1-3.2.2-1 .1-1.8-.4-2.4-.1-.5-.3-.7-.5-.8z\" fill=\"#3086C8\"></path><path d=\"M23.3 8.1c-.1-.1-.2-.1-.3-.1-.1 0-.2 0-.3-.1-.3-.1-.7-.1-1.1-.1h-3c-.1 0-.2 0-.2.1-.2.1-.3.2-.3.4l-.7 4.4v.1c0-.3.3-.5.6-.5h1.3c2.5 0 4.1-1 4.6-3.8v-.2c-.1-.1-.3-.2-.5-.2h-.1z\" fill=\"#012169\"></path></svg></div></div></div>,\n",
              " <div class=\"card-icons flex justify-center space-x-1 md:justify-start\"><div><svg aria-labelledby=\"pi-visa\" height=\"24\" viewbox=\"0 0 38 24\" width=\"38\" xmlns=\"http://www.w3.org/2000/svg\"><path d=\"M35 0H3C1.3 0 0 1.3 0 3v18c0 1.7 1.4 3 3 3h32c1.7 0 3-1.3 3-3V3c0-1.7-1.4-3-3-3z\" opacity=\"0.07\"></path><path d=\"M35 1c1.1 0 2 .9 2 2v18c0 1.1-.9 2-2 2H3c-1.1 0-2-.9-2-2V3c0-1.1.9-2 2-2h32\" fill=\"#fff\"></path><path d=\"M28.3 10.1H28c-.4 1-.7 1.5-1 3h1.9c-.3-1.5-.3-2.2-.6-3zm2.9 5.9h-1.7c-.1 0-.1 0-.2-.1l-.2-.9-.1-.2h-2.4c-.1 0-.2 0-.2.2l-.3.9c0 .1-.1.1-.1.1h-2.1l.2-.5L27 8.7c0-.5.3-.7.8-.7h1.5c.1 0 .2 0 .2.2l1.4 6.5c.1.4.2.7.2 1.1.1.1.1.1.1.2zm-13.4-.3l.4-1.8c.1 0 .2.1.2.1.7.3 1.4.5 2.1.4.2 0 .5-.1.7-.2.5-.2.5-.7.1-1.1-.2-.2-.5-.3-.8-.5-.4-.2-.8-.4-1.1-.7-1.2-1-.8-2.4-.1-3.1.6-.4.9-.8 1.7-.8 1.2 0 2.5 0 3.1.2h.1c-.1.6-.2 1.1-.4 1.7-.5-.2-1-.4-1.5-.4-.3 0-.6 0-.9.1-.2 0-.3.1-.4.2-.2.2-.2.5 0 .7l.5.4c.4.2.8.4 1.1.6.5.3 1 .8 1.1 1.4.2.9-.1 1.7-.9 2.3-.5.4-.7.6-1.4.6-1.4 0-2.5.1-3.4-.2-.1.2-.1.2-.2.1zm-3.5.3c.1-.7.1-.7.2-1 .5-2.2 1-4.5 1.4-6.7.1-.2.1-.3.3-.3H18c-.2 1.2-.4 2.1-.7 3.2-.3 1.5-.6 3-1 4.5 0 .2-.1.2-.3.2M5 8.2c0-.1.2-.2.3-.2h3.4c.5 0 .9.3 1 .8l.9 4.4c0 .1 0 .1.1.2 0-.1.1-.1.1-.1l2.1-5.1c-.1-.1 0-.2.1-.2h2.1c0 .1 0 .1-.1.2l-3.1 7.3c-.1.2-.1.3-.2.4-.1.1-.3 0-.5 0H9.7c-.1 0-.2 0-.2-.2L7.9 9.5c-.2-.2-.5-.5-.9-.6-.6-.3-1.7-.5-1.9-.5L5 8.2z\" fill=\"#142688\"></path></svg></div><div><svg aria-labelledby=\"pi-master\" height=\"24\" viewbox=\"0 0 38 24\" width=\"38\" xmlns=\"http://www.w3.org/2000/svg\"><path d=\"M35 0H3C1.3 0 0 1.3 0 3v18c0 1.7 1.4 3 3 3h32c1.7 0 3-1.3 3-3V3c0-1.7-1.4-3-3-3z\" opacity=\"0.07\"></path><path d=\"M35 1c1.1 0 2 .9 2 2v18c0 1.1-.9 2-2 2H3c-1.1 0-2-.9-2-2V3c0-1.1.9-2 2-2h32\" fill=\"#fff\"></path><circle cx=\"15\" cy=\"12\" fill=\"#EB001B\" r=\"7\"></circle><circle cx=\"23\" cy=\"12\" fill=\"#F79E1B\" r=\"7\"></circle><path d=\"M22 12c0-2.4-1.2-4.5-3-5.7-1.8 1.3-3 3.4-3 5.7s1.2 4.5 3 5.7c1.8-1.2 3-3.3 3-5.7z\" fill=\"#FF5F00\"></path></svg></div><div><svg aria-labelledby=\"pi-paypal\" height=\"24\" role=\"img\" viewbox=\"0 0 38 24\" width=\"38\" xmlns=\"http://www.w3.org/2000/svg\"><title id=\"pi-paypal\">PayPal</title><path d=\"M35 0H3C1.3 0 0 1.3 0 3v18c0 1.7 1.4 3 3 3h32c1.7 0 3-1.3 3-3V3c0-1.7-1.4-3-3-3z\" opacity=\".07\"></path><path d=\"M35 1c1.1 0 2 .9 2 2v18c0 1.1-.9 2-2 2H3c-1.1 0-2-.9-2-2V3c0-1.1.9-2 2-2h32\" fill=\"#fff\"></path><path d=\"M23.9 8.3c.2-1 0-1.7-.6-2.3-.6-.7-1.7-1-3.1-1h-4.1c-.3 0-.5.2-.6.5L14 15.6c0 .2.1.4.3.4H17l.4-3.4 1.8-2.2 4.7-2.1z\" fill=\"#003087\"></path><path d=\"M23.9 8.3l-.2.2c-.5 2.8-2.2 3.8-4.6 3.8H18c-.3 0-.5.2-.6.5l-.6 3.9-.2 1c0 .2.1.4.3.4H19c.3 0 .5-.2.5-.4v-.1l.4-2.4v-.1c0-.2.3-.4.5-.4h.3c2.1 0 3.7-.8 4.1-3.2.2-1 .1-1.8-.4-2.4-.1-.5-.3-.7-.5-.8z\" fill=\"#3086C8\"></path><path d=\"M23.3 8.1c-.1-.1-.2-.1-.3-.1-.1 0-.2 0-.3-.1-.3-.1-.7-.1-1.1-.1h-3c-.1 0-.2 0-.2.1-.2.1-.3.2-.3.4l-.7 4.4v.1c0-.3.3-.5.6-.5h1.3c2.5 0 4.1-1 4.6-3.8v-.2c-.1-.1-.3-.2-.5-.2h-.1z\" fill=\"#012169\"></path></svg></div></div>,\n",
              " <div><svg aria-labelledby=\"pi-visa\" height=\"24\" viewbox=\"0 0 38 24\" width=\"38\" xmlns=\"http://www.w3.org/2000/svg\"><path d=\"M35 0H3C1.3 0 0 1.3 0 3v18c0 1.7 1.4 3 3 3h32c1.7 0 3-1.3 3-3V3c0-1.7-1.4-3-3-3z\" opacity=\"0.07\"></path><path d=\"M35 1c1.1 0 2 .9 2 2v18c0 1.1-.9 2-2 2H3c-1.1 0-2-.9-2-2V3c0-1.1.9-2 2-2h32\" fill=\"#fff\"></path><path d=\"M28.3 10.1H28c-.4 1-.7 1.5-1 3h1.9c-.3-1.5-.3-2.2-.6-3zm2.9 5.9h-1.7c-.1 0-.1 0-.2-.1l-.2-.9-.1-.2h-2.4c-.1 0-.2 0-.2.2l-.3.9c0 .1-.1.1-.1.1h-2.1l.2-.5L27 8.7c0-.5.3-.7.8-.7h1.5c.1 0 .2 0 .2.2l1.4 6.5c.1.4.2.7.2 1.1.1.1.1.1.1.2zm-13.4-.3l.4-1.8c.1 0 .2.1.2.1.7.3 1.4.5 2.1.4.2 0 .5-.1.7-.2.5-.2.5-.7.1-1.1-.2-.2-.5-.3-.8-.5-.4-.2-.8-.4-1.1-.7-1.2-1-.8-2.4-.1-3.1.6-.4.9-.8 1.7-.8 1.2 0 2.5 0 3.1.2h.1c-.1.6-.2 1.1-.4 1.7-.5-.2-1-.4-1.5-.4-.3 0-.6 0-.9.1-.2 0-.3.1-.4.2-.2.2-.2.5 0 .7l.5.4c.4.2.8.4 1.1.6.5.3 1 .8 1.1 1.4.2.9-.1 1.7-.9 2.3-.5.4-.7.6-1.4.6-1.4 0-2.5.1-3.4-.2-.1.2-.1.2-.2.1zm-3.5.3c.1-.7.1-.7.2-1 .5-2.2 1-4.5 1.4-6.7.1-.2.1-.3.3-.3H18c-.2 1.2-.4 2.1-.7 3.2-.3 1.5-.6 3-1 4.5 0 .2-.1.2-.3.2M5 8.2c0-.1.2-.2.3-.2h3.4c.5 0 .9.3 1 .8l.9 4.4c0 .1 0 .1.1.2 0-.1.1-.1.1-.1l2.1-5.1c-.1-.1 0-.2.1-.2h2.1c0 .1 0 .1-.1.2l-3.1 7.3c-.1.2-.1.3-.2.4-.1.1-.3 0-.5 0H9.7c-.1 0-.2 0-.2-.2L7.9 9.5c-.2-.2-.5-.5-.9-.6-.6-.3-1.7-.5-1.9-.5L5 8.2z\" fill=\"#142688\"></path></svg></div>,\n",
              " <svg aria-labelledby=\"pi-visa\" height=\"24\" viewbox=\"0 0 38 24\" width=\"38\" xmlns=\"http://www.w3.org/2000/svg\"><path d=\"M35 0H3C1.3 0 0 1.3 0 3v18c0 1.7 1.4 3 3 3h32c1.7 0 3-1.3 3-3V3c0-1.7-1.4-3-3-3z\" opacity=\"0.07\"></path><path d=\"M35 1c1.1 0 2 .9 2 2v18c0 1.1-.9 2-2 2H3c-1.1 0-2-.9-2-2V3c0-1.1.9-2 2-2h32\" fill=\"#fff\"></path><path d=\"M28.3 10.1H28c-.4 1-.7 1.5-1 3h1.9c-.3-1.5-.3-2.2-.6-3zm2.9 5.9h-1.7c-.1 0-.1 0-.2-.1l-.2-.9-.1-.2h-2.4c-.1 0-.2 0-.2.2l-.3.9c0 .1-.1.1-.1.1h-2.1l.2-.5L27 8.7c0-.5.3-.7.8-.7h1.5c.1 0 .2 0 .2.2l1.4 6.5c.1.4.2.7.2 1.1.1.1.1.1.1.2zm-13.4-.3l.4-1.8c.1 0 .2.1.2.1.7.3 1.4.5 2.1.4.2 0 .5-.1.7-.2.5-.2.5-.7.1-1.1-.2-.2-.5-.3-.8-.5-.4-.2-.8-.4-1.1-.7-1.2-1-.8-2.4-.1-3.1.6-.4.9-.8 1.7-.8 1.2 0 2.5 0 3.1.2h.1c-.1.6-.2 1.1-.4 1.7-.5-.2-1-.4-1.5-.4-.3 0-.6 0-.9.1-.2 0-.3.1-.4.2-.2.2-.2.5 0 .7l.5.4c.4.2.8.4 1.1.6.5.3 1 .8 1.1 1.4.2.9-.1 1.7-.9 2.3-.5.4-.7.6-1.4.6-1.4 0-2.5.1-3.4-.2-.1.2-.1.2-.2.1zm-3.5.3c.1-.7.1-.7.2-1 .5-2.2 1-4.5 1.4-6.7.1-.2.1-.3.3-.3H18c-.2 1.2-.4 2.1-.7 3.2-.3 1.5-.6 3-1 4.5 0 .2-.1.2-.3.2M5 8.2c0-.1.2-.2.3-.2h3.4c.5 0 .9.3 1 .8l.9 4.4c0 .1 0 .1.1.2 0-.1.1-.1.1-.1l2.1-5.1c-.1-.1 0-.2.1-.2h2.1c0 .1 0 .1-.1.2l-3.1 7.3c-.1.2-.1.3-.2.4-.1.1-.3 0-.5 0H9.7c-.1 0-.2 0-.2-.2L7.9 9.5c-.2-.2-.5-.5-.9-.6-.6-.3-1.7-.5-1.9-.5L5 8.2z\" fill=\"#142688\"></path></svg>,\n",
              " <path d=\"M35 0H3C1.3 0 0 1.3 0 3v18c0 1.7 1.4 3 3 3h32c1.7 0 3-1.3 3-3V3c0-1.7-1.4-3-3-3z\" opacity=\"0.07\"></path>,\n",
              " <path d=\"M35 1c1.1 0 2 .9 2 2v18c0 1.1-.9 2-2 2H3c-1.1 0-2-.9-2-2V3c0-1.1.9-2 2-2h32\" fill=\"#fff\"></path>,\n",
              " <path d=\"M28.3 10.1H28c-.4 1-.7 1.5-1 3h1.9c-.3-1.5-.3-2.2-.6-3zm2.9 5.9h-1.7c-.1 0-.1 0-.2-.1l-.2-.9-.1-.2h-2.4c-.1 0-.2 0-.2.2l-.3.9c0 .1-.1.1-.1.1h-2.1l.2-.5L27 8.7c0-.5.3-.7.8-.7h1.5c.1 0 .2 0 .2.2l1.4 6.5c.1.4.2.7.2 1.1.1.1.1.1.1.2zm-13.4-.3l.4-1.8c.1 0 .2.1.2.1.7.3 1.4.5 2.1.4.2 0 .5-.1.7-.2.5-.2.5-.7.1-1.1-.2-.2-.5-.3-.8-.5-.4-.2-.8-.4-1.1-.7-1.2-1-.8-2.4-.1-3.1.6-.4.9-.8 1.7-.8 1.2 0 2.5 0 3.1.2h.1c-.1.6-.2 1.1-.4 1.7-.5-.2-1-.4-1.5-.4-.3 0-.6 0-.9.1-.2 0-.3.1-.4.2-.2.2-.2.5 0 .7l.5.4c.4.2.8.4 1.1.6.5.3 1 .8 1.1 1.4.2.9-.1 1.7-.9 2.3-.5.4-.7.6-1.4.6-1.4 0-2.5.1-3.4-.2-.1.2-.1.2-.2.1zm-3.5.3c.1-.7.1-.7.2-1 .5-2.2 1-4.5 1.4-6.7.1-.2.1-.3.3-.3H18c-.2 1.2-.4 2.1-.7 3.2-.3 1.5-.6 3-1 4.5 0 .2-.1.2-.3.2M5 8.2c0-.1.2-.2.3-.2h3.4c.5 0 .9.3 1 .8l.9 4.4c0 .1 0 .1.1.2 0-.1.1-.1.1-.1l2.1-5.1c-.1-.1 0-.2.1-.2h2.1c0 .1 0 .1-.1.2l-3.1 7.3c-.1.2-.1.3-.2.4-.1.1-.3 0-.5 0H9.7c-.1 0-.2 0-.2-.2L7.9 9.5c-.2-.2-.5-.5-.9-.6-.6-.3-1.7-.5-1.9-.5L5 8.2z\" fill=\"#142688\"></path>,\n",
              " <div><svg aria-labelledby=\"pi-master\" height=\"24\" viewbox=\"0 0 38 24\" width=\"38\" xmlns=\"http://www.w3.org/2000/svg\"><path d=\"M35 0H3C1.3 0 0 1.3 0 3v18c0 1.7 1.4 3 3 3h32c1.7 0 3-1.3 3-3V3c0-1.7-1.4-3-3-3z\" opacity=\"0.07\"></path><path d=\"M35 1c1.1 0 2 .9 2 2v18c0 1.1-.9 2-2 2H3c-1.1 0-2-.9-2-2V3c0-1.1.9-2 2-2h32\" fill=\"#fff\"></path><circle cx=\"15\" cy=\"12\" fill=\"#EB001B\" r=\"7\"></circle><circle cx=\"23\" cy=\"12\" fill=\"#F79E1B\" r=\"7\"></circle><path d=\"M22 12c0-2.4-1.2-4.5-3-5.7-1.8 1.3-3 3.4-3 5.7s1.2 4.5 3 5.7c1.8-1.2 3-3.3 3-5.7z\" fill=\"#FF5F00\"></path></svg></div>,\n",
              " <svg aria-labelledby=\"pi-master\" height=\"24\" viewbox=\"0 0 38 24\" width=\"38\" xmlns=\"http://www.w3.org/2000/svg\"><path d=\"M35 0H3C1.3 0 0 1.3 0 3v18c0 1.7 1.4 3 3 3h32c1.7 0 3-1.3 3-3V3c0-1.7-1.4-3-3-3z\" opacity=\"0.07\"></path><path d=\"M35 1c1.1 0 2 .9 2 2v18c0 1.1-.9 2-2 2H3c-1.1 0-2-.9-2-2V3c0-1.1.9-2 2-2h32\" fill=\"#fff\"></path><circle cx=\"15\" cy=\"12\" fill=\"#EB001B\" r=\"7\"></circle><circle cx=\"23\" cy=\"12\" fill=\"#F79E1B\" r=\"7\"></circle><path d=\"M22 12c0-2.4-1.2-4.5-3-5.7-1.8 1.3-3 3.4-3 5.7s1.2 4.5 3 5.7c1.8-1.2 3-3.3 3-5.7z\" fill=\"#FF5F00\"></path></svg>,\n",
              " <path d=\"M35 0H3C1.3 0 0 1.3 0 3v18c0 1.7 1.4 3 3 3h32c1.7 0 3-1.3 3-3V3c0-1.7-1.4-3-3-3z\" opacity=\"0.07\"></path>,\n",
              " <path d=\"M35 1c1.1 0 2 .9 2 2v18c0 1.1-.9 2-2 2H3c-1.1 0-2-.9-2-2V3c0-1.1.9-2 2-2h32\" fill=\"#fff\"></path>,\n",
              " <circle cx=\"15\" cy=\"12\" fill=\"#EB001B\" r=\"7\"></circle>,\n",
              " <circle cx=\"23\" cy=\"12\" fill=\"#F79E1B\" r=\"7\"></circle>,\n",
              " <path d=\"M22 12c0-2.4-1.2-4.5-3-5.7-1.8 1.3-3 3.4-3 5.7s1.2 4.5 3 5.7c1.8-1.2 3-3.3 3-5.7z\" fill=\"#FF5F00\"></path>,\n",
              " <div><svg aria-labelledby=\"pi-paypal\" height=\"24\" role=\"img\" viewbox=\"0 0 38 24\" width=\"38\" xmlns=\"http://www.w3.org/2000/svg\"><title id=\"pi-paypal\">PayPal</title><path d=\"M35 0H3C1.3 0 0 1.3 0 3v18c0 1.7 1.4 3 3 3h32c1.7 0 3-1.3 3-3V3c0-1.7-1.4-3-3-3z\" opacity=\".07\"></path><path d=\"M35 1c1.1 0 2 .9 2 2v18c0 1.1-.9 2-2 2H3c-1.1 0-2-.9-2-2V3c0-1.1.9-2 2-2h32\" fill=\"#fff\"></path><path d=\"M23.9 8.3c.2-1 0-1.7-.6-2.3-.6-.7-1.7-1-3.1-1h-4.1c-.3 0-.5.2-.6.5L14 15.6c0 .2.1.4.3.4H17l.4-3.4 1.8-2.2 4.7-2.1z\" fill=\"#003087\"></path><path d=\"M23.9 8.3l-.2.2c-.5 2.8-2.2 3.8-4.6 3.8H18c-.3 0-.5.2-.6.5l-.6 3.9-.2 1c0 .2.1.4.3.4H19c.3 0 .5-.2.5-.4v-.1l.4-2.4v-.1c0-.2.3-.4.5-.4h.3c2.1 0 3.7-.8 4.1-3.2.2-1 .1-1.8-.4-2.4-.1-.5-.3-.7-.5-.8z\" fill=\"#3086C8\"></path><path d=\"M23.3 8.1c-.1-.1-.2-.1-.3-.1-.1 0-.2 0-.3-.1-.3-.1-.7-.1-1.1-.1h-3c-.1 0-.2 0-.2.1-.2.1-.3.2-.3.4l-.7 4.4v.1c0-.3.3-.5.6-.5h1.3c2.5 0 4.1-1 4.6-3.8v-.2c-.1-.1-.3-.2-.5-.2h-.1z\" fill=\"#012169\"></path></svg></div>,\n",
              " <svg aria-labelledby=\"pi-paypal\" height=\"24\" role=\"img\" viewbox=\"0 0 38 24\" width=\"38\" xmlns=\"http://www.w3.org/2000/svg\"><title id=\"pi-paypal\">PayPal</title><path d=\"M35 0H3C1.3 0 0 1.3 0 3v18c0 1.7 1.4 3 3 3h32c1.7 0 3-1.3 3-3V3c0-1.7-1.4-3-3-3z\" opacity=\".07\"></path><path d=\"M35 1c1.1 0 2 .9 2 2v18c0 1.1-.9 2-2 2H3c-1.1 0-2-.9-2-2V3c0-1.1.9-2 2-2h32\" fill=\"#fff\"></path><path d=\"M23.9 8.3c.2-1 0-1.7-.6-2.3-.6-.7-1.7-1-3.1-1h-4.1c-.3 0-.5.2-.6.5L14 15.6c0 .2.1.4.3.4H17l.4-3.4 1.8-2.2 4.7-2.1z\" fill=\"#003087\"></path><path d=\"M23.9 8.3l-.2.2c-.5 2.8-2.2 3.8-4.6 3.8H18c-.3 0-.5.2-.6.5l-.6 3.9-.2 1c0 .2.1.4.3.4H19c.3 0 .5-.2.5-.4v-.1l.4-2.4v-.1c0-.2.3-.4.5-.4h.3c2.1 0 3.7-.8 4.1-3.2.2-1 .1-1.8-.4-2.4-.1-.5-.3-.7-.5-.8z\" fill=\"#3086C8\"></path><path d=\"M23.3 8.1c-.1-.1-.2-.1-.3-.1-.1 0-.2 0-.3-.1-.3-.1-.7-.1-1.1-.1h-3c-.1 0-.2 0-.2.1-.2.1-.3.2-.3.4l-.7 4.4v.1c0-.3.3-.5.6-.5h1.3c2.5 0 4.1-1 4.6-3.8v-.2c-.1-.1-.3-.2-.5-.2h-.1z\" fill=\"#012169\"></path></svg>,\n",
              " <title id=\"pi-paypal\">PayPal</title>,\n",
              " <path d=\"M35 0H3C1.3 0 0 1.3 0 3v18c0 1.7 1.4 3 3 3h32c1.7 0 3-1.3 3-3V3c0-1.7-1.4-3-3-3z\" opacity=\".07\"></path>,\n",
              " <path d=\"M35 1c1.1 0 2 .9 2 2v18c0 1.1-.9 2-2 2H3c-1.1 0-2-.9-2-2V3c0-1.1.9-2 2-2h32\" fill=\"#fff\"></path>,\n",
              " <path d=\"M23.9 8.3c.2-1 0-1.7-.6-2.3-.6-.7-1.7-1-3.1-1h-4.1c-.3 0-.5.2-.6.5L14 15.6c0 .2.1.4.3.4H17l.4-3.4 1.8-2.2 4.7-2.1z\" fill=\"#003087\"></path>,\n",
              " <path d=\"M23.9 8.3l-.2.2c-.5 2.8-2.2 3.8-4.6 3.8H18c-.3 0-.5.2-.6.5l-.6 3.9-.2 1c0 .2.1.4.3.4H19c.3 0 .5-.2.5-.4v-.1l.4-2.4v-.1c0-.2.3-.4.5-.4h.3c2.1 0 3.7-.8 4.1-3.2.2-1 .1-1.8-.4-2.4-.1-.5-.3-.7-.5-.8z\" fill=\"#3086C8\"></path>,\n",
              " <path d=\"M23.3 8.1c-.1-.1-.2-.1-.3-.1-.1 0-.2 0-.3-.1-.3-.1-.7-.1-1.1-.1h-3c-.1 0-.2 0-.2.1-.2.1-.3.2-.3.4l-.7 4.4v.1c0-.3.3-.5.6-.5h1.3c2.5 0 4.1-1 4.6-3.8v-.2c-.1-.1-.3-.2-.5-.2h-.1z\" fill=\"#012169\"></path>,\n",
              " <div class=\"self-center\"><div class=\"copyright text-center md:text-right text-textSubdued\"><span></span></div></div>,\n",
              " <div class=\"copyright text-center md:text-right text-textSubdued\"><span></span></div>,\n",
              " <span></span>,\n",
              " <div><div class=\"Toastify\"></div></div>,\n",
              " <div class=\"Toastify\"></div>,\n",
              " <script src=\"/assets/frontStore/homepage/client/903d232babd9d1207624.js\"></script>]"
            ]
          },
          "metadata": {},
          "execution_count": 128
        }
      ]
    },
    {
      "cell_type": "code",
      "source": [],
      "metadata": {
        "id": "22hrLAnXUA17"
      },
      "execution_count": null,
      "outputs": []
    }
  ]
}